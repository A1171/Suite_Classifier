{
  "nbformat": 4,
  "nbformat_minor": 0,
  "metadata": {
    "colab": {
      "provenance": [],
      "authorship_tag": "ABX9TyOeQzcN0pGpnLlAYOAdklYZ",
      "include_colab_link": true
    },
    "kernelspec": {
      "name": "python3",
      "display_name": "Python 3"
    },
    "language_info": {
      "name": "python"
    }
  },
  "cells": [
    {
      "cell_type": "markdown",
      "metadata": {
        "id": "view-in-github",
        "colab_type": "text"
      },
      "source": [
        "<a href=\"https://colab.research.google.com/github/A1171/Suite_Classifier/blob/main/Suite_Classifier_demo.ipynb\" target=\"_parent\"><img src=\"https://colab.research.google.com/assets/colab-badge.svg\" alt=\"Open In Colab\"/></a>"
      ]
    },
    {
      "cell_type": "markdown",
      "metadata": {
        "id": "VyOJtVXY2lbw"
      },
      "source": [
        "#Заголовки\n"
      ]
    },
    {
      "cell_type": "code",
      "execution_count": 1,
      "metadata": {
        "colab": {
          "base_uri": "https://localhost:8080/"
        },
        "id": "wTKBLW6_LSGC",
        "outputId": "5ab1a069-60f8-4679-e7ca-fa40d098b36f"
      },
      "outputs": [
        {
          "output_type": "stream",
          "name": "stdout",
          "text": [
            "Requirement already satisfied: html2text in /usr/local/lib/python3.10/dist-packages (2020.1.16)\n"
          ]
        }
      ],
      "source": [
        "!pip install html2text"
      ]
    },
    {
      "cell_type": "code",
      "execution_count": 17,
      "metadata": {
        "id": "d_bqhqNgE4YP"
      },
      "outputs": [],
      "source": [
        "import requests\n",
        "from bs4 import BeautifulSoup\n",
        "import re\n",
        "import numpy as np\n",
        "import html2text\n",
        "from collections.abc import Iterable\n",
        "import html2text"
      ]
    },
    {
      "cell_type": "code",
      "execution_count": 3,
      "metadata": {
        "id": "8QDGfEDXE_zz"
      },
      "outputs": [],
      "source": [
        "import keras\n",
        "from keras import regularizers\n",
        "from keras import layers\n",
        "from keras import activations\n",
        "from keras.models import load_model\n",
        "from matplotlib import pyplot\n",
        "from sklearn import preprocessing\n",
        "from sklearn import metrics\n",
        "import numpy as np\n",
        "import tensorflow as tf\n",
        "from sklearn.preprocessing import LabelBinarizer\n",
        "import pickle\n",
        "import gc\n",
        "from keras.preprocessing.text import Tokenizer\n",
        "from sklearn.model_selection import train_test_split\n",
        "import gensim"
      ]
    },
    {
      "cell_type": "code",
      "execution_count": 4,
      "metadata": {
        "id": "qVIVA-K9Ptat"
      },
      "outputs": [],
      "source": [
        "from sklearn.metrics import confusion_matrix\n",
        "import seaborn as sn\n",
        "import matplotlib.pyplot as plt"
      ]
    },
    {
      "cell_type": "code",
      "execution_count": 5,
      "metadata": {
        "colab": {
          "base_uri": "https://localhost:8080/"
        },
        "id": "6mZAMgnmIlfA",
        "outputId": "0240b8e9-6ca0-43ee-eec4-dd833c2249c8"
      },
      "outputs": [
        {
          "output_type": "stream",
          "name": "stdout",
          "text": [
            "Drive already mounted at /content/drive; to attempt to forcibly remount, call drive.mount(\"/content/drive\", force_remount=True).\n"
          ]
        }
      ],
      "source": [
        "from google.colab import drive\n",
        "drive.mount('/content/drive')\n",
        "ProjectFolder=\"/content/drive/MyDrive/NN/SuiteClassifier1/\""
      ]
    },
    {
      "cell_type": "markdown",
      "metadata": {
        "id": "YBUz-aSW3Aty"
      },
      "source": [
        "#Функции"
      ]
    },
    {
      "cell_type": "code",
      "execution_count": 6,
      "metadata": {
        "id": "0O0ZDTTAE_24"
      },
      "outputs": [],
      "source": [
        "def ModelTfIdfClass_0(Shape1,OutsClasses=3,l2=5e-05):\n",
        "  inputs1 = keras.Input(shape=Shape1)\n",
        "\n",
        "  x = layers.Dense(64, activation=\"tanh\",kernel_regularizer=regularizers.l2(l2))(inputs1)\n",
        "  x = layers.Dropout(0.2)(x)\n",
        "  x = layers.Dense(32, activation=\"relu\",kernel_regularizer=regularizers.l2(l2))(x)\n",
        "  x = layers.Dense(OutsClasses, activation='softmax')(x)\n",
        "  return keras.Model(inputs=inputs1, outputs=x)\n",
        "\n",
        "def ModelTfIdfClass_1(Shape1,OutsClasses=3):\n",
        "  inputs1 = keras.Input(shape=Shape1)\n",
        "  l2=5e-05\n",
        "  x = layers.Dense(128, activation=\"tanh\",kernel_regularizer=regularizers.l2(l2))(inputs1)\n",
        "  x = layers.Dropout(0.1)(x)\n",
        "  x = layers.Dense(64, activation=\"tanh\",kernel_regularizer=regularizers.l2(l2))(x)\n",
        "  x = layers.Dropout(0.1)(x)\n",
        "  x = layers.Dense(16, activation=\"relu\",kernel_regularizer=regularizers.l2(l2))(x)\n",
        "  x = layers.Dense(OutsClasses, activation='softmax')(x)\n",
        "  return keras.Model(inputs=inputs1, outputs=x)"
      ]
    },
    {
      "cell_type": "code",
      "execution_count": 7,
      "metadata": {
        "id": "kVZtsQbFE_6d"
      },
      "outputs": [],
      "source": [
        "h = html2text.HTML2Text()\n",
        "h.ignore_links = True                     #Giving attributes\n",
        "EngSymbols=\"QWERTYUIOPASDFGHJKLXCVBNMqwertyuiopasdfghjklzxcvbnm-?[]\"\n",
        "list_of_chars = list('\\r\\n\\t\\\"\\',.-_+=:;*#{}$%|QWERTYUIOPASDFGHJKLXCVBNMqwertyuiopasdfghjklzxcvbnm')\n",
        "pattern = '[' +  ''.join(list_of_chars) +  ']'\n",
        "def CheckEngWord(Str1):\n",
        "    SummEng=0\n",
        "    for Smb in Str1:\n",
        "        if(Smb in EngSymbols):\n",
        "            SummEng+=1\n",
        "    if(len(Str1)>0):\n",
        "        if(SummEng/len(Str1)>0.5 and len(Str1)>0):return True\n",
        "    return False\n",
        "def LinkToBodyHead(Link1):\n",
        "    headers = {\n",
        "    \"User-Agent\": \"Mozilla/5.0 (Windows NT 10.0; Win64; x64; rv:66.0) Gecko/20100101 Firefox/66.0\",\n",
        "    \"Accept-Encoding\": \"*\",\n",
        "    \"Connection\": \"keep-alive\"\n",
        "    }\n",
        "    try:\n",
        "        htmlfile = requests.get(Link1,headers=headers, verify=False)\n",
        "\n",
        "        if(htmlfile.status_code!=200):\n",
        "            print(\"Load error\",Link1,htmlfile.status_code)\n",
        "            return -1,-1,htmlfile.status_code\n",
        "        else:\n",
        "            print(\"Loaded\",Link1)\n",
        "            soup=BeautifulSoup(htmlfile.content,'lxml')\n",
        "            if(type(soup)!=type(None)):\n",
        "                if(type(soup.title)!=type(None)):\n",
        "                    title = soup.title.text\n",
        "                else:\n",
        "                    title = \"\"\n",
        "            else:\n",
        "                title = \"\"\n",
        "            return htmlfile.content,title,htmlfile.status_code\n",
        "    except :\n",
        "        print(\"Load error exception\")\n",
        "        return -1,-1,-1\n",
        "def BodyToText(HTMLContent):\n",
        "    DecodedString=HTMLContent.decode('utf-8',errors='replace')\n",
        "    Words=[]\n",
        "    RusLetters=list(\"ЙЦУКЕНГШЩЗХЪФЫВАПРОЛДЖЭЯЧСМИТЬБЮЁйцукенгшщзхъфывапролджэячсмитьбюё!\")\n",
        "    Exit=False\n",
        "    LastLetter=-1\n",
        "    for i in range(len(DecodedString)):\n",
        "      char=DecodedString[i]\n",
        "      if(char in RusLetters and not Exit and i>LastLetter):\n",
        "        Stop=False\n",
        "        LastLetter=i\n",
        "        while(not Stop):\n",
        "          if LastLetter+1<len(DecodedString):\n",
        "            if DecodedString[LastLetter+1] in RusLetters:\n",
        "              LastLetter+=1\n",
        "            else:\n",
        "              Stop=True\n",
        "          else:\n",
        "            Stop=True\n",
        "            Exit=True\n",
        "        if(DecodedString[i:LastLetter+1].lower()!=\"!\"):\n",
        "          Words.append(DecodedString[i:LastLetter+1].lower())\n",
        "    return Words\n",
        "\n",
        "def LinkToText(Link1):\n",
        "    headers = {\n",
        "    \"User-Agent\": \"Mozilla/5.0 (Windows NT 10.0; Win64; x64; rv:66.0) Gecko/20100101 Firefox/66.0\",\n",
        "    \"Accept-Encoding\": \"*\",\n",
        "    \"Connection\": \"keep-alive\"\n",
        "    }\n",
        "    try:\n",
        "        htmlfile = requests.get(Link1,headers=headers, verify=False)\n",
        "\n",
        "        if(htmlfile.status_code!=200):\n",
        "            print(\"Load error\",Link1,htmlfile.status_code)\n",
        "            return -1,-1,htmlfile.status_code\n",
        "        else:\n",
        "            print(\"Loaded\",Link1)\n",
        "            soup=BeautifulSoup(htmlfile.content,'lxml')\n",
        "            if(type(soup)!=type(None)):\n",
        "                if(type(soup.title)!=type(None)):\n",
        "                    title = soup.title.text\n",
        "                else:\n",
        "                    title = \"\"\n",
        "            else:\n",
        "                title = \"\"\n",
        "            text = h.handle(htmlfile.content.decode('utf-8',errors='replace'))#,encoding = 'unicode_escape'\n",
        "            text=re.sub(pattern, '', text).replace(\"content\",\"\")\n",
        "            text2=text.split(\" \")\n",
        "            text2=[item.split(\"(\") for item in text2]\n",
        "            text2=[item for item1 in text2 for item in item1]\n",
        "            text2=[item.split(\")\") for item in text2]\n",
        "            text2=[item for item1 in text2 for item in item1]\n",
        "            delIndex=[]\n",
        "            for i in range(len(text2)):\n",
        "                if(text2[i]=='\\r' or text2[i]==' \\r' or text2[i]==' ' or text2[i]==''):\n",
        "                    delIndex.append(i)\n",
        "                if(CheckEngWord(text2[i])):\n",
        "                    delIndex.append(i)\n",
        "            text2=np.delete(text2,delIndex,axis=0)\n",
        "            return text2,title,htmlfile.status_code\n",
        "    except :\n",
        "        print(\"Load error exception\")\n",
        "        return -1,-1,-1\n",
        "def WeightsFromOneOut(ClassesCnt):\n",
        "            WeightMatrix=max(ClassesCnt)/ClassesCnt\n",
        "            Multiplier=np.sum(1/WeightMatrix)/len(WeightMatrix)\n",
        "            WeightMatrix=WeightMatrix*Multiplier\n",
        "            return dict(enumerate(WeightMatrix.flatten(), 0))\n",
        "def PlotClassificationMatrix(PredictedLabels,RealLabels,figsize = (8,8),Captions1=[]):\n",
        "  result1 = confusion_matrix(np.argmax(RealLabels,axis=1), np.argmax(PredictedLabels,axis=1) , normalize='pred')\n",
        "  plt.figure(figsize = figsize)\n",
        "  plt.xticks(rotation=35, ha='right')\n",
        "  ax= plt.subplot()\n",
        "  sn.heatmap(result1, annot=True, fmt='g', ax=ax);  #annot=True to annotate cells, ftm='g' to disable scientific notation\n",
        "  ax.set_xlabel('Predicted labels');\n",
        "  ax.set_ylabel('True labels');\n",
        "  ax.set_title('Confusion Matrix');\n",
        "  if(len(Captions1)>0):\n",
        "    ax.xaxis.set_ticklabels(Captions1); #ax.yaxis.set_ticklabels(Captions);\n",
        "  plt.show()\n",
        "  MeanPrec=0\n",
        "  for i in range(PredictedLabels.shape[-1]):\n",
        "    MeanPrec+=result1[i,i]\n",
        "  MeanPrec/=PredictedLabels.shape[-1]\n",
        "  print(MeanPrec)"
      ]
    },
    {
      "cell_type": "markdown",
      "metadata": {
        "id": "sOhwraLaqfXr"
      },
      "source": [
        "#Load all suites"
      ]
    },
    {
      "cell_type": "markdown",
      "source": [
        "Текстовый файл со списком сайтов имеет следующую структуру:\n",
        "\n",
        "CrashComisar\n",
        "\n",
        "https://xn----42-43dabn9cbjao2alt1akra6r.xn--p1ai/\n",
        "\n",
        "https://avtodor-tr.ru/security/help/\n",
        "\n",
        "https://avarcomf.ru/\n",
        "\n",
        "\n",
        "\n",
        "WaterWell\n",
        "\n",
        "https://scvazhina.ru/\n",
        "\n",
        "https://burvoda72.ru/\n",
        "\n",
        "https://bur74.ru/\n",
        "\n",
        "Строка с названием категории, дальше строки со ссылками на сайты. Перечень категорий сохраним в переменную и загрузим все ссылки с разделением по категориям.\n"
      ],
      "metadata": {
        "id": "UR4esCNWrTk_"
      }
    },
    {
      "cell_type": "code",
      "source": [
        "Captions=[\"CrashComisar\",\"WaterWell\",\"electric\",\"evacuator\",\"PCHelp\",\"DoorBreak\",\"Doors\",\"GlassRepair\"]\n",
        "with open(ProjectFolder+'suite_types_2_demo.txt', 'r', encoding=\"cp1251\") as f:#\"utf-8\") as f:\n",
        "  Lines=f.readlines()\n",
        "\n",
        "CategoryLinks=[]\n",
        "Pointer=0\n",
        "for Caption in Captions:\n",
        "    while(Lines[Pointer].replace(\"\\n\",\"\")!=Caption):\n",
        "        Pointer+=1\n",
        "    print(Caption,Pointer)\n",
        "    CategoryLinks.append([])\n",
        "    Pointer+=1\n",
        "    while(Lines[Pointer]!=\"\\n\"):\n",
        "        CategoryLinks[-1].append(Lines[Pointer].replace(\"\\n\",\"\"))\n",
        "        Pointer+=1"
      ],
      "metadata": {
        "id": "smUtbtlStDTC"
      },
      "execution_count": null,
      "outputs": []
    },
    {
      "cell_type": "markdown",
      "source": [
        "Загрузим все сайты в списки с разделением по категориям. Отдельно заголовок и тело сайта. И сохраним их в файлы. В реальном проекте былло 70+ категорий, поэтому все сайты не влазили в память и сохранялись пачками по 10 категорий."
      ],
      "metadata": {
        "id": "0GbeR7vbtaOm"
      }
    },
    {
      "cell_type": "code",
      "execution_count": 9,
      "metadata": {
        "colab": {
          "base_uri": "https://localhost:8080/"
        },
        "id": "SoqYpYfTFzxQ",
        "outputId": "f134c87f-044b-4d28-da96-38c973ebe381"
      },
      "outputs": [
        {
          "output_type": "stream",
          "name": "stderr",
          "text": [
            "/usr/local/lib/python3.10/dist-packages/urllib3/connectionpool.py:1056: InsecureRequestWarning: Unverified HTTPS request is being made to host 'xn----42-43dabn9cbjao2alt1akra6r.xn--p1ai'. Adding certificate verification is strongly advised. See: https://urllib3.readthedocs.io/en/1.26.x/advanced-usage.html#ssl-warnings\n",
            "  warnings.warn(\n"
          ]
        },
        {
          "output_type": "stream",
          "name": "stdout",
          "text": [
            "Loaded https://xn----42-43dabn9cbjao2alt1akra6r.xn--p1ai/\n",
            "0 0 Load result code 200 https://xn----42-43dabn9cbjao2alt1akra6r.xn--p1ai/\n"
          ]
        },
        {
          "output_type": "stream",
          "name": "stderr",
          "text": [
            "/usr/local/lib/python3.10/dist-packages/urllib3/connectionpool.py:1056: InsecureRequestWarning: Unverified HTTPS request is being made to host 'avtodor-tr.ru'. Adding certificate verification is strongly advised. See: https://urllib3.readthedocs.io/en/1.26.x/advanced-usage.html#ssl-warnings\n",
            "  warnings.warn(\n"
          ]
        },
        {
          "output_type": "stream",
          "name": "stdout",
          "text": [
            "Loaded https://avtodor-tr.ru/security/help/\n",
            "0 1 Load result code 200 https://avtodor-tr.ru/security/help/\n",
            "Load error exception\n",
            "0 2 Load result code -1 komissar-top.ru\n"
          ]
        },
        {
          "output_type": "stream",
          "name": "stderr",
          "text": [
            "/usr/local/lib/python3.10/dist-packages/urllib3/connectionpool.py:1056: InsecureRequestWarning: Unverified HTTPS request is being made to host 'avarcomf.ru'. Adding certificate verification is strongly advised. See: https://urllib3.readthedocs.io/en/1.26.x/advanced-usage.html#ssl-warnings\n",
            "  warnings.warn(\n"
          ]
        },
        {
          "output_type": "stream",
          "name": "stdout",
          "text": [
            "Loaded https://avarcomf.ru/\n",
            "0 3 Load result code 200 https://avarcomf.ru/\n"
          ]
        },
        {
          "output_type": "stream",
          "name": "stderr",
          "text": [
            "/usr/local/lib/python3.10/dist-packages/urllib3/connectionpool.py:1056: InsecureRequestWarning: Unverified HTTPS request is being made to host '52avar.com'. Adding certificate verification is strongly advised. See: https://urllib3.readthedocs.io/en/1.26.x/advanced-usage.html#ssl-warnings\n",
            "  warnings.warn(\n"
          ]
        },
        {
          "output_type": "stream",
          "name": "stdout",
          "text": [
            "Loaded https://52avar.com/\n",
            "0 4 Load result code 200 https://52avar.com/\n"
          ]
        },
        {
          "output_type": "stream",
          "name": "stderr",
          "text": [
            "/usr/local/lib/python3.10/dist-packages/urllib3/connectionpool.py:1056: InsecureRequestWarning: Unverified HTTPS request is being made to host 'xn----dtbefq2bjgec.xn--p1ai'. Adding certificate verification is strongly advised. See: https://urllib3.readthedocs.io/en/1.26.x/advanced-usage.html#ssl-warnings\n",
            "  warnings.warn(\n"
          ]
        },
        {
          "output_type": "stream",
          "name": "stdout",
          "text": [
            "Loaded https://xn----dtbefq2bjgec.xn--p1ai/\n",
            "0 5 Load result code 200 https://xn----dtbefq2bjgec.xn--p1ai/\n"
          ]
        },
        {
          "output_type": "stream",
          "name": "stderr",
          "text": [
            "/usr/local/lib/python3.10/dist-packages/urllib3/connectionpool.py:1056: InsecureRequestWarning: Unverified HTTPS request is being made to host 'avarie.ru'. Adding certificate verification is strongly advised. See: https://urllib3.readthedocs.io/en/1.26.x/advanced-usage.html#ssl-warnings\n",
            "  warnings.warn(\n"
          ]
        },
        {
          "output_type": "stream",
          "name": "stdout",
          "text": [
            "Loaded https://avarie.ru/\n",
            "0 6 Load result code 200 https://avarie.ru/\n"
          ]
        },
        {
          "output_type": "stream",
          "name": "stderr",
          "text": [
            "/usr/local/lib/python3.10/dist-packages/urllib3/connectionpool.py:1056: InsecureRequestWarning: Unverified HTTPS request is being made to host 'unitoll.ru'. Adding certificate verification is strongly advised. See: https://urllib3.readthedocs.io/en/1.26.x/advanced-usage.html#ssl-warnings\n",
            "  warnings.warn(\n"
          ]
        },
        {
          "output_type": "stream",
          "name": "stdout",
          "text": [
            "Loaded https://unitoll.ru/safety/emergency_service/\n",
            "0 7 Load result code 200 https://unitoll.ru/safety/emergency_service/\n"
          ]
        },
        {
          "output_type": "stream",
          "name": "stderr",
          "text": [
            "/usr/local/lib/python3.10/dist-packages/urllib3/connectionpool.py:1056: InsecureRequestWarning: Unverified HTTPS request is being made to host 'www.xn----7sbb5ajejflxefa6ld2c.xn--p1ai'. Adding certificate verification is strongly advised. See: https://urllib3.readthedocs.io/en/1.26.x/advanced-usage.html#ssl-warnings\n",
            "  warnings.warn(\n"
          ]
        },
        {
          "output_type": "stream",
          "name": "stdout",
          "text": [
            "Loaded https://www.xn----7sbb5ajejflxefa6ld2c.xn--p1ai/\n",
            "0 8 Load result code 200 https://www.xn----7sbb5ajejflxefa6ld2c.xn--p1ai/\n"
          ]
        },
        {
          "output_type": "stream",
          "name": "stderr",
          "text": [
            "/usr/local/lib/python3.10/dist-packages/urllib3/connectionpool.py:1056: InsecureRequestWarning: Unverified HTTPS request is being made to host 'avariinyi-komissar72.ru'. Adding certificate verification is strongly advised. See: https://urllib3.readthedocs.io/en/1.26.x/advanced-usage.html#ssl-warnings\n",
            "  warnings.warn(\n"
          ]
        },
        {
          "output_type": "stream",
          "name": "stdout",
          "text": [
            "Loaded https://avariinyi-komissar72.ru/\n",
            "0 9 Load result code 200 https://avariinyi-komissar72.ru/\n"
          ]
        },
        {
          "output_type": "stream",
          "name": "stderr",
          "text": [
            "/usr/local/lib/python3.10/dist-packages/urllib3/connectionpool.py:1056: InsecureRequestWarning: Unverified HTTPS request is being made to host 'xn----7sbb3ajmnthazm.xn--p1ai'. Adding certificate verification is strongly advised. See: https://urllib3.readthedocs.io/en/1.26.x/advanced-usage.html#ssl-warnings\n",
            "  warnings.warn(\n"
          ]
        },
        {
          "output_type": "stream",
          "name": "stdout",
          "text": [
            "Loaded https://комиссар-уфа.рф/\n",
            "0 10 Load result code 200 https://комиссар-уфа.рф/\n"
          ]
        },
        {
          "output_type": "stream",
          "name": "stderr",
          "text": [
            "/usr/local/lib/python3.10/dist-packages/urllib3/connectionpool.py:1056: InsecureRequestWarning: Unverified HTTPS request is being made to host 'avarcom-sib.ru'. Adding certificate verification is strongly advised. See: https://urllib3.readthedocs.io/en/1.26.x/advanced-usage.html#ssl-warnings\n",
            "  warnings.warn(\n"
          ]
        },
        {
          "output_type": "stream",
          "name": "stdout",
          "text": [
            "Loaded https://avarcom-sib.ru/\n",
            "0 11 Load result code 200 https://avarcom-sib.ru/\n"
          ]
        },
        {
          "output_type": "stream",
          "name": "stderr",
          "text": [
            "/usr/local/lib/python3.10/dist-packages/urllib3/connectionpool.py:1056: InsecureRequestWarning: Unverified HTTPS request is being made to host 'komissar-top.ru'. Adding certificate verification is strongly advised. See: https://urllib3.readthedocs.io/en/1.26.x/advanced-usage.html#ssl-warnings\n",
            "  warnings.warn(\n"
          ]
        },
        {
          "output_type": "stream",
          "name": "stdout",
          "text": [
            "Loaded https://komissar-top.ru/\n",
            "0 12 Load result code 200 https://komissar-top.ru/\n"
          ]
        },
        {
          "output_type": "stream",
          "name": "stderr",
          "text": [
            "/usr/local/lib/python3.10/dist-packages/urllib3/connectionpool.py:1056: InsecureRequestWarning: Unverified HTTPS request is being made to host 'avtocom42.ru'. Adding certificate verification is strongly advised. See: https://urllib3.readthedocs.io/en/1.26.x/advanced-usage.html#ssl-warnings\n",
            "  warnings.warn(\n"
          ]
        },
        {
          "output_type": "stream",
          "name": "stdout",
          "text": [
            "Loaded https://avtocom42.ru/\n",
            "0 13 Load result code 200 https://avtocom42.ru/\n"
          ]
        },
        {
          "output_type": "stream",
          "name": "stderr",
          "text": [
            "/usr/local/lib/python3.10/dist-packages/urllib3/connectionpool.py:1056: InsecureRequestWarning: Unverified HTTPS request is being made to host 'dtp63.ru'. Adding certificate verification is strongly advised. See: https://urllib3.readthedocs.io/en/1.26.x/advanced-usage.html#ssl-warnings\n",
            "  warnings.warn(\n"
          ]
        },
        {
          "output_type": "stream",
          "name": "stdout",
          "text": [
            "Loaded https://dtp63.ru/\n",
            "0 14 Load result code 200 https://dtp63.ru/\n"
          ]
        },
        {
          "output_type": "stream",
          "name": "stderr",
          "text": [
            "/usr/local/lib/python3.10/dist-packages/urllib3/connectionpool.py:1056: InsecureRequestWarning: Unverified HTTPS request is being made to host 'avarie.ru'. Adding certificate verification is strongly advised. See: https://urllib3.readthedocs.io/en/1.26.x/advanced-usage.html#ssl-warnings\n",
            "  warnings.warn(\n"
          ]
        },
        {
          "output_type": "stream",
          "name": "stdout",
          "text": [
            "Loaded https://avarie.ru\n",
            "0 15 Load result code 200 https://avarie.ru\n"
          ]
        },
        {
          "output_type": "stream",
          "name": "stderr",
          "text": [
            "/usr/local/lib/python3.10/dist-packages/urllib3/connectionpool.py:1056: InsecureRequestWarning: Unverified HTTPS request is being made to host 'xn--55-jlc8bo.xn--p1ai'. Adding certificate verification is strongly advised. See: https://urllib3.readthedocs.io/en/1.26.x/advanced-usage.html#ssl-warnings\n",
            "  warnings.warn(\n"
          ]
        },
        {
          "output_type": "stream",
          "name": "stdout",
          "text": [
            "Loaded https://дтп55.рф/\n",
            "0 16 Load result code 200 https://дтп55.рф/\n"
          ]
        },
        {
          "output_type": "stream",
          "name": "stderr",
          "text": [
            "/usr/local/lib/python3.10/dist-packages/urllib3/connectionpool.py:1056: InsecureRequestWarning: Unverified HTTPS request is being made to host 'avariynyy-komissar.ru'. Adding certificate verification is strongly advised. See: https://urllib3.readthedocs.io/en/1.26.x/advanced-usage.html#ssl-warnings\n",
            "  warnings.warn(\n"
          ]
        },
        {
          "output_type": "stream",
          "name": "stdout",
          "text": [
            "Loaded https://avariynyy-komissar.ru/\n",
            "0 17 Load result code 200 https://avariynyy-komissar.ru/\n"
          ]
        },
        {
          "output_type": "stream",
          "name": "stderr",
          "text": [
            "/usr/local/lib/python3.10/dist-packages/urllib3/connectionpool.py:1056: InsecureRequestWarning: Unverified HTTPS request is being made to host 'avarkom124.ru'. Adding certificate verification is strongly advised. See: https://urllib3.readthedocs.io/en/1.26.x/advanced-usage.html#ssl-warnings\n",
            "  warnings.warn(\n"
          ]
        },
        {
          "output_type": "stream",
          "name": "stdout",
          "text": [
            "Loaded https://avarkom124.ru/\n",
            "0 18 Load result code 200 https://avarkom124.ru/\n",
            "Loaded http://xn------5cdbbabdndnmr1ajbquj6ahm0ad6bjjra8bxe9jqe.xn--p1ai/\n",
            "0 19 Load result code 200 http://xn------5cdbbabdndnmr1ajbquj6ahm0ad6bjjra8bxe9jqe.xn--p1ai/\n"
          ]
        },
        {
          "output_type": "stream",
          "name": "stderr",
          "text": [
            "/usr/local/lib/python3.10/dist-packages/urllib3/connectionpool.py:1056: InsecureRequestWarning: Unverified HTTPS request is being made to host 'rostov.blizko.ru'. Adding certificate verification is strongly advised. See: https://urllib3.readthedocs.io/en/1.26.x/advanced-usage.html#ssl-warnings\n",
            "  warnings.warn(\n",
            "/usr/local/lib/python3.10/dist-packages/urllib3/connectionpool.py:1056: InsecureRequestWarning: Unverified HTTPS request is being made to host 'rostov.blizko.ru'. Adding certificate verification is strongly advised. See: https://urllib3.readthedocs.io/en/1.26.x/advanced-usage.html#ssl-warnings\n",
            "  warnings.warn(\n",
            "/usr/local/lib/python3.10/dist-packages/urllib3/connectionpool.py:1056: InsecureRequestWarning: Unverified HTTPS request is being made to host 'rostov.blizko.ru'. Adding certificate verification is strongly advised. See: https://urllib3.readthedocs.io/en/1.26.x/advanced-usage.html#ssl-warnings\n",
            "  warnings.warn(\n"
          ]
        },
        {
          "output_type": "stream",
          "name": "stdout",
          "text": [
            "Loaded https://rostov.blizko.ru/gde_kupit_avtomobil/uslugi_avtomobilistam/avariinie_komissari\n",
            "0 20 Load result code 200 https://rostov.blizko.ru/gde_kupit_avtomobil/uslugi_avtomobilistam/avariinie_komissari\n"
          ]
        },
        {
          "output_type": "stream",
          "name": "stderr",
          "text": [
            "/usr/local/lib/python3.10/dist-packages/urllib3/connectionpool.py:1056: InsecureRequestWarning: Unverified HTTPS request is being made to host 'respect29.ru'. Adding certificate verification is strongly advised. See: https://urllib3.readthedocs.io/en/1.26.x/advanced-usage.html#ssl-warnings\n",
            "  warnings.warn(\n"
          ]
        },
        {
          "output_type": "stream",
          "name": "stdout",
          "text": [
            "Loaded https://respect29.ru/avarcom/\n",
            "0 21 Load result code 200 https://respect29.ru/avarcom/\n"
          ]
        },
        {
          "output_type": "stream",
          "name": "stderr",
          "text": [
            "/usr/local/lib/python3.10/dist-packages/urllib3/connectionpool.py:1056: InsecureRequestWarning: Unverified HTTPS request is being made to host 'respect29.ru'. Adding certificate verification is strongly advised. See: https://urllib3.readthedocs.io/en/1.26.x/advanced-usage.html#ssl-warnings\n",
            "  warnings.warn(\n"
          ]
        },
        {
          "output_type": "stream",
          "name": "stdout",
          "text": [
            "Loaded https://respect29.ru/avarcom/\n",
            "0 22 Load result code 200 https://respect29.ru/avarcom/\n"
          ]
        },
        {
          "output_type": "stream",
          "name": "stderr",
          "text": [
            "/usr/local/lib/python3.10/dist-packages/urllib3/connectionpool.py:1056: InsecureRequestWarning: Unverified HTTPS request is being made to host 'yusta-nn.ru'. Adding certificate verification is strongly advised. See: https://urllib3.readthedocs.io/en/1.26.x/advanced-usage.html#ssl-warnings\n",
            "  warnings.warn(\n"
          ]
        },
        {
          "output_type": "stream",
          "name": "stdout",
          "text": [
            "Loaded https://yusta-nn.ru/\n",
            "0 23 Load result code 200 https://yusta-nn.ru/\n"
          ]
        },
        {
          "output_type": "stream",
          "name": "stderr",
          "text": [
            "/usr/local/lib/python3.10/dist-packages/urllib3/connectionpool.py:1056: InsecureRequestWarning: Unverified HTTPS request is being made to host 'evakyator63.ru'. Adding certificate verification is strongly advised. See: https://urllib3.readthedocs.io/en/1.26.x/advanced-usage.html#ssl-warnings\n",
            "  warnings.warn(\n"
          ]
        },
        {
          "output_type": "stream",
          "name": "stdout",
          "text": [
            "Loaded https://evakyator63.ru/uslugi/avarijnye-komissary/\n",
            "0 24 Load result code 200 https://evakyator63.ru/uslugi/avarijnye-komissary/\n"
          ]
        },
        {
          "output_type": "stream",
          "name": "stderr",
          "text": [
            "/usr/local/lib/python3.10/dist-packages/urllib3/connectionpool.py:1056: InsecureRequestWarning: Unverified HTTPS request is being made to host 'xn--34-6kcaj3copq.xn--p1ai'. Adding certificate verification is strongly advised. See: https://urllib3.readthedocs.io/en/1.26.x/advanced-usage.html#ssl-warnings\n",
            "  warnings.warn(\n"
          ]
        },
        {
          "output_type": "stream",
          "name": "stdout",
          "text": [
            "Loaded https://xn--34-6kcaj3copq.xn--p1ai/\n",
            "0 25 Load result code 200 https://xn--34-6kcaj3copq.xn--p1ai/\n"
          ]
        },
        {
          "output_type": "stream",
          "name": "stderr",
          "text": [
            "/usr/local/lib/python3.10/dist-packages/urllib3/connectionpool.py:1056: InsecureRequestWarning: Unverified HTTPS request is being made to host 'xn--80aaf7aklm.xn--p1ai'. Adding certificate verification is strongly advised. See: https://urllib3.readthedocs.io/en/1.26.x/advanced-usage.html#ssl-warnings\n",
            "  warnings.warn(\n"
          ]
        },
        {
          "output_type": "stream",
          "name": "stdout",
          "text": [
            "Loaded https://xn--80aaf7aklm.xn--p1ai/\n",
            "0 26 Load result code 200 https://xn--80aaf7aklm.xn--p1ai/\n"
          ]
        },
        {
          "output_type": "stream",
          "name": "stderr",
          "text": [
            "/usr/local/lib/python3.10/dist-packages/urllib3/connectionpool.py:1056: InsecureRequestWarning: Unverified HTTPS request is being made to host 'avariinyi-komissar.ru'. Adding certificate verification is strongly advised. See: https://urllib3.readthedocs.io/en/1.26.x/advanced-usage.html#ssl-warnings\n",
            "  warnings.warn(\n"
          ]
        },
        {
          "output_type": "stream",
          "name": "stdout",
          "text": [
            "Loaded https://avariinyi-komissar.ru/\n",
            "0 27 Load result code 200 https://avariinyi-komissar.ru/\n"
          ]
        },
        {
          "output_type": "stream",
          "name": "stderr",
          "text": [
            "/usr/local/lib/python3.10/dist-packages/urllib3/connectionpool.py:1056: InsecureRequestWarning: Unverified HTTPS request is being made to host 'xn----7sbb3ajmnthazm.xn--p1ai'. Adding certificate verification is strongly advised. See: https://urllib3.readthedocs.io/en/1.26.x/advanced-usage.html#ssl-warnings\n",
            "  warnings.warn(\n"
          ]
        },
        {
          "output_type": "stream",
          "name": "stdout",
          "text": [
            "Loaded https://xn----7sbb3ajmnthazm.xn--p1ai/\n",
            "0 28 Load result code 200 https://xn----7sbb3ajmnthazm.xn--p1ai/\n"
          ]
        },
        {
          "output_type": "stream",
          "name": "stderr",
          "text": [
            "/usr/local/lib/python3.10/dist-packages/urllib3/connectionpool.py:1056: InsecureRequestWarning: Unverified HTTPS request is being made to host '39-69-39.ru'. Adding certificate verification is strongly advised. See: https://urllib3.readthedocs.io/en/1.26.x/advanced-usage.html#ssl-warnings\n",
            "  warnings.warn(\n"
          ]
        },
        {
          "output_type": "stream",
          "name": "stdout",
          "text": [
            "Loaded https://39-69-39.ru/\n",
            "0 29 Load result code 200 https://39-69-39.ru/\n",
            "Loaded http://73vashepravo.ru/crash\n",
            "0 30 Load result code 200 http://73vashepravo.ru/crash\n"
          ]
        },
        {
          "output_type": "stream",
          "name": "stderr",
          "text": [
            "/usr/local/lib/python3.10/dist-packages/urllib3/connectionpool.py:1056: InsecureRequestWarning: Unverified HTTPS request is being made to host 'omgsak55.ru'. Adding certificate verification is strongly advised. See: https://urllib3.readthedocs.io/en/1.26.x/advanced-usage.html#ssl-warnings\n",
            "  warnings.warn(\n"
          ]
        },
        {
          "output_type": "stream",
          "name": "stdout",
          "text": [
            "Loaded https://omgsak55.ru/\n",
            "0 31 Load result code 200 https://omgsak55.ru/\n"
          ]
        },
        {
          "output_type": "stream",
          "name": "stderr",
          "text": [
            "/usr/local/lib/python3.10/dist-packages/urllib3/connectionpool.py:1056: InsecureRequestWarning: Unverified HTTPS request is being made to host 'komissar73.ru'. Adding certificate verification is strongly advised. See: https://urllib3.readthedocs.io/en/1.26.x/advanced-usage.html#ssl-warnings\n",
            "  warnings.warn(\n"
          ]
        },
        {
          "output_type": "stream",
          "name": "stdout",
          "text": [
            "Loaded https://komissar73.ru/\n",
            "0 32 Load result code 200 https://komissar73.ru/\n"
          ]
        },
        {
          "output_type": "stream",
          "name": "stderr",
          "text": [
            "/usr/local/lib/python3.10/dist-packages/urllib3/connectionpool.py:1056: InsecureRequestWarning: Unverified HTTPS request is being made to host 'xn--56-6kcaj3copq.xn--p1ai'. Adding certificate verification is strongly advised. See: https://urllib3.readthedocs.io/en/1.26.x/advanced-usage.html#ssl-warnings\n",
            "  warnings.warn(\n"
          ]
        },
        {
          "output_type": "stream",
          "name": "stdout",
          "text": [
            "Loaded https://xn--56-6kcaj3copq.xn--p1ai/\n",
            "0 33 Load result code 200 https://xn--56-6kcaj3copq.xn--p1ai/\n"
          ]
        },
        {
          "output_type": "stream",
          "name": "stderr",
          "text": [
            "/usr/local/lib/python3.10/dist-packages/urllib3/connectionpool.py:1056: InsecureRequestWarning: Unverified HTTPS request is being made to host 'kraskomissar.ru'. Adding certificate verification is strongly advised. See: https://urllib3.readthedocs.io/en/1.26.x/advanced-usage.html#ssl-warnings\n",
            "  warnings.warn(\n"
          ]
        },
        {
          "output_type": "stream",
          "name": "stdout",
          "text": [
            "Loaded https://kraskomissar.ru/\n",
            "0 34 Load result code 200 https://kraskomissar.ru/\n"
          ]
        },
        {
          "output_type": "stream",
          "name": "stderr",
          "text": [
            "/usr/local/lib/python3.10/dist-packages/urllib3/connectionpool.py:1056: InsecureRequestWarning: Unverified HTTPS request is being made to host 'komissar138.ru'. Adding certificate verification is strongly advised. See: https://urllib3.readthedocs.io/en/1.26.x/advanced-usage.html#ssl-warnings\n",
            "  warnings.warn(\n"
          ]
        },
        {
          "output_type": "stream",
          "name": "stdout",
          "text": [
            "Loaded https://komissar138.ru/\n",
            "0 35 Load result code 200 https://komissar138.ru/\n"
          ]
        },
        {
          "output_type": "stream",
          "name": "stderr",
          "text": [
            "/usr/local/lib/python3.10/dist-packages/urllib3/connectionpool.py:1056: InsecureRequestWarning: Unverified HTTPS request is being made to host 'avtokom13.ru'. Adding certificate verification is strongly advised. See: https://urllib3.readthedocs.io/en/1.26.x/advanced-usage.html#ssl-warnings\n",
            "  warnings.warn(\n"
          ]
        },
        {
          "output_type": "stream",
          "name": "stdout",
          "text": [
            "Loaded https://avtokom13.ru/\n",
            "0 36 Load result code 200 https://avtokom13.ru/\n"
          ]
        },
        {
          "output_type": "stream",
          "name": "stderr",
          "text": [
            "/usr/local/lib/python3.10/dist-packages/urllib3/connectionpool.py:1056: InsecureRequestWarning: Unverified HTTPS request is being made to host 'www.taxi329090.ru'. Adding certificate verification is strongly advised. See: https://urllib3.readthedocs.io/en/1.26.x/advanced-usage.html#ssl-warnings\n",
            "  warnings.warn(\n"
          ]
        },
        {
          "output_type": "stream",
          "name": "stdout",
          "text": [
            "Loaded https://www.taxi329090.ru/\n",
            "0 37 Load result code 200 https://www.taxi329090.ru/\n"
          ]
        },
        {
          "output_type": "stream",
          "name": "stderr",
          "text": [
            "/usr/local/lib/python3.10/dist-packages/urllib3/connectionpool.py:1056: InsecureRequestWarning: Unverified HTTPS request is being made to host 'xn----8sbeac0ajpsqddzma4m.xn--p1ai'. Adding certificate verification is strongly advised. See: https://urllib3.readthedocs.io/en/1.26.x/advanced-usage.html#ssl-warnings\n",
            "  warnings.warn(\n"
          ]
        },
        {
          "output_type": "stream",
          "name": "stdout",
          "text": [
            "Loaded https://xn----8sbeac0ajpsqddzma4m.xn--p1ai/\n",
            "0 38 Load result code 200 https://xn----8sbeac0ajpsqddzma4m.xn--p1ai/\n"
          ]
        },
        {
          "output_type": "stream",
          "name": "stderr",
          "text": [
            "/usr/local/lib/python3.10/dist-packages/urllib3/connectionpool.py:1056: InsecureRequestWarning: Unverified HTTPS request is being made to host 'dtphelp161.clients.site'. Adding certificate verification is strongly advised. See: https://urllib3.readthedocs.io/en/1.26.x/advanced-usage.html#ssl-warnings\n",
            "  warnings.warn(\n"
          ]
        },
        {
          "output_type": "stream",
          "name": "stdout",
          "text": [
            "Loaded https://dtphelp161.clients.site/\n",
            "0 39 Load result code 200 https://dtphelp161.clients.site/\n"
          ]
        },
        {
          "output_type": "stream",
          "name": "stderr",
          "text": [
            "/usr/local/lib/python3.10/dist-packages/urllib3/connectionpool.py:1056: InsecureRequestWarning: Unverified HTTPS request is being made to host 'xn--80aaaaedftk1bhgvd2arofqy3rrbj.xn--p1ai'. Adding certificate verification is strongly advised. See: https://urllib3.readthedocs.io/en/1.26.x/advanced-usage.html#ssl-warnings\n",
            "  warnings.warn(\n"
          ]
        },
        {
          "output_type": "stream",
          "name": "stdout",
          "text": [
            "Loaded https://xn--80aaaaedftk1bhgvd2arofqy3rrbj.xn--p1ai/\n",
            "0 40 Load result code 200 https://xn--80aaaaedftk1bhgvd2arofqy3rrbj.xn--p1ai/\n"
          ]
        },
        {
          "output_type": "stream",
          "name": "stderr",
          "text": [
            "/usr/local/lib/python3.10/dist-packages/urllib3/connectionpool.py:1056: InsecureRequestWarning: Unverified HTTPS request is being made to host 'dtp-rnd.ru'. Adding certificate verification is strongly advised. See: https://urllib3.readthedocs.io/en/1.26.x/advanced-usage.html#ssl-warnings\n",
            "  warnings.warn(\n"
          ]
        },
        {
          "output_type": "stream",
          "name": "stdout",
          "text": [
            "Loaded https://dtp-rnd.ru/\n",
            "0 41 Load result code 200 https://dtp-rnd.ru/\n",
            "Loaded http://dtp-help.ru/\n",
            "0 42 Load result code 200 http://dtp-help.ru/\n"
          ]
        },
        {
          "output_type": "stream",
          "name": "stderr",
          "text": [
            "/usr/local/lib/python3.10/dist-packages/urllib3/connectionpool.py:1056: InsecureRequestWarning: Unverified HTTPS request is being made to host 'xn----7sbgbn3aydklcgkg3n.xn--p1ai'. Adding certificate verification is strongly advised. See: https://urllib3.readthedocs.io/en/1.26.x/advanced-usage.html#ssl-warnings\n",
            "  warnings.warn(\n"
          ]
        },
        {
          "output_type": "stream",
          "name": "stdout",
          "text": [
            "Loaded https://xn----7sbgbn3aydklcgkg3n.xn--p1ai/\n",
            "0 43 Load result code 200 https://xn----7sbgbn3aydklcgkg3n.xn--p1ai/\n",
            "Load error exception\n",
            "0 44 Load result code -1 https://avarkomissar.ru/\n"
          ]
        },
        {
          "output_type": "stream",
          "name": "stderr",
          "text": [
            "/usr/local/lib/python3.10/dist-packages/urllib3/connectionpool.py:1056: InsecureRequestWarning: Unverified HTTPS request is being made to host 'avarkom69.ru'. Adding certificate verification is strongly advised. See: https://urllib3.readthedocs.io/en/1.26.x/advanced-usage.html#ssl-warnings\n",
            "  warnings.warn(\n"
          ]
        },
        {
          "output_type": "stream",
          "name": "stdout",
          "text": [
            "Loaded https://avarkom69.ru/\n",
            "0 45 Load result code 200 https://avarkom69.ru/\n"
          ]
        },
        {
          "output_type": "stream",
          "name": "stderr",
          "text": [
            "/usr/local/lib/python3.10/dist-packages/urllib3/connectionpool.py:1056: InsecureRequestWarning: Unverified HTTPS request is being made to host 'xn-----6kcabjzubian0adhjk3aksaz9qnb8b.xn--p1ai'. Adding certificate verification is strongly advised. See: https://urllib3.readthedocs.io/en/1.26.x/advanced-usage.html#ssl-warnings\n",
            "  warnings.warn(\n"
          ]
        },
        {
          "output_type": "stream",
          "name": "stdout",
          "text": [
            "Loaded https://xn-----6kcabjzubian0adhjk3aksaz9qnb8b.xn--p1ai/\n",
            "0 46 Load result code 200 https://xn-----6kcabjzubian0adhjk3aksaz9qnb8b.xn--p1ai/\n"
          ]
        },
        {
          "output_type": "stream",
          "name": "stderr",
          "text": [
            "/usr/local/lib/python3.10/dist-packages/urllib3/connectionpool.py:1056: InsecureRequestWarning: Unverified HTTPS request is being made to host 'ak62-auto.ru'. Adding certificate verification is strongly advised. See: https://urllib3.readthedocs.io/en/1.26.x/advanced-usage.html#ssl-warnings\n",
            "  warnings.warn(\n"
          ]
        },
        {
          "output_type": "stream",
          "name": "stdout",
          "text": [
            "Loaded https://ak62-auto.ru/services/avariynye-komissary/\n",
            "0 47 Load result code 200 https://ak62-auto.ru/services/avariynye-komissary/\n"
          ]
        },
        {
          "output_type": "stream",
          "name": "stderr",
          "text": [
            "/usr/local/lib/python3.10/dist-packages/urllib3/connectionpool.py:1056: InsecureRequestWarning: Unverified HTTPS request is being made to host 'www.nsk.kz'. Adding certificate verification is strongly advised. See: https://urllib3.readthedocs.io/en/1.26.x/advanced-usage.html#ssl-warnings\n",
            "  warnings.warn(\n"
          ]
        },
        {
          "output_type": "stream",
          "name": "stdout",
          "text": [
            "Loaded https://www.nsk.kz/ru/blog/novosti/avarijnye-komissary-nsk/\n",
            "0 48 Load result code 200 https://www.nsk.kz/ru/blog/novosti/avarijnye-komissary-nsk/\n"
          ]
        },
        {
          "output_type": "stream",
          "name": "stderr",
          "text": [
            "/usr/local/lib/python3.10/dist-packages/urllib3/connectionpool.py:1056: InsecureRequestWarning: Unverified HTTPS request is being made to host 'avarkom21.ru'. Adding certificate verification is strongly advised. See: https://urllib3.readthedocs.io/en/1.26.x/advanced-usage.html#ssl-warnings\n",
            "  warnings.warn(\n"
          ]
        },
        {
          "output_type": "stream",
          "name": "stdout",
          "text": [
            "Loaded https://avarkom21.ru/\n",
            "0 49 Load result code 200 https://avarkom21.ru/\n"
          ]
        },
        {
          "output_type": "stream",
          "name": "stderr",
          "text": [
            "/usr/local/lib/python3.10/dist-packages/urllib3/connectionpool.py:1056: InsecureRequestWarning: Unverified HTTPS request is being made to host 'avtospasateli38.ru'. Adding certificate verification is strongly advised. See: https://urllib3.readthedocs.io/en/1.26.x/advanced-usage.html#ssl-warnings\n",
            "  warnings.warn(\n"
          ]
        },
        {
          "output_type": "stream",
          "name": "stdout",
          "text": [
            "Loaded https://avtospasateli38.ru/avariynye_komissary_irkutsk\n",
            "0 50 Load result code 200 https://avtospasateli38.ru/avariynye_komissary_irkutsk\n"
          ]
        },
        {
          "output_type": "stream",
          "name": "stderr",
          "text": [
            "/usr/local/lib/python3.10/dist-packages/urllib3/connectionpool.py:1056: InsecureRequestWarning: Unverified HTTPS request is being made to host 'mj24.ru'. Adding certificate verification is strongly advised. See: https://urllib3.readthedocs.io/en/1.26.x/advanced-usage.html#ssl-warnings\n",
            "  warnings.warn(\n"
          ]
        },
        {
          "output_type": "stream",
          "name": "stdout",
          "text": [
            "Loaded https://mj24.ru/avariyniy_komissar/\n",
            "0 51 Load result code 200 https://mj24.ru/avariyniy_komissar/\n"
          ]
        },
        {
          "output_type": "stream",
          "name": "stderr",
          "text": [
            "/usr/local/lib/python3.10/dist-packages/urllib3/connectionpool.py:1056: InsecureRequestWarning: Unverified HTTPS request is being made to host 'www.xn---21-5cdtfv5a4e.xn--p1ai'. Adding certificate verification is strongly advised. See: https://urllib3.readthedocs.io/en/1.26.x/advanced-usage.html#ssl-warnings\n",
            "  warnings.warn(\n"
          ]
        },
        {
          "output_type": "stream",
          "name": "stdout",
          "text": [
            "Loaded https://www.xn---21-5cdtfv5a4e.xn--p1ai/uslugi/avariynye-komissary/\n",
            "0 52 Load result code 200 https://www.xn---21-5cdtfv5a4e.xn--p1ai/uslugi/avariynye-komissary/\n"
          ]
        },
        {
          "output_type": "stream",
          "name": "stderr",
          "text": [
            "/usr/local/lib/python3.10/dist-packages/urllib3/connectionpool.py:1056: InsecureRequestWarning: Unverified HTTPS request is being made to host 'avarcom126.ru'. Adding certificate verification is strongly advised. See: https://urllib3.readthedocs.io/en/1.26.x/advanced-usage.html#ssl-warnings\n",
            "  warnings.warn(\n"
          ]
        },
        {
          "output_type": "stream",
          "name": "stdout",
          "text": [
            "Loaded https://avarcom126.ru/\n",
            "0 53 Load result code 200 https://avarcom126.ru/\n"
          ]
        },
        {
          "output_type": "stream",
          "name": "stderr",
          "text": [
            "/usr/local/lib/python3.10/dist-packages/urllib3/connectionpool.py:1056: InsecureRequestWarning: Unverified HTTPS request is being made to host 'stopdtp.com'. Adding certificate verification is strongly advised. See: https://urllib3.readthedocs.io/en/1.26.x/advanced-usage.html#ssl-warnings\n",
            "  warnings.warn(\n"
          ]
        },
        {
          "output_type": "stream",
          "name": "stdout",
          "text": [
            "Loaded https://stopdtp.com/\n",
            "0 54 Load result code 200 https://stopdtp.com/\n"
          ]
        },
        {
          "output_type": "stream",
          "name": "stderr",
          "text": [
            "/usr/local/lib/python3.10/dist-packages/urllib3/connectionpool.py:1056: InsecureRequestWarning: Unverified HTTPS request is being made to host 'avarcom39.ru'. Adding certificate verification is strongly advised. See: https://urllib3.readthedocs.io/en/1.26.x/advanced-usage.html#ssl-warnings\n",
            "  warnings.warn(\n"
          ]
        },
        {
          "output_type": "stream",
          "name": "stdout",
          "text": [
            "Loaded https://avarcom39.ru/\n",
            "0 55 Load result code 200 https://avarcom39.ru/\n"
          ]
        },
        {
          "output_type": "stream",
          "name": "stderr",
          "text": [
            "/usr/local/lib/python3.10/dist-packages/urllib3/connectionpool.py:1056: InsecureRequestWarning: Unverified HTTPS request is being made to host 'a24.ru'. Adding certificate verification is strongly advised. See: https://urllib3.readthedocs.io/en/1.26.x/advanced-usage.html#ssl-warnings\n",
            "  warnings.warn(\n"
          ]
        },
        {
          "output_type": "stream",
          "name": "stdout",
          "text": [
            "Loaded https://a24.ru/sluzhba-avariynyih-komissarov/\n",
            "0 56 Load result code 200 https://a24.ru/sluzhba-avariynyih-komissarov/\n",
            "Loaded http://xn----7sbabh1bbgalwiqvkoa6o.xn--p1ai/\n",
            "0 57 Load result code 200 http://xn----7sbabh1bbgalwiqvkoa6o.xn--p1ai/\n"
          ]
        },
        {
          "output_type": "stream",
          "name": "stderr",
          "text": [
            "/usr/local/lib/python3.10/dist-packages/urllib3/connectionpool.py:1056: InsecureRequestWarning: Unverified HTTPS request is being made to host 'komissary72.ru'. Adding certificate verification is strongly advised. See: https://urllib3.readthedocs.io/en/1.26.x/advanced-usage.html#ssl-warnings\n",
            "  warnings.warn(\n"
          ]
        },
        {
          "output_type": "stream",
          "name": "stdout",
          "text": [
            "Loaded https://komissary72.ru/\n",
            "0 58 Load result code 200 https://komissary72.ru/\n"
          ]
        },
        {
          "output_type": "stream",
          "name": "stderr",
          "text": [
            "/usr/local/lib/python3.10/dist-packages/urllib3/connectionpool.py:1056: InsecureRequestWarning: Unverified HTTPS request is being made to host 'dtp-help36.ru'. Adding certificate verification is strongly advised. See: https://urllib3.readthedocs.io/en/1.26.x/advanced-usage.html#ssl-warnings\n",
            "  warnings.warn(\n"
          ]
        },
        {
          "output_type": "stream",
          "name": "stdout",
          "text": [
            "Loaded https://dtp-help36.ru/avariynye-komissary\n",
            "0 59 Load result code 200 https://dtp-help36.ru/avariynye-komissary\n"
          ]
        },
        {
          "output_type": "stream",
          "name": "stderr",
          "text": [
            "/usr/local/lib/python3.10/dist-packages/urllib3/connectionpool.py:1056: InsecureRequestWarning: Unverified HTTPS request is being made to host 'autohelp52.ru'. Adding certificate verification is strongly advised. See: https://urllib3.readthedocs.io/en/1.26.x/advanced-usage.html#ssl-warnings\n",
            "  warnings.warn(\n"
          ]
        },
        {
          "output_type": "stream",
          "name": "stdout",
          "text": [
            "Loaded https://autohelp52.ru/\n",
            "0 60 Load result code 200 https://autohelp52.ru/\n"
          ]
        },
        {
          "output_type": "stream",
          "name": "stderr",
          "text": [
            "/usr/local/lib/python3.10/dist-packages/urllib3/connectionpool.py:1056: InsecureRequestWarning: Unverified HTTPS request is being made to host 'angelservis.ru'. Adding certificate verification is strongly advised. See: https://urllib3.readthedocs.io/en/1.26.x/advanced-usage.html#ssl-warnings\n",
            "  warnings.warn(\n"
          ]
        },
        {
          "output_type": "stream",
          "name": "stdout",
          "text": [
            "Loaded https://angelservis.ru/index.html\n",
            "0 61 Load result code 200 https://angelservis.ru/index.html\n"
          ]
        },
        {
          "output_type": "stream",
          "name": "stderr",
          "text": [
            "/usr/local/lib/python3.10/dist-packages/urllib3/connectionpool.py:1056: InsecureRequestWarning: Unverified HTTPS request is being made to host 'attest.group'. Adding certificate verification is strongly advised. See: https://urllib3.readthedocs.io/en/1.26.x/advanced-usage.html#ssl-warnings\n",
            "  warnings.warn(\n"
          ]
        },
        {
          "output_type": "stream",
          "name": "stdout",
          "text": [
            "Loaded https://attest.group/avarcom\n",
            "0 62 Load result code 200 https://attest.group/avarcom\n"
          ]
        },
        {
          "output_type": "stream",
          "name": "stderr",
          "text": [
            "/usr/local/lib/python3.10/dist-packages/urllib3/connectionpool.py:1056: InsecureRequestWarning: Unverified HTTPS request is being made to host 'avarkom-nn.ru'. Adding certificate verification is strongly advised. See: https://urllib3.readthedocs.io/en/1.26.x/advanced-usage.html#ssl-warnings\n",
            "  warnings.warn(\n"
          ]
        },
        {
          "output_type": "stream",
          "name": "stdout",
          "text": [
            "Loaded https://avarkom-nn.ru/\n",
            "0 63 Load result code 200 https://avarkom-nn.ru/\n"
          ]
        },
        {
          "output_type": "stream",
          "name": "stderr",
          "text": [
            "/usr/local/lib/python3.10/dist-packages/urllib3/connectionpool.py:1056: InsecureRequestWarning: Unverified HTTPS request is being made to host '4geo.ru'. Adding certificate verification is strongly advised. See: https://urllib3.readthedocs.io/en/1.26.x/advanced-usage.html#ssl-warnings\n",
            "  warnings.warn(\n"
          ]
        },
        {
          "output_type": "stream",
          "name": "stdout",
          "text": [
            "Loaded https://4geo.ru/hanty-mansiysk/oformlenie-dtp/\n",
            "0 64 Load result code 200 https://4geo.ru/hanty-mansiysk/oformlenie-dtp/\n"
          ]
        },
        {
          "output_type": "stream",
          "name": "stderr",
          "text": [
            "/usr/local/lib/python3.10/dist-packages/urllib3/connectionpool.py:1056: InsecureRequestWarning: Unverified HTTPS request is being made to host 'uprava-ro.ru'. Adding certificate verification is strongly advised. See: https://urllib3.readthedocs.io/en/1.26.x/advanced-usage.html#ssl-warnings\n",
            "  warnings.warn(\n"
          ]
        },
        {
          "output_type": "stream",
          "name": "stdout",
          "text": [
            "Loaded https://uprava-ro.ru/avariyniy-komissar-v-rostove-na-donu/\n",
            "0 65 Load result code 200 https://uprava-ro.ru/avariyniy-komissar-v-rostove-na-donu/\n"
          ]
        },
        {
          "output_type": "stream",
          "name": "stderr",
          "text": [
            "/usr/local/lib/python3.10/dist-packages/urllib3/connectionpool.py:1056: InsecureRequestWarning: Unverified HTTPS request is being made to host 're73.ru'. Adding certificate verification is strongly advised. See: https://urllib3.readthedocs.io/en/1.26.x/advanced-usage.html#ssl-warnings\n",
            "  warnings.warn(\n"
          ]
        },
        {
          "output_type": "stream",
          "name": "stdout",
          "text": [
            "Loaded https://re73.ru/avarijnyie-komissaryi.html\n",
            "0 66 Load result code 200 https://re73.ru/avarijnyie-komissaryi.html\n"
          ]
        },
        {
          "output_type": "stream",
          "name": "stderr",
          "text": [
            "/usr/local/lib/python3.10/dist-packages/urllib3/connectionpool.py:1056: InsecureRequestWarning: Unverified HTTPS request is being made to host 'podtp.ru'. Adding certificate verification is strongly advised. See: https://urllib3.readthedocs.io/en/1.26.x/advanced-usage.html#ssl-warnings\n",
            "  warnings.warn(\n"
          ]
        },
        {
          "output_type": "stream",
          "name": "stdout",
          "text": [
            "Load error https://podtp.ru/avarkom 404\n",
            "0 67 Load result code 404 https://podtp.ru/avarkom\n"
          ]
        },
        {
          "output_type": "stream",
          "name": "stderr",
          "text": [
            "/usr/local/lib/python3.10/dist-packages/urllib3/connectionpool.py:1056: InsecureRequestWarning: Unverified HTTPS request is being made to host 'autoliga31.ru'. Adding certificate verification is strongly advised. See: https://urllib3.readthedocs.io/en/1.26.x/advanced-usage.html#ssl-warnings\n",
            "  warnings.warn(\n"
          ]
        },
        {
          "output_type": "stream",
          "name": "stdout",
          "text": [
            "Loaded https://autoliga31.ru/\n",
            "0 68 Load result code 200 https://autoliga31.ru/\n",
            "Loaded http://72komissar.ru/\n",
            "0 69 Load result code 200 http://72komissar.ru/\n"
          ]
        },
        {
          "output_type": "stream",
          "name": "stderr",
          "text": [
            "/usr/local/lib/python3.10/dist-packages/urllib3/connectionpool.py:1056: InsecureRequestWarning: Unverified HTTPS request is being made to host 'tel-4722-33-20-10.ru'. Adding certificate verification is strongly advised. See: https://urllib3.readthedocs.io/en/1.26.x/advanced-usage.html#ssl-warnings\n",
            "  warnings.warn(\n"
          ]
        },
        {
          "output_type": "stream",
          "name": "stdout",
          "text": [
            "Loaded https://tel-4722-33-20-10.ru/\n",
            "0 70 Load result code 200 https://tel-4722-33-20-10.ru/\n"
          ]
        },
        {
          "output_type": "stream",
          "name": "stderr",
          "text": [
            "/usr/local/lib/python3.10/dist-packages/urllib3/connectionpool.py:1056: InsecureRequestWarning: Unverified HTTPS request is being made to host 'xn--m1acl8b.xn--p1ai'. Adding certificate verification is strongly advised. See: https://urllib3.readthedocs.io/en/1.26.x/advanced-usage.html#ssl-warnings\n",
            "  warnings.warn(\n"
          ]
        },
        {
          "output_type": "stream",
          "name": "stdout",
          "text": [
            "Loaded https://xn--m1acl8b.xn--p1ai/avarijnye-komissary\n",
            "0 71 Load result code 200 https://xn--m1acl8b.xn--p1ai/avarijnye-komissary\n"
          ]
        },
        {
          "output_type": "stream",
          "name": "stderr",
          "text": [
            "/usr/local/lib/python3.10/dist-packages/urllib3/connectionpool.py:1056: InsecureRequestWarning: Unverified HTTPS request is being made to host 'xn----7sbabhtpf8bfcwiep4c6h1b.xn--p1ai'. Adding certificate verification is strongly advised. See: https://urllib3.readthedocs.io/en/1.26.x/advanced-usage.html#ssl-warnings\n",
            "  warnings.warn(\n"
          ]
        },
        {
          "output_type": "stream",
          "name": "stdout",
          "text": [
            "Loaded https://xn----7sbabhtpf8bfcwiep4c6h1b.xn--p1ai/service/avariynye-komissary.html\n",
            "0 72 Load result code 200 https://xn----7sbabhtpf8bfcwiep4c6h1b.xn--p1ai/service/avariynye-komissary.html\n"
          ]
        },
        {
          "output_type": "stream",
          "name": "stderr",
          "text": [
            "/usr/local/lib/python3.10/dist-packages/urllib3/connectionpool.py:1056: InsecureRequestWarning: Unverified HTTPS request is being made to host 'avarkom-krasnoyarsk.ru'. Adding certificate verification is strongly advised. See: https://urllib3.readthedocs.io/en/1.26.x/advanced-usage.html#ssl-warnings\n",
            "  warnings.warn(\n"
          ]
        },
        {
          "output_type": "stream",
          "name": "stdout",
          "text": [
            "Loaded https://avarkom-krasnoyarsk.ru/\n",
            "0 73 Load result code 200 https://avarkom-krasnoyarsk.ru/\n"
          ]
        },
        {
          "output_type": "stream",
          "name": "stderr",
          "text": [
            "/usr/local/lib/python3.10/dist-packages/urllib3/connectionpool.py:1056: InsecureRequestWarning: Unverified HTTPS request is being made to host 'avarkom-most.ru'. Adding certificate verification is strongly advised. See: https://urllib3.readthedocs.io/en/1.26.x/advanced-usage.html#ssl-warnings\n",
            "  warnings.warn(\n"
          ]
        },
        {
          "output_type": "stream",
          "name": "stdout",
          "text": [
            "Loaded https://avarkom-most.ru/\n",
            "0 74 Load result code 200 https://avarkom-most.ru/\n",
            "Loaded http://xn---52-5cdabl3cbian0akszkqa6q.xn--p1ai/\n",
            "0 75 Load result code 200 http://xn---52-5cdabl3cbian0akszkqa6q.xn--p1ai/\n"
          ]
        },
        {
          "output_type": "stream",
          "name": "stderr",
          "text": [
            "/usr/local/lib/python3.10/dist-packages/urllib3/connectionpool.py:1056: InsecureRequestWarning: Unverified HTTPS request is being made to host 'komissar61.ru'. Adding certificate verification is strongly advised. See: https://urllib3.readthedocs.io/en/1.26.x/advanced-usage.html#ssl-warnings\n",
            "  warnings.warn(\n"
          ]
        },
        {
          "output_type": "stream",
          "name": "stdout",
          "text": [
            "Loaded https://komissar61.ru/\n",
            "0 76 Load result code 200 https://komissar61.ru/\n"
          ]
        },
        {
          "output_type": "stream",
          "name": "stderr",
          "text": [
            "/usr/local/lib/python3.10/dist-packages/urllib3/connectionpool.py:1056: InsecureRequestWarning: Unverified HTTPS request is being made to host 'www.931-931.ru'. Adding certificate verification is strongly advised. See: https://urllib3.readthedocs.io/en/1.26.x/advanced-usage.html#ssl-warnings\n",
            "  warnings.warn(\n"
          ]
        },
        {
          "output_type": "stream",
          "name": "stdout",
          "text": [
            "Loaded https://www.931-931.ru/\n",
            "0 77 Load result code 200 https://www.931-931.ru/\n"
          ]
        },
        {
          "output_type": "stream",
          "name": "stderr",
          "text": [
            "/usr/local/lib/python3.10/dist-packages/urllib3/connectionpool.py:1056: InsecureRequestWarning: Unverified HTTPS request is being made to host 'avt102.ru'. Adding certificate verification is strongly advised. See: https://urllib3.readthedocs.io/en/1.26.x/advanced-usage.html#ssl-warnings\n",
            "  warnings.warn(\n"
          ]
        },
        {
          "output_type": "stream",
          "name": "stdout",
          "text": [
            "Loaded https://avt102.ru/avariyniy-komissar/\n",
            "0 78 Load result code 200 https://avt102.ru/avariyniy-komissar/\n",
            "Loaded http://avarkom26.ru/\n",
            "0 79 Load result code 200 http://avarkom26.ru/\n",
            "Loaded http://xn------5cdbbabdndnmr1ajbquj6ahm0ad6bjjra8bxe9jqe.xn--p1ai/avarijnye-komissary-Feodosiya.html\n",
            "0 80 Load result code 200 http://xn------5cdbbabdndnmr1ajbquj6ahm0ad6bjjra8bxe9jqe.xn--p1ai/avarijnye-komissary-Feodosiya.html\n"
          ]
        },
        {
          "output_type": "stream",
          "name": "stderr",
          "text": [
            "/usr/local/lib/python3.10/dist-packages/urllib3/connectionpool.py:1056: InsecureRequestWarning: Unverified HTTPS request is being made to host 'vyzov-komissara.hotline-phone.ru'. Adding certificate verification is strongly advised. See: https://urllib3.readthedocs.io/en/1.26.x/advanced-usage.html#ssl-warnings\n",
            "  warnings.warn(\n"
          ]
        },
        {
          "output_type": "stream",
          "name": "stdout",
          "text": [
            "Loaded https://vyzov-komissara.hotline-phone.ru/sayansk/\n",
            "0 81 Load result code 200 https://vyzov-komissara.hotline-phone.ru/sayansk/\n"
          ]
        },
        {
          "output_type": "stream",
          "name": "stderr",
          "text": [
            "/usr/local/lib/python3.10/dist-packages/urllib3/connectionpool.py:1056: InsecureRequestWarning: Unverified HTTPS request is being made to host 'avarcom34.ru'. Adding certificate verification is strongly advised. See: https://urllib3.readthedocs.io/en/1.26.x/advanced-usage.html#ssl-warnings\n",
            "  warnings.warn(\n"
          ]
        },
        {
          "output_type": "stream",
          "name": "stdout",
          "text": [
            "Load error https://avarcom34.ru/ 402\n",
            "0 82 Load result code 402 https://avarcom34.ru/\n"
          ]
        },
        {
          "output_type": "stream",
          "name": "stderr",
          "text": [
            "/usr/local/lib/python3.10/dist-packages/urllib3/connectionpool.py:1056: InsecureRequestWarning: Unverified HTTPS request is being made to host 'xn--30-6kc5ajmntha.xn--p1ai'. Adding certificate verification is strongly advised. See: https://urllib3.readthedocs.io/en/1.26.x/advanced-usage.html#ssl-warnings\n",
            "  warnings.warn(\n"
          ]
        },
        {
          "output_type": "stream",
          "name": "stdout",
          "text": [
            "Loaded https://xn--30-6kc5ajmntha.xn--p1ai/\n",
            "0 83 Load result code 200 https://xn--30-6kc5ajmntha.xn--p1ai/\n"
          ]
        },
        {
          "output_type": "stream",
          "name": "stderr",
          "text": [
            "/usr/local/lib/python3.10/dist-packages/urllib3/connectionpool.py:1056: InsecureRequestWarning: Unverified HTTPS request is being made to host 'avarkom22.com'. Adding certificate verification is strongly advised. See: https://urllib3.readthedocs.io/en/1.26.x/advanced-usage.html#ssl-warnings\n",
            "  warnings.warn(\n"
          ]
        },
        {
          "output_type": "stream",
          "name": "stdout",
          "text": [
            "Loaded https://avarkom22.com/\n",
            "0 84 Load result code 200 https://avarkom22.com/\n"
          ]
        },
        {
          "output_type": "stream",
          "name": "stderr",
          "text": [
            "/usr/local/lib/python3.10/dist-packages/urllib3/connectionpool.py:1056: InsecureRequestWarning: Unverified HTTPS request is being made to host 'avarkom-barnaul.ru'. Adding certificate verification is strongly advised. See: https://urllib3.readthedocs.io/en/1.26.x/advanced-usage.html#ssl-warnings\n",
            "  warnings.warn(\n"
          ]
        },
        {
          "output_type": "stream",
          "name": "stdout",
          "text": [
            "Loaded https://avarkom-barnaul.ru/\n",
            "0 85 Load result code 200 https://avarkom-barnaul.ru/\n"
          ]
        },
        {
          "output_type": "stream",
          "name": "stderr",
          "text": [
            "/usr/local/lib/python3.10/dist-packages/urllib3/connectionpool.py:1056: InsecureRequestWarning: Unverified HTTPS request is being made to host 'avarkom-brn.ru'. Adding certificate verification is strongly advised. See: https://urllib3.readthedocs.io/en/1.26.x/advanced-usage.html#ssl-warnings\n",
            "  warnings.warn(\n"
          ]
        },
        {
          "output_type": "stream",
          "name": "stdout",
          "text": [
            "Loaded https://avarkom-brn.ru/\n",
            "0 86 Load result code 200 https://avarkom-brn.ru/\n",
            "Loaded https://avarkom22.business.site/\n"
          ]
        },
        {
          "output_type": "stream",
          "name": "stderr",
          "text": [
            "/usr/local/lib/python3.10/dist-packages/urllib3/connectionpool.py:1056: InsecureRequestWarning: Unverified HTTPS request is being made to host 'avarkom22.business.site'. Adding certificate verification is strongly advised. See: https://urllib3.readthedocs.io/en/1.26.x/advanced-usage.html#ssl-warnings\n",
            "  warnings.warn(\n"
          ]
        },
        {
          "output_type": "stream",
          "name": "stdout",
          "text": [
            "0 87 Load result code 200 https://avarkom22.business.site/\n"
          ]
        },
        {
          "output_type": "stream",
          "name": "stderr",
          "text": [
            "/usr/local/lib/python3.10/dist-packages/urllib3/connectionpool.py:1056: InsecureRequestWarning: Unverified HTTPS request is being made to host 'avarkom32.com'. Adding certificate verification is strongly advised. See: https://urllib3.readthedocs.io/en/1.26.x/advanced-usage.html#ssl-warnings\n",
            "  warnings.warn(\n"
          ]
        },
        {
          "output_type": "stream",
          "name": "stdout",
          "text": [
            "Loaded https://avarkom32.com/\n",
            "0 88 Load result code 200 https://avarkom32.com/\n",
            "Loaded http://komissarvl.ru/\n",
            "0 89 Load result code 200 http://komissarvl.ru/\n"
          ]
        },
        {
          "output_type": "stream",
          "name": "stderr",
          "text": [
            "/usr/local/lib/python3.10/dist-packages/urllib3/connectionpool.py:1056: InsecureRequestWarning: Unverified HTTPS request is being made to host 'avarijnyj-komissar-kompetent-5.clients.site'. Adding certificate verification is strongly advised. See: https://urllib3.readthedocs.io/en/1.26.x/advanced-usage.html#ssl-warnings\n",
            "  warnings.warn(\n"
          ]
        },
        {
          "output_type": "stream",
          "name": "stdout",
          "text": [
            "Loaded https://avarijnyj-komissar-kompetent-5.clients.site/\n",
            "0 90 Load result code 200 https://avarijnyj-komissar-kompetent-5.clients.site/\n",
            "Loaded http://xn--125-5cdal1dqrs.xn--p1ai/\n",
            "0 91 Load result code 200 http://xn--125-5cdal1dqrs.xn--p1ai/\n"
          ]
        },
        {
          "output_type": "stream",
          "name": "stderr",
          "text": [
            "/usr/local/lib/python3.10/dist-packages/urllib3/connectionpool.py:1056: InsecureRequestWarning: Unverified HTTPS request is being made to host 'avtogiddv.ru'. Adding certificate verification is strongly advised. See: https://urllib3.readthedocs.io/en/1.26.x/advanced-usage.html#ssl-warnings\n",
            "  warnings.warn(\n"
          ]
        },
        {
          "output_type": "stream",
          "name": "stdout",
          "text": [
            "Loaded https://avtogiddv.ru/\n",
            "0 92 Load result code 200 https://avtogiddv.ru/\n",
            "Load error exception\n",
            "0 93 Load result code -1 https://dv-garantiya.ru/\n"
          ]
        },
        {
          "output_type": "stream",
          "name": "stderr",
          "text": [
            "/usr/local/lib/python3.10/dist-packages/urllib3/connectionpool.py:1056: InsecureRequestWarning: Unverified HTTPS request is being made to host 'xn----7sbbaga8alruv1alai4lva.xn--p1ai'. Adding certificate verification is strongly advised. See: https://urllib3.readthedocs.io/en/1.26.x/advanced-usage.html#ssl-warnings\n",
            "  warnings.warn(\n"
          ]
        },
        {
          "output_type": "stream",
          "name": "stdout",
          "text": [
            "Loaded https://xn----7sbbaga8alruv1alai4lva.xn--p1ai/\n",
            "0 94 Load result code 200 https://xn----7sbbaga8alruv1alai4lva.xn--p1ai/\n"
          ]
        },
        {
          "output_type": "stream",
          "name": "stderr",
          "text": [
            "/usr/local/lib/python3.10/dist-packages/urllib3/connectionpool.py:1056: InsecureRequestWarning: Unverified HTTPS request is being made to host 'xn-----6kcabjeq5abjaofymu3aksa6s.xn--p1ai'. Adding certificate verification is strongly advised. See: https://urllib3.readthedocs.io/en/1.26.x/advanced-usage.html#ssl-warnings\n",
            "  warnings.warn(\n"
          ]
        },
        {
          "output_type": "stream",
          "name": "stdout",
          "text": [
            "Loaded https://xn-----6kcabjeq5abjaofymu3aksa6s.xn--p1ai/\n",
            "0 95 Load result code 200 https://xn-----6kcabjeq5abjaofymu3aksa6s.xn--p1ai/\n"
          ]
        },
        {
          "output_type": "stream",
          "name": "stderr",
          "text": [
            "/usr/local/lib/python3.10/dist-packages/urllib3/connectionpool.py:1056: InsecureRequestWarning: Unverified HTTPS request is being made to host 'avarkomisar.ru'. Adding certificate verification is strongly advised. See: https://urllib3.readthedocs.io/en/1.26.x/advanced-usage.html#ssl-warnings\n",
            "  warnings.warn(\n"
          ]
        },
        {
          "output_type": "stream",
          "name": "stdout",
          "text": [
            "Loaded https://avarkomisar.ru/\n",
            "0 96 Load result code 200 https://avarkomisar.ru/\n"
          ]
        },
        {
          "output_type": "stream",
          "name": "stderr",
          "text": [
            "/usr/local/lib/python3.10/dist-packages/urllib3/connectionpool.py:1056: InsecureRequestWarning: Unverified HTTPS request is being made to host 'dtp125.ru'. Adding certificate verification is strongly advised. See: https://urllib3.readthedocs.io/en/1.26.x/advanced-usage.html#ssl-warnings\n",
            "  warnings.warn(\n"
          ]
        },
        {
          "output_type": "stream",
          "name": "stdout",
          "text": [
            "Loaded https://dtp125.ru/?utm_campaign=yandeks_karti&utm_medium=cpc&utm_source=vladivostok_city\n",
            "0 97 Load result code 200 https://dtp125.ru/?utm_campaign=yandeks_karti&utm_medium=cpc&utm_source=vladivostok_city\n"
          ]
        },
        {
          "output_type": "stream",
          "name": "stderr",
          "text": [
            "/usr/local/lib/python3.10/dist-packages/urllib3/connectionpool.py:1056: InsecureRequestWarning: Unverified HTTPS request is being made to host 'craftauto.ru'. Adding certificate verification is strongly advised. See: https://urllib3.readthedocs.io/en/1.26.x/advanced-usage.html#ssl-warnings\n",
            "  warnings.warn(\n"
          ]
        },
        {
          "output_type": "stream",
          "name": "stdout",
          "text": [
            "Loaded https://craftauto.ru/\n",
            "0 98 Load result code 200 https://craftauto.ru/\n"
          ]
        },
        {
          "output_type": "stream",
          "name": "stderr",
          "text": [
            "/usr/local/lib/python3.10/dist-packages/urllib3/connectionpool.py:1056: InsecureRequestWarning: Unverified HTTPS request is being made to host 'xn---39-5cdabl3cbian0akszkqa6q.xn--p1ai'. Adding certificate verification is strongly advised. See: https://urllib3.readthedocs.io/en/1.26.x/advanced-usage.html#ssl-warnings\n",
            "  warnings.warn(\n"
          ]
        },
        {
          "output_type": "stream",
          "name": "stdout",
          "text": [
            "Loaded https://xn---39-5cdabl3cbian0akszkqa6q.xn--p1ai/\n",
            "0 99 Load result code 200 https://xn---39-5cdabl3cbian0akszkqa6q.xn--p1ai/\n",
            "Loaded http://comissar39.ru/\n",
            "0 100 Load result code 200 http://comissar39.ru/\n"
          ]
        },
        {
          "output_type": "stream",
          "name": "stderr",
          "text": [
            "/usr/local/lib/python3.10/dist-packages/urllib3/connectionpool.py:1056: InsecureRequestWarning: Unverified HTTPS request is being made to host 'scvazhina.ru'. Adding certificate verification is strongly advised. See: https://urllib3.readthedocs.io/en/1.26.x/advanced-usage.html#ssl-warnings\n",
            "  warnings.warn(\n"
          ]
        },
        {
          "output_type": "stream",
          "name": "stdout",
          "text": [
            "Loaded https://scvazhina.ru/\n",
            "1 0 Load result code 200 https://scvazhina.ru/\n"
          ]
        },
        {
          "output_type": "stream",
          "name": "stderr",
          "text": [
            "/usr/local/lib/python3.10/dist-packages/urllib3/connectionpool.py:1056: InsecureRequestWarning: Unverified HTTPS request is being made to host 'burvoda72.ru'. Adding certificate verification is strongly advised. See: https://urllib3.readthedocs.io/en/1.26.x/advanced-usage.html#ssl-warnings\n",
            "  warnings.warn(\n"
          ]
        },
        {
          "output_type": "stream",
          "name": "stdout",
          "text": [
            "Loaded https://burvoda72.ru/\n",
            "1 1 Load result code 200 https://burvoda72.ru/\n"
          ]
        },
        {
          "output_type": "stream",
          "name": "stderr",
          "text": [
            "/usr/local/lib/python3.10/dist-packages/urllib3/connectionpool.py:1056: InsecureRequestWarning: Unverified HTTPS request is being made to host 'bur74.ru'. Adding certificate verification is strongly advised. See: https://urllib3.readthedocs.io/en/1.26.x/advanced-usage.html#ssl-warnings\n",
            "  warnings.warn(\n"
          ]
        },
        {
          "output_type": "stream",
          "name": "stdout",
          "text": [
            "Loaded https://bur74.ru/\n",
            "1 2 Load result code 200 https://bur74.ru/\n"
          ]
        },
        {
          "output_type": "stream",
          "name": "stderr",
          "text": [
            "/usr/local/lib/python3.10/dist-packages/urllib3/connectionpool.py:1056: InsecureRequestWarning: Unverified HTTPS request is being made to host 'bursib.com'. Adding certificate verification is strongly advised. See: https://urllib3.readthedocs.io/en/1.26.x/advanced-usage.html#ssl-warnings\n",
            "  warnings.warn(\n"
          ]
        },
        {
          "output_type": "stream",
          "name": "stdout",
          "text": [
            "Loaded https://bursib.com/\n",
            "1 3 Load result code 200 https://bursib.com/\n"
          ]
        },
        {
          "output_type": "stream",
          "name": "stderr",
          "text": [
            "/usr/local/lib/python3.10/dist-packages/urllib3/connectionpool.py:1056: InsecureRequestWarning: Unverified HTTPS request is being made to host 'www.lenremont.ru'. Adding certificate verification is strongly advised. See: https://urllib3.readthedocs.io/en/1.26.x/advanced-usage.html#ssl-warnings\n",
            "  warnings.warn(\n"
          ]
        },
        {
          "output_type": "stream",
          "name": "stdout",
          "text": [
            "Loaded https://www.lenremont.ru/burenie-skvazhin-v-spb.htm\n",
            "1 4 Load result code 200 https://www.lenremont.ru/burenie-skvazhin-v-spb.htm\n"
          ]
        },
        {
          "output_type": "stream",
          "name": "stderr",
          "text": [
            "/usr/local/lib/python3.10/dist-packages/urllib3/connectionpool.py:1056: InsecureRequestWarning: Unverified HTTPS request is being made to host 'burakvastroy.ru'. Adding certificate verification is strongly advised. See: https://urllib3.readthedocs.io/en/1.26.x/advanced-usage.html#ssl-warnings\n",
            "  warnings.warn(\n"
          ]
        },
        {
          "output_type": "stream",
          "name": "stdout",
          "text": [
            "Loaded https://burakvastroy.ru/\n",
            "1 5 Load result code 200 https://burakvastroy.ru/\n"
          ]
        },
        {
          "output_type": "stream",
          "name": "stderr",
          "text": [
            "/usr/local/lib/python3.10/dist-packages/urllib3/connectionpool.py:1056: InsecureRequestWarning: Unverified HTTPS request is being made to host 'lenburenie.ru'. Adding certificate verification is strongly advised. See: https://urllib3.readthedocs.io/en/1.26.x/advanced-usage.html#ssl-warnings\n",
            "  warnings.warn(\n"
          ]
        },
        {
          "output_type": "stream",
          "name": "stdout",
          "text": [
            "Loaded https://lenburenie.ru/\n",
            "1 6 Load result code 200 https://lenburenie.ru/\n"
          ]
        },
        {
          "output_type": "stream",
          "name": "stderr",
          "text": [
            "/usr/local/lib/python3.10/dist-packages/urllib3/connectionpool.py:1056: InsecureRequestWarning: Unverified HTTPS request is being made to host 'xn--42-6kchbkj0dn7a.xn--p1ai'. Adding certificate verification is strongly advised. See: https://urllib3.readthedocs.io/en/1.26.x/advanced-usage.html#ssl-warnings\n",
            "  warnings.warn(\n"
          ]
        },
        {
          "output_type": "stream",
          "name": "stdout",
          "text": [
            "Loaded http://xn--42-6kchbkj0dn7a.xn--p1ai/\n",
            "1 7 Load result code 200 http://xn--42-6kchbkj0dn7a.xn--p1ai/\n"
          ]
        },
        {
          "output_type": "stream",
          "name": "stderr",
          "text": [
            "/usr/local/lib/python3.10/dist-packages/urllib3/connectionpool.py:1056: InsecureRequestWarning: Unverified HTTPS request is being made to host 'bur-kazan.ru'. Adding certificate verification is strongly advised. See: https://urllib3.readthedocs.io/en/1.26.x/advanced-usage.html#ssl-warnings\n",
            "  warnings.warn(\n"
          ]
        },
        {
          "output_type": "stream",
          "name": "stdout",
          "text": [
            "Loaded https://bur-kazan.ru/\n",
            "1 8 Load result code 200 https://bur-kazan.ru/\n"
          ]
        },
        {
          "output_type": "stream",
          "name": "stderr",
          "text": [
            "/usr/local/lib/python3.10/dist-packages/urllib3/connectionpool.py:1056: InsecureRequestWarning: Unverified HTTPS request is being made to host 'bur58.ru'. Adding certificate verification is strongly advised. See: https://urllib3.readthedocs.io/en/1.26.x/advanced-usage.html#ssl-warnings\n",
            "  warnings.warn(\n"
          ]
        },
        {
          "output_type": "stream",
          "name": "stdout",
          "text": [
            "Loaded https://bur58.ru/\n",
            "1 9 Load result code 200 https://bur58.ru/\n",
            "Loaded http://kristall174.com/\n",
            "1 10 Load result code 200 http://kristall174.com/\n"
          ]
        },
        {
          "output_type": "stream",
          "name": "stderr",
          "text": [
            "/usr/local/lib/python3.10/dist-packages/urllib3/connectionpool.py:1056: InsecureRequestWarning: Unverified HTTPS request is being made to host 'glav-bur.ru'. Adding certificate verification is strongly advised. See: https://urllib3.readthedocs.io/en/1.26.x/advanced-usage.html#ssl-warnings\n",
            "  warnings.warn(\n"
          ]
        },
        {
          "output_type": "stream",
          "name": "stdout",
          "text": [
            "Loaded https://glav-bur.ru/\n",
            "1 11 Load result code 200 https://glav-bur.ru/\n",
            "Loaded http://geizercom.ru/\n",
            "1 12 Load result code 200 http://geizercom.ru/\n"
          ]
        },
        {
          "output_type": "stream",
          "name": "stderr",
          "text": [
            "/usr/local/lib/python3.10/dist-packages/urllib3/connectionpool.py:1056: InsecureRequestWarning: Unverified HTTPS request is being made to host 'rodnik-omsk.ru'. Adding certificate verification is strongly advised. See: https://urllib3.readthedocs.io/en/1.26.x/advanced-usage.html#ssl-warnings\n",
            "  warnings.warn(\n"
          ]
        },
        {
          "output_type": "stream",
          "name": "stdout",
          "text": [
            "Loaded https://rodnik-omsk.ru/\n",
            "1 13 Load result code 200 https://rodnik-omsk.ru/\n"
          ]
        },
        {
          "output_type": "stream",
          "name": "stderr",
          "text": [
            "/usr/local/lib/python3.10/dist-packages/urllib3/connectionpool.py:1056: InsecureRequestWarning: Unverified HTTPS request is being made to host 'karelburvod.ru'. Adding certificate verification is strongly advised. See: https://urllib3.readthedocs.io/en/1.26.x/advanced-usage.html#ssl-warnings\n",
            "  warnings.warn(\n"
          ]
        },
        {
          "output_type": "stream",
          "name": "stdout",
          "text": [
            "Loaded https://karelburvod.ru/\n",
            "1 14 Load result code 200 https://karelburvod.ru/\n"
          ]
        },
        {
          "output_type": "stream",
          "name": "stderr",
          "text": [
            "/usr/local/lib/python3.10/dist-packages/urllib3/connectionpool.py:1056: InsecureRequestWarning: Unverified HTTPS request is being made to host 'www.burovik.ru'. Adding certificate verification is strongly advised. See: https://urllib3.readthedocs.io/en/1.26.x/advanced-usage.html#ssl-warnings\n",
            "  warnings.warn(\n"
          ]
        },
        {
          "output_type": "stream",
          "name": "stdout",
          "text": [
            "Loaded https://www.burovik.ru/\n",
            "1 15 Load result code 200 https://www.burovik.ru/\n"
          ]
        },
        {
          "output_type": "stream",
          "name": "stderr",
          "text": [
            "/usr/local/lib/python3.10/dist-packages/urllib3/connectionpool.py:1056: InsecureRequestWarning: Unverified HTTPS request is being made to host 'svoya-skvazhina.info'. Adding certificate verification is strongly advised. See: https://urllib3.readthedocs.io/en/1.26.x/advanced-usage.html#ssl-warnings\n",
            "  warnings.warn(\n"
          ]
        },
        {
          "output_type": "stream",
          "name": "stdout",
          "text": [
            "Loaded https://svoya-skvazhina.info/\n",
            "1 16 Load result code 200 https://svoya-skvazhina.info/\n"
          ]
        },
        {
          "output_type": "stream",
          "name": "stderr",
          "text": [
            "/usr/local/lib/python3.10/dist-packages/urllib3/connectionpool.py:1056: InsecureRequestWarning: Unverified HTTPS request is being made to host 'akvass.ru'. Adding certificate verification is strongly advised. See: https://urllib3.readthedocs.io/en/1.26.x/advanced-usage.html#ssl-warnings\n",
            "  warnings.warn(\n"
          ]
        },
        {
          "output_type": "stream",
          "name": "stdout",
          "text": [
            "Loaded https://akvass.ru/uslugi/burenie-skvazhin-na-vodu/\n",
            "1 17 Load result code 200 https://akvass.ru/uslugi/burenie-skvazhin-na-vodu/\n"
          ]
        },
        {
          "output_type": "stream",
          "name": "stderr",
          "text": [
            "/usr/local/lib/python3.10/dist-packages/urllib3/connectionpool.py:1056: InsecureRequestWarning: Unverified HTTPS request is being made to host 'vodoley18.ru'. Adding certificate verification is strongly advised. See: https://urllib3.readthedocs.io/en/1.26.x/advanced-usage.html#ssl-warnings\n",
            "  warnings.warn(\n"
          ]
        },
        {
          "output_type": "stream",
          "name": "stdout",
          "text": [
            "Loaded https://vodoley18.ru/\n",
            "1 18 Load result code 200 https://vodoley18.ru/\n"
          ]
        },
        {
          "output_type": "stream",
          "name": "stderr",
          "text": [
            "/usr/local/lib/python3.10/dist-packages/urllib3/connectionpool.py:1056: InsecureRequestWarning: Unverified HTTPS request is being made to host 'www.burimvodu.ru'. Adding certificate verification is strongly advised. See: https://urllib3.readthedocs.io/en/1.26.x/advanced-usage.html#ssl-warnings\n",
            "  warnings.warn(\n"
          ]
        },
        {
          "output_type": "stream",
          "name": "stdout",
          "text": [
            "Loaded https://www.burimvodu.ru/\n",
            "1 19 Load result code 200 https://www.burimvodu.ru/\n"
          ]
        },
        {
          "output_type": "stream",
          "name": "stderr",
          "text": [
            "/usr/local/lib/python3.10/dist-packages/urllib3/connectionpool.py:1056: InsecureRequestWarning: Unverified HTTPS request is being made to host 'novobur.ru'. Adding certificate verification is strongly advised. See: https://urllib3.readthedocs.io/en/1.26.x/advanced-usage.html#ssl-warnings\n",
            "  warnings.warn(\n"
          ]
        },
        {
          "output_type": "stream",
          "name": "stdout",
          "text": [
            "Loaded https://novobur.ru/\n",
            "1 20 Load result code 200 https://novobur.ru/\n",
            "Loaded http://aquaf.ru/burenie-skvazhin\n",
            "1 21 Load result code 200 http://aquaf.ru/burenie-skvazhin\n"
          ]
        },
        {
          "output_type": "stream",
          "name": "stderr",
          "text": [
            "/usr/local/lib/python3.10/dist-packages/urllib3/connectionpool.py:1056: InsecureRequestWarning: Unverified HTTPS request is being made to host 'vodarsenal.ru'. Adding certificate verification is strongly advised. See: https://urllib3.readthedocs.io/en/1.26.x/advanced-usage.html#ssl-warnings\n",
            "  warnings.warn(\n"
          ]
        },
        {
          "output_type": "stream",
          "name": "stdout",
          "text": [
            "Loaded https://vodarsenal.ru/\n",
            "1 22 Load result code 200 https://vodarsenal.ru/\n"
          ]
        },
        {
          "output_type": "stream",
          "name": "stderr",
          "text": [
            "/usr/local/lib/python3.10/dist-packages/urllib3/connectionpool.py:1056: InsecureRequestWarning: Unverified HTTPS request is being made to host 'xn----7sbafbzom5awni.xn--p1ai'. Adding certificate verification is strongly advised. See: https://urllib3.readthedocs.io/en/1.26.x/advanced-usage.html#ssl-warnings\n",
            "  warnings.warn(\n"
          ]
        },
        {
          "output_type": "stream",
          "name": "stdout",
          "text": [
            "Loaded https://xn----7sbafbzom5awni.xn--p1ai/\n",
            "1 23 Load result code 200 https://xn----7sbafbzom5awni.xn--p1ai/\n"
          ]
        },
        {
          "output_type": "stream",
          "name": "stderr",
          "text": [
            "/usr/local/lib/python3.10/dist-packages/urllib3/connectionpool.py:1056: InsecureRequestWarning: Unverified HTTPS request is being made to host 'www.burenie-ug.com.ua'. Adding certificate verification is strongly advised. See: https://urllib3.readthedocs.io/en/1.26.x/advanced-usage.html#ssl-warnings\n",
            "  warnings.warn(\n"
          ]
        },
        {
          "output_type": "stream",
          "name": "stdout",
          "text": [
            "Loaded https://www.burenie-ug.com.ua/\n",
            "1 24 Load result code 200 https://www.burenie-ug.com.ua/\n"
          ]
        },
        {
          "output_type": "stream",
          "name": "stderr",
          "text": [
            "/usr/local/lib/python3.10/dist-packages/urllib3/connectionpool.py:1056: InsecureRequestWarning: Unverified HTTPS request is being made to host 'bureniespb.ru'. Adding certificate verification is strongly advised. See: https://urllib3.readthedocs.io/en/1.26.x/advanced-usage.html#ssl-warnings\n",
            "  warnings.warn(\n"
          ]
        },
        {
          "output_type": "stream",
          "name": "stdout",
          "text": [
            "Loaded https://bureniespb.ru/\n",
            "1 25 Load result code 200 https://bureniespb.ru/\n"
          ]
        },
        {
          "output_type": "stream",
          "name": "stderr",
          "text": [
            "/usr/local/lib/python3.10/dist-packages/urllib3/connectionpool.py:1056: InsecureRequestWarning: Unverified HTTPS request is being made to host 'mosoblbur.ru'. Adding certificate verification is strongly advised. See: https://urllib3.readthedocs.io/en/1.26.x/advanced-usage.html#ssl-warnings\n",
            "  warnings.warn(\n"
          ]
        },
        {
          "output_type": "stream",
          "name": "stdout",
          "text": [
            "Loaded https://mosoblbur.ru/\n",
            "1 26 Load result code 200 https://mosoblbur.ru/\n"
          ]
        },
        {
          "output_type": "stream",
          "name": "stderr",
          "text": [
            "/usr/local/lib/python3.10/dist-packages/urllib3/connectionpool.py:1056: InsecureRequestWarning: Unverified HTTPS request is being made to host 'xn----8sbbfnaklfq3ai2atx.xn--p1acf'. Adding certificate verification is strongly advised. See: https://urllib3.readthedocs.io/en/1.26.x/advanced-usage.html#ssl-warnings\n",
            "  warnings.warn(\n"
          ]
        },
        {
          "output_type": "stream",
          "name": "stdout",
          "text": [
            "Loaded https://xn----8sbbfnaklfq3ai2atx.xn--p1acf/\n",
            "1 27 Load result code 200 https://xn----8sbbfnaklfq3ai2atx.xn--p1acf/\n"
          ]
        },
        {
          "output_type": "stream",
          "name": "stderr",
          "text": [
            "/usr/local/lib/python3.10/dist-packages/urllib3/connectionpool.py:1056: InsecureRequestWarning: Unverified HTTPS request is being made to host 'exbur.ru'. Adding certificate verification is strongly advised. See: https://urllib3.readthedocs.io/en/1.26.x/advanced-usage.html#ssl-warnings\n",
            "  warnings.warn(\n"
          ]
        },
        {
          "output_type": "stream",
          "name": "stdout",
          "text": [
            "Loaded https://exbur.ru/info/poleznaya-informatsiya/tekhnologiya-bureniya-skvazhin-na-vodu.html\n",
            "1 28 Load result code 200 https://exbur.ru/info/poleznaya-informatsiya/tekhnologiya-bureniya-skvazhin-na-vodu.html\n"
          ]
        },
        {
          "output_type": "stream",
          "name": "stderr",
          "text": [
            "/usr/local/lib/python3.10/dist-packages/urllib3/connectionpool.py:1056: InsecureRequestWarning: Unverified HTTPS request is being made to host 'lamabur.ru'. Adding certificate verification is strongly advised. See: https://urllib3.readthedocs.io/en/1.26.x/advanced-usage.html#ssl-warnings\n",
            "  warnings.warn(\n"
          ]
        },
        {
          "output_type": "stream",
          "name": "stdout",
          "text": [
            "Loaded https://lamabur.ru/\n",
            "1 29 Load result code 200 https://lamabur.ru/\n"
          ]
        },
        {
          "output_type": "stream",
          "name": "stderr",
          "text": [
            "/usr/local/lib/python3.10/dist-packages/urllib3/connectionpool.py:1056: InsecureRequestWarning: Unverified HTTPS request is being made to host 'prostor-spb.ru'. Adding certificate verification is strongly advised. See: https://urllib3.readthedocs.io/en/1.26.x/advanced-usage.html#ssl-warnings\n",
            "  warnings.warn(\n"
          ]
        },
        {
          "output_type": "stream",
          "name": "stdout",
          "text": [
            "Loaded https://prostor-spb.ru/news/burenie-skvazhin-i-kolodtsev-pravila-normy-zatraty.html\n",
            "1 30 Load result code 200 https://prostor-spb.ru/news/burenie-skvazhin-i-kolodtsev-pravila-normy-zatraty.html\n"
          ]
        },
        {
          "output_type": "stream",
          "name": "stderr",
          "text": [
            "/usr/local/lib/python3.10/dist-packages/urllib3/connectionpool.py:1056: InsecureRequestWarning: Unverified HTTPS request is being made to host 'mosvodostroy.ru'. Adding certificate verification is strongly advised. See: https://urllib3.readthedocs.io/en/1.26.x/advanced-usage.html#ssl-warnings\n",
            "  warnings.warn(\n"
          ]
        },
        {
          "output_type": "stream",
          "name": "stdout",
          "text": [
            "Loaded https://mosvodostroy.ru/burenie-skvazhiny/\n",
            "1 31 Load result code 200 https://mosvodostroy.ru/burenie-skvazhiny/\n"
          ]
        },
        {
          "output_type": "stream",
          "name": "stderr",
          "text": [
            "/usr/local/lib/python3.10/dist-packages/urllib3/connectionpool.py:1056: InsecureRequestWarning: Unverified HTTPS request is being made to host 'ulan-ude.gor-master.ru'. Adding certificate verification is strongly advised. See: https://urllib3.readthedocs.io/en/1.26.x/advanced-usage.html#ssl-warnings\n",
            "  warnings.warn(\n"
          ]
        },
        {
          "output_type": "stream",
          "name": "stdout",
          "text": [
            "Loaded https://ulan-ude.gor-master.ru/burenie-skvazhin-na-vodu\n",
            "1 32 Load result code 200 https://ulan-ude.gor-master.ru/burenie-skvazhin-na-vodu\n"
          ]
        },
        {
          "output_type": "stream",
          "name": "stderr",
          "text": [
            "/usr/local/lib/python3.10/dist-packages/urllib3/connectionpool.py:1056: InsecureRequestWarning: Unverified HTTPS request is being made to host 'neptunbur.ru'. Adding certificate verification is strongly advised. See: https://urllib3.readthedocs.io/en/1.26.x/advanced-usage.html#ssl-warnings\n",
            "  warnings.warn(\n"
          ]
        },
        {
          "output_type": "stream",
          "name": "stdout",
          "text": [
            "Loaded https://neptunbur.ru/\n",
            "1 33 Load result code 200 https://neptunbur.ru/\n"
          ]
        },
        {
          "output_type": "stream",
          "name": "stderr",
          "text": [
            "/usr/local/lib/python3.10/dist-packages/urllib3/connectionpool.py:1056: InsecureRequestWarning: Unverified HTTPS request is being made to host 'www.water-help.ru'. Adding certificate verification is strongly advised. See: https://urllib3.readthedocs.io/en/1.26.x/advanced-usage.html#ssl-warnings\n",
            "  warnings.warn(\n"
          ]
        },
        {
          "output_type": "stream",
          "name": "stdout",
          "text": [
            "Loaded https://www.water-help.ru/tekhnologiya-bureniya-skvazhin-na-vodu.html\n",
            "1 34 Load result code 200 https://www.water-help.ru/tekhnologiya-bureniya-skvazhin-na-vodu.html\n"
          ]
        },
        {
          "output_type": "stream",
          "name": "stderr",
          "text": [
            "/usr/local/lib/python3.10/dist-packages/urllib3/connectionpool.py:1056: InsecureRequestWarning: Unverified HTTPS request is being made to host 'www.vodaservis.ru'. Adding certificate verification is strongly advised. See: https://urllib3.readthedocs.io/en/1.26.x/advanced-usage.html#ssl-warnings\n",
            "  warnings.warn(\n",
            "/usr/local/lib/python3.10/dist-packages/urllib3/connectionpool.py:1056: InsecureRequestWarning: Unverified HTTPS request is being made to host 'vodaservis.ru'. Adding certificate verification is strongly advised. See: https://urllib3.readthedocs.io/en/1.26.x/advanced-usage.html#ssl-warnings\n",
            "  warnings.warn(\n",
            "/usr/local/lib/python3.10/dist-packages/urllib3/connectionpool.py:1056: InsecureRequestWarning: Unverified HTTPS request is being made to host 'vodaservis.ru'. Adding certificate verification is strongly advised. See: https://urllib3.readthedocs.io/en/1.26.x/advanced-usage.html#ssl-warnings\n",
            "  warnings.warn(\n",
            "/usr/local/lib/python3.10/dist-packages/urllib3/connectionpool.py:1056: InsecureRequestWarning: Unverified HTTPS request is being made to host 'vodaservis.ru'. Adding certificate verification is strongly advised. See: https://urllib3.readthedocs.io/en/1.26.x/advanced-usage.html#ssl-warnings\n",
            "  warnings.warn(\n"
          ]
        },
        {
          "output_type": "stream",
          "name": "stdout",
          "text": [
            "Loaded https://www.vodaservis.ru/price/price8/\n",
            "1 35 Load result code 200 https://www.vodaservis.ru/price/price8/\n"
          ]
        },
        {
          "output_type": "stream",
          "name": "stderr",
          "text": [
            "/usr/local/lib/python3.10/dist-packages/urllib3/connectionpool.py:1056: InsecureRequestWarning: Unverified HTTPS request is being made to host 'burs.pro'. Adding certificate verification is strongly advised. See: https://urllib3.readthedocs.io/en/1.26.x/advanced-usage.html#ssl-warnings\n",
            "  warnings.warn(\n"
          ]
        },
        {
          "output_type": "stream",
          "name": "stdout",
          "text": [
            "Loaded https://burs.pro/stati/sposoby-bureniya-skvazhin-na-vodu.html\n",
            "1 36 Load result code 200 https://burs.pro/stati/sposoby-bureniya-skvazhin-na-vodu.html\n"
          ]
        },
        {
          "output_type": "stream",
          "name": "stderr",
          "text": [
            "/usr/local/lib/python3.10/dist-packages/urllib3/connectionpool.py:1056: InsecureRequestWarning: Unverified HTTPS request is being made to host 'www.aqua-help.ru'. Adding certificate verification is strongly advised. See: https://urllib3.readthedocs.io/en/1.26.x/advanced-usage.html#ssl-warnings\n",
            "  warnings.warn(\n"
          ]
        },
        {
          "output_type": "stream",
          "name": "stdout",
          "text": [
            "Loaded https://www.aqua-help.ru/activities/well-boring/\n",
            "1 37 Load result code 200 https://www.aqua-help.ru/activities/well-boring/\n"
          ]
        },
        {
          "output_type": "stream",
          "name": "stderr",
          "text": [
            "/usr/local/lib/python3.10/dist-packages/urllib3/connectionpool.py:1056: InsecureRequestWarning: Unverified HTTPS request is being made to host 'www.burenie.ru'. Adding certificate verification is strongly advised. See: https://urllib3.readthedocs.io/en/1.26.x/advanced-usage.html#ssl-warnings\n",
            "  warnings.warn(\n"
          ]
        },
        {
          "output_type": "stream",
          "name": "stdout",
          "text": [
            "Loaded https://www.burenie.ru/\n",
            "1 38 Load result code 200 https://www.burenie.ru/\n"
          ]
        },
        {
          "output_type": "stream",
          "name": "stderr",
          "text": [
            "/usr/local/lib/python3.10/dist-packages/urllib3/connectionpool.py:1056: InsecureRequestWarning: Unverified HTTPS request is being made to host 'bur66.ru'. Adding certificate verification is strongly advised. See: https://urllib3.readthedocs.io/en/1.26.x/advanced-usage.html#ssl-warnings\n",
            "  warnings.warn(\n"
          ]
        },
        {
          "output_type": "stream",
          "name": "stdout",
          "text": [
            "Loaded https://bur66.ru/\n",
            "1 39 Load result code 200 https://bur66.ru/\n"
          ]
        },
        {
          "output_type": "stream",
          "name": "stderr",
          "text": [
            "/usr/local/lib/python3.10/dist-packages/urllib3/connectionpool.py:1056: InsecureRequestWarning: Unverified HTTPS request is being made to host 'www.burovik.ru'. Adding certificate verification is strongly advised. See: https://urllib3.readthedocs.io/en/1.26.x/advanced-usage.html#ssl-warnings\n",
            "  warnings.warn(\n"
          ]
        },
        {
          "output_type": "stream",
          "name": "stdout",
          "text": [
            "Loaded https://www.burovik.ru/price.html\n",
            "1 40 Load result code 200 https://www.burovik.ru/price.html\n"
          ]
        },
        {
          "output_type": "stream",
          "name": "stderr",
          "text": [
            "/usr/local/lib/python3.10/dist-packages/urllib3/connectionpool.py:1056: InsecureRequestWarning: Unverified HTTPS request is being made to host 'voda-st.ru'. Adding certificate verification is strongly advised. See: https://urllib3.readthedocs.io/en/1.26.x/advanced-usage.html#ssl-warnings\n",
            "  warnings.warn(\n"
          ]
        },
        {
          "output_type": "stream",
          "name": "stdout",
          "text": [
            "Loaded https://voda-st.ru/services/burenie-skvazhin/\n",
            "1 41 Load result code 200 https://voda-st.ru/services/burenie-skvazhin/\n",
            "Load error exception\n",
            "1 42 Load result code -1 https://drilling-msk.ru/burenie-skvazhin-na-vodu.html\n"
          ]
        },
        {
          "output_type": "stream",
          "name": "stderr",
          "text": [
            "/usr/local/lib/python3.10/dist-packages/urllib3/connectionpool.py:1056: InsecureRequestWarning: Unverified HTTPS request is being made to host 'burakvastroy.ru'. Adding certificate verification is strongly advised. See: https://urllib3.readthedocs.io/en/1.26.x/advanced-usage.html#ssl-warnings\n",
            "  warnings.warn(\n"
          ]
        },
        {
          "output_type": "stream",
          "name": "stdout",
          "text": [
            "Loaded https://burakvastroy.ru/artezianskie_skvazhini_pod_kluch/\n",
            "1 43 Load result code 200 https://burakvastroy.ru/artezianskie_skvazhini_pod_kluch/\n"
          ]
        },
        {
          "output_type": "stream",
          "name": "stderr",
          "text": [
            "/usr/local/lib/python3.10/dist-packages/urllib3/connectionpool.py:1056: InsecureRequestWarning: Unverified HTTPS request is being made to host 'xn--e1arhbga.xn--p1ai'. Adding certificate verification is strongly advised. See: https://urllib3.readthedocs.io/en/1.26.x/advanced-usage.html#ssl-warnings\n",
            "  warnings.warn(\n"
          ]
        },
        {
          "output_type": "stream",
          "name": "stdout",
          "text": [
            "Loaded https://xn--e1arhbga.xn--p1ai/\n",
            "1 44 Load result code 200 https://xn--e1arhbga.xn--p1ai/\n"
          ]
        },
        {
          "output_type": "stream",
          "name": "stderr",
          "text": [
            "/usr/local/lib/python3.10/dist-packages/urllib3/connectionpool.py:1056: InsecureRequestWarning: Unverified HTTPS request is being made to host 'voda-saxum.ru'. Adding certificate verification is strongly advised. See: https://urllib3.readthedocs.io/en/1.26.x/advanced-usage.html#ssl-warnings\n",
            "  warnings.warn(\n"
          ]
        },
        {
          "output_type": "stream",
          "name": "stdout",
          "text": [
            "Loaded https://voda-saxum.ru/\n",
            "1 45 Load result code 200 https://voda-saxum.ru/\n"
          ]
        },
        {
          "output_type": "stream",
          "name": "stderr",
          "text": [
            "/usr/local/lib/python3.10/dist-packages/urllib3/connectionpool.py:1056: InsecureRequestWarning: Unverified HTTPS request is being made to host 'www.burenie-skvazhin-mo.ru'. Adding certificate verification is strongly advised. See: https://urllib3.readthedocs.io/en/1.26.x/advanced-usage.html#ssl-warnings\n",
            "  warnings.warn(\n"
          ]
        },
        {
          "output_type": "stream",
          "name": "stdout",
          "text": [
            "Loaded https://www.burenie-skvazhin-mo.ru/\n",
            "1 46 Load result code 200 https://www.burenie-skvazhin-mo.ru/\n"
          ]
        },
        {
          "output_type": "stream",
          "name": "stderr",
          "text": [
            "/usr/local/lib/python3.10/dist-packages/urllib3/connectionpool.py:1056: InsecureRequestWarning: Unverified HTTPS request is being made to host 'www.frear.ru'. Adding certificate verification is strongly advised. See: https://urllib3.readthedocs.io/en/1.26.x/advanced-usage.html#ssl-warnings\n",
            "  warnings.warn(\n"
          ]
        },
        {
          "output_type": "stream",
          "name": "stdout",
          "text": [
            "Loaded https://www.frear.ru/burenie-skvazhin-na-vodu.html\n",
            "1 47 Load result code 200 https://www.frear.ru/burenie-skvazhin-na-vodu.html\n"
          ]
        },
        {
          "output_type": "stream",
          "name": "stderr",
          "text": [
            "/usr/local/lib/python3.10/dist-packages/urllib3/connectionpool.py:1056: InsecureRequestWarning: Unverified HTTPS request is being made to host 'www.geodrilling.ru'. Adding certificate verification is strongly advised. See: https://urllib3.readthedocs.io/en/1.26.x/advanced-usage.html#ssl-warnings\n",
            "  warnings.warn(\n"
          ]
        },
        {
          "output_type": "stream",
          "name": "stdout",
          "text": [
            "Loaded https://www.geodrilling.ru/ruchnoe_burenie.html\n",
            "1 48 Load result code 200 https://www.geodrilling.ru/ruchnoe_burenie.html\n"
          ]
        },
        {
          "output_type": "stream",
          "name": "stderr",
          "text": [
            "/usr/local/lib/python3.10/dist-packages/urllib3/connectionpool.py:1056: InsecureRequestWarning: Unverified HTTPS request is being made to host 'septicbox.ru'. Adding certificate verification is strongly advised. See: https://urllib3.readthedocs.io/en/1.26.x/advanced-usage.html#ssl-warnings\n",
            "  warnings.warn(\n"
          ]
        },
        {
          "output_type": "stream",
          "name": "stdout",
          "text": [
            "Loaded https://septicbox.ru/uslugi/267-burenie-skvazhin-pod-klyuch.html\n",
            "1 49 Load result code 200 https://septicbox.ru/uslugi/267-burenie-skvazhin-pod-klyuch.html\n"
          ]
        },
        {
          "output_type": "stream",
          "name": "stderr",
          "text": [
            "/usr/local/lib/python3.10/dist-packages/urllib3/connectionpool.py:1056: InsecureRequestWarning: Unverified HTTPS request is being made to host 'burenie-skvazhin-66.ru'. Adding certificate verification is strongly advised. See: https://urllib3.readthedocs.io/en/1.26.x/advanced-usage.html#ssl-warnings\n",
            "  warnings.warn(\n"
          ]
        },
        {
          "output_type": "stream",
          "name": "stdout",
          "text": [
            "Loaded https://burenie-skvazhin-66.ru/services/burenie_skvazhin_v_pervouralske\n",
            "1 50 Load result code 200 https://burenie-skvazhin-66.ru/services/burenie_skvazhin_v_pervouralske\n"
          ]
        },
        {
          "output_type": "stream",
          "name": "stderr",
          "text": [
            "/usr/local/lib/python3.10/dist-packages/urllib3/connectionpool.py:1056: InsecureRequestWarning: Unverified HTTPS request is being made to host 'www.aqualux-m.ru'. Adding certificate verification is strongly advised. See: https://urllib3.readthedocs.io/en/1.26.x/advanced-usage.html#ssl-warnings\n",
            "  warnings.warn(\n"
          ]
        },
        {
          "output_type": "stream",
          "name": "stdout",
          "text": [
            "Loaded https://www.aqualux-m.ru/voprosy-i-otvety\n",
            "1 51 Load result code 200 https://www.aqualux-m.ru/voprosy-i-otvety\n"
          ]
        },
        {
          "output_type": "stream",
          "name": "stderr",
          "text": [
            "/usr/local/lib/python3.10/dist-packages/urllib3/connectionpool.py:1056: InsecureRequestWarning: Unverified HTTPS request is being made to host 'eurolos.ru'. Adding certificate verification is strongly advised. See: https://urllib3.readthedocs.io/en/1.26.x/advanced-usage.html#ssl-warnings\n",
            "  warnings.warn(\n"
          ]
        },
        {
          "output_type": "stream",
          "name": "stdout",
          "text": [
            "Loaded https://eurolos.ru/infolos/vodosnabzhenie/burenie-skvazhin.html\n",
            "1 52 Load result code 200 https://eurolos.ru/infolos/vodosnabzhenie/burenie-skvazhin.html\n"
          ]
        },
        {
          "output_type": "stream",
          "name": "stderr",
          "text": [
            "/usr/local/lib/python3.10/dist-packages/urllib3/connectionpool.py:1056: InsecureRequestWarning: Unverified HTTPS request is being made to host 'topas-aqua.ru'. Adding certificate verification is strongly advised. See: https://urllib3.readthedocs.io/en/1.26.x/advanced-usage.html#ssl-warnings\n",
            "  warnings.warn(\n"
          ]
        },
        {
          "output_type": "stream",
          "name": "stdout",
          "text": [
            "Loaded https://topas-aqua.ru/nashi-uslugi/burenie-skvazhin-na-izvestnyak/\n",
            "1 53 Load result code 200 https://topas-aqua.ru/nashi-uslugi/burenie-skvazhin-na-izvestnyak/\n"
          ]
        },
        {
          "output_type": "stream",
          "name": "stderr",
          "text": [
            "/usr/local/lib/python3.10/dist-packages/urllib3/connectionpool.py:1056: InsecureRequestWarning: Unverified HTTPS request is being made to host 'www.geoistok.ru'. Adding certificate verification is strongly advised. See: https://urllib3.readthedocs.io/en/1.26.x/advanced-usage.html#ssl-warnings\n",
            "  warnings.warn(\n"
          ]
        },
        {
          "output_type": "stream",
          "name": "stdout",
          "text": [
            "Loaded https://www.geoistok.ru/burenie-skvazhin-v-lenoblasti/luzhskii-rayon/\n",
            "1 54 Load result code 200 https://www.geoistok.ru/burenie-skvazhin-v-lenoblasti/luzhskii-rayon/\n"
          ]
        },
        {
          "output_type": "stream",
          "name": "stderr",
          "text": [
            "/usr/local/lib/python3.10/dist-packages/urllib3/connectionpool.py:1056: InsecureRequestWarning: Unverified HTTPS request is being made to host 'geozemservis.com'. Adding certificate verification is strongly advised. See: https://urllib3.readthedocs.io/en/1.26.x/advanced-usage.html#ssl-warnings\n",
            "  warnings.warn(\n"
          ]
        },
        {
          "output_type": "stream",
          "name": "stdout",
          "text": [
            "Loaded https://geozemservis.com/inzhenerno-geologicheskie-izyskaniya/burenie-skvazhin/\n",
            "1 55 Load result code 200 https://geozemservis.com/inzhenerno-geologicheskie-izyskaniya/burenie-skvazhin/\n"
          ]
        },
        {
          "output_type": "stream",
          "name": "stderr",
          "text": [
            "/usr/local/lib/python3.10/dist-packages/urllib3/connectionpool.py:1056: InsecureRequestWarning: Unverified HTTPS request is being made to host 'aquaburmaster.ru'. Adding certificate verification is strongly advised. See: https://urllib3.readthedocs.io/en/1.26.x/advanced-usage.html#ssl-warnings\n",
            "  warnings.warn(\n"
          ]
        },
        {
          "output_type": "stream",
          "name": "stdout",
          "text": [
            "Loaded https://aquaburmaster.ru/burenie_skvazhinn\n",
            "1 56 Load result code 200 https://aquaburmaster.ru/burenie_skvazhinn\n"
          ]
        },
        {
          "output_type": "stream",
          "name": "stderr",
          "text": [
            "/usr/local/lib/python3.10/dist-packages/urllib3/connectionpool.py:1056: InsecureRequestWarning: Unverified HTTPS request is being made to host 'aquasorbent.ru'. Adding certificate verification is strongly advised. See: https://urllib3.readthedocs.io/en/1.26.x/advanced-usage.html#ssl-warnings\n",
            "  warnings.warn(\n"
          ]
        },
        {
          "output_type": "stream",
          "name": "stdout",
          "text": [
            "Loaded https://aquasorbent.ru/services/burenie-skvazhin\n",
            "1 57 Load result code 200 https://aquasorbent.ru/services/burenie-skvazhin\n"
          ]
        },
        {
          "output_type": "stream",
          "name": "stderr",
          "text": [
            "/usr/local/lib/python3.10/dist-packages/urllib3/connectionpool.py:1056: InsecureRequestWarning: Unverified HTTPS request is being made to host 'voda-pod-kluch.ru'. Adding certificate verification is strongly advised. See: https://urllib3.readthedocs.io/en/1.26.x/advanced-usage.html#ssl-warnings\n",
            "  warnings.warn(\n"
          ]
        },
        {
          "output_type": "stream",
          "name": "stdout",
          "text": [
            "Loaded https://voda-pod-kluch.ru/byrenie-skvazhiny-samara/\n",
            "1 58 Load result code 200 https://voda-pod-kluch.ru/byrenie-skvazhiny-samara/\n"
          ]
        },
        {
          "output_type": "stream",
          "name": "stderr",
          "text": [
            "/usr/local/lib/python3.10/dist-packages/urllib3/connectionpool.py:1056: InsecureRequestWarning: Unverified HTTPS request is being made to host 'burenieportal.ru'. Adding certificate verification is strongly advised. See: https://urllib3.readthedocs.io/en/1.26.x/advanced-usage.html#ssl-warnings\n",
            "  warnings.warn(\n"
          ]
        },
        {
          "output_type": "stream",
          "name": "stdout",
          "text": [
            "Loaded https://burenieportal.ru/\n",
            "1 59 Load result code 200 https://burenieportal.ru/\n"
          ]
        },
        {
          "output_type": "stream",
          "name": "stderr",
          "text": [
            "/usr/local/lib/python3.10/dist-packages/urllib3/connectionpool.py:1056: InsecureRequestWarning: Unverified HTTPS request is being made to host 'gmontage-spb.ru'. Adding certificate verification is strongly advised. See: https://urllib3.readthedocs.io/en/1.26.x/advanced-usage.html#ssl-warnings\n",
            "  warnings.warn(\n"
          ]
        },
        {
          "output_type": "stream",
          "name": "stdout",
          "text": [
            "Loaded https://gmontage-spb.ru/\n",
            "1 60 Load result code 200 https://gmontage-spb.ru/\n"
          ]
        },
        {
          "output_type": "stream",
          "name": "stderr",
          "text": [
            "/usr/local/lib/python3.10/dist-packages/urllib3/connectionpool.py:1056: InsecureRequestWarning: Unverified HTTPS request is being made to host 'emkosti-online.ru'. Adding certificate verification is strongly advised. See: https://urllib3.readthedocs.io/en/1.26.x/advanced-usage.html#ssl-warnings\n",
            "  warnings.warn(\n"
          ]
        },
        {
          "output_type": "stream",
          "name": "stdout",
          "text": [
            "Loaded https://emkosti-online.ru/catalog/burenie_skvazhiny_na_pesok/\n",
            "1 61 Load result code 200 https://emkosti-online.ru/catalog/burenie_skvazhiny_na_pesok/\n"
          ]
        },
        {
          "output_type": "stream",
          "name": "stderr",
          "text": [
            "/usr/local/lib/python3.10/dist-packages/urllib3/connectionpool.py:1056: InsecureRequestWarning: Unverified HTTPS request is being made to host 'simferopol.po-expotech.ru'. Adding certificate verification is strongly advised. See: https://urllib3.readthedocs.io/en/1.26.x/advanced-usage.html#ssl-warnings\n",
            "  warnings.warn(\n"
          ]
        },
        {
          "output_type": "stream",
          "name": "stdout",
          "text": [
            "Loaded https://simferopol.po-expotech.ru/press/articles/shnekovoe-burenie-tehnologiya/\n",
            "1 62 Load result code 200 https://simferopol.po-expotech.ru/press/articles/shnekovoe-burenie-tehnologiya/\n"
          ]
        },
        {
          "output_type": "stream",
          "name": "stderr",
          "text": [
            "/usr/local/lib/python3.10/dist-packages/urllib3/connectionpool.py:1056: InsecureRequestWarning: Unverified HTTPS request is being made to host 'domiato.ru'. Adding certificate verification is strongly advised. See: https://urllib3.readthedocs.io/en/1.26.x/advanced-usage.html#ssl-warnings\n",
            "  warnings.warn(\n"
          ]
        },
        {
          "output_type": "stream",
          "name": "stdout",
          "text": [
            "Loaded https://domiato.ru/burenie-na-vodu/\n",
            "1 63 Load result code 200 https://domiato.ru/burenie-na-vodu/\n"
          ]
        },
        {
          "output_type": "stream",
          "name": "stderr",
          "text": [
            "/usr/local/lib/python3.10/dist-packages/urllib3/connectionpool.py:1056: InsecureRequestWarning: Unverified HTTPS request is being made to host 'gorgeomeh.ru'. Adding certificate verification is strongly advised. See: https://urllib3.readthedocs.io/en/1.26.x/advanced-usage.html#ssl-warnings\n",
            "  warnings.warn(\n"
          ]
        },
        {
          "output_type": "stream",
          "name": "stdout",
          "text": [
            "Loaded https://gorgeomeh.ru/articles/sposoby-bureniya-skvazhin/\n",
            "1 64 Load result code 200 https://gorgeomeh.ru/articles/sposoby-bureniya-skvazhin/\n",
            "Loaded http://ustanovkasvai.ru/stati/192-burenie-skvazhin\n",
            "1 65 Load result code 200 http://ustanovkasvai.ru/stati/192-burenie-skvazhin\n",
            "Loaded http://www.plast-project.ru/burenie-skvazhin\n",
            "1 66 Load result code 200 http://www.plast-project.ru/burenie-skvazhin\n"
          ]
        },
        {
          "output_type": "stream",
          "name": "stderr",
          "text": [
            "/usr/local/lib/python3.10/dist-packages/urllib3/connectionpool.py:1056: InsecureRequestWarning: Unverified HTTPS request is being made to host 'stroyrus.spb.ru'. Adding certificate verification is strongly advised. See: https://urllib3.readthedocs.io/en/1.26.x/advanced-usage.html#ssl-warnings\n",
            "  warnings.warn(\n"
          ]
        },
        {
          "output_type": "stream",
          "name": "stdout",
          "text": [
            "Loaded https://stroyrus.spb.ru/uslugi/burenie_skvazhin_na_vodu/\n",
            "1 67 Load result code 200 https://stroyrus.spb.ru/uslugi/burenie_skvazhin_na_vodu/\n"
          ]
        },
        {
          "output_type": "stream",
          "name": "stderr",
          "text": [
            "/usr/local/lib/python3.10/dist-packages/urllib3/connectionpool.py:1056: InsecureRequestWarning: Unverified HTTPS request is being made to host 'xn--31-6kcaj7be8arjl.xn--p1ai'. Adding certificate verification is strongly advised. See: https://urllib3.readthedocs.io/en/1.26.x/advanced-usage.html#ssl-warnings\n",
            "  warnings.warn(\n"
          ]
        },
        {
          "output_type": "stream",
          "name": "stdout",
          "text": [
            "Loaded https://xn--31-6kcaj7be8arjl.xn--p1ai/services/burenie-skvazhin-na-vodu/\n",
            "1 68 Load result code 200 https://xn--31-6kcaj7be8arjl.xn--p1ai/services/burenie-skvazhin-na-vodu/\n",
            "Loaded http://www.xn--80ac5aagpesf.xn--p1ai/\n",
            "1 69 Load result code 200 http://www.xn--80ac5aagpesf.xn--p1ai/\n"
          ]
        },
        {
          "output_type": "stream",
          "name": "stderr",
          "text": [
            "/usr/local/lib/python3.10/dist-packages/urllib3/connectionpool.py:1056: InsecureRequestWarning: Unverified HTTPS request is being made to host 'aquaburstroy.ru'. Adding certificate verification is strongly advised. See: https://urllib3.readthedocs.io/en/1.26.x/advanced-usage.html#ssl-warnings\n",
            "  warnings.warn(\n"
          ]
        },
        {
          "output_type": "stream",
          "name": "stdout",
          "text": [
            "Loaded https://aquaburstroy.ru/\n",
            "1 70 Load result code 200 https://aquaburstroy.ru/\n"
          ]
        },
        {
          "output_type": "stream",
          "name": "stderr",
          "text": [
            "/usr/local/lib/python3.10/dist-packages/urllib3/connectionpool.py:1056: InsecureRequestWarning: Unverified HTTPS request is being made to host '124bt.ru'. Adding certificate verification is strongly advised. See: https://urllib3.readthedocs.io/en/1.26.x/advanced-usage.html#ssl-warnings\n",
            "  warnings.warn(\n"
          ]
        },
        {
          "output_type": "stream",
          "name": "stdout",
          "text": [
            "Loaded https://124bt.ru/vodosnabzhenie/burenie-skvazhin/\n",
            "1 71 Load result code 200 https://124bt.ru/vodosnabzhenie/burenie-skvazhin/\n"
          ]
        },
        {
          "output_type": "stream",
          "name": "stderr",
          "text": [
            "/usr/local/lib/python3.10/dist-packages/urllib3/connectionpool.py:1056: InsecureRequestWarning: Unverified HTTPS request is being made to host 'rusgeology.ru'. Adding certificate verification is strongly advised. See: https://urllib3.readthedocs.io/en/1.26.x/advanced-usage.html#ssl-warnings\n",
            "  warnings.warn(\n"
          ]
        },
        {
          "output_type": "stream",
          "name": "stdout",
          "text": [
            "Loaded https://rusgeology.ru/services/geologorazvedka-uvs/burenie/\n",
            "1 72 Load result code 200 https://rusgeology.ru/services/geologorazvedka-uvs/burenie/\n"
          ]
        },
        {
          "output_type": "stream",
          "name": "stderr",
          "text": [
            "/usr/local/lib/python3.10/dist-packages/urllib3/connectionpool.py:1056: InsecureRequestWarning: Unverified HTTPS request is being made to host 'wellbore.ru'. Adding certificate verification is strongly advised. See: https://urllib3.readthedocs.io/en/1.26.x/advanced-usage.html#ssl-warnings\n",
            "  warnings.warn(\n"
          ]
        },
        {
          "output_type": "stream",
          "name": "stdout",
          "text": [
            "Loaded https://wellbore.ru/burenie-skvazhin/burenie-skvazhin-na-glubokii-pesok/\n",
            "1 73 Load result code 200 https://wellbore.ru/burenie-skvazhin/burenie-skvazhin-na-glubokii-pesok/\n"
          ]
        },
        {
          "output_type": "stream",
          "name": "stderr",
          "text": [
            "/usr/local/lib/python3.10/dist-packages/urllib3/connectionpool.py:1056: InsecureRequestWarning: Unverified HTTPS request is being made to host 'geocompani.ru'. Adding certificate verification is strongly advised. See: https://urllib3.readthedocs.io/en/1.26.x/advanced-usage.html#ssl-warnings\n",
            "  warnings.warn(\n"
          ]
        },
        {
          "output_type": "stream",
          "name": "stdout",
          "text": [
            "Loaded https://geocompani.ru/uslugi/burenie-skvazhin/\n",
            "1 74 Load result code 200 https://geocompani.ru/uslugi/burenie-skvazhin/\n"
          ]
        },
        {
          "output_type": "stream",
          "name": "stderr",
          "text": [
            "/usr/local/lib/python3.10/dist-packages/urllib3/connectionpool.py:1056: InsecureRequestWarning: Unverified HTTPS request is being made to host 'www.kit-comfort.ru'. Adding certificate verification is strongly advised. See: https://urllib3.readthedocs.io/en/1.26.x/advanced-usage.html#ssl-warnings\n",
            "  warnings.warn(\n"
          ]
        },
        {
          "output_type": "stream",
          "name": "stdout",
          "text": [
            "Loaded https://www.kit-comfort.ru/blog/143-kak-proiskhodit-burenie-artezianskoj-skvazhiny-na-vodu.html\n",
            "1 75 Load result code 200 https://www.kit-comfort.ru/blog/143-kak-proiskhodit-burenie-artezianskoj-skvazhiny-na-vodu.html\n"
          ]
        },
        {
          "output_type": "stream",
          "name": "stderr",
          "text": [
            "/usr/local/lib/python3.10/dist-packages/urllib3/connectionpool.py:1056: InsecureRequestWarning: Unverified HTTPS request is being made to host 'kcmo-noginsk.ru'. Adding certificate verification is strongly advised. See: https://urllib3.readthedocs.io/en/1.26.x/advanced-usage.html#ssl-warnings\n",
            "  warnings.warn(\n"
          ]
        },
        {
          "output_type": "stream",
          "name": "stdout",
          "text": [
            "Loaded https://kcmo-noginsk.ru/well-boring/\n",
            "1 76 Load result code 200 https://kcmo-noginsk.ru/well-boring/\n"
          ]
        },
        {
          "output_type": "stream",
          "name": "stderr",
          "text": [
            "/usr/local/lib/python3.10/dist-packages/urllib3/connectionpool.py:1056: InsecureRequestWarning: Unverified HTTPS request is being made to host 'ros-opora.ru'. Adding certificate verification is strongly advised. See: https://urllib3.readthedocs.io/en/1.26.x/advanced-usage.html#ssl-warnings\n",
            "  warnings.warn(\n"
          ]
        },
        {
          "output_type": "stream",
          "name": "stdout",
          "text": [
            "Loaded https://ros-opora.ru/burenie-scvazhin-krasnoyarsk/\n",
            "1 77 Load result code 200 https://ros-opora.ru/burenie-scvazhin-krasnoyarsk/\n"
          ]
        },
        {
          "output_type": "stream",
          "name": "stderr",
          "text": [
            "/usr/local/lib/python3.10/dist-packages/urllib3/connectionpool.py:1056: InsecureRequestWarning: Unverified HTTPS request is being made to host 'aqua-septik.ru'. Adding certificate verification is strongly advised. See: https://urllib3.readthedocs.io/en/1.26.x/advanced-usage.html#ssl-warnings\n",
            "  warnings.warn(\n"
          ]
        },
        {
          "output_type": "stream",
          "name": "stdout",
          "text": [
            "Loaded https://aqua-septik.ru/burenie-skvazhin\n",
            "1 78 Load result code 200 https://aqua-septik.ru/burenie-skvazhin\n"
          ]
        },
        {
          "output_type": "stream",
          "name": "stderr",
          "text": [
            "/usr/local/lib/python3.10/dist-packages/urllib3/connectionpool.py:1056: InsecureRequestWarning: Unverified HTTPS request is being made to host 'septic78.ru'. Adding certificate verification is strongly advised. See: https://urllib3.readthedocs.io/en/1.26.x/advanced-usage.html#ssl-warnings\n",
            "  warnings.warn(\n"
          ]
        },
        {
          "output_type": "stream",
          "name": "stdout",
          "text": [
            "Loaded https://septic78.ru/burenie-skvazhin-na-vodu.html\n",
            "1 79 Load result code 200 https://septic78.ru/burenie-skvazhin-na-vodu.html\n"
          ]
        },
        {
          "output_type": "stream",
          "name": "stderr",
          "text": [
            "/usr/local/lib/python3.10/dist-packages/urllib3/connectionpool.py:1056: InsecureRequestWarning: Unverified HTTPS request is being made to host 'drillspb.ru'. Adding certificate verification is strongly advised. See: https://urllib3.readthedocs.io/en/1.26.x/advanced-usage.html#ssl-warnings\n",
            "  warnings.warn(\n"
          ]
        },
        {
          "output_type": "stream",
          "name": "stdout",
          "text": [
            "Loaded https://drillspb.ru/\n",
            "1 80 Load result code 200 https://drillspb.ru/\n"
          ]
        },
        {
          "output_type": "stream",
          "name": "stderr",
          "text": [
            "/usr/local/lib/python3.10/dist-packages/urllib3/connectionpool.py:1056: InsecureRequestWarning: Unverified HTTPS request is being made to host 'geomaster52.ru'. Adding certificate verification is strongly advised. See: https://urllib3.readthedocs.io/en/1.26.x/advanced-usage.html#ssl-warnings\n",
            "  warnings.warn(\n"
          ]
        },
        {
          "output_type": "stream",
          "name": "stdout",
          "text": [
            "Loaded https://geomaster52.ru/\n",
            "1 81 Load result code 200 https://geomaster52.ru/\n"
          ]
        },
        {
          "output_type": "stream",
          "name": "stderr",
          "text": [
            "/usr/local/lib/python3.10/dist-packages/urllib3/connectionpool.py:1056: InsecureRequestWarning: Unverified HTTPS request is being made to host 'geo607.ru'. Adding certificate verification is strongly advised. See: https://urllib3.readthedocs.io/en/1.26.x/advanced-usage.html#ssl-warnings\n",
            "  warnings.warn(\n"
          ]
        },
        {
          "output_type": "stream",
          "name": "stdout",
          "text": [
            "Loaded https://geo607.ru/\n",
            "1 82 Load result code 200 https://geo607.ru/\n"
          ]
        },
        {
          "output_type": "stream",
          "name": "stderr",
          "text": [
            "/usr/local/lib/python3.10/dist-packages/urllib3/connectionpool.py:1056: InsecureRequestWarning: Unverified HTTPS request is being made to host 'www.ufa-burenie.ru'. Adding certificate verification is strongly advised. See: https://urllib3.readthedocs.io/en/1.26.x/advanced-usage.html#ssl-warnings\n",
            "  warnings.warn(\n"
          ]
        },
        {
          "output_type": "stream",
          "name": "stdout",
          "text": [
            "Loaded https://www.ufa-burenie.ru/\n",
            "1 83 Load result code 200 https://www.ufa-burenie.ru/\n"
          ]
        },
        {
          "output_type": "stream",
          "name": "stderr",
          "text": [
            "/usr/local/lib/python3.10/dist-packages/urllib3/connectionpool.py:1056: InsecureRequestWarning: Unverified HTTPS request is being made to host 'aqualife-m.ru'. Adding certificate verification is strongly advised. See: https://urllib3.readthedocs.io/en/1.26.x/advanced-usage.html#ssl-warnings\n",
            "  warnings.warn(\n"
          ]
        },
        {
          "output_type": "stream",
          "name": "stdout",
          "text": [
            "Loaded https://aqualife-m.ru/\n",
            "1 84 Load result code 200 https://aqualife-m.ru/\n",
            "Load error exception\n",
            "1 85 Load result code -1 https://www.burenie-msk.ru/\n"
          ]
        },
        {
          "output_type": "stream",
          "name": "stderr",
          "text": [
            "/usr/local/lib/python3.10/dist-packages/urllib3/connectionpool.py:1056: InsecureRequestWarning: Unverified HTTPS request is being made to host 'eco-bur.ru'. Adding certificate verification is strongly advised. See: https://urllib3.readthedocs.io/en/1.26.x/advanced-usage.html#ssl-warnings\n",
            "  warnings.warn(\n"
          ]
        },
        {
          "output_type": "stream",
          "name": "stdout",
          "text": [
            "Loaded https://eco-bur.ru/\n",
            "1 86 Load result code 200 https://eco-bur.ru/\n"
          ]
        },
        {
          "output_type": "stream",
          "name": "stderr",
          "text": [
            "/usr/local/lib/python3.10/dist-packages/urllib3/connectionpool.py:1056: InsecureRequestWarning: Unverified HTTPS request is being made to host 'burkit.ru'. Adding certificate verification is strongly advised. See: https://urllib3.readthedocs.io/en/1.26.x/advanced-usage.html#ssl-warnings\n",
            "  warnings.warn(\n"
          ]
        },
        {
          "output_type": "stream",
          "name": "stdout",
          "text": [
            "Loaded https://burkit.ru/\n",
            "1 87 Load result code 200 https://burkit.ru/\n"
          ]
        },
        {
          "output_type": "stream",
          "name": "stderr",
          "text": [
            "/usr/local/lib/python3.10/dist-packages/urllib3/connectionpool.py:1056: InsecureRequestWarning: Unverified HTTPS request is being made to host 'samara-burenie.ru'. Adding certificate verification is strongly advised. See: https://urllib3.readthedocs.io/en/1.26.x/advanced-usage.html#ssl-warnings\n",
            "  warnings.warn(\n"
          ]
        },
        {
          "output_type": "stream",
          "name": "stdout",
          "text": [
            "Loaded https://samara-burenie.ru/\n",
            "1 88 Load result code 200 https://samara-burenie.ru/\n"
          ]
        },
        {
          "output_type": "stream",
          "name": "stderr",
          "text": [
            "/usr/local/lib/python3.10/dist-packages/urllib3/connectionpool.py:1056: InsecureRequestWarning: Unverified HTTPS request is being made to host 'xn--80anccgcwd3a3hra8a.xn--p1ai'. Adding certificate verification is strongly advised. See: https://urllib3.readthedocs.io/en/1.26.x/advanced-usage.html#ssl-warnings\n",
            "  warnings.warn(\n"
          ]
        },
        {
          "output_type": "stream",
          "name": "stdout",
          "text": [
            "Loaded https://xn--80anccgcwd3a3hra8a.xn--p1ai/proektirovanie-artezianskoj-skvazhiny/ekspluatatsiya-podzemnykh-vod/stroitelstvo-vodozabornyx-uzlov/burenie-skvazhiny-na-vodu\n",
            "1 89 Load result code 200 https://xn--80anccgcwd3a3hra8a.xn--p1ai/proektirovanie-artezianskoj-skvazhiny/ekspluatatsiya-podzemnykh-vod/stroitelstvo-vodozabornyx-uzlov/burenie-skvazhiny-na-vodu\n",
            "Loaded http://navodu.ru/burenie_skvazhin/\n",
            "1 90 Load result code 200 http://navodu.ru/burenie_skvazhin/\n"
          ]
        },
        {
          "output_type": "stream",
          "name": "stderr",
          "text": [
            "/usr/local/lib/python3.10/dist-packages/urllib3/connectionpool.py:1056: InsecureRequestWarning: Unverified HTTPS request is being made to host 'xn----8sbfkimkojgdvsm7l.xn--p1ai'. Adding certificate verification is strongly advised. See: https://urllib3.readthedocs.io/en/1.26.x/advanced-usage.html#ssl-warnings\n",
            "  warnings.warn(\n"
          ]
        },
        {
          "output_type": "stream",
          "name": "stdout",
          "text": [
            "Loaded https://xn----8sbfkimkojgdvsm7l.xn--p1ai/burenie-skvazhin\n",
            "1 91 Load result code 200 https://xn----8sbfkimkojgdvsm7l.xn--p1ai/burenie-skvazhin\n"
          ]
        },
        {
          "output_type": "stream",
          "name": "stderr",
          "text": [
            "/usr/local/lib/python3.10/dist-packages/urllib3/connectionpool.py:1056: InsecureRequestWarning: Unverified HTTPS request is being made to host 'akvahit.ru'. Adding certificate verification is strongly advised. See: https://urllib3.readthedocs.io/en/1.26.x/advanced-usage.html#ssl-warnings\n",
            "  warnings.warn(\n",
            "/usr/local/lib/python3.10/dist-packages/urllib3/connectionpool.py:1056: InsecureRequestWarning: Unverified HTTPS request is being made to host 'akvahit.ru'. Adding certificate verification is strongly advised. See: https://urllib3.readthedocs.io/en/1.26.x/advanced-usage.html#ssl-warnings\n",
            "  warnings.warn(\n"
          ]
        },
        {
          "output_type": "stream",
          "name": "stdout",
          "text": [
            "Loaded https://akvahit.ru/articles/samostoyatelnoe-burenie-skvazhiny-nasosom-bez-oborudovaniya-vozmozhno-li-eto/\n",
            "1 92 Load result code 200 https://akvahit.ru/articles/samostoyatelnoe-burenie-skvazhiny-nasosom-bez-oborudovaniya-vozmozhno-li-eto/\n"
          ]
        },
        {
          "output_type": "stream",
          "name": "stderr",
          "text": [
            "/usr/local/lib/python3.10/dist-packages/urllib3/connectionpool.py:1056: InsecureRequestWarning: Unverified HTTPS request is being made to host 'geo42.ru'. Adding certificate verification is strongly advised. See: https://urllib3.readthedocs.io/en/1.26.x/advanced-usage.html#ssl-warnings\n",
            "  warnings.warn(\n"
          ]
        },
        {
          "output_type": "stream",
          "name": "stdout",
          "text": [
            "Loaded https://geo42.ru/proizvodstvo-vodozabornykh-skvazhin\n",
            "1 93 Load result code 200 https://geo42.ru/proizvodstvo-vodozabornykh-skvazhin\n",
            "Loaded http://sibmegapolis.ru/vidy-rabot/burenie-skvazhin-na-vodu\n",
            "1 94 Load result code 200 http://sibmegapolis.ru/vidy-rabot/burenie-skvazhin-na-vodu\n"
          ]
        },
        {
          "output_type": "stream",
          "name": "stderr",
          "text": [
            "/usr/local/lib/python3.10/dist-packages/urllib3/connectionpool.py:1056: InsecureRequestWarning: Unverified HTTPS request is being made to host 'kimberia.ru'. Adding certificate verification is strongly advised. See: https://urllib3.readthedocs.io/en/1.26.x/advanced-usage.html#ssl-warnings\n",
            "  warnings.warn(\n"
          ]
        },
        {
          "output_type": "stream",
          "name": "stdout",
          "text": [
            "Loaded https://kimberia.ru/\n",
            "1 95 Load result code 200 https://kimberia.ru/\n"
          ]
        },
        {
          "output_type": "stream",
          "name": "stderr",
          "text": [
            "/usr/local/lib/python3.10/dist-packages/urllib3/connectionpool.py:1056: InsecureRequestWarning: Unverified HTTPS request is being made to host 'geology-krym.ru'. Adding certificate verification is strongly advised. See: https://urllib3.readthedocs.io/en/1.26.x/advanced-usage.html#ssl-warnings\n",
            "  warnings.warn(\n"
          ]
        },
        {
          "output_type": "stream",
          "name": "stdout",
          "text": [
            "Loaded https://geology-krym.ru/karotazhnoe-issledovanie-skvazhin/burenie-skvazhiny-na-vodu\n",
            "1 96 Load result code 200 https://geology-krym.ru/karotazhnoe-issledovanie-skvazhin/burenie-skvazhiny-na-vodu\n"
          ]
        },
        {
          "output_type": "stream",
          "name": "stderr",
          "text": [
            "/usr/local/lib/python3.10/dist-packages/urllib3/connectionpool.py:1056: InsecureRequestWarning: Unverified HTTPS request is being made to host 'topas-lobnya.ru'. Adding certificate verification is strongly advised. See: https://urllib3.readthedocs.io/en/1.26.x/advanced-usage.html#ssl-warnings\n",
            "  warnings.warn(\n"
          ]
        },
        {
          "output_type": "stream",
          "name": "stdout",
          "text": [
            "Loaded https://topas-lobnya.ru/burenie-skvazhin-na-vodu.html\n",
            "1 97 Load result code 200 https://topas-lobnya.ru/burenie-skvazhin-na-vodu.html\n"
          ]
        },
        {
          "output_type": "stream",
          "name": "stderr",
          "text": [
            "/usr/local/lib/python3.10/dist-packages/urllib3/connectionpool.py:1056: InsecureRequestWarning: Unverified HTTPS request is being made to host 'specpartner.ru'. Adding certificate verification is strongly advised. See: https://urllib3.readthedocs.io/en/1.26.x/advanced-usage.html#ssl-warnings\n",
            "  warnings.warn(\n"
          ]
        },
        {
          "output_type": "stream",
          "name": "stdout",
          "text": [
            "Loaded https://specpartner.ru/stroitelnye-uslugi/burenie-skvazhin-pod-vodu\n",
            "1 98 Load result code 200 https://specpartner.ru/stroitelnye-uslugi/burenie-skvazhin-pod-vodu\n"
          ]
        },
        {
          "output_type": "stream",
          "name": "stderr",
          "text": [
            "/usr/local/lib/python3.10/dist-packages/urllib3/connectionpool.py:1056: InsecureRequestWarning: Unverified HTTPS request is being made to host 'nashistok.ru'. Adding certificate verification is strongly advised. See: https://urllib3.readthedocs.io/en/1.26.x/advanced-usage.html#ssl-warnings\n",
            "  warnings.warn(\n"
          ]
        },
        {
          "output_type": "stream",
          "name": "stdout",
          "text": [
            "Loaded https://nashistok.ru/%D0%B1%D1%83%D1%80%D0%B5%D0%BD%D0%B8%D0%B5-%D1%81%D0%BA%D0%B2%D0%B0%D0%B6%D0%B8%D0%BD-%D0%BD%D0%B0-%D0%B2%D0%BE%D0%B4%D1%83-%D1%82%D0%B5%D0%BD%D0%B4%D0%B5%D0%BD%D1%86%D0%B8%D0%B8/\n",
            "1 99 Load result code 200 https://nashistok.ru/%D0%B1%D1%83%D1%80%D0%B5%D0%BD%D0%B8%D0%B5-%D1%81%D0%BA%D0%B2%D0%B0%D0%B6%D0%B8%D0%BD-%D0%BD%D0%B0-%D0%B2%D0%BE%D0%B4%D1%83-%D1%82%D0%B5%D0%BD%D0%B4%D0%B5%D0%BD%D1%86%D0%B8%D0%B8/\n"
          ]
        },
        {
          "output_type": "stream",
          "name": "stderr",
          "text": [
            "/usr/local/lib/python3.10/dist-packages/urllib3/connectionpool.py:1056: InsecureRequestWarning: Unverified HTTPS request is being made to host 'novokuzneck.da-elektrika.ru'. Adding certificate verification is strongly advised. See: https://urllib3.readthedocs.io/en/1.26.x/advanced-usage.html#ssl-warnings\n",
            "  warnings.warn(\n"
          ]
        },
        {
          "output_type": "stream",
          "name": "stdout",
          "text": [
            "Loaded https://novokuzneck.da-elektrika.ru/%D1%86%D0%B5%D0%BD%D1%8B\n",
            "2 0 Load result code 200 https://novokuzneck.da-elektrika.ru/%D1%86%D0%B5%D0%BD%D1%8B\n",
            "Loaded http://xn--42-6kcidl9bdw5b5g.xn--p1ai/\n",
            "2 1 Load result code 200 http://xn--42-6kcidl9bdw5b5g.xn--p1ai/\n"
          ]
        },
        {
          "output_type": "stream",
          "name": "stderr",
          "text": [
            "/usr/local/lib/python3.10/dist-packages/urllib3/connectionpool.py:1056: InsecureRequestWarning: Unverified HTTPS request is being made to host 'mes-elektrik.ru'. Adding certificate verification is strongly advised. See: https://urllib3.readthedocs.io/en/1.26.x/advanced-usage.html#ssl-warnings\n",
            "  warnings.warn(\n"
          ]
        },
        {
          "output_type": "stream",
          "name": "stdout",
          "text": [
            "Loaded https://mes-elektrik.ru/catalog/\n",
            "2 2 Load result code 200 https://mes-elektrik.ru/catalog/\n"
          ]
        },
        {
          "output_type": "stream",
          "name": "stderr",
          "text": [
            "/usr/local/lib/python3.10/dist-packages/urllib3/connectionpool.py:1056: InsecureRequestWarning: Unverified HTTPS request is being made to host 'mastera-profi.ru'. Adding certificate verification is strongly advised. See: https://urllib3.readthedocs.io/en/1.26.x/advanced-usage.html#ssl-warnings\n",
            "  warnings.warn(\n"
          ]
        },
        {
          "output_type": "stream",
          "name": "stdout",
          "text": [
            "Loaded https://mastera-profi.ru/elektrik/\n",
            "2 3 Load result code 200 https://mastera-profi.ru/elektrik/\n"
          ]
        },
        {
          "output_type": "stream",
          "name": "stderr",
          "text": [
            "/usr/local/lib/python3.10/dist-packages/urllib3/connectionpool.py:1056: InsecureRequestWarning: Unverified HTTPS request is being made to host 'domashniy-masterok.ru'. Adding certificate verification is strongly advised. See: https://urllib3.readthedocs.io/en/1.26.x/advanced-usage.html#ssl-warnings\n",
            "  warnings.warn(\n"
          ]
        },
        {
          "output_type": "stream",
          "name": "stdout",
          "text": [
            "Loaded https://domashniy-masterok.ru/uslugi-elektrika/\n",
            "2 4 Load result code 200 https://domashniy-masterok.ru/uslugi-elektrika/\n"
          ]
        },
        {
          "output_type": "stream",
          "name": "stderr",
          "text": [
            "/usr/local/lib/python3.10/dist-packages/urllib3/connectionpool.py:1056: InsecureRequestWarning: Unverified HTTPS request is being made to host 'xn--80aaprlweeck.xn--p1ai'. Adding certificate verification is strongly advised. See: https://urllib3.readthedocs.io/en/1.26.x/advanced-usage.html#ssl-warnings\n",
            "  warnings.warn(\n"
          ]
        },
        {
          "output_type": "stream",
          "name": "stdout",
          "text": [
            "Loaded https://xn--80aaprlweeck.xn--p1ai/services/uslugi-jelektrika/\n",
            "2 5 Load result code 200 https://xn--80aaprlweeck.xn--p1ai/services/uslugi-jelektrika/\n"
          ]
        },
        {
          "output_type": "stream",
          "name": "stderr",
          "text": [
            "/usr/local/lib/python3.10/dist-packages/urllib3/connectionpool.py:1056: InsecureRequestWarning: Unverified HTTPS request is being made to host 'yakutsk.gor-master.ru'. Adding certificate verification is strongly advised. See: https://urllib3.readthedocs.io/en/1.26.x/advanced-usage.html#ssl-warnings\n",
            "  warnings.warn(\n"
          ]
        },
        {
          "output_type": "stream",
          "name": "stdout",
          "text": [
            "Loaded https://yakutsk.gor-master.ru/uslugi-elektrika\n",
            "2 6 Load result code 200 https://yakutsk.gor-master.ru/uslugi-elektrika\n"
          ]
        },
        {
          "output_type": "stream",
          "name": "stderr",
          "text": [
            "/usr/local/lib/python3.10/dist-packages/urllib3/connectionpool.py:1056: InsecureRequestWarning: Unverified HTTPS request is being made to host 'servicemaster74.ru'. Adding certificate verification is strongly advised. See: https://urllib3.readthedocs.io/en/1.26.x/advanced-usage.html#ssl-warnings\n",
            "  warnings.warn(\n"
          ]
        },
        {
          "output_type": "stream",
          "name": "stdout",
          "text": [
            "Loaded https://servicemaster74.ru/uslugi-elektrika-v-chelyabinske/\n",
            "2 7 Load result code 200 https://servicemaster74.ru/uslugi-elektrika-v-chelyabinske/\n"
          ]
        },
        {
          "output_type": "stream",
          "name": "stderr",
          "text": [
            "/usr/local/lib/python3.10/dist-packages/urllib3/connectionpool.py:1056: InsecureRequestWarning: Unverified HTTPS request is being made to host 'www.masterovoj66.ru'. Adding certificate verification is strongly advised. See: https://urllib3.readthedocs.io/en/1.26.x/advanced-usage.html#ssl-warnings\n",
            "  warnings.warn(\n"
          ]
        },
        {
          "output_type": "stream",
          "name": "stdout",
          "text": [
            "Loaded https://www.masterovoj66.ru/%D0%B2%D1%8B%D0%B7%D0%BE%D0%B2-%D1%8D%D0%BB%D0%B5%D0%BA%D1%82%D1%80%D0%B8%D0%BA%D0%B0-%D0%BD%D0%B0-%D0%B4%D0%BE%D0%BC-%D0%B2-%D0%B5%D0%BA%D0%B0%D1%82%D0%B5%D1%80%D0%B8%D0%BD%D0%B1%D1%83%D1%80%D0%B3%D0%B5/\n",
            "2 8 Load result code 200 https://www.masterovoj66.ru/%D0%B2%D1%8B%D0%B7%D0%BE%D0%B2-%D1%8D%D0%BB%D0%B5%D0%BA%D1%82%D1%80%D0%B8%D0%BA%D0%B0-%D0%BD%D0%B0-%D0%B4%D0%BE%D0%BC-%D0%B2-%D0%B5%D0%BA%D0%B0%D1%82%D0%B5%D1%80%D0%B8%D0%BD%D0%B1%D1%83%D1%80%D0%B3%D0%B5/\n",
            "Loaded http://electrik70.ru/\n",
            "2 9 Load result code 200 http://electrik70.ru/\n"
          ]
        },
        {
          "output_type": "stream",
          "name": "stderr",
          "text": [
            "/usr/local/lib/python3.10/dist-packages/urllib3/connectionpool.py:1056: InsecureRequestWarning: Unverified HTTPS request is being made to host 'dom-servis39.ru'. Adding certificate verification is strongly advised. See: https://urllib3.readthedocs.io/en/1.26.x/advanced-usage.html#ssl-warnings\n",
            "  warnings.warn(\n"
          ]
        },
        {
          "output_type": "stream",
          "name": "stdout",
          "text": [
            "Loaded https://dom-servis39.ru/domashniy-master/uslugi-elektrika-v-kaliningrade.html\n",
            "2 10 Load result code 200 https://dom-servis39.ru/domashniy-master/uslugi-elektrika-v-kaliningrade.html\n",
            "Load error exception\n",
            "2 11 Load result code -1 https://remontnik42.ru/\n"
          ]
        },
        {
          "output_type": "stream",
          "name": "stderr",
          "text": [
            "/usr/local/lib/python3.10/dist-packages/urllib3/connectionpool.py:1056: InsecureRequestWarning: Unverified HTTPS request is being made to host 'elektrikru.ru'. Adding certificate verification is strongly advised. See: https://urllib3.readthedocs.io/en/1.26.x/advanced-usage.html#ssl-warnings\n",
            "  warnings.warn(\n"
          ]
        },
        {
          "output_type": "stream",
          "name": "stdout",
          "text": [
            "Loaded https://elektrikru.ru/\n",
            "2 12 Load result code 200 https://elektrikru.ru/\n",
            "Loaded http://www.elektrik-na-dom-vizov.ru/\n",
            "2 13 Load result code 200 http://www.elektrik-na-dom-vizov.ru/\n"
          ]
        },
        {
          "output_type": "stream",
          "name": "stderr",
          "text": [
            "/usr/local/lib/python3.10/dist-packages/urllib3/connectionpool.py:1056: InsecureRequestWarning: Unverified HTTPS request is being made to host 'novokuznetsk.dom-electric.ru'. Adding certificate verification is strongly advised. See: https://urllib3.readthedocs.io/en/1.26.x/advanced-usage.html#ssl-warnings\n",
            "  warnings.warn(\n"
          ]
        },
        {
          "output_type": "stream",
          "name": "stdout",
          "text": [
            "Loaded https://novokuznetsk.dom-electric.ru/price\n",
            "2 14 Load result code 200 https://novokuznetsk.dom-electric.ru/price\n"
          ]
        },
        {
          "output_type": "stream",
          "name": "stderr",
          "text": [
            "/usr/local/lib/python3.10/dist-packages/urllib3/connectionpool.py:1056: InsecureRequestWarning: Unverified HTTPS request is being made to host 'novokuznetsk.electric-doma.ru'. Adding certificate verification is strongly advised. See: https://urllib3.readthedocs.io/en/1.26.x/advanced-usage.html#ssl-warnings\n",
            "  warnings.warn(\n"
          ]
        },
        {
          "output_type": "stream",
          "name": "stdout",
          "text": [
            "Loaded https://novokuznetsk.electric-doma.ru/\n",
            "2 15 Load result code 200 https://novokuznetsk.electric-doma.ru/\n"
          ]
        },
        {
          "output_type": "stream",
          "name": "stderr",
          "text": [
            "/usr/local/lib/python3.10/dist-packages/urllib3/connectionpool.py:1056: InsecureRequestWarning: Unverified HTTPS request is being made to host 'elektrik-surgut-86.ru'. Adding certificate verification is strongly advised. See: https://urllib3.readthedocs.io/en/1.26.x/advanced-usage.html#ssl-warnings\n",
            "  warnings.warn(\n"
          ]
        },
        {
          "output_type": "stream",
          "name": "stdout",
          "text": [
            "Loaded https://elektrik-surgut-86.ru/\n",
            "2 16 Load result code 200 https://elektrik-surgut-86.ru/\n"
          ]
        },
        {
          "output_type": "stream",
          "name": "stderr",
          "text": [
            "/usr/local/lib/python3.10/dist-packages/urllib3/connectionpool.py:1056: InsecureRequestWarning: Unverified HTTPS request is being made to host 'xn----7sbbtsuhhpgng.xn--p1ai'. Adding certificate verification is strongly advised. See: https://urllib3.readthedocs.io/en/1.26.x/advanced-usage.html#ssl-warnings\n",
            "  warnings.warn(\n"
          ]
        },
        {
          "output_type": "stream",
          "name": "stdout",
          "text": [
            "Loaded https://xn----7sbbtsuhhpgng.xn--p1ai/elektrik-krasnoyarsk\n",
            "2 17 Load result code 200 https://xn----7sbbtsuhhpgng.xn--p1ai/elektrik-krasnoyarsk\n"
          ]
        },
        {
          "output_type": "stream",
          "name": "stderr",
          "text": [
            "/usr/local/lib/python3.10/dist-packages/urllib3/connectionpool.py:1056: InsecureRequestWarning: Unverified HTTPS request is being made to host 'remzak.ru'. Adding certificate verification is strongly advised. See: https://urllib3.readthedocs.io/en/1.26.x/advanced-usage.html#ssl-warnings\n",
            "  warnings.warn(\n"
          ]
        },
        {
          "output_type": "stream",
          "name": "stdout",
          "text": [
            "Loaded https://remzak.ru/uslugy-elektrika\n",
            "2 18 Load result code 200 https://remzak.ru/uslugy-elektrika\n"
          ]
        },
        {
          "output_type": "stream",
          "name": "stderr",
          "text": [
            "/usr/local/lib/python3.10/dist-packages/urllib3/connectionpool.py:1056: InsecureRequestWarning: Unverified HTTPS request is being made to host 'elektrik-srochno.ru'. Adding certificate verification is strongly advised. See: https://urllib3.readthedocs.io/en/1.26.x/advanced-usage.html#ssl-warnings\n",
            "  warnings.warn(\n"
          ]
        },
        {
          "output_type": "stream",
          "name": "stdout",
          "text": [
            "Loaded https://elektrik-srochno.ru/elektrik-himki/\n",
            "2 19 Load result code 200 https://elektrik-srochno.ru/elektrik-himki/\n"
          ]
        },
        {
          "output_type": "stream",
          "name": "stderr",
          "text": [
            "/usr/local/lib/python3.10/dist-packages/urllib3/connectionpool.py:1056: InsecureRequestWarning: Unverified HTTPS request is being made to host 'www.electrikman.ru'. Adding certificate verification is strongly advised. See: https://urllib3.readthedocs.io/en/1.26.x/advanced-usage.html#ssl-warnings\n",
            "  warnings.warn(\n"
          ]
        },
        {
          "output_type": "stream",
          "name": "stdout",
          "text": [
            "Loaded https://www.electrikman.ru/\n",
            "2 20 Load result code 200 https://www.electrikman.ru/\n"
          ]
        },
        {
          "output_type": "stream",
          "name": "stderr",
          "text": [
            "/usr/local/lib/python3.10/dist-packages/urllib3/connectionpool.py:1056: InsecureRequestWarning: Unverified HTTPS request is being made to host 'xn--c1aaceockkwavod1ac.xn--p1ai'. Adding certificate verification is strongly advised. See: https://urllib3.readthedocs.io/en/1.26.x/advanced-usage.html#ssl-warnings\n",
            "  warnings.warn(\n",
            "/usr/local/lib/python3.10/dist-packages/urllib3/connectionpool.py:1056: InsecureRequestWarning: Unverified HTTPS request is being made to host 'bossdom.ru'. Adding certificate verification is strongly advised. See: https://urllib3.readthedocs.io/en/1.26.x/advanced-usage.html#ssl-warnings\n",
            "  warnings.warn(\n"
          ]
        },
        {
          "output_type": "stream",
          "name": "stdout",
          "text": [
            "Loaded https://xn--c1aaceockkwavod1ac.xn--p1ai/sfera-uslug/uslugi-elektrika-obzor-ceny-na-elektromontazhnye-raboty/\n",
            "2 21 Load result code 200 https://xn--c1aaceockkwavod1ac.xn--p1ai/sfera-uslug/uslugi-elektrika-obzor-ceny-na-elektromontazhnye-raboty/\n"
          ]
        },
        {
          "output_type": "stream",
          "name": "stderr",
          "text": [
            "/usr/local/lib/python3.10/dist-packages/urllib3/connectionpool.py:1056: InsecureRequestWarning: Unverified HTTPS request is being made to host 'elektrikkazan.com'. Adding certificate verification is strongly advised. See: https://urllib3.readthedocs.io/en/1.26.x/advanced-usage.html#ssl-warnings\n",
            "  warnings.warn(\n"
          ]
        },
        {
          "output_type": "stream",
          "name": "stdout",
          "text": [
            "Loaded https://elektrikkazan.com/\n",
            "2 22 Load result code 200 https://elektrikkazan.com/\n"
          ]
        },
        {
          "output_type": "stream",
          "name": "stderr",
          "text": [
            "/usr/local/lib/python3.10/dist-packages/urllib3/connectionpool.py:1056: InsecureRequestWarning: Unverified HTTPS request is being made to host 'www.elektrik-novokuzneck.ru'. Adding certificate verification is strongly advised. See: https://urllib3.readthedocs.io/en/1.26.x/advanced-usage.html#ssl-warnings\n",
            "  warnings.warn(\n"
          ]
        },
        {
          "output_type": "stream",
          "name": "stdout",
          "text": [
            "Loaded https://www.elektrik-novokuzneck.ru/\n",
            "2 23 Load result code 200 https://www.elektrik-novokuzneck.ru/\n"
          ]
        },
        {
          "output_type": "stream",
          "name": "stderr",
          "text": [
            "/usr/local/lib/python3.10/dist-packages/urllib3/connectionpool.py:1056: InsecureRequestWarning: Unverified HTTPS request is being made to host 'j-elektrik.ru'. Adding certificate verification is strongly advised. See: https://urllib3.readthedocs.io/en/1.26.x/advanced-usage.html#ssl-warnings\n",
            "  warnings.warn(\n"
          ]
        },
        {
          "output_type": "stream",
          "name": "stdout",
          "text": [
            "Loaded https://j-elektrik.ru/stati/uslugi-elektrika-na-territorii-moskvy-i-podmoskovya/\n",
            "2 24 Load result code 200 https://j-elektrik.ru/stati/uslugi-elektrika-na-territorii-moskvy-i-podmoskovya/\n"
          ]
        },
        {
          "output_type": "stream",
          "name": "stderr",
          "text": [
            "/usr/local/lib/python3.10/dist-packages/urllib3/connectionpool.py:1056: InsecureRequestWarning: Unverified HTTPS request is being made to host 'mes-elektrik.ru'. Adding certificate verification is strongly advised. See: https://urllib3.readthedocs.io/en/1.26.x/advanced-usage.html#ssl-warnings\n",
            "  warnings.warn(\n"
          ]
        },
        {
          "output_type": "stream",
          "name": "stdout",
          "text": [
            "Loaded https://mes-elektrik.ru/about/\n",
            "2 25 Load result code 200 https://mes-elektrik.ru/about/\n"
          ]
        },
        {
          "output_type": "stream",
          "name": "stderr",
          "text": [
            "/usr/local/lib/python3.10/dist-packages/urllib3/connectionpool.py:1056: InsecureRequestWarning: Unverified HTTPS request is being made to host 'uslugi-elektriki.ru'. Adding certificate verification is strongly advised. See: https://urllib3.readthedocs.io/en/1.26.x/advanced-usage.html#ssl-warnings\n",
            "  warnings.warn(\n"
          ]
        },
        {
          "output_type": "stream",
          "name": "stdout",
          "text": [
            "Loaded https://uslugi-elektriki.ru/\n",
            "2 26 Load result code 200 https://uslugi-elektriki.ru/\n"
          ]
        },
        {
          "output_type": "stream",
          "name": "stderr",
          "text": [
            "/usr/local/lib/python3.10/dist-packages/urllib3/connectionpool.py:1056: InsecureRequestWarning: Unverified HTTPS request is being made to host 'dvaelektrika.ru'. Adding certificate verification is strongly advised. See: https://urllib3.readthedocs.io/en/1.26.x/advanced-usage.html#ssl-warnings\n",
            "  warnings.warn(\n"
          ]
        },
        {
          "output_type": "stream",
          "name": "stdout",
          "text": [
            "Loaded https://dvaelektrika.ru/\n",
            "2 27 Load result code 200 https://dvaelektrika.ru/\n"
          ]
        },
        {
          "output_type": "stream",
          "name": "stderr",
          "text": [
            "/usr/local/lib/python3.10/dist-packages/urllib3/connectionpool.py:1056: InsecureRequestWarning: Unverified HTTPS request is being made to host '0220.ru'. Adding certificate verification is strongly advised. See: https://urllib3.readthedocs.io/en/1.26.x/advanced-usage.html#ssl-warnings\n",
            "  warnings.warn(\n"
          ]
        },
        {
          "output_type": "stream",
          "name": "stdout",
          "text": [
            "Loaded https://0220.ru/\n",
            "2 28 Load result code 200 https://0220.ru/\n"
          ]
        },
        {
          "output_type": "stream",
          "name": "stderr",
          "text": [
            "/usr/local/lib/python3.10/dist-packages/urllib3/connectionpool.py:1056: InsecureRequestWarning: Unverified HTTPS request is being made to host 'xn--74-6kcusrbowil.xn--p1ai'. Adding certificate verification is strongly advised. See: https://urllib3.readthedocs.io/en/1.26.x/advanced-usage.html#ssl-warnings\n",
            "  warnings.warn(\n"
          ]
        },
        {
          "output_type": "stream",
          "name": "stdout",
          "text": [
            "Loaded https://xn--74-6kcusrbowil.xn--p1ai/uslugi/ehlektromontaqnye_raboty/\n",
            "2 29 Load result code 200 https://xn--74-6kcusrbowil.xn--p1ai/uslugi/ehlektromontaqnye_raboty/\n"
          ]
        },
        {
          "output_type": "stream",
          "name": "stderr",
          "text": [
            "/usr/local/lib/python3.10/dist-packages/urllib3/connectionpool.py:1056: InsecureRequestWarning: Unverified HTTPS request is being made to host 'tek82.ru'. Adding certificate verification is strongly advised. See: https://urllib3.readthedocs.io/en/1.26.x/advanced-usage.html#ssl-warnings\n",
            "  warnings.warn(\n"
          ]
        },
        {
          "output_type": "stream",
          "name": "stdout",
          "text": [
            "Loaded https://tek82.ru/uslugi-elektrika/\n",
            "2 30 Load result code 200 https://tek82.ru/uslugi-elektrika/\n"
          ]
        },
        {
          "output_type": "stream",
          "name": "stderr",
          "text": [
            "/usr/local/lib/python3.10/dist-packages/urllib3/connectionpool.py:1056: InsecureRequestWarning: Unverified HTTPS request is being made to host 'electric63.ru'. Adding certificate verification is strongly advised. See: https://urllib3.readthedocs.io/en/1.26.x/advanced-usage.html#ssl-warnings\n",
            "  warnings.warn(\n"
          ]
        },
        {
          "output_type": "stream",
          "name": "stdout",
          "text": [
            "Loaded https://electric63.ru/\n",
            "2 31 Load result code 200 https://electric63.ru/\n"
          ]
        },
        {
          "output_type": "stream",
          "name": "stderr",
          "text": [
            "/usr/local/lib/python3.10/dist-packages/urllib3/connectionpool.py:1056: InsecureRequestWarning: Unverified HTTPS request is being made to host 'elektrikru.ru'. Adding certificate verification is strongly advised. See: https://urllib3.readthedocs.io/en/1.26.x/advanced-usage.html#ssl-warnings\n",
            "  warnings.warn(\n"
          ]
        },
        {
          "output_type": "stream",
          "name": "stdout",
          "text": [
            "Loaded https://elektrikru.ru/\n",
            "2 32 Load result code 200 https://elektrikru.ru/\n"
          ]
        },
        {
          "output_type": "stream",
          "name": "stderr",
          "text": [
            "/usr/local/lib/python3.10/dist-packages/urllib3/connectionpool.py:1056: InsecureRequestWarning: Unverified HTTPS request is being made to host 'electric-vologda.ru'. Adding certificate verification is strongly advised. See: https://urllib3.readthedocs.io/en/1.26.x/advanced-usage.html#ssl-warnings\n",
            "  warnings.warn(\n"
          ]
        },
        {
          "output_type": "stream",
          "name": "stdout",
          "text": [
            "Loaded https://electric-vologda.ru/\n",
            "2 33 Load result code 200 https://electric-vologda.ru/\n"
          ]
        },
        {
          "output_type": "stream",
          "name": "stderr",
          "text": [
            "/usr/local/lib/python3.10/dist-packages/urllib3/connectionpool.py:1056: InsecureRequestWarning: Unverified HTTPS request is being made to host 'yakutsk.gor-master.ru'. Adding certificate verification is strongly advised. See: https://urllib3.readthedocs.io/en/1.26.x/advanced-usage.html#ssl-warnings\n",
            "  warnings.warn(\n"
          ]
        },
        {
          "output_type": "stream",
          "name": "stdout",
          "text": [
            "Loaded https://yakutsk.gor-master.ru/uslugi-elektrika\n",
            "2 34 Load result code 200 https://yakutsk.gor-master.ru/uslugi-elektrika\n"
          ]
        },
        {
          "output_type": "stream",
          "name": "stderr",
          "text": [
            "/usr/local/lib/python3.10/dist-packages/urllib3/connectionpool.py:1056: InsecureRequestWarning: Unverified HTTPS request is being made to host 'xn--80aaprlweeck.xn--p1ai'. Adding certificate verification is strongly advised. See: https://urllib3.readthedocs.io/en/1.26.x/advanced-usage.html#ssl-warnings\n",
            "  warnings.warn(\n"
          ]
        },
        {
          "output_type": "stream",
          "name": "stdout",
          "text": [
            "Loaded https://xn--80aaprlweeck.xn--p1ai/services/uslugi-jelektrika/\n",
            "2 35 Load result code 200 https://xn--80aaprlweeck.xn--p1ai/services/uslugi-jelektrika/\n"
          ]
        },
        {
          "output_type": "stream",
          "name": "stderr",
          "text": [
            "/usr/local/lib/python3.10/dist-packages/urllib3/connectionpool.py:1056: InsecureRequestWarning: Unverified HTTPS request is being made to host 'xn----7sbbljqejpddjkjgi1b0s.xn--p1ai'. Adding certificate verification is strongly advised. See: https://urllib3.readthedocs.io/en/1.26.x/advanced-usage.html#ssl-warnings\n",
            "  warnings.warn(\n"
          ]
        },
        {
          "output_type": "stream",
          "name": "stdout",
          "text": [
            "Loaded https://xn----7sbbljqejpddjkjgi1b0s.xn--p1ai/%D1%80%D0%B5%D0%BC%D0%BE%D0%BD%D1%82-%D0%BA%D0%B2%D0%B0%D1%80%D1%82%D0%B8%D1%80/%D1%8D%D0%BB%D0%B5%D0%BA%D1%82%D1%80%D0%B8%D0%BA/\n",
            "2 36 Load result code 200 https://xn----7sbbljqejpddjkjgi1b0s.xn--p1ai/%D1%80%D0%B5%D0%BC%D0%BE%D0%BD%D1%82-%D0%BA%D0%B2%D0%B0%D1%80%D1%82%D0%B8%D1%80/%D1%8D%D0%BB%D0%B5%D0%BA%D1%82%D1%80%D0%B8%D0%BA/\n"
          ]
        },
        {
          "output_type": "stream",
          "name": "stderr",
          "text": [
            "/usr/local/lib/python3.10/dist-packages/urllib3/connectionpool.py:1056: InsecureRequestWarning: Unverified HTTPS request is being made to host 'dom-servis39.ru'. Adding certificate verification is strongly advised. See: https://urllib3.readthedocs.io/en/1.26.x/advanced-usage.html#ssl-warnings\n",
            "  warnings.warn(\n"
          ]
        },
        {
          "output_type": "stream",
          "name": "stdout",
          "text": [
            "Loaded https://dom-servis39.ru/domashniy-master/uslugi-elektrika-v-kaliningrade.html\n",
            "2 37 Load result code 200 https://dom-servis39.ru/domashniy-master/uslugi-elektrika-v-kaliningrade.html\n"
          ]
        },
        {
          "output_type": "stream",
          "name": "stderr",
          "text": [
            "/usr/local/lib/python3.10/dist-packages/urllib3/connectionpool.py:1056: InsecureRequestWarning: Unverified HTTPS request is being made to host 'xn--e1agfbb6an8f.org'. Adding certificate verification is strongly advised. See: https://urllib3.readthedocs.io/en/1.26.x/advanced-usage.html#ssl-warnings\n",
            "  warnings.warn(\n"
          ]
        },
        {
          "output_type": "stream",
          "name": "stdout",
          "text": [
            "Loaded https://xn--e1agfbb6an8f.org/\n",
            "2 38 Load result code 200 https://xn--e1agfbb6an8f.org/\n"
          ]
        },
        {
          "output_type": "stream",
          "name": "stderr",
          "text": [
            "/usr/local/lib/python3.10/dist-packages/urllib3/connectionpool.py:1056: InsecureRequestWarning: Unverified HTTPS request is being made to host 'www.peterburg-service.ru'. Adding certificate verification is strongly advised. See: https://urllib3.readthedocs.io/en/1.26.x/advanced-usage.html#ssl-warnings\n",
            "  warnings.warn(\n"
          ]
        },
        {
          "output_type": "stream",
          "name": "stdout",
          "text": [
            "Loaded https://www.peterburg-service.ru/services/electro/vizov_elektrika.html\n",
            "2 39 Load result code 200 https://www.peterburg-service.ru/services/electro/vizov_elektrika.html\n"
          ]
        },
        {
          "output_type": "stream",
          "name": "stderr",
          "text": [
            "/usr/local/lib/python3.10/dist-packages/urllib3/connectionpool.py:1056: InsecureRequestWarning: Unverified HTTPS request is being made to host 'uslugi-elektrika-spb.ru'. Adding certificate verification is strongly advised. See: https://urllib3.readthedocs.io/en/1.26.x/advanced-usage.html#ssl-warnings\n",
            "  warnings.warn(\n"
          ]
        },
        {
          "output_type": "stream",
          "name": "stdout",
          "text": [
            "Loaded https://uslugi-elektrika-spb.ru/\n",
            "2 40 Load result code 200 https://uslugi-elektrika-spb.ru/\n"
          ]
        },
        {
          "output_type": "stream",
          "name": "stderr",
          "text": [
            "/usr/local/lib/python3.10/dist-packages/urllib3/connectionpool.py:1056: InsecureRequestWarning: Unverified HTTPS request is being made to host 'www.elektrik-na-dom-spb.com'. Adding certificate verification is strongly advised. See: https://urllib3.readthedocs.io/en/1.26.x/advanced-usage.html#ssl-warnings\n",
            "  warnings.warn(\n"
          ]
        },
        {
          "output_type": "stream",
          "name": "stdout",
          "text": [
            "Loaded https://www.elektrik-na-dom-spb.com/index/stoimost-rabot/0-9\n",
            "2 41 Load result code 200 https://www.elektrik-na-dom-spb.com/index/stoimost-rabot/0-9\n",
            "Loaded http://electrik70.ru/\n",
            "2 42 Load result code 200 http://electrik70.ru/\n"
          ]
        },
        {
          "output_type": "stream",
          "name": "stderr",
          "text": [
            "/usr/local/lib/python3.10/dist-packages/urllib3/connectionpool.py:1056: InsecureRequestWarning: Unverified HTTPS request is being made to host 'master-220.ru'. Adding certificate verification is strongly advised. See: https://urllib3.readthedocs.io/en/1.26.x/advanced-usage.html#ssl-warnings\n",
            "  warnings.warn(\n"
          ]
        },
        {
          "output_type": "stream",
          "name": "stdout",
          "text": [
            "Loaded https://master-220.ru/index.php?page=prise-elektrika\n",
            "2 43 Load result code 200 https://master-220.ru/index.php?page=prise-elektrika\n",
            "Load error https://remo152.ru/uslugi/electro_electrik.php 403\n",
            "2 44 Load result code 403 https://remo152.ru/uslugi/electro_electrik.php\n"
          ]
        },
        {
          "output_type": "stream",
          "name": "stderr",
          "text": [
            "/usr/local/lib/python3.10/dist-packages/urllib3/connectionpool.py:1056: InsecureRequestWarning: Unverified HTTPS request is being made to host 'remo152.ru'. Adding certificate verification is strongly advised. See: https://urllib3.readthedocs.io/en/1.26.x/advanced-usage.html#ssl-warnings\n",
            "  warnings.warn(\n",
            "/usr/local/lib/python3.10/dist-packages/urllib3/connectionpool.py:1056: InsecureRequestWarning: Unverified HTTPS request is being made to host 'remo66.ru'. Adding certificate verification is strongly advised. See: https://urllib3.readthedocs.io/en/1.26.x/advanced-usage.html#ssl-warnings\n",
            "  warnings.warn(\n"
          ]
        },
        {
          "output_type": "stream",
          "name": "stdout",
          "text": [
            "Load error https://remo66.ru/uslugi/electro_electrik.php 403\n",
            "2 45 Load result code 403 https://remo66.ru/uslugi/electro_electrik.php\n"
          ]
        },
        {
          "output_type": "stream",
          "name": "stderr",
          "text": [
            "/usr/local/lib/python3.10/dist-packages/urllib3/connectionpool.py:1056: InsecureRequestWarning: Unverified HTTPS request is being made to host 'otdelka36.com'. Adding certificate verification is strongly advised. See: https://urllib3.readthedocs.io/en/1.26.x/advanced-usage.html#ssl-warnings\n",
            "  warnings.warn(\n"
          ]
        },
        {
          "output_type": "stream",
          "name": "stdout",
          "text": [
            "Loaded https://otdelka36.com/uslugi-elektrika-voronezh-cena\n",
            "2 46 Load result code 200 https://otdelka36.com/uslugi-elektrika-voronezh-cena\n"
          ]
        },
        {
          "output_type": "stream",
          "name": "stderr",
          "text": [
            "/usr/local/lib/python3.10/dist-packages/urllib3/connectionpool.py:1056: InsecureRequestWarning: Unverified HTTPS request is being made to host 'mos-tok.ru'. Adding certificate verification is strongly advised. See: https://urllib3.readthedocs.io/en/1.26.x/advanced-usage.html#ssl-warnings\n",
            "  warnings.warn(\n"
          ]
        },
        {
          "output_type": "stream",
          "name": "stdout",
          "text": [
            "Loaded https://mos-tok.ru/\n",
            "2 47 Load result code 200 https://mos-tok.ru/\n"
          ]
        },
        {
          "output_type": "stream",
          "name": "stderr",
          "text": [
            "/usr/local/lib/python3.10/dist-packages/urllib3/connectionpool.py:1056: InsecureRequestWarning: Unverified HTTPS request is being made to host 'remont-kv.com'. Adding certificate verification is strongly advised. See: https://urllib3.readthedocs.io/en/1.26.x/advanced-usage.html#ssl-warnings\n",
            "  warnings.warn(\n"
          ]
        },
        {
          "output_type": "stream",
          "name": "stdout",
          "text": [
            "Loaded https://remont-kv.com/yslygi/yslygi-elektrika/\n",
            "2 48 Load result code 200 https://remont-kv.com/yslygi/yslygi-elektrika/\n"
          ]
        },
        {
          "output_type": "stream",
          "name": "stderr",
          "text": [
            "/usr/local/lib/python3.10/dist-packages/urllib3/connectionpool.py:1056: InsecureRequestWarning: Unverified HTTPS request is being made to host 'home-electric.ru'. Adding certificate verification is strongly advised. See: https://urllib3.readthedocs.io/en/1.26.x/advanced-usage.html#ssl-warnings\n",
            "  warnings.warn(\n"
          ]
        },
        {
          "output_type": "stream",
          "name": "stdout",
          "text": [
            "Loaded https://home-electric.ru/price/\n",
            "2 49 Load result code 200 https://home-electric.ru/price/\n",
            "Loaded http://elektriki33.ru/\n",
            "2 50 Load result code 200 http://elektriki33.ru/\n"
          ]
        },
        {
          "output_type": "stream",
          "name": "stderr",
          "text": [
            "/usr/local/lib/python3.10/dist-packages/urllib3/connectionpool.py:1056: InsecureRequestWarning: Unverified HTTPS request is being made to host 'itv-nn.ru'. Adding certificate verification is strongly advised. See: https://urllib3.readthedocs.io/en/1.26.x/advanced-usage.html#ssl-warnings\n",
            "  warnings.warn(\n"
          ]
        },
        {
          "output_type": "stream",
          "name": "stdout",
          "text": [
            "Loaded https://itv-nn.ru/elektromontazhnye-raboty/uslugi-elektrika/\n",
            "2 51 Load result code 200 https://itv-nn.ru/elektromontazhnye-raboty/uslugi-elektrika/\n"
          ]
        },
        {
          "output_type": "stream",
          "name": "stderr",
          "text": [
            "/usr/local/lib/python3.10/dist-packages/urllib3/connectionpool.py:1056: InsecureRequestWarning: Unverified HTTPS request is being made to host 'tvoimaster.by'. Adding certificate verification is strongly advised. See: https://urllib3.readthedocs.io/en/1.26.x/advanced-usage.html#ssl-warnings\n",
            "  warnings.warn(\n"
          ]
        },
        {
          "output_type": "stream",
          "name": "stdout",
          "text": [
            "Loaded https://tvoimaster.by/nashi-uslugi/elektromontazhnye-raboty\n",
            "2 52 Load result code 200 https://tvoimaster.by/nashi-uslugi/elektromontazhnye-raboty\n",
            "Loaded http://raduga-servicedzr.ru/index/uslugi_ehlektrika_v_dzerzhinske/0-74\n",
            "2 53 Load result code 200 http://raduga-servicedzr.ru/index/uslugi_ehlektrika_v_dzerzhinske/0-74\n"
          ]
        },
        {
          "output_type": "stream",
          "name": "stderr",
          "text": [
            "/usr/local/lib/python3.10/dist-packages/urllib3/connectionpool.py:1056: InsecureRequestWarning: Unverified HTTPS request is being made to host 'remo116.ru'. Adding certificate verification is strongly advised. See: https://urllib3.readthedocs.io/en/1.26.x/advanced-usage.html#ssl-warnings\n",
            "  warnings.warn(\n",
            "/usr/local/lib/python3.10/dist-packages/urllib3/connectionpool.py:1056: InsecureRequestWarning: Unverified HTTPS request is being made to host 'remontnn.ru'. Adding certificate verification is strongly advised. See: https://urllib3.readthedocs.io/en/1.26.x/advanced-usage.html#ssl-warnings\n",
            "  warnings.warn(\n"
          ]
        },
        {
          "output_type": "stream",
          "name": "stdout",
          "text": [
            "Load error https://remo116.ru/uslugi/electro_electrik.php 403\n",
            "2 54 Load result code 403 https://remo116.ru/uslugi/electro_electrik.php\n",
            "Loaded https://remontnn.ru/uslugi/elektrotehnicheskie-raboty\n",
            "2 55 Load result code 200 https://remontnn.ru/uslugi/elektrotehnicheskie-raboty\n"
          ]
        },
        {
          "output_type": "stream",
          "name": "stderr",
          "text": [
            "/usr/local/lib/python3.10/dist-packages/urllib3/connectionpool.py:1056: InsecureRequestWarning: Unverified HTTPS request is being made to host 'remzak.ru'. Adding certificate verification is strongly advised. See: https://urllib3.readthedocs.io/en/1.26.x/advanced-usage.html#ssl-warnings\n",
            "  warnings.warn(\n"
          ]
        },
        {
          "output_type": "stream",
          "name": "stdout",
          "text": [
            "Loaded https://remzak.ru/uslugy-elektrika\n",
            "2 56 Load result code 200 https://remzak.ru/uslugy-elektrika\n"
          ]
        },
        {
          "output_type": "stream",
          "name": "stderr",
          "text": [
            "/usr/local/lib/python3.10/dist-packages/urllib3/connectionpool.py:1056: InsecureRequestWarning: Unverified HTTPS request is being made to host 'rnd-electric.ru'. Adding certificate verification is strongly advised. See: https://urllib3.readthedocs.io/en/1.26.x/advanced-usage.html#ssl-warnings\n",
            "  warnings.warn(\n"
          ]
        },
        {
          "output_type": "stream",
          "name": "stdout",
          "text": [
            "Loaded https://rnd-electric.ru/uslugi-elektrika/\n",
            "2 57 Load result code 200 https://rnd-electric.ru/uslugi-elektrika/\n"
          ]
        },
        {
          "output_type": "stream",
          "name": "stderr",
          "text": [
            "/usr/local/lib/python3.10/dist-packages/urllib3/connectionpool.py:1056: InsecureRequestWarning: Unverified HTTPS request is being made to host 'www.electric-baranovichi.by'. Adding certificate verification is strongly advised. See: https://urllib3.readthedocs.io/en/1.26.x/advanced-usage.html#ssl-warnings\n",
            "  warnings.warn(\n"
          ]
        },
        {
          "output_type": "stream",
          "name": "stdout",
          "text": [
            "Loaded https://www.electric-baranovichi.by/\n",
            "2 58 Load result code 200 https://www.electric-baranovichi.by/\n"
          ]
        },
        {
          "output_type": "stream",
          "name": "stderr",
          "text": [
            "/usr/local/lib/python3.10/dist-packages/urllib3/connectionpool.py:1056: InsecureRequestWarning: Unverified HTTPS request is being made to host 'irkelektrik.ru'. Adding certificate verification is strongly advised. See: https://urllib3.readthedocs.io/en/1.26.x/advanced-usage.html#ssl-warnings\n",
            "  warnings.warn(\n"
          ]
        },
        {
          "output_type": "stream",
          "name": "stdout",
          "text": [
            "Loaded https://irkelektrik.ru/\n",
            "2 59 Load result code 200 https://irkelektrik.ru/\n"
          ]
        },
        {
          "output_type": "stream",
          "name": "stderr",
          "text": [
            "/usr/local/lib/python3.10/dist-packages/urllib3/connectionpool.py:1056: InsecureRequestWarning: Unverified HTTPS request is being made to host 'www.xn----btbckpcbkbfb3anbxknef0t.xn--p1ai'. Adding certificate verification is strongly advised. See: https://urllib3.readthedocs.io/en/1.26.x/advanced-usage.html#ssl-warnings\n",
            "  warnings.warn(\n"
          ]
        },
        {
          "output_type": "stream",
          "name": "stdout",
          "text": [
            "Loaded https://www.xn----btbckpcbkbfb3anbxknef0t.xn--p1ai/\n",
            "2 60 Load result code 200 https://www.xn----btbckpcbkbfb3anbxknef0t.xn--p1ai/\n"
          ]
        },
        {
          "output_type": "stream",
          "name": "stderr",
          "text": [
            "/usr/local/lib/python3.10/dist-packages/urllib3/connectionpool.py:1056: InsecureRequestWarning: Unverified HTTPS request is being made to host 'xn----ftbemjbd6bdjghkc1l.xn--p1ai'. Adding certificate verification is strongly advised. See: https://urllib3.readthedocs.io/en/1.26.x/advanced-usage.html#ssl-warnings\n",
            "  warnings.warn(\n"
          ]
        },
        {
          "output_type": "stream",
          "name": "stdout",
          "text": [
            "Loaded https://xn----ftbemjbd6bdjghkc1l.xn--p1ai/\n",
            "2 61 Load result code 200 https://xn----ftbemjbd6bdjghkc1l.xn--p1ai/\n"
          ]
        },
        {
          "output_type": "stream",
          "name": "stderr",
          "text": [
            "/usr/local/lib/python3.10/dist-packages/urllib3/connectionpool.py:1056: InsecureRequestWarning: Unverified HTTPS request is being made to host 'gorsluzba.ru'. Adding certificate verification is strongly advised. See: https://urllib3.readthedocs.io/en/1.26.x/advanced-usage.html#ssl-warnings\n",
            "  warnings.warn(\n"
          ]
        },
        {
          "output_type": "stream",
          "name": "stdout",
          "text": [
            "Loaded https://gorsluzba.ru/elektrik/\n",
            "2 62 Load result code 200 https://gorsluzba.ru/elektrik/\n"
          ]
        },
        {
          "output_type": "stream",
          "name": "stderr",
          "text": [
            "/usr/local/lib/python3.10/dist-packages/urllib3/connectionpool.py:1056: InsecureRequestWarning: Unverified HTTPS request is being made to host 'chitamaster.ru'. Adding certificate verification is strongly advised. See: https://urllib3.readthedocs.io/en/1.26.x/advanced-usage.html#ssl-warnings\n",
            "  warnings.warn(\n"
          ]
        },
        {
          "output_type": "stream",
          "name": "stdout",
          "text": [
            "Loaded https://chitamaster.ru/services/uslugi-elektrika\n",
            "2 63 Load result code 200 https://chitamaster.ru/services/uslugi-elektrika\n"
          ]
        },
        {
          "output_type": "stream",
          "name": "stderr",
          "text": [
            "/usr/local/lib/python3.10/dist-packages/urllib3/connectionpool.py:1056: InsecureRequestWarning: Unverified HTTPS request is being made to host 'energo48.ru'. Adding certificate verification is strongly advised. See: https://urllib3.readthedocs.io/en/1.26.x/advanced-usage.html#ssl-warnings\n",
            "  warnings.warn(\n"
          ]
        },
        {
          "output_type": "stream",
          "name": "stdout",
          "text": [
            "Loaded https://energo48.ru/\n",
            "2 64 Load result code 200 https://energo48.ru/\n",
            "Loaded http://electric-na-dom.ru/\n",
            "2 65 Load result code 200 http://electric-na-dom.ru/\n"
          ]
        },
        {
          "output_type": "stream",
          "name": "stderr",
          "text": [
            "/usr/local/lib/python3.10/dist-packages/urllib3/connectionpool.py:1056: InsecureRequestWarning: Unverified HTTPS request is being made to host 'elektrikispb.ru'. Adding certificate verification is strongly advised. See: https://urllib3.readthedocs.io/en/1.26.x/advanced-usage.html#ssl-warnings\n",
            "  warnings.warn(\n"
          ]
        },
        {
          "output_type": "stream",
          "name": "stdout",
          "text": [
            "Loaded https://elektrikispb.ru/\n",
            "2 66 Load result code 200 https://elektrikispb.ru/\n",
            "Load error https://remo134.ru/uslugi/electro_electrik.php 403\n",
            "2 67 Load result code 403 https://remo134.ru/uslugi/electro_electrik.php\n"
          ]
        },
        {
          "output_type": "stream",
          "name": "stderr",
          "text": [
            "/usr/local/lib/python3.10/dist-packages/urllib3/connectionpool.py:1056: InsecureRequestWarning: Unverified HTTPS request is being made to host 'remo134.ru'. Adding certificate verification is strongly advised. See: https://urllib3.readthedocs.io/en/1.26.x/advanced-usage.html#ssl-warnings\n",
            "  warnings.warn(\n",
            "/usr/local/lib/python3.10/dist-packages/urllib3/connectionpool.py:1056: InsecureRequestWarning: Unverified HTTPS request is being made to host 'uytmaster.ru'. Adding certificate verification is strongly advised. See: https://urllib3.readthedocs.io/en/1.26.x/advanced-usage.html#ssl-warnings\n",
            "  warnings.warn(\n"
          ]
        },
        {
          "output_type": "stream",
          "name": "stdout",
          "text": [
            "Loaded https://uytmaster.ru/top/electric\n",
            "2 68 Load result code 200 https://uytmaster.ru/top/electric\n"
          ]
        },
        {
          "output_type": "stream",
          "name": "stderr",
          "text": [
            "/usr/local/lib/python3.10/dist-packages/urllib3/connectionpool.py:1056: InsecureRequestWarning: Unverified HTTPS request is being made to host 'www.007spb.ru'. Adding certificate verification is strongly advised. See: https://urllib3.readthedocs.io/en/1.26.x/advanced-usage.html#ssl-warnings\n",
            "  warnings.warn(\n"
          ]
        },
        {
          "output_type": "stream",
          "name": "stdout",
          "text": [
            "Loaded https://www.007spb.ru/electr/\n",
            "2 69 Load result code 200 https://www.007spb.ru/electr/\n"
          ]
        },
        {
          "output_type": "stream",
          "name": "stderr",
          "text": [
            "/usr/local/lib/python3.10/dist-packages/urllib3/connectionpool.py:1056: InsecureRequestWarning: Unverified HTTPS request is being made to host 'zinovkinpro.ru'. Adding certificate verification is strongly advised. See: https://urllib3.readthedocs.io/en/1.26.x/advanced-usage.html#ssl-warnings\n",
            "  warnings.warn(\n"
          ]
        },
        {
          "output_type": "stream",
          "name": "stdout",
          "text": [
            "Loaded https://zinovkinpro.ru/elektrika/\n",
            "2 70 Load result code 200 https://zinovkinpro.ru/elektrika/\n"
          ]
        },
        {
          "output_type": "stream",
          "name": "stderr",
          "text": [
            "/usr/local/lib/python3.10/dist-packages/urllib3/connectionpool.py:1056: InsecureRequestWarning: Unverified HTTPS request is being made to host 'professional66.ru'. Adding certificate verification is strongly advised. See: https://urllib3.readthedocs.io/en/1.26.x/advanced-usage.html#ssl-warnings\n",
            "  warnings.warn(\n"
          ]
        },
        {
          "output_type": "stream",
          "name": "stdout",
          "text": [
            "Loaded https://professional66.ru/uslugi-elektrika/\n",
            "2 71 Load result code 200 https://professional66.ru/uslugi-elektrika/\n"
          ]
        },
        {
          "output_type": "stream",
          "name": "stderr",
          "text": [
            "/usr/local/lib/python3.10/dist-packages/urllib3/connectionpool.py:1056: InsecureRequestWarning: Unverified HTTPS request is being made to host 'bec39.com'. Adding certificate verification is strongly advised. See: https://urllib3.readthedocs.io/en/1.26.x/advanced-usage.html#ssl-warnings\n",
            "  warnings.warn(\n"
          ]
        },
        {
          "output_type": "stream",
          "name": "stdout",
          "text": [
            "Loaded https://bec39.com/uslugi-elektrika/\n",
            "2 72 Load result code 200 https://bec39.com/uslugi-elektrika/\n"
          ]
        },
        {
          "output_type": "stream",
          "name": "stderr",
          "text": [
            "/usr/local/lib/python3.10/dist-packages/urllib3/connectionpool.py:1056: InsecureRequestWarning: Unverified HTTPS request is being made to host 'remo23.ru'. Adding certificate verification is strongly advised. See: https://urllib3.readthedocs.io/en/1.26.x/advanced-usage.html#ssl-warnings\n",
            "  warnings.warn(\n"
          ]
        },
        {
          "output_type": "stream",
          "name": "stdout",
          "text": [
            "Load error https://remo23.ru/uslugi/electro_electrik.php 403\n",
            "2 73 Load result code 403 https://remo23.ru/uslugi/electro_electrik.php\n"
          ]
        },
        {
          "output_type": "stream",
          "name": "stderr",
          "text": [
            "/usr/local/lib/python3.10/dist-packages/urllib3/connectionpool.py:1056: InsecureRequestWarning: Unverified HTTPS request is being made to host 'elektrikufa.com'. Adding certificate verification is strongly advised. See: https://urllib3.readthedocs.io/en/1.26.x/advanced-usage.html#ssl-warnings\n",
            "  warnings.warn(\n"
          ]
        },
        {
          "output_type": "stream",
          "name": "stdout",
          "text": [
            "Loaded https://elektrikufa.com/\n",
            "2 74 Load result code 200 https://elektrikufa.com/\n"
          ]
        },
        {
          "output_type": "stream",
          "name": "stderr",
          "text": [
            "/usr/local/lib/python3.10/dist-packages/urllib3/connectionpool.py:1056: InsecureRequestWarning: Unverified HTTPS request is being made to host 'elektrik-ekb.ru'. Adding certificate verification is strongly advised. See: https://urllib3.readthedocs.io/en/1.26.x/advanced-usage.html#ssl-warnings\n",
            "  warnings.warn(\n"
          ]
        },
        {
          "output_type": "stream",
          "name": "stdout",
          "text": [
            "Loaded https://elektrik-ekb.ru/\n",
            "2 75 Load result code 200 https://elektrik-ekb.ru/\n"
          ]
        },
        {
          "output_type": "stream",
          "name": "stderr",
          "text": [
            "/usr/local/lib/python3.10/dist-packages/urllib3/connectionpool.py:1056: InsecureRequestWarning: Unverified HTTPS request is being made to host 'surgutglavremont.ru'. Adding certificate verification is strongly advised. See: https://urllib3.readthedocs.io/en/1.26.x/advanced-usage.html#ssl-warnings\n",
            "  warnings.warn(\n"
          ]
        },
        {
          "output_type": "stream",
          "name": "stdout",
          "text": [
            "Loaded https://surgutglavremont.ru/elektrik_surgut\n",
            "2 76 Load result code 200 https://surgutglavremont.ru/elektrik_surgut\n"
          ]
        },
        {
          "output_type": "stream",
          "name": "stderr",
          "text": [
            "/usr/local/lib/python3.10/dist-packages/urllib3/connectionpool.py:1056: InsecureRequestWarning: Unverified HTTPS request is being made to host 'electric-novgorod.ru'. Adding certificate verification is strongly advised. See: https://urllib3.readthedocs.io/en/1.26.x/advanced-usage.html#ssl-warnings\n",
            "  warnings.warn(\n"
          ]
        },
        {
          "output_type": "stream",
          "name": "stdout",
          "text": [
            "Loaded https://electric-novgorod.ru/\n",
            "2 77 Load result code 200 https://electric-novgorod.ru/\n"
          ]
        },
        {
          "output_type": "stream",
          "name": "stderr",
          "text": [
            "/usr/local/lib/python3.10/dist-packages/urllib3/connectionpool.py:1056: InsecureRequestWarning: Unverified HTTPS request is being made to host 'www.montag57.ru'. Adding certificate verification is strongly advised. See: https://urllib3.readthedocs.io/en/1.26.x/advanced-usage.html#ssl-warnings\n",
            "  warnings.warn(\n"
          ]
        },
        {
          "output_type": "stream",
          "name": "stdout",
          "text": [
            "Loaded https://www.montag57.ru/services/elektrika/vyzov-elektrika-na-do-m/\n",
            "2 78 Load result code 200 https://www.montag57.ru/services/elektrika/vyzov-elektrika-na-do-m/\n"
          ]
        },
        {
          "output_type": "stream",
          "name": "stderr",
          "text": [
            "/usr/local/lib/python3.10/dist-packages/urllib3/connectionpool.py:1056: InsecureRequestWarning: Unverified HTTPS request is being made to host 'elektrikclub.ru'. Adding certificate verification is strongly advised. See: https://urllib3.readthedocs.io/en/1.26.x/advanced-usage.html#ssl-warnings\n",
            "  warnings.warn(\n"
          ]
        },
        {
          "output_type": "stream",
          "name": "stdout",
          "text": [
            "Loaded https://elektrikclub.ru/\n",
            "2 79 Load result code 200 https://elektrikclub.ru/\n"
          ]
        },
        {
          "output_type": "stream",
          "name": "stderr",
          "text": [
            "/usr/local/lib/python3.10/dist-packages/urllib3/connectionpool.py:1056: InsecureRequestWarning: Unverified HTTPS request is being made to host 'electrikdv.ru'. Adding certificate verification is strongly advised. See: https://urllib3.readthedocs.io/en/1.26.x/advanced-usage.html#ssl-warnings\n",
            "  warnings.warn(\n"
          ]
        },
        {
          "output_type": "stream",
          "name": "stdout",
          "text": [
            "Loaded https://electrikdv.ru/about-us\n",
            "2 80 Load result code 200 https://electrikdv.ru/about-us\n"
          ]
        },
        {
          "output_type": "stream",
          "name": "stderr",
          "text": [
            "/usr/local/lib/python3.10/dist-packages/urllib3/connectionpool.py:1056: InsecureRequestWarning: Unverified HTTPS request is being made to host 'www.electrikman.ru'. Adding certificate verification is strongly advised. See: https://urllib3.readthedocs.io/en/1.26.x/advanced-usage.html#ssl-warnings\n",
            "  warnings.warn(\n"
          ]
        },
        {
          "output_type": "stream",
          "name": "stdout",
          "text": [
            "Loaded https://www.electrikman.ru/\n",
            "2 81 Load result code 200 https://www.electrikman.ru/\n"
          ]
        },
        {
          "output_type": "stream",
          "name": "stderr",
          "text": [
            "/usr/local/lib/python3.10/dist-packages/urllib3/connectionpool.py:1056: InsecureRequestWarning: Unverified HTTPS request is being made to host 'voltcom-spb.ru'. Adding certificate verification is strongly advised. See: https://urllib3.readthedocs.io/en/1.26.x/advanced-usage.html#ssl-warnings\n",
            "  warnings.warn(\n"
          ]
        },
        {
          "output_type": "stream",
          "name": "stdout",
          "text": [
            "Loaded https://voltcom-spb.ru/\n",
            "2 82 Load result code 200 https://voltcom-spb.ru/\n"
          ]
        },
        {
          "output_type": "stream",
          "name": "stderr",
          "text": [
            "/usr/local/lib/python3.10/dist-packages/urllib3/connectionpool.py:1056: InsecureRequestWarning: Unverified HTTPS request is being made to host 'elektrikispb.ru'. Adding certificate verification is strongly advised. See: https://urllib3.readthedocs.io/en/1.26.x/advanced-usage.html#ssl-warnings\n",
            "  warnings.warn(\n"
          ]
        },
        {
          "output_type": "stream",
          "name": "stdout",
          "text": [
            "Loaded https://elektrikispb.ru/rascenki-na-elektromontazhnye-raboty\n",
            "2 83 Load result code 200 https://elektrikispb.ru/rascenki-na-elektromontazhnye-raboty\n"
          ]
        },
        {
          "output_type": "stream",
          "name": "stderr",
          "text": [
            "/usr/local/lib/python3.10/dist-packages/urllib3/connectionpool.py:1056: InsecureRequestWarning: Unverified HTTPS request is being made to host 'td-tsk.ru'. Adding certificate verification is strongly advised. See: https://urllib3.readthedocs.io/en/1.26.x/advanced-usage.html#ssl-warnings\n",
            "  warnings.warn(\n"
          ]
        },
        {
          "output_type": "stream",
          "name": "stdout",
          "text": [
            "Loaded https://td-tsk.ru/services/elektromontazhnye-raboty/\n",
            "2 84 Load result code 200 https://td-tsk.ru/services/elektromontazhnye-raboty/\n"
          ]
        },
        {
          "output_type": "stream",
          "name": "stderr",
          "text": [
            "/usr/local/lib/python3.10/dist-packages/urllib3/connectionpool.py:1056: InsecureRequestWarning: Unverified HTTPS request is being made to host 'k-systemy.ru'. Adding certificate verification is strongly advised. See: https://urllib3.readthedocs.io/en/1.26.x/advanced-usage.html#ssl-warnings\n",
            "  warnings.warn(\n"
          ]
        },
        {
          "output_type": "stream",
          "name": "stdout",
          "text": [
            "Loaded https://k-systemy.ru/elektromontazhnye-raboty/tsenu\n",
            "2 85 Load result code 200 https://k-systemy.ru/elektromontazhnye-raboty/tsenu\n"
          ]
        },
        {
          "output_type": "stream",
          "name": "stderr",
          "text": [
            "/usr/local/lib/python3.10/dist-packages/urllib3/connectionpool.py:1056: InsecureRequestWarning: Unverified HTTPS request is being made to host 'simmetria54.ru'. Adding certificate verification is strongly advised. See: https://urllib3.readthedocs.io/en/1.26.x/advanced-usage.html#ssl-warnings\n",
            "  warnings.warn(\n"
          ]
        },
        {
          "output_type": "stream",
          "name": "stdout",
          "text": [
            "Loaded https://simmetria54.ru/electomontajnie-raboti/\n",
            "2 86 Load result code 200 https://simmetria54.ru/electomontajnie-raboti/\n"
          ]
        },
        {
          "output_type": "stream",
          "name": "stderr",
          "text": [
            "/usr/local/lib/python3.10/dist-packages/urllib3/connectionpool.py:1056: InsecureRequestWarning: Unverified HTTPS request is being made to host 'www.skmsk.ru'. Adding certificate verification is strongly advised. See: https://urllib3.readthedocs.io/en/1.26.x/advanced-usage.html#ssl-warnings\n",
            "  warnings.warn(\n"
          ]
        },
        {
          "output_type": "stream",
          "name": "stdout",
          "text": [
            "Loaded https://www.skmsk.ru/information/engineering/elektromontazh/\n",
            "2 87 Load result code 200 https://www.skmsk.ru/information/engineering/elektromontazh/\n"
          ]
        },
        {
          "output_type": "stream",
          "name": "stderr",
          "text": [
            "/usr/local/lib/python3.10/dist-packages/urllib3/connectionpool.py:1056: InsecureRequestWarning: Unverified HTTPS request is being made to host 'www.proectcity.com'. Adding certificate verification is strongly advised. See: https://urllib3.readthedocs.io/en/1.26.x/advanced-usage.html#ssl-warnings\n",
            "  warnings.warn(\n"
          ]
        },
        {
          "output_type": "stream",
          "name": "stdout",
          "text": [
            "Loaded https://www.proectcity.com/\n",
            "2 88 Load result code 200 https://www.proectcity.com/\n"
          ]
        },
        {
          "output_type": "stream",
          "name": "stderr",
          "text": [
            "/usr/local/lib/python3.10/dist-packages/urllib3/connectionpool.py:1056: InsecureRequestWarning: Unverified HTTPS request is being made to host 'intellekt-pro.ru'. Adding certificate verification is strongly advised. See: https://urllib3.readthedocs.io/en/1.26.x/advanced-usage.html#ssl-warnings\n",
            "  warnings.warn(\n"
          ]
        },
        {
          "output_type": "stream",
          "name": "stdout",
          "text": [
            "Load error https://intellekt-pro.ru/teoriya/elektromontazhnye-raboty/ 401\n",
            "2 89 Load result code 401 https://intellekt-pro.ru/teoriya/elektromontazhnye-raboty/\n"
          ]
        },
        {
          "output_type": "stream",
          "name": "stderr",
          "text": [
            "/usr/local/lib/python3.10/dist-packages/urllib3/connectionpool.py:1056: InsecureRequestWarning: Unverified HTTPS request is being made to host 'eirc.spb.ru'. Adding certificate verification is strongly advised. See: https://urllib3.readthedocs.io/en/1.26.x/advanced-usage.html#ssl-warnings\n",
            "  warnings.warn(\n"
          ]
        },
        {
          "output_type": "stream",
          "name": "stdout",
          "text": [
            "Loaded https://eirc.spb.ru/customers/services/emr/\n",
            "2 90 Load result code 200 https://eirc.spb.ru/customers/services/emr/\n"
          ]
        },
        {
          "output_type": "stream",
          "name": "stderr",
          "text": [
            "/usr/local/lib/python3.10/dist-packages/urllib3/connectionpool.py:1056: InsecureRequestWarning: Unverified HTTPS request is being made to host 'electmont.ru'. Adding certificate verification is strongly advised. See: https://urllib3.readthedocs.io/en/1.26.x/advanced-usage.html#ssl-warnings\n",
            "  warnings.warn(\n"
          ]
        },
        {
          "output_type": "stream",
          "name": "stdout",
          "text": [
            "Loaded https://electmont.ru/\n",
            "2 91 Load result code 200 https://electmont.ru/\n"
          ]
        },
        {
          "output_type": "stream",
          "name": "stderr",
          "text": [
            "/usr/local/lib/python3.10/dist-packages/urllib3/connectionpool.py:1056: InsecureRequestWarning: Unverified HTTPS request is being made to host 'novokuzneck.da-elektrika.ru'. Adding certificate verification is strongly advised. See: https://urllib3.readthedocs.io/en/1.26.x/advanced-usage.html#ssl-warnings\n",
            "  warnings.warn(\n"
          ]
        },
        {
          "output_type": "stream",
          "name": "stdout",
          "text": [
            "Loaded https://novokuzneck.da-elektrika.ru/%D1%86%D0%B5%D0%BD%D1%8B\n",
            "2 92 Load result code 200 https://novokuzneck.da-elektrika.ru/%D1%86%D0%B5%D0%BD%D1%8B\n",
            "Loaded http://xn--42-6kcidl9bdw5b5g.xn--p1ai/\n",
            "2 93 Load result code 200 http://xn--42-6kcidl9bdw5b5g.xn--p1ai/\n"
          ]
        },
        {
          "output_type": "stream",
          "name": "stderr",
          "text": [
            "/usr/local/lib/python3.10/dist-packages/urllib3/connectionpool.py:1056: InsecureRequestWarning: Unverified HTTPS request is being made to host 'mes-elektrik.ru'. Adding certificate verification is strongly advised. See: https://urllib3.readthedocs.io/en/1.26.x/advanced-usage.html#ssl-warnings\n",
            "  warnings.warn(\n"
          ]
        },
        {
          "output_type": "stream",
          "name": "stdout",
          "text": [
            "Loaded https://mes-elektrik.ru/catalog/\n",
            "2 94 Load result code 200 https://mes-elektrik.ru/catalog/\n"
          ]
        },
        {
          "output_type": "stream",
          "name": "stderr",
          "text": [
            "/usr/local/lib/python3.10/dist-packages/urllib3/connectionpool.py:1056: InsecureRequestWarning: Unverified HTTPS request is being made to host 'mastera-profi.ru'. Adding certificate verification is strongly advised. See: https://urllib3.readthedocs.io/en/1.26.x/advanced-usage.html#ssl-warnings\n",
            "  warnings.warn(\n"
          ]
        },
        {
          "output_type": "stream",
          "name": "stdout",
          "text": [
            "Loaded https://mastera-profi.ru/elektrik/\n",
            "2 95 Load result code 200 https://mastera-profi.ru/elektrik/\n"
          ]
        },
        {
          "output_type": "stream",
          "name": "stderr",
          "text": [
            "/usr/local/lib/python3.10/dist-packages/urllib3/connectionpool.py:1056: InsecureRequestWarning: Unverified HTTPS request is being made to host 'domashniy-masterok.ru'. Adding certificate verification is strongly advised. See: https://urllib3.readthedocs.io/en/1.26.x/advanced-usage.html#ssl-warnings\n",
            "  warnings.warn(\n"
          ]
        },
        {
          "output_type": "stream",
          "name": "stdout",
          "text": [
            "Loaded https://domashniy-masterok.ru/uslugi-elektrika/\n",
            "2 96 Load result code 200 https://domashniy-masterok.ru/uslugi-elektrika/\n"
          ]
        },
        {
          "output_type": "stream",
          "name": "stderr",
          "text": [
            "/usr/local/lib/python3.10/dist-packages/urllib3/connectionpool.py:1056: InsecureRequestWarning: Unverified HTTPS request is being made to host 'servicemaster74.ru'. Adding certificate verification is strongly advised. See: https://urllib3.readthedocs.io/en/1.26.x/advanced-usage.html#ssl-warnings\n",
            "  warnings.warn(\n"
          ]
        },
        {
          "output_type": "stream",
          "name": "stdout",
          "text": [
            "Loaded https://servicemaster74.ru/uslugi-elektrika-v-chelyabinske/\n",
            "2 97 Load result code 200 https://servicemaster74.ru/uslugi-elektrika-v-chelyabinske/\n"
          ]
        },
        {
          "output_type": "stream",
          "name": "stderr",
          "text": [
            "/usr/local/lib/python3.10/dist-packages/urllib3/connectionpool.py:1056: InsecureRequestWarning: Unverified HTTPS request is being made to host 'www.masterovoj66.ru'. Adding certificate verification is strongly advised. See: https://urllib3.readthedocs.io/en/1.26.x/advanced-usage.html#ssl-warnings\n",
            "  warnings.warn(\n"
          ]
        },
        {
          "output_type": "stream",
          "name": "stdout",
          "text": [
            "Loaded https://www.masterovoj66.ru/%D0%B2%D1%8B%D0%B7%D0%BE%D0%B2-%D1%8D%D0%BB%D0%B5%D0%BA%D1%82%D1%80%D0%B8%D0%BA%D0%B0-%D0%BD%D0%B0-%D0%B4%D0%BE%D0%BC-%D0%B2-%D0%B5%D0%BA%D0%B0%D1%82%D0%B5%D1%80%D0%B8%D0%BD%D0%B1%D1%83%D1%80%D0%B3%D0%B5/\n",
            "2 98 Load result code 200 https://www.masterovoj66.ru/%D0%B2%D1%8B%D0%B7%D0%BE%D0%B2-%D1%8D%D0%BB%D0%B5%D0%BA%D1%82%D1%80%D0%B8%D0%BA%D0%B0-%D0%BD%D0%B0-%D0%B4%D0%BE%D0%BC-%D0%B2-%D0%B5%D0%BA%D0%B0%D1%82%D0%B5%D1%80%D0%B8%D0%BD%D0%B1%D1%83%D1%80%D0%B3%D0%B5/\n",
            "Load error exception\n",
            "2 99 Load result code -1 https://remontnik42.ru/\n",
            "Loaded http://www.elektrik-na-dom-vizov.ru/\n",
            "2 100 Load result code 200 http://www.elektrik-na-dom-vizov.ru/\n"
          ]
        },
        {
          "output_type": "stream",
          "name": "stderr",
          "text": [
            "/usr/local/lib/python3.10/dist-packages/urllib3/connectionpool.py:1056: InsecureRequestWarning: Unverified HTTPS request is being made to host 'novokuznetsk.dom-electric.ru'. Adding certificate verification is strongly advised. See: https://urllib3.readthedocs.io/en/1.26.x/advanced-usage.html#ssl-warnings\n",
            "  warnings.warn(\n"
          ]
        },
        {
          "output_type": "stream",
          "name": "stdout",
          "text": [
            "Loaded https://novokuznetsk.dom-electric.ru/price\n",
            "2 101 Load result code 200 https://novokuznetsk.dom-electric.ru/price\n"
          ]
        },
        {
          "output_type": "stream",
          "name": "stderr",
          "text": [
            "/usr/local/lib/python3.10/dist-packages/urllib3/connectionpool.py:1056: InsecureRequestWarning: Unverified HTTPS request is being made to host 'novokuznetsk.electric-doma.ru'. Adding certificate verification is strongly advised. See: https://urllib3.readthedocs.io/en/1.26.x/advanced-usage.html#ssl-warnings\n",
            "  warnings.warn(\n"
          ]
        },
        {
          "output_type": "stream",
          "name": "stdout",
          "text": [
            "Loaded https://novokuznetsk.electric-doma.ru/\n",
            "2 102 Load result code 200 https://novokuznetsk.electric-doma.ru/\n"
          ]
        },
        {
          "output_type": "stream",
          "name": "stderr",
          "text": [
            "/usr/local/lib/python3.10/dist-packages/urllib3/connectionpool.py:1056: InsecureRequestWarning: Unverified HTTPS request is being made to host 'elektrik-surgut-86.ru'. Adding certificate verification is strongly advised. See: https://urllib3.readthedocs.io/en/1.26.x/advanced-usage.html#ssl-warnings\n",
            "  warnings.warn(\n"
          ]
        },
        {
          "output_type": "stream",
          "name": "stdout",
          "text": [
            "Loaded https://elektrik-surgut-86.ru/\n",
            "2 103 Load result code 200 https://elektrik-surgut-86.ru/\n"
          ]
        },
        {
          "output_type": "stream",
          "name": "stderr",
          "text": [
            "/usr/local/lib/python3.10/dist-packages/urllib3/connectionpool.py:1056: InsecureRequestWarning: Unverified HTTPS request is being made to host 'xn----7sbbtsuhhpgng.xn--p1ai'. Adding certificate verification is strongly advised. See: https://urllib3.readthedocs.io/en/1.26.x/advanced-usage.html#ssl-warnings\n",
            "  warnings.warn(\n"
          ]
        },
        {
          "output_type": "stream",
          "name": "stdout",
          "text": [
            "Loaded https://xn----7sbbtsuhhpgng.xn--p1ai/elektrik-krasnoyarsk\n",
            "2 104 Load result code 200 https://xn----7sbbtsuhhpgng.xn--p1ai/elektrik-krasnoyarsk\n"
          ]
        },
        {
          "output_type": "stream",
          "name": "stderr",
          "text": [
            "/usr/local/lib/python3.10/dist-packages/urllib3/connectionpool.py:1056: InsecureRequestWarning: Unverified HTTPS request is being made to host 'elektrik-srochno.ru'. Adding certificate verification is strongly advised. See: https://urllib3.readthedocs.io/en/1.26.x/advanced-usage.html#ssl-warnings\n",
            "  warnings.warn(\n"
          ]
        },
        {
          "output_type": "stream",
          "name": "stdout",
          "text": [
            "Loaded https://elektrik-srochno.ru/elektrik-himki/\n",
            "2 105 Load result code 200 https://elektrik-srochno.ru/elektrik-himki/\n"
          ]
        },
        {
          "output_type": "stream",
          "name": "stderr",
          "text": [
            "/usr/local/lib/python3.10/dist-packages/urllib3/connectionpool.py:1056: InsecureRequestWarning: Unverified HTTPS request is being made to host 'xn--c1aaceockkwavod1ac.xn--p1ai'. Adding certificate verification is strongly advised. See: https://urllib3.readthedocs.io/en/1.26.x/advanced-usage.html#ssl-warnings\n",
            "  warnings.warn(\n",
            "/usr/local/lib/python3.10/dist-packages/urllib3/connectionpool.py:1056: InsecureRequestWarning: Unverified HTTPS request is being made to host 'bossdom.ru'. Adding certificate verification is strongly advised. See: https://urllib3.readthedocs.io/en/1.26.x/advanced-usage.html#ssl-warnings\n",
            "  warnings.warn(\n"
          ]
        },
        {
          "output_type": "stream",
          "name": "stdout",
          "text": [
            "Loaded https://xn--c1aaceockkwavod1ac.xn--p1ai/sfera-uslug/uslugi-elektrika-obzor-ceny-na-elektromontazhnye-raboty/\n",
            "2 106 Load result code 200 https://xn--c1aaceockkwavod1ac.xn--p1ai/sfera-uslug/uslugi-elektrika-obzor-ceny-na-elektromontazhnye-raboty/\n"
          ]
        },
        {
          "output_type": "stream",
          "name": "stderr",
          "text": [
            "/usr/local/lib/python3.10/dist-packages/urllib3/connectionpool.py:1056: InsecureRequestWarning: Unverified HTTPS request is being made to host 'elektrikkazan.com'. Adding certificate verification is strongly advised. See: https://urllib3.readthedocs.io/en/1.26.x/advanced-usage.html#ssl-warnings\n",
            "  warnings.warn(\n"
          ]
        },
        {
          "output_type": "stream",
          "name": "stdout",
          "text": [
            "Loaded https://elektrikkazan.com/\n",
            "2 107 Load result code 200 https://elektrikkazan.com/\n"
          ]
        },
        {
          "output_type": "stream",
          "name": "stderr",
          "text": [
            "/usr/local/lib/python3.10/dist-packages/urllib3/connectionpool.py:1056: InsecureRequestWarning: Unverified HTTPS request is being made to host 'www.elektrik-novokuzneck.ru'. Adding certificate verification is strongly advised. See: https://urllib3.readthedocs.io/en/1.26.x/advanced-usage.html#ssl-warnings\n",
            "  warnings.warn(\n"
          ]
        },
        {
          "output_type": "stream",
          "name": "stdout",
          "text": [
            "Loaded https://www.elektrik-novokuzneck.ru/\n",
            "2 108 Load result code 200 https://www.elektrik-novokuzneck.ru/\n"
          ]
        },
        {
          "output_type": "stream",
          "name": "stderr",
          "text": [
            "/usr/local/lib/python3.10/dist-packages/urllib3/connectionpool.py:1056: InsecureRequestWarning: Unverified HTTPS request is being made to host 'j-elektrik.ru'. Adding certificate verification is strongly advised. See: https://urllib3.readthedocs.io/en/1.26.x/advanced-usage.html#ssl-warnings\n",
            "  warnings.warn(\n"
          ]
        },
        {
          "output_type": "stream",
          "name": "stdout",
          "text": [
            "Loaded https://j-elektrik.ru/stati/uslugi-elektrika-na-territorii-moskvy-i-podmoskovya/\n",
            "2 109 Load result code 200 https://j-elektrik.ru/stati/uslugi-elektrika-na-territorii-moskvy-i-podmoskovya/\n"
          ]
        },
        {
          "output_type": "stream",
          "name": "stderr",
          "text": [
            "/usr/local/lib/python3.10/dist-packages/urllib3/connectionpool.py:1056: InsecureRequestWarning: Unverified HTTPS request is being made to host 'mes-elektrik.ru'. Adding certificate verification is strongly advised. See: https://urllib3.readthedocs.io/en/1.26.x/advanced-usage.html#ssl-warnings\n",
            "  warnings.warn(\n"
          ]
        },
        {
          "output_type": "stream",
          "name": "stdout",
          "text": [
            "Loaded https://mes-elektrik.ru/catalog/192/\n",
            "2 110 Load result code 200 https://mes-elektrik.ru/catalog/192/\n"
          ]
        },
        {
          "output_type": "stream",
          "name": "stderr",
          "text": [
            "/usr/local/lib/python3.10/dist-packages/urllib3/connectionpool.py:1056: InsecureRequestWarning: Unverified HTTPS request is being made to host 'remzak.ru'. Adding certificate verification is strongly advised. See: https://urllib3.readthedocs.io/en/1.26.x/advanced-usage.html#ssl-warnings\n",
            "  warnings.warn(\n"
          ]
        },
        {
          "output_type": "stream",
          "name": "stdout",
          "text": [
            "Loaded https://remzak.ru/uslugy-elektrika/elektrika-v-kvartire-pod-klyuch\n",
            "2 111 Load result code 200 https://remzak.ru/uslugy-elektrika/elektrika-v-kvartire-pod-klyuch\n"
          ]
        },
        {
          "output_type": "stream",
          "name": "stderr",
          "text": [
            "/usr/local/lib/python3.10/dist-packages/urllib3/connectionpool.py:1056: InsecureRequestWarning: Unverified HTTPS request is being made to host 'ya-s-k.ru'. Adding certificate verification is strongly advised. See: https://urllib3.readthedocs.io/en/1.26.x/advanced-usage.html#ssl-warnings\n",
            "  warnings.warn(\n"
          ]
        },
        {
          "output_type": "stream",
          "name": "stdout",
          "text": [
            "Loaded https://ya-s-k.ru/elektrika-v-kvartire-pod-klyuch\n",
            "2 112 Load result code 200 https://ya-s-k.ru/elektrika-v-kvartire-pod-klyuch\n"
          ]
        },
        {
          "output_type": "stream",
          "name": "stderr",
          "text": [
            "/usr/local/lib/python3.10/dist-packages/urllib3/connectionpool.py:1056: InsecureRequestWarning: Unverified HTTPS request is being made to host 'jelektrik.by'. Adding certificate verification is strongly advised. See: https://urllib3.readthedocs.io/en/1.26.x/advanced-usage.html#ssl-warnings\n",
            "  warnings.warn(\n"
          ]
        },
        {
          "output_type": "stream",
          "name": "stdout",
          "text": [
            "Loaded https://jelektrik.by/stati/elektrichestvo/elektrika-pod-klyuch-podklyuchenie-i-montazh\n",
            "2 113 Load result code 200 https://jelektrik.by/stati/elektrichestvo/elektrika-pod-klyuch-podklyuchenie-i-montazh\n"
          ]
        },
        {
          "output_type": "stream",
          "name": "stderr",
          "text": [
            "/usr/local/lib/python3.10/dist-packages/urllib3/connectionpool.py:1056: InsecureRequestWarning: Unverified HTTPS request is being made to host 'remont-podkljuch.ru'. Adding certificate verification is strongly advised. See: https://urllib3.readthedocs.io/en/1.26.x/advanced-usage.html#ssl-warnings\n",
            "  warnings.warn(\n"
          ]
        },
        {
          "output_type": "stream",
          "name": "stdout",
          "text": [
            "Loaded https://remont-podkljuch.ru/ehlektrika_v_kvartire_pod_klyuch_stoimost.html\n",
            "2 114 Load result code 200 https://remont-podkljuch.ru/ehlektrika_v_kvartire_pod_klyuch_stoimost.html\n"
          ]
        },
        {
          "output_type": "stream",
          "name": "stderr",
          "text": [
            "/usr/local/lib/python3.10/dist-packages/urllib3/connectionpool.py:1056: InsecureRequestWarning: Unverified HTTPS request is being made to host 'www.ruki-iz-plech.ru'. Adding certificate verification is strongly advised. See: https://urllib3.readthedocs.io/en/1.26.x/advanced-usage.html#ssl-warnings\n",
            "  warnings.warn(\n"
          ]
        },
        {
          "output_type": "stream",
          "name": "stdout",
          "text": [
            "Loaded https://www.ruki-iz-plech.ru/handyman/electricity/complex\n",
            "2 115 Load result code 200 https://www.ruki-iz-plech.ru/handyman/electricity/complex\n"
          ]
        },
        {
          "output_type": "stream",
          "name": "stderr",
          "text": [
            "/usr/local/lib/python3.10/dist-packages/urllib3/connectionpool.py:1056: InsecureRequestWarning: Unverified HTTPS request is being made to host '0220.ru'. Adding certificate verification is strongly advised. See: https://urllib3.readthedocs.io/en/1.26.x/advanced-usage.html#ssl-warnings\n",
            "  warnings.warn(\n"
          ]
        },
        {
          "output_type": "stream",
          "name": "stdout",
          "text": [
            "Loaded https://0220.ru/elektrika-v-kvartire\n",
            "2 116 Load result code 200 https://0220.ru/elektrika-v-kvartire\n"
          ]
        },
        {
          "output_type": "stream",
          "name": "stderr",
          "text": [
            "/usr/local/lib/python3.10/dist-packages/urllib3/connectionpool.py:1056: InsecureRequestWarning: Unverified HTTPS request is being made to host 'stukko.ru'. Adding certificate verification is strongly advised. See: https://urllib3.readthedocs.io/en/1.26.x/advanced-usage.html#ssl-warnings\n",
            "  warnings.warn(\n"
          ]
        },
        {
          "output_type": "stream",
          "name": "stdout",
          "text": [
            "Loaded https://stukko.ru/electrics/\n",
            "2 117 Load result code 200 https://stukko.ru/electrics/\n"
          ]
        },
        {
          "output_type": "stream",
          "name": "stderr",
          "text": [
            "/usr/local/lib/python3.10/dist-packages/urllib3/connectionpool.py:1056: InsecureRequestWarning: Unverified HTTPS request is being made to host 'leroymerlin.ru'. Adding certificate verification is strongly advised. See: https://urllib3.readthedocs.io/en/1.26.x/advanced-usage.html#ssl-warnings\n",
            "  warnings.warn(\n"
          ]
        },
        {
          "output_type": "stream",
          "name": "stdout",
          "text": [
            "Load error https://leroymerlin.ru/uslugi/gotovye-resheniya-pod-klyuch/sistemy-elektrosnabzheniya-pod-klyuch/ 403\n",
            "2 118 Load result code 403 https://leroymerlin.ru/uslugi/gotovye-resheniya-pod-klyuch/sistemy-elektrosnabzheniya-pod-klyuch/\n"
          ]
        },
        {
          "output_type": "stream",
          "name": "stderr",
          "text": [
            "/usr/local/lib/python3.10/dist-packages/urllib3/connectionpool.py:1056: InsecureRequestWarning: Unverified HTTPS request is being made to host 'proff-grup.ru'. Adding certificate verification is strongly advised. See: https://urllib3.readthedocs.io/en/1.26.x/advanced-usage.html#ssl-warnings\n",
            "  warnings.warn(\n"
          ]
        },
        {
          "output_type": "stream",
          "name": "stdout",
          "text": [
            "Loaded https://proff-grup.ru/elektrika-v-kvartre.html\n",
            "2 119 Load result code 200 https://proff-grup.ru/elektrika-v-kvartre.html\n"
          ]
        },
        {
          "output_type": "stream",
          "name": "stderr",
          "text": [
            "/usr/local/lib/python3.10/dist-packages/urllib3/connectionpool.py:1056: InsecureRequestWarning: Unverified HTTPS request is being made to host 'www.mos-elektrika.ru'. Adding certificate verification is strongly advised. See: https://urllib3.readthedocs.io/en/1.26.x/advanced-usage.html#ssl-warnings\n",
            "  warnings.warn(\n"
          ]
        },
        {
          "output_type": "stream",
          "name": "stdout",
          "text": [
            "Loaded https://www.mos-elektrika.ru/elektromontazh-v-kvartirah/zamena-elektriki-v-kvartire-pod-klyuch-1/\n",
            "2 120 Load result code 200 https://www.mos-elektrika.ru/elektromontazh-v-kvartirah/zamena-elektriki-v-kvartire-pod-klyuch-1/\n"
          ]
        },
        {
          "output_type": "stream",
          "name": "stderr",
          "text": [
            "/usr/local/lib/python3.10/dist-packages/urllib3/connectionpool.py:1056: InsecureRequestWarning: Unverified HTTPS request is being made to host 'elstroy-company.ru'. Adding certificate verification is strongly advised. See: https://urllib3.readthedocs.io/en/1.26.x/advanced-usage.html#ssl-warnings\n",
            "  warnings.warn(\n"
          ]
        },
        {
          "output_type": "stream",
          "name": "stdout",
          "text": [
            "Loaded https://elstroy-company.ru/services/cottage-electricity/\n",
            "2 121 Load result code 200 https://elstroy-company.ru/services/cottage-electricity/\n"
          ]
        },
        {
          "output_type": "stream",
          "name": "stderr",
          "text": [
            "/usr/local/lib/python3.10/dist-packages/urllib3/connectionpool.py:1056: InsecureRequestWarning: Unverified HTTPS request is being made to host 'elektrikclub.ru'. Adding certificate verification is strongly advised. See: https://urllib3.readthedocs.io/en/1.26.x/advanced-usage.html#ssl-warnings\n",
            "  warnings.warn(\n"
          ]
        },
        {
          "output_type": "stream",
          "name": "stdout",
          "text": [
            "Loaded https://elektrikclub.ru/elektrika-v-kvartire/\n",
            "2 122 Load result code 200 https://elektrikclub.ru/elektrika-v-kvartire/\n"
          ]
        },
        {
          "output_type": "stream",
          "name": "stderr",
          "text": [
            "/usr/local/lib/python3.10/dist-packages/urllib3/connectionpool.py:1056: InsecureRequestWarning: Unverified HTTPS request is being made to host 'j-sem.ru'. Adding certificate verification is strongly advised. See: https://urllib3.readthedocs.io/en/1.26.x/advanced-usage.html#ssl-warnings\n",
            "  warnings.warn(\n"
          ]
        },
        {
          "output_type": "stream",
          "name": "stdout",
          "text": [
            "Loaded https://j-sem.ru/elektrika/pod-klyuch/\n",
            "2 123 Load result code 200 https://j-sem.ru/elektrika/pod-klyuch/\n"
          ]
        },
        {
          "output_type": "stream",
          "name": "stderr",
          "text": [
            "/usr/local/lib/python3.10/dist-packages/urllib3/connectionpool.py:1056: InsecureRequestWarning: Unverified HTTPS request is being made to host 'electro-znatok.ru'. Adding certificate verification is strongly advised. See: https://urllib3.readthedocs.io/en/1.26.x/advanced-usage.html#ssl-warnings\n",
            "  warnings.warn(\n"
          ]
        },
        {
          "output_type": "stream",
          "name": "stdout",
          "text": [
            "Loaded https://electro-znatok.ru/uslugi/elektrika-pod-klyuch/na-dache/\n",
            "2 124 Load result code 200 https://electro-znatok.ru/uslugi/elektrika-pod-klyuch/na-dache/\n"
          ]
        },
        {
          "output_type": "stream",
          "name": "stderr",
          "text": [
            "/usr/local/lib/python3.10/dist-packages/urllib3/connectionpool.py:1056: InsecureRequestWarning: Unverified HTTPS request is being made to host 'katalogevakuatorov.ru'. Adding certificate verification is strongly advised. See: https://urllib3.readthedocs.io/en/1.26.x/advanced-usage.html#ssl-warnings\n",
            "  warnings.warn(\n"
          ]
        },
        {
          "output_type": "stream",
          "name": "stdout",
          "text": [
            "Loaded https://katalogevakuatorov.ru/novokuznetsk\n",
            "3 0 Load result code 200 https://katalogevakuatorov.ru/novokuznetsk\n"
          ]
        },
        {
          "output_type": "stream",
          "name": "stderr",
          "text": [
            "/usr/local/lib/python3.10/dist-packages/urllib3/connectionpool.py:1056: InsecureRequestWarning: Unverified HTTPS request is being made to host 'novokuzneck.allevacuators.ru'. Adding certificate verification is strongly advised. See: https://urllib3.readthedocs.io/en/1.26.x/advanced-usage.html#ssl-warnings\n",
            "  warnings.warn(\n"
          ]
        },
        {
          "output_type": "stream",
          "name": "stdout",
          "text": [
            "Loaded https://novokuzneck.allevacuators.ru/%D1%8D%D0%B2%D0%B0%D0%BA%D1%83%D0%B0%D1%82%D0%BE%D1%80-%D1%86%D0%B5%D0%BD%D0%B0.html\n",
            "3 1 Load result code 200 https://novokuzneck.allevacuators.ru/%D1%8D%D0%B2%D0%B0%D0%BA%D1%83%D0%B0%D1%82%D0%BE%D1%80-%D1%86%D0%B5%D0%BD%D0%B0.html\n"
          ]
        },
        {
          "output_type": "stream",
          "name": "stderr",
          "text": [
            "/usr/local/lib/python3.10/dist-packages/urllib3/connectionpool.py:1056: InsecureRequestWarning: Unverified HTTPS request is being made to host 'techneu.ru'. Adding certificate verification is strongly advised. See: https://urllib3.readthedocs.io/en/1.26.x/advanced-usage.html#ssl-warnings\n",
            "  warnings.warn(\n"
          ]
        },
        {
          "output_type": "stream",
          "name": "stdout",
          "text": [
            "Loaded https://techneu.ru/evakuator-iz-moskvy/novokuzneczk\n",
            "3 2 Load result code 200 https://techneu.ru/evakuator-iz-moskvy/novokuzneczk\n"
          ]
        },
        {
          "output_type": "stream",
          "name": "stderr",
          "text": [
            "/usr/local/lib/python3.10/dist-packages/urllib3/connectionpool.py:1056: InsecureRequestWarning: Unverified HTTPS request is being made to host 'www.all-evak.ru'. Adding certificate verification is strongly advised. See: https://urllib3.readthedocs.io/en/1.26.x/advanced-usage.html#ssl-warnings\n",
            "  warnings.warn(\n"
          ]
        },
        {
          "output_type": "stream",
          "name": "stdout",
          "text": [
            "Loaded https://www.all-evak.ru/\n",
            "3 3 Load result code 200 https://www.all-evak.ru/\n"
          ]
        },
        {
          "output_type": "stream",
          "name": "stderr",
          "text": [
            "/usr/local/lib/python3.10/dist-packages/urllib3/connectionpool.py:1056: InsecureRequestWarning: Unverified HTTPS request is being made to host 'evarus.ru'. Adding certificate verification is strongly advised. See: https://urllib3.readthedocs.io/en/1.26.x/advanced-usage.html#ssl-warnings\n",
            "  warnings.warn(\n"
          ]
        },
        {
          "output_type": "stream",
          "name": "stdout",
          "text": [
            "Loaded https://evarus.ru/\n",
            "3 4 Load result code 200 https://evarus.ru/\n"
          ]
        },
        {
          "output_type": "stream",
          "name": "stderr",
          "text": [
            "/usr/local/lib/python3.10/dist-packages/urllib3/connectionpool.py:1056: InsecureRequestWarning: Unverified HTTPS request is being made to host 'evacuator-msk.ru'. Adding certificate verification is strongly advised. See: https://urllib3.readthedocs.io/en/1.26.x/advanced-usage.html#ssl-warnings\n",
            "  warnings.warn(\n"
          ]
        },
        {
          "output_type": "stream",
          "name": "stdout",
          "text": [
            "Loaded https://evacuator-msk.ru/\n",
            "3 5 Load result code 200 https://evacuator-msk.ru/\n"
          ]
        },
        {
          "output_type": "stream",
          "name": "stderr",
          "text": [
            "/usr/local/lib/python3.10/dist-packages/urllib3/connectionpool.py:1056: InsecureRequestWarning: Unverified HTTPS request is being made to host 'xn----7sbafb3c3ajhlhk2ita.xn--p1ai'. Adding certificate verification is strongly advised. See: https://urllib3.readthedocs.io/en/1.26.x/advanced-usage.html#ssl-warnings\n",
            "  warnings.warn(\n"
          ]
        },
        {
          "output_type": "stream",
          "name": "stdout",
          "text": [
            "Loaded https://эвакуаторы-спб.рф/\n",
            "3 6 Load result code 200 https://эвакуаторы-спб.рф/\n"
          ]
        },
        {
          "output_type": "stream",
          "name": "stderr",
          "text": [
            "/usr/local/lib/python3.10/dist-packages/urllib3/connectionpool.py:1056: InsecureRequestWarning: Unverified HTTPS request is being made to host 'cartaxi.io'. Adding certificate verification is strongly advised. See: https://urllib3.readthedocs.io/en/1.26.x/advanced-usage.html#ssl-warnings\n",
            "  warnings.warn(\n"
          ]
        },
        {
          "output_type": "stream",
          "name": "stdout",
          "text": [
            "Loaded https://cartaxi.io/\n",
            "3 7 Load result code 200 https://cartaxi.io/\n"
          ]
        },
        {
          "output_type": "stream",
          "name": "stderr",
          "text": [
            "/usr/local/lib/python3.10/dist-packages/urllib3/connectionpool.py:1056: InsecureRequestWarning: Unverified HTTPS request is being made to host 'www.3101010.ru'. Adding certificate verification is strongly advised. See: https://urllib3.readthedocs.io/en/1.26.x/advanced-usage.html#ssl-warnings\n",
            "  warnings.warn(\n"
          ]
        },
        {
          "output_type": "stream",
          "name": "stdout",
          "text": [
            "Loaded https://www.3101010.ru/uslugi/evakuatory/\n",
            "3 8 Load result code 200 https://www.3101010.ru/uslugi/evakuatory/\n"
          ]
        },
        {
          "output_type": "stream",
          "name": "stderr",
          "text": [
            "/usr/local/lib/python3.10/dist-packages/urllib3/connectionpool.py:1056: InsecureRequestWarning: Unverified HTTPS request is being made to host 'evakuator-voronezh.ru'. Adding certificate verification is strongly advised. See: https://urllib3.readthedocs.io/en/1.26.x/advanced-usage.html#ssl-warnings\n",
            "  warnings.warn(\n"
          ]
        },
        {
          "output_type": "stream",
          "name": "stdout",
          "text": [
            "Loaded https://evakuator-voronezh.ru/\n",
            "3 9 Load result code 200 https://evakuator-voronezh.ru/\n"
          ]
        },
        {
          "output_type": "stream",
          "name": "stderr",
          "text": [
            "/usr/local/lib/python3.10/dist-packages/urllib3/connectionpool.py:1056: InsecureRequestWarning: Unverified HTTPS request is being made to host 'evakuatorhelp.ru'. Adding certificate verification is strongly advised. See: https://urllib3.readthedocs.io/en/1.26.x/advanced-usage.html#ssl-warnings\n",
            "  warnings.warn(\n"
          ]
        },
        {
          "output_type": "stream",
          "name": "stdout",
          "text": [
            "Loaded https://evakuatorhelp.ru/\n",
            "3 10 Load result code 200 https://evakuatorhelp.ru/\n"
          ]
        },
        {
          "output_type": "stream",
          "name": "stderr",
          "text": [
            "/usr/local/lib/python3.10/dist-packages/urllib3/connectionpool.py:1056: InsecureRequestWarning: Unverified HTTPS request is being made to host 'evakuator116.ru'. Adding certificate verification is strongly advised. See: https://urllib3.readthedocs.io/en/1.26.x/advanced-usage.html#ssl-warnings\n",
            "  warnings.warn(\n"
          ]
        },
        {
          "output_type": "stream",
          "name": "stdout",
          "text": [
            "Loaded https://evakuator116.ru/\n",
            "3 11 Load result code 200 https://evakuator116.ru/\n"
          ]
        },
        {
          "output_type": "stream",
          "name": "stderr",
          "text": [
            "/usr/local/lib/python3.10/dist-packages/urllib3/connectionpool.py:1056: InsecureRequestWarning: Unverified HTTPS request is being made to host 'act-54.ru'. Adding certificate verification is strongly advised. See: https://urllib3.readthedocs.io/en/1.26.x/advanced-usage.html#ssl-warnings\n",
            "  warnings.warn(\n"
          ]
        },
        {
          "output_type": "stream",
          "name": "stdout",
          "text": [
            "Loaded https://act-54.ru/\n",
            "3 12 Load result code 200 https://act-54.ru/\n"
          ]
        },
        {
          "output_type": "stream",
          "name": "stderr",
          "text": [
            "/usr/local/lib/python3.10/dist-packages/urllib3/connectionpool.py:1056: InsecureRequestWarning: Unverified HTTPS request is being made to host 'evakuat-or.ru'. Adding certificate verification is strongly advised. See: https://urllib3.readthedocs.io/en/1.26.x/advanced-usage.html#ssl-warnings\n",
            "  warnings.warn(\n"
          ]
        },
        {
          "output_type": "stream",
          "name": "stdout",
          "text": [
            "Loaded https://evakuat-or.ru/\n",
            "3 13 Load result code 200 https://evakuat-or.ru/\n"
          ]
        },
        {
          "output_type": "stream",
          "name": "stderr",
          "text": [
            "/usr/local/lib/python3.10/dist-packages/urllib3/connectionpool.py:1056: InsecureRequestWarning: Unverified HTTPS request is being made to host 'xn--80aaecplscczdhbb0a4apj4d0g.xn--p1ai'. Adding certificate verification is strongly advised. See: https://urllib3.readthedocs.io/en/1.26.x/advanced-usage.html#ssl-warnings\n",
            "  warnings.warn(\n"
          ]
        },
        {
          "output_type": "stream",
          "name": "stdout",
          "text": [
            "Loaded https://эвакуаторновокузнецк.рф/\n",
            "3 14 Load result code 200 https://эвакуаторновокузнецк.рф/\n",
            "Loaded http://www.pomz.ru/catalog/?prod_id=84\n",
            "3 15 Load result code 200 http://www.pomz.ru/catalog/?prod_id=84\n"
          ]
        },
        {
          "output_type": "stream",
          "name": "stderr",
          "text": [
            "/usr/local/lib/python3.10/dist-packages/urllib3/connectionpool.py:1056: InsecureRequestWarning: Unverified HTTPS request is being made to host 'www.evacuator-moskva.ru'. Adding certificate verification is strongly advised. See: https://urllib3.readthedocs.io/en/1.26.x/advanced-usage.html#ssl-warnings\n",
            "  warnings.warn(\n"
          ]
        },
        {
          "output_type": "stream",
          "name": "stdout",
          "text": [
            "Loaded https://www.evacuator-moskva.ru/\n",
            "3 16 Load result code 200 https://www.evacuator-moskva.ru/\n"
          ]
        },
        {
          "output_type": "stream",
          "name": "stderr",
          "text": [
            "/usr/local/lib/python3.10/dist-packages/urllib3/connectionpool.py:1056: InsecureRequestWarning: Unverified HTTPS request is being made to host 'xn----7sbagdlh0bzberwl0f2cxd.xn--p1acf'. Adding certificate verification is strongly advised. See: https://urllib3.readthedocs.io/en/1.26.x/advanced-usage.html#ssl-warnings\n",
            "  warnings.warn(\n"
          ]
        },
        {
          "output_type": "stream",
          "name": "stdout",
          "text": [
            "Loaded https://эвакуатор-дёшево.рус/\n",
            "3 17 Load result code 200 https://эвакуатор-дёшево.рус/\n"
          ]
        },
        {
          "output_type": "stream",
          "name": "stderr",
          "text": [
            "/usr/local/lib/python3.10/dist-packages/urllib3/connectionpool.py:1056: InsecureRequestWarning: Unverified HTTPS request is being made to host 'xn----8sbafb8ahfbfnybj4add0ar0r.xn--p1ai'. Adding certificate verification is strongly advised. See: https://urllib3.readthedocs.io/en/1.26.x/advanced-usage.html#ssl-warnings\n",
            "  warnings.warn(\n"
          ]
        },
        {
          "output_type": "stream",
          "name": "stdout",
          "text": [
            "Loaded https://московский-эвакуатор.рф/\n",
            "3 18 Load result code 200 https://московский-эвакуатор.рф/\n",
            "Loaded http://manipulator-ekb.ru/uslugi/gruzovoy_evakuator/\n",
            "3 19 Load result code 200 http://manipulator-ekb.ru/uslugi/gruzovoy_evakuator/\n"
          ]
        },
        {
          "output_type": "stream",
          "name": "stderr",
          "text": [
            "/usr/local/lib/python3.10/dist-packages/urllib3/connectionpool.py:1056: InsecureRequestWarning: Unverified HTTPS request is being made to host 'info-evakuator.ru'. Adding certificate verification is strongly advised. See: https://urllib3.readthedocs.io/en/1.26.x/advanced-usage.html#ssl-warnings\n",
            "  warnings.warn(\n"
          ]
        },
        {
          "output_type": "stream",
          "name": "stdout",
          "text": [
            "Loaded https://info-evakuator.ru/\n",
            "3 20 Load result code 200 https://info-evakuator.ru/\n"
          ]
        },
        {
          "output_type": "stream",
          "name": "stderr",
          "text": [
            "/usr/local/lib/python3.10/dist-packages/urllib3/connectionpool.py:1056: InsecureRequestWarning: Unverified HTTPS request is being made to host 'stroitaxi.ru'. Adding certificate verification is strongly advised. See: https://urllib3.readthedocs.io/en/1.26.x/advanced-usage.html#ssl-warnings\n",
            "  warnings.warn(\n"
          ]
        },
        {
          "output_type": "stream",
          "name": "stdout",
          "text": [
            "Loaded https://stroitaxi.ru/ryazan/catalog/arenda-spetstekhniki/evakuatori/\n",
            "3 21 Load result code 200 https://stroitaxi.ru/ryazan/catalog/arenda-spetstekhniki/evakuatori/\n"
          ]
        },
        {
          "output_type": "stream",
          "name": "stderr",
          "text": [
            "/usr/local/lib/python3.10/dist-packages/urllib3/connectionpool.py:1056: InsecureRequestWarning: Unverified HTTPS request is being made to host 'novokuznetsk.evakuator.team'. Adding certificate verification is strongly advised. See: https://urllib3.readthedocs.io/en/1.26.x/advanced-usage.html#ssl-warnings\n",
            "  warnings.warn(\n"
          ]
        },
        {
          "output_type": "stream",
          "name": "stdout",
          "text": [
            "Loaded https://novokuznetsk.evakuator.team/\n",
            "3 22 Load result code 200 https://novokuznetsk.evakuator.team/\n"
          ]
        },
        {
          "output_type": "stream",
          "name": "stderr",
          "text": [
            "/usr/local/lib/python3.10/dist-packages/urllib3/connectionpool.py:1056: InsecureRequestWarning: Unverified HTTPS request is being made to host 'www.autodrive.ru'. Adding certificate verification is strongly advised. See: https://urllib3.readthedocs.io/en/1.26.x/advanced-usage.html#ssl-warnings\n",
            "  warnings.warn(\n"
          ]
        },
        {
          "output_type": "stream",
          "name": "stdout",
          "text": [
            "Loaded https://www.autodrive.ru/moskva/evacuators/\n",
            "3 23 Load result code 200 https://www.autodrive.ru/moskva/evacuators/\n"
          ]
        },
        {
          "output_type": "stream",
          "name": "stderr",
          "text": [
            "/usr/local/lib/python3.10/dist-packages/urllib3/connectionpool.py:1056: InsecureRequestWarning: Unverified HTTPS request is being made to host 'step-nn.ru'. Adding certificate verification is strongly advised. See: https://urllib3.readthedocs.io/en/1.26.x/advanced-usage.html#ssl-warnings\n",
            "  warnings.warn(\n"
          ]
        },
        {
          "output_type": "stream",
          "name": "stdout",
          "text": [
            "Loaded https://step-nn.ru/\n",
            "3 24 Load result code 200 https://step-nn.ru/\n"
          ]
        },
        {
          "output_type": "stream",
          "name": "stderr",
          "text": [
            "/usr/local/lib/python3.10/dist-packages/urllib3/connectionpool.py:1056: InsecureRequestWarning: Unverified HTTPS request is being made to host '2222211.ru'. Adding certificate verification is strongly advised. See: https://urllib3.readthedocs.io/en/1.26.x/advanced-usage.html#ssl-warnings\n",
            "  warnings.warn(\n"
          ]
        },
        {
          "output_type": "stream",
          "name": "stdout",
          "text": [
            "Loaded https://2222211.ru/\n",
            "3 25 Load result code 200 https://2222211.ru/\n"
          ]
        },
        {
          "output_type": "stream",
          "name": "stderr",
          "text": [
            "/usr/local/lib/python3.10/dist-packages/urllib3/connectionpool.py:1056: InsecureRequestWarning: Unverified HTTPS request is being made to host 'perevozka-po-moskve.ru'. Adding certificate verification is strongly advised. See: https://urllib3.readthedocs.io/en/1.26.x/advanced-usage.html#ssl-warnings\n",
            "  warnings.warn(\n"
          ]
        },
        {
          "output_type": "stream",
          "name": "stdout",
          "text": [
            "Loaded https://perevozka-po-moskve.ru/evakuatori/\n",
            "3 26 Load result code 200 https://perevozka-po-moskve.ru/evakuatori/\n"
          ]
        },
        {
          "output_type": "stream",
          "name": "stderr",
          "text": [
            "/usr/local/lib/python3.10/dist-packages/urllib3/connectionpool.py:1056: InsecureRequestWarning: Unverified HTTPS request is being made to host 'xn----8sbafb8ahfbfnybj4add0ar0r.xn--p1ai'. Adding certificate verification is strongly advised. See: https://urllib3.readthedocs.io/en/1.26.x/advanced-usage.html#ssl-warnings\n",
            "  warnings.warn(\n"
          ]
        },
        {
          "output_type": "stream",
          "name": "stdout",
          "text": [
            "Loaded https://xn----8sbafb8ahfbfnybj4add0ar0r.xn--p1ai/\n",
            "3 27 Load result code 200 https://xn----8sbafb8ahfbfnybj4add0ar0r.xn--p1ai/\n"
          ]
        },
        {
          "output_type": "stream",
          "name": "stderr",
          "text": [
            "/usr/local/lib/python3.10/dist-packages/urllib3/connectionpool.py:1056: InsecureRequestWarning: Unverified HTTPS request is being made to host 'www.angelclub.ru'. Adding certificate verification is strongly advised. See: https://urllib3.readthedocs.io/en/1.26.x/advanced-usage.html#ssl-warnings\n",
            "  warnings.warn(\n"
          ]
        },
        {
          "output_type": "stream",
          "name": "stdout",
          "text": [
            "Loaded https://www.angelclub.ru/uslugi/evakuator.html\n",
            "3 28 Load result code 200 https://www.angelclub.ru/uslugi/evakuator.html\n"
          ]
        },
        {
          "output_type": "stream",
          "name": "stderr",
          "text": [
            "/usr/local/lib/python3.10/dist-packages/urllib3/connectionpool.py:1056: InsecureRequestWarning: Unverified HTTPS request is being made to host 'lat.spb.ru'. Adding certificate verification is strongly advised. See: https://urllib3.readthedocs.io/en/1.26.x/advanced-usage.html#ssl-warnings\n",
            "  warnings.warn(\n"
          ]
        },
        {
          "output_type": "stream",
          "name": "stdout",
          "text": [
            "Loaded https://lat.spb.ru/\n",
            "3 29 Load result code 200 https://lat.spb.ru/\n"
          ]
        },
        {
          "output_type": "stream",
          "name": "stderr",
          "text": [
            "/usr/local/lib/python3.10/dist-packages/urllib3/connectionpool.py:1056: InsecureRequestWarning: Unverified HTTPS request is being made to host 'evakuatorchikof.ru'. Adding certificate verification is strongly advised. See: https://urllib3.readthedocs.io/en/1.26.x/advanced-usage.html#ssl-warnings\n",
            "  warnings.warn(\n"
          ]
        },
        {
          "output_type": "stream",
          "name": "stdout",
          "text": [
            "Loaded https://evakuatorchikof.ru/\n",
            "3 30 Load result code 200 https://evakuatorchikof.ru/\n"
          ]
        },
        {
          "output_type": "stream",
          "name": "stderr",
          "text": [
            "/usr/local/lib/python3.10/dist-packages/urllib3/connectionpool.py:1056: InsecureRequestWarning: Unverified HTTPS request is being made to host 'xn--80aae7abxooh0h.xn--p1ai'. Adding certificate verification is strongly advised. See: https://urllib3.readthedocs.io/en/1.26.x/advanced-usage.html#ssl-warnings\n",
            "  warnings.warn(\n",
            "/usr/local/lib/python3.10/dist-packages/urllib3/connectionpool.py:1056: InsecureRequestWarning: Unverified HTTPS request is being made to host 'spb-perevozki-nedorogo.ru'. Adding certificate verification is strongly advised. See: https://urllib3.readthedocs.io/en/1.26.x/advanced-usage.html#ssl-warnings\n",
            "  warnings.warn(\n"
          ]
        },
        {
          "output_type": "stream",
          "name": "stdout",
          "text": [
            "Load error https://xn--80aae7abxooh0h.xn--p1ai/ 403\n",
            "3 31 Load result code 403 https://xn--80aae7abxooh0h.xn--p1ai/\n",
            "Loaded https://spb-perevozki-nedorogo.ru/arenda-evakuatora/\n",
            "3 32 Load result code 200 https://spb-perevozki-nedorogo.ru/arenda-evakuatora/\n"
          ]
        },
        {
          "output_type": "stream",
          "name": "stderr",
          "text": [
            "/usr/local/lib/python3.10/dist-packages/urllib3/connectionpool.py:1056: InsecureRequestWarning: Unverified HTTPS request is being made to host 'evakuator54.ru'. Adding certificate verification is strongly advised. See: https://urllib3.readthedocs.io/en/1.26.x/advanced-usage.html#ssl-warnings\n",
            "  warnings.warn(\n"
          ]
        },
        {
          "output_type": "stream",
          "name": "stdout",
          "text": [
            "Loaded https://evakuator54.ru/\n",
            "3 33 Load result code 200 https://evakuator54.ru/\n"
          ]
        },
        {
          "output_type": "stream",
          "name": "stderr",
          "text": [
            "/usr/local/lib/python3.10/dist-packages/urllib3/connectionpool.py:1056: InsecureRequestWarning: Unverified HTTPS request is being made to host 'krim-evakuator.ru'. Adding certificate verification is strongly advised. See: https://urllib3.readthedocs.io/en/1.26.x/advanced-usage.html#ssl-warnings\n",
            "  warnings.warn(\n"
          ]
        },
        {
          "output_type": "stream",
          "name": "stdout",
          "text": [
            "Loaded https://krim-evakuator.ru/\n",
            "3 34 Load result code 200 https://krim-evakuator.ru/\n"
          ]
        },
        {
          "output_type": "stream",
          "name": "stderr",
          "text": [
            "/usr/local/lib/python3.10/dist-packages/urllib3/connectionpool.py:1056: InsecureRequestWarning: Unverified HTTPS request is being made to host 'evacuator61.ru'. Adding certificate verification is strongly advised. See: https://urllib3.readthedocs.io/en/1.26.x/advanced-usage.html#ssl-warnings\n",
            "  warnings.warn(\n"
          ]
        },
        {
          "output_type": "stream",
          "name": "stdout",
          "text": [
            "Loaded https://evacuator61.ru/\n",
            "3 35 Load result code 200 https://evacuator61.ru/\n",
            "Loaded http://autogarant-nn.ru/\n",
            "3 36 Load result code 200 http://autogarant-nn.ru/\n"
          ]
        },
        {
          "output_type": "stream",
          "name": "stderr",
          "text": [
            "/usr/local/lib/python3.10/dist-packages/urllib3/connectionpool.py:1056: InsecureRequestWarning: Unverified HTTPS request is being made to host 'avtopomosh911.ru'. Adding certificate verification is strongly advised. See: https://urllib3.readthedocs.io/en/1.26.x/advanced-usage.html#ssl-warnings\n",
            "  warnings.warn(\n"
          ]
        },
        {
          "output_type": "stream",
          "name": "stdout",
          "text": [
            "Loaded https://avtopomosh911.ru/servis/evacuatrospb/\n",
            "3 37 Load result code 200 https://avtopomosh911.ru/servis/evacuatrospb/\n"
          ]
        },
        {
          "output_type": "stream",
          "name": "stderr",
          "text": [
            "/usr/local/lib/python3.10/dist-packages/urllib3/connectionpool.py:1056: InsecureRequestWarning: Unverified HTTPS request is being made to host 'xn----7sbagdlh0bzberwl0f2cxd.xn--p1acf'. Adding certificate verification is strongly advised. See: https://urllib3.readthedocs.io/en/1.26.x/advanced-usage.html#ssl-warnings\n",
            "  warnings.warn(\n"
          ]
        },
        {
          "output_type": "stream",
          "name": "stdout",
          "text": [
            "Loaded https://xn----7sbagdlh0bzberwl0f2cxd.xn--p1acf/\n",
            "3 38 Load result code 200 https://xn----7sbagdlh0bzberwl0f2cxd.xn--p1acf/\n"
          ]
        },
        {
          "output_type": "stream",
          "name": "stderr",
          "text": [
            "/usr/local/lib/python3.10/dist-packages/urllib3/connectionpool.py:1056: InsecureRequestWarning: Unverified HTTPS request is being made to host 'fusionauto82.ru'. Adding certificate verification is strongly advised. See: https://urllib3.readthedocs.io/en/1.26.x/advanced-usage.html#ssl-warnings\n",
            "  warnings.warn(\n"
          ]
        },
        {
          "output_type": "stream",
          "name": "stdout",
          "text": [
            "Loaded https://fusionauto82.ru/evakuator\n",
            "3 39 Load result code 200 https://fusionauto82.ru/evakuator\n"
          ]
        },
        {
          "output_type": "stream",
          "name": "stderr",
          "text": [
            "/usr/local/lib/python3.10/dist-packages/urllib3/connectionpool.py:1056: InsecureRequestWarning: Unverified HTTPS request is being made to host 'perevozka24.ru'. Adding certificate verification is strongly advised. See: https://urllib3.readthedocs.io/en/1.26.x/advanced-usage.html#ssl-warnings\n",
            "  warnings.warn(\n"
          ]
        },
        {
          "output_type": "stream",
          "name": "stdout",
          "text": [
            "Loaded https://perevozka24.ru/habarovsk-27/arenda-spetstehniki-evakuatory\n",
            "3 40 Load result code 200 https://perevozka24.ru/habarovsk-27/arenda-spetstehniki-evakuatory\n"
          ]
        },
        {
          "output_type": "stream",
          "name": "stderr",
          "text": [
            "/usr/local/lib/python3.10/dist-packages/urllib3/connectionpool.py:1056: InsecureRequestWarning: Unverified HTTPS request is being made to host 'truck24-evakuator.ru'. Adding certificate verification is strongly advised. See: https://urllib3.readthedocs.io/en/1.26.x/advanced-usage.html#ssl-warnings\n",
            "  warnings.warn(\n"
          ]
        },
        {
          "output_type": "stream",
          "name": "stdout",
          "text": [
            "Loaded https://truck24-evakuator.ru/\n",
            "3 41 Load result code 200 https://truck24-evakuator.ru/\n"
          ]
        },
        {
          "output_type": "stream",
          "name": "stderr",
          "text": [
            "/usr/local/lib/python3.10/dist-packages/urllib3/connectionpool.py:1056: InsecureRequestWarning: Unverified HTTPS request is being made to host 'evakuator55.ru'. Adding certificate verification is strongly advised. See: https://urllib3.readthedocs.io/en/1.26.x/advanced-usage.html#ssl-warnings\n",
            "  warnings.warn(\n"
          ]
        },
        {
          "output_type": "stream",
          "name": "stdout",
          "text": [
            "Loaded https://evakuator55.ru/\n",
            "3 42 Load result code 200 https://evakuator55.ru/\n",
            "Loaded http://tyumen.buxir24.ru/\n",
            "3 43 Load result code 200 http://tyumen.buxir24.ru/\n"
          ]
        },
        {
          "output_type": "stream",
          "name": "stderr",
          "text": [
            "/usr/local/lib/python3.10/dist-packages/urllib3/connectionpool.py:1056: InsecureRequestWarning: Unverified HTTPS request is being made to host 'www.allo-evakuator33.ru'. Adding certificate verification is strongly advised. See: https://urllib3.readthedocs.io/en/1.26.x/advanced-usage.html#ssl-warnings\n",
            "  warnings.warn(\n"
          ]
        },
        {
          "output_type": "stream",
          "name": "stdout",
          "text": [
            "Loaded https://www.allo-evakuator33.ru/\n",
            "3 44 Load result code 200 https://www.allo-evakuator33.ru/\n"
          ]
        },
        {
          "output_type": "stream",
          "name": "stderr",
          "text": [
            "/usr/local/lib/python3.10/dist-packages/urllib3/connectionpool.py:1056: InsecureRequestWarning: Unverified HTTPS request is being made to host 'www.222-2-222.ru'. Adding certificate verification is strongly advised. See: https://urllib3.readthedocs.io/en/1.26.x/advanced-usage.html#ssl-warnings\n",
            "  warnings.warn(\n"
          ]
        },
        {
          "output_type": "stream",
          "name": "stdout",
          "text": [
            "Loaded https://www.222-2-222.ru/uslugi/evakuatory-222/\n",
            "3 45 Load result code 200 https://www.222-2-222.ru/uslugi/evakuatory-222/\n"
          ]
        },
        {
          "output_type": "stream",
          "name": "stderr",
          "text": [
            "/usr/local/lib/python3.10/dist-packages/urllib3/connectionpool.py:1056: InsecureRequestWarning: Unverified HTTPS request is being made to host 'multi-evac.ru'. Adding certificate verification is strongly advised. See: https://urllib3.readthedocs.io/en/1.26.x/advanced-usage.html#ssl-warnings\n",
            "  warnings.warn(\n"
          ]
        },
        {
          "output_type": "stream",
          "name": "stdout",
          "text": [
            "Loaded https://multi-evac.ru/\n",
            "3 46 Load result code 200 https://multi-evac.ru/\n"
          ]
        },
        {
          "output_type": "stream",
          "name": "stderr",
          "text": [
            "/usr/local/lib/python3.10/dist-packages/urllib3/connectionpool.py:1056: InsecureRequestWarning: Unverified HTTPS request is being made to host 'evakuator86.ru'. Adding certificate verification is strongly advised. See: https://urllib3.readthedocs.io/en/1.26.x/advanced-usage.html#ssl-warnings\n",
            "  warnings.warn(\n"
          ]
        },
        {
          "output_type": "stream",
          "name": "stdout",
          "text": [
            "Loaded https://evakuator86.ru/\n",
            "3 47 Load result code 200 https://evakuator86.ru/\n"
          ]
        },
        {
          "output_type": "stream",
          "name": "stderr",
          "text": [
            "/usr/local/lib/python3.10/dist-packages/urllib3/connectionpool.py:1056: InsecureRequestWarning: Unverified HTTPS request is being made to host 'evakuator-vladimir.ru'. Adding certificate verification is strongly advised. See: https://urllib3.readthedocs.io/en/1.26.x/advanced-usage.html#ssl-warnings\n",
            "  warnings.warn(\n"
          ]
        },
        {
          "output_type": "stream",
          "name": "stdout",
          "text": [
            "Loaded https://evakuator-vladimir.ru/\n",
            "3 48 Load result code 200 https://evakuator-vladimir.ru/\n"
          ]
        },
        {
          "output_type": "stream",
          "name": "stderr",
          "text": [
            "/usr/local/lib/python3.10/dist-packages/urllib3/connectionpool.py:1056: InsecureRequestWarning: Unverified HTTPS request is being made to host 'evakuator26.com'. Adding certificate verification is strongly advised. See: https://urllib3.readthedocs.io/en/1.26.x/advanced-usage.html#ssl-warnings\n",
            "  warnings.warn(\n"
          ]
        },
        {
          "output_type": "stream",
          "name": "stdout",
          "text": [
            "Loaded https://evakuator26.com/\n",
            "3 49 Load result code 200 https://evakuator26.com/\n"
          ]
        },
        {
          "output_type": "stream",
          "name": "stderr",
          "text": [
            "/usr/local/lib/python3.10/dist-packages/urllib3/connectionpool.py:1056: InsecureRequestWarning: Unverified HTTPS request is being made to host 'evakuator-avtospec54.ru'. Adding certificate verification is strongly advised. See: https://urllib3.readthedocs.io/en/1.26.x/advanced-usage.html#ssl-warnings\n",
            "  warnings.warn(\n"
          ]
        },
        {
          "output_type": "stream",
          "name": "stdout",
          "text": [
            "Loaded https://evakuator-avtospec54.ru/\n",
            "3 50 Load result code 200 https://evakuator-avtospec54.ru/\n"
          ]
        },
        {
          "output_type": "stream",
          "name": "stderr",
          "text": [
            "/usr/local/lib/python3.10/dist-packages/urllib3/connectionpool.py:1056: InsecureRequestWarning: Unverified HTTPS request is being made to host 'evacuator-emteh.ru'. Adding certificate verification is strongly advised. See: https://urllib3.readthedocs.io/en/1.26.x/advanced-usage.html#ssl-warnings\n",
            "  warnings.warn(\n"
          ]
        },
        {
          "output_type": "stream",
          "name": "stdout",
          "text": [
            "Loaded https://evacuator-emteh.ru/\n",
            "3 51 Load result code 200 https://evacuator-emteh.ru/\n"
          ]
        },
        {
          "output_type": "stream",
          "name": "stderr",
          "text": [
            "/usr/local/lib/python3.10/dist-packages/urllib3/connectionpool.py:1056: InsecureRequestWarning: Unverified HTTPS request is being made to host 'chelevakuator.ru'. Adding certificate verification is strongly advised. See: https://urllib3.readthedocs.io/en/1.26.x/advanced-usage.html#ssl-warnings\n",
            "  warnings.warn(\n"
          ]
        },
        {
          "output_type": "stream",
          "name": "stdout",
          "text": [
            "Loaded https://chelevakuator.ru/\n",
            "3 52 Load result code 200 https://chelevakuator.ru/\n"
          ]
        },
        {
          "output_type": "stream",
          "name": "stderr",
          "text": [
            "/usr/local/lib/python3.10/dist-packages/urllib3/connectionpool.py:1056: InsecureRequestWarning: Unverified HTTPS request is being made to host 'evakuator-chekhov.ru'. Adding certificate verification is strongly advised. See: https://urllib3.readthedocs.io/en/1.26.x/advanced-usage.html#ssl-warnings\n",
            "  warnings.warn(\n"
          ]
        },
        {
          "output_type": "stream",
          "name": "stdout",
          "text": [
            "Loaded https://evakuator-chekhov.ru/\n",
            "3 53 Load result code 200 https://evakuator-chekhov.ru/\n"
          ]
        },
        {
          "output_type": "stream",
          "name": "stderr",
          "text": [
            "/usr/local/lib/python3.10/dist-packages/urllib3/connectionpool.py:1056: InsecureRequestWarning: Unverified HTTPS request is being made to host '2020112.ru'. Adding certificate verification is strongly advised. See: https://urllib3.readthedocs.io/en/1.26.x/advanced-usage.html#ssl-warnings\n",
            "  warnings.warn(\n"
          ]
        },
        {
          "output_type": "stream",
          "name": "stdout",
          "text": [
            "Loaded https://2020112.ru/services/evakuator_do_6_tonn/evakuator_legkovykh_avtomobiley/\n",
            "3 54 Load result code 200 https://2020112.ru/services/evakuator_do_6_tonn/evakuator_legkovykh_avtomobiley/\n"
          ]
        },
        {
          "output_type": "stream",
          "name": "stderr",
          "text": [
            "/usr/local/lib/python3.10/dist-packages/urllib3/connectionpool.py:1056: InsecureRequestWarning: Unverified HTTPS request is being made to host 'www.veberauto-evakuator.ru'. Adding certificate verification is strongly advised. See: https://urllib3.readthedocs.io/en/1.26.x/advanced-usage.html#ssl-warnings\n",
            "  warnings.warn(\n"
          ]
        },
        {
          "output_type": "stream",
          "name": "stdout",
          "text": [
            "Loaded https://www.veberauto-evakuator.ru/\n",
            "3 55 Load result code 200 https://www.veberauto-evakuator.ru/\n"
          ]
        },
        {
          "output_type": "stream",
          "name": "stderr",
          "text": [
            "/usr/local/lib/python3.10/dist-packages/urllib3/connectionpool.py:1056: InsecureRequestWarning: Unverified HTTPS request is being made to host 'evakuator24kazan.ru'. Adding certificate verification is strongly advised. See: https://urllib3.readthedocs.io/en/1.26.x/advanced-usage.html#ssl-warnings\n",
            "  warnings.warn(\n"
          ]
        },
        {
          "output_type": "stream",
          "name": "stdout",
          "text": [
            "Loaded https://evakuator24kazan.ru/\n",
            "3 56 Load result code 200 https://evakuator24kazan.ru/\n",
            "Loaded http://xn--22-6kcai3c3aqqi0i.xn--p1ai/\n",
            "3 57 Load result code 200 http://xn--22-6kcai3c3aqqi0i.xn--p1ai/\n"
          ]
        },
        {
          "output_type": "stream",
          "name": "stderr",
          "text": [
            "/usr/local/lib/python3.10/dist-packages/urllib3/connectionpool.py:1056: InsecureRequestWarning: Unverified HTTPS request is being made to host 'unis-lada.ru'. Adding certificate verification is strongly advised. See: https://urllib3.readthedocs.io/en/1.26.x/advanced-usage.html#ssl-warnings\n",
            "  warnings.warn(\n"
          ]
        },
        {
          "output_type": "stream",
          "name": "stdout",
          "text": [
            "Loaded https://unis-lada.ru/services/evakuator/\n",
            "3 58 Load result code 200 https://unis-lada.ru/services/evakuator/\n"
          ]
        },
        {
          "output_type": "stream",
          "name": "stderr",
          "text": [
            "/usr/local/lib/python3.10/dist-packages/urllib3/connectionpool.py:1056: InsecureRequestWarning: Unverified HTTPS request is being made to host 'msk-evakuator.ru'. Adding certificate verification is strongly advised. See: https://urllib3.readthedocs.io/en/1.26.x/advanced-usage.html#ssl-warnings\n",
            "  warnings.warn(\n"
          ]
        },
        {
          "output_type": "stream",
          "name": "stdout",
          "text": [
            "Loaded https://msk-evakuator.ru/\n",
            "3 59 Load result code 200 https://msk-evakuator.ru/\n"
          ]
        },
        {
          "output_type": "stream",
          "name": "stderr",
          "text": [
            "/usr/local/lib/python3.10/dist-packages/urllib3/connectionpool.py:1056: InsecureRequestWarning: Unverified HTTPS request is being made to host 'www.gorunov-auto.ru'. Adding certificate verification is strongly advised. See: https://urllib3.readthedocs.io/en/1.26.x/advanced-usage.html#ssl-warnings\n",
            "  warnings.warn(\n"
          ]
        },
        {
          "output_type": "stream",
          "name": "stdout",
          "text": [
            "Loaded https://www.gorunov-auto.ru/order.html\n",
            "3 60 Load result code 200 https://www.gorunov-auto.ru/order.html\n"
          ]
        },
        {
          "output_type": "stream",
          "name": "stderr",
          "text": [
            "/usr/local/lib/python3.10/dist-packages/urllib3/connectionpool.py:1056: InsecureRequestWarning: Unverified HTTPS request is being made to host 'tver-evakuator.ru'. Adding certificate verification is strongly advised. See: https://urllib3.readthedocs.io/en/1.26.x/advanced-usage.html#ssl-warnings\n",
            "  warnings.warn(\n"
          ]
        },
        {
          "output_type": "stream",
          "name": "stdout",
          "text": [
            "Loaded https://tver-evakuator.ru/\n",
            "3 61 Load result code 200 https://tver-evakuator.ru/\n"
          ]
        },
        {
          "output_type": "stream",
          "name": "stderr",
          "text": [
            "/usr/local/lib/python3.10/dist-packages/urllib3/connectionpool.py:1056: InsecureRequestWarning: Unverified HTTPS request is being made to host 'autokorufa.ru'. Adding certificate verification is strongly advised. See: https://urllib3.readthedocs.io/en/1.26.x/advanced-usage.html#ssl-warnings\n",
            "  warnings.warn(\n"
          ]
        },
        {
          "output_type": "stream",
          "name": "stdout",
          "text": [
            "Loaded https://autokorufa.ru/uslugi-evakuatora\n",
            "3 62 Load result code 200 https://autokorufa.ru/uslugi-evakuatora\n"
          ]
        },
        {
          "output_type": "stream",
          "name": "stderr",
          "text": [
            "/usr/local/lib/python3.10/dist-packages/urllib3/connectionpool.py:1056: InsecureRequestWarning: Unverified HTTPS request is being made to host 'evakuator-smol.ru'. Adding certificate verification is strongly advised. See: https://urllib3.readthedocs.io/en/1.26.x/advanced-usage.html#ssl-warnings\n",
            "  warnings.warn(\n"
          ]
        },
        {
          "output_type": "stream",
          "name": "stdout",
          "text": [
            "Loaded https://evakuator-smol.ru/blog/kak-pravilno-vyzvat-evakuator\n",
            "3 63 Load result code 200 https://evakuator-smol.ru/blog/kak-pravilno-vyzvat-evakuator\n"
          ]
        },
        {
          "output_type": "stream",
          "name": "stderr",
          "text": [
            "/usr/local/lib/python3.10/dist-packages/urllib3/connectionpool.py:1056: InsecureRequestWarning: Unverified HTTPS request is being made to host 'xn----7sbafb3c3ajhlhk2ita.xn--p1ai'. Adding certificate verification is strongly advised. See: https://urllib3.readthedocs.io/en/1.26.x/advanced-usage.html#ssl-warnings\n",
            "  warnings.warn(\n"
          ]
        },
        {
          "output_type": "stream",
          "name": "stdout",
          "text": [
            "Loaded https://xn----7sbafb3c3ajhlhk2ita.xn--p1ai/\n",
            "3 64 Load result code 200 https://xn----7sbafb3c3ajhlhk2ita.xn--p1ai/\n"
          ]
        },
        {
          "output_type": "stream",
          "name": "stderr",
          "text": [
            "/usr/local/lib/python3.10/dist-packages/urllib3/connectionpool.py:1056: InsecureRequestWarning: Unverified HTTPS request is being made to host 'evacuator-nn.ru'. Adding certificate verification is strongly advised. See: https://urllib3.readthedocs.io/en/1.26.x/advanced-usage.html#ssl-warnings\n",
            "  warnings.warn(\n"
          ]
        },
        {
          "output_type": "stream",
          "name": "stdout",
          "text": [
            "Loaded https://evacuator-nn.ru/oblast/kstovo/\n",
            "3 65 Load result code 200 https://evacuator-nn.ru/oblast/kstovo/\n"
          ]
        },
        {
          "output_type": "stream",
          "name": "stderr",
          "text": [
            "/usr/local/lib/python3.10/dist-packages/urllib3/connectionpool.py:1056: InsecureRequestWarning: Unverified HTTPS request is being made to host 'buksirovshik.ru'. Adding certificate verification is strongly advised. See: https://urllib3.readthedocs.io/en/1.26.x/advanced-usage.html#ssl-warnings\n",
            "  warnings.warn(\n"
          ]
        },
        {
          "output_type": "stream",
          "name": "stdout",
          "text": [
            "Loaded https://buksirovshik.ru/stati/152-evakuator-deshevo.html\n",
            "3 66 Load result code 200 https://buksirovshik.ru/stati/152-evakuator-deshevo.html\n"
          ]
        },
        {
          "output_type": "stream",
          "name": "stderr",
          "text": [
            "/usr/local/lib/python3.10/dist-packages/urllib3/connectionpool.py:1056: InsecureRequestWarning: Unverified HTTPS request is being made to host 'ekonom-evakyator-66.ru'. Adding certificate verification is strongly advised. See: https://urllib3.readthedocs.io/en/1.26.x/advanced-usage.html#ssl-warnings\n",
            "  warnings.warn(\n"
          ]
        },
        {
          "output_type": "stream",
          "name": "stdout",
          "text": [
            "Loaded https://ekonom-evakyator-66.ru/\n",
            "3 67 Load result code 200 https://ekonom-evakyator-66.ru/\n"
          ]
        },
        {
          "output_type": "stream",
          "name": "stderr",
          "text": [
            "/usr/local/lib/python3.10/dist-packages/urllib3/connectionpool.py:1056: InsecureRequestWarning: Unverified HTTPS request is being made to host 'evakuator-don.ru'. Adding certificate verification is strongly advised. See: https://urllib3.readthedocs.io/en/1.26.x/advanced-usage.html#ssl-warnings\n",
            "  warnings.warn(\n"
          ]
        },
        {
          "output_type": "stream",
          "name": "stdout",
          "text": [
            "Loaded https://evakuator-don.ru/\n",
            "3 68 Load result code 200 https://evakuator-don.ru/\n"
          ]
        },
        {
          "output_type": "stream",
          "name": "stderr",
          "text": [
            "/usr/local/lib/python3.10/dist-packages/urllib3/connectionpool.py:1056: InsecureRequestWarning: Unverified HTTPS request is being made to host 'tecnica24.ru'. Adding certificate verification is strongly advised. See: https://urllib3.readthedocs.io/en/1.26.x/advanced-usage.html#ssl-warnings\n",
            "  warnings.warn(\n"
          ]
        },
        {
          "output_type": "stream",
          "name": "stdout",
          "text": [
            "Loaded https://tecnica24.ru/services/evakuaciya/kran-manipulyator/\n",
            "3 69 Load result code 200 https://tecnica24.ru/services/evakuaciya/kran-manipulyator/\n"
          ]
        },
        {
          "output_type": "stream",
          "name": "stderr",
          "text": [
            "/usr/local/lib/python3.10/dist-packages/urllib3/connectionpool.py:1056: InsecureRequestWarning: Unverified HTTPS request is being made to host 'teleportpro.org'. Adding certificate verification is strongly advised. See: https://urllib3.readthedocs.io/en/1.26.x/advanced-usage.html#ssl-warnings\n",
            "  warnings.warn(\n"
          ]
        },
        {
          "output_type": "stream",
          "name": "stdout",
          "text": [
            "Loaded https://teleportpro.org/uslugi/evakuator/\n",
            "3 70 Load result code 200 https://teleportpro.org/uslugi/evakuator/\n"
          ]
        },
        {
          "output_type": "stream",
          "name": "stderr",
          "text": [
            "/usr/local/lib/python3.10/dist-packages/urllib3/connectionpool.py:1056: InsecureRequestWarning: Unverified HTTPS request is being made to host 'evakuator-club.com'. Adding certificate verification is strongly advised. See: https://urllib3.readthedocs.io/en/1.26.x/advanced-usage.html#ssl-warnings\n",
            "  warnings.warn(\n"
          ]
        },
        {
          "output_type": "stream",
          "name": "stdout",
          "text": [
            "Loaded https://evakuator-club.com/services/\n",
            "3 71 Load result code 200 https://evakuator-club.com/services/\n"
          ]
        },
        {
          "output_type": "stream",
          "name": "stderr",
          "text": [
            "/usr/local/lib/python3.10/dist-packages/urllib3/connectionpool.py:1056: InsecureRequestWarning: Unverified HTTPS request is being made to host 'evacuator53.ru'. Adding certificate verification is strongly advised. See: https://urllib3.readthedocs.io/en/1.26.x/advanced-usage.html#ssl-warnings\n",
            "  warnings.warn(\n"
          ]
        },
        {
          "output_type": "stream",
          "name": "stdout",
          "text": [
            "Loaded https://evacuator53.ru/\n",
            "3 72 Load result code 200 https://evacuator53.ru/\n"
          ]
        },
        {
          "output_type": "stream",
          "name": "stderr",
          "text": [
            "/usr/local/lib/python3.10/dist-packages/urllib3/connectionpool.py:1056: InsecureRequestWarning: Unverified HTTPS request is being made to host 'drug-evakuator.ru'. Adding certificate verification is strongly advised. See: https://urllib3.readthedocs.io/en/1.26.x/advanced-usage.html#ssl-warnings\n",
            "  warnings.warn(\n"
          ]
        },
        {
          "output_type": "stream",
          "name": "stdout",
          "text": [
            "Loaded https://drug-evakuator.ru/\n",
            "3 73 Load result code 200 https://drug-evakuator.ru/\n"
          ]
        },
        {
          "output_type": "stream",
          "name": "stderr",
          "text": [
            "/usr/local/lib/python3.10/dist-packages/urllib3/connectionpool.py:1056: InsecureRequestWarning: Unverified HTTPS request is being made to host '222222.ru'. Adding certificate verification is strongly advised. See: https://urllib3.readthedocs.io/en/1.26.x/advanced-usage.html#ssl-warnings\n",
            "  warnings.warn(\n"
          ]
        },
        {
          "output_type": "stream",
          "name": "stdout",
          "text": [
            "Loaded https://222222.ru/zakaz-evakuatora/\n",
            "3 74 Load result code 200 https://222222.ru/zakaz-evakuatora/\n"
          ]
        },
        {
          "output_type": "stream",
          "name": "stderr",
          "text": [
            "/usr/local/lib/python3.10/dist-packages/urllib3/connectionpool.py:1056: InsecureRequestWarning: Unverified HTTPS request is being made to host 'stomobil.ru'. Adding certificate verification is strongly advised. See: https://urllib3.readthedocs.io/en/1.26.x/advanced-usage.html#ssl-warnings\n",
            "  warnings.warn(\n"
          ]
        },
        {
          "output_type": "stream",
          "name": "stdout",
          "text": [
            "Loaded https://stomobil.ru/evakuator.html\n",
            "3 75 Load result code 200 https://stomobil.ru/evakuator.html\n"
          ]
        },
        {
          "output_type": "stream",
          "name": "stderr",
          "text": [
            "/usr/local/lib/python3.10/dist-packages/urllib3/connectionpool.py:1056: InsecureRequestWarning: Unverified HTTPS request is being made to host 'xn----7sbagdlh0bzberwl0f2cxd.xn--80adxhks'. Adding certificate verification is strongly advised. See: https://urllib3.readthedocs.io/en/1.26.x/advanced-usage.html#ssl-warnings\n",
            "  warnings.warn(\n"
          ]
        },
        {
          "output_type": "stream",
          "name": "stdout",
          "text": [
            "Loaded https://xn----7sbagdlh0bzberwl0f2cxd.xn--80adxhks/\n",
            "3 76 Load result code 200 https://xn----7sbagdlh0bzberwl0f2cxd.xn--80adxhks/\n"
          ]
        },
        {
          "output_type": "stream",
          "name": "stderr",
          "text": [
            "/usr/local/lib/python3.10/dist-packages/urllib3/connectionpool.py:1056: InsecureRequestWarning: Unverified HTTPS request is being made to host 'evakuator-msk.com'. Adding certificate verification is strongly advised. See: https://urllib3.readthedocs.io/en/1.26.x/advanced-usage.html#ssl-warnings\n",
            "  warnings.warn(\n"
          ]
        },
        {
          "output_type": "stream",
          "name": "stdout",
          "text": [
            "Loaded https://evakuator-msk.com/\n",
            "3 77 Load result code 200 https://evakuator-msk.com/\n"
          ]
        },
        {
          "output_type": "stream",
          "name": "stderr",
          "text": [
            "/usr/local/lib/python3.10/dist-packages/urllib3/connectionpool.py:1056: InsecureRequestWarning: Unverified HTTPS request is being made to host 'www.flagman-avto.ru'. Adding certificate verification is strongly advised. See: https://urllib3.readthedocs.io/en/1.26.x/advanced-usage.html#ssl-warnings\n",
            "  warnings.warn(\n",
            "/usr/local/lib/python3.10/dist-packages/urllib3/connectionpool.py:1056: InsecureRequestWarning: Unverified HTTPS request is being made to host 'www.flagman-avto.ru'. Adding certificate verification is strongly advised. See: https://urllib3.readthedocs.io/en/1.26.x/advanced-usage.html#ssl-warnings\n",
            "  warnings.warn(\n"
          ]
        },
        {
          "output_type": "stream",
          "name": "stdout",
          "text": [
            "Loaded https://www.flagman-avto.ru/order-truck/\n",
            "3 78 Load result code 200 https://www.flagman-avto.ru/order-truck/\n"
          ]
        },
        {
          "output_type": "stream",
          "name": "stderr",
          "text": [
            "/usr/local/lib/python3.10/dist-packages/urllib3/connectionpool.py:1056: InsecureRequestWarning: Unverified HTTPS request is being made to host 'fix4car.ru'. Adding certificate verification is strongly advised. See: https://urllib3.readthedocs.io/en/1.26.x/advanced-usage.html#ssl-warnings\n",
            "  warnings.warn(\n"
          ]
        },
        {
          "output_type": "stream",
          "name": "stdout",
          "text": [
            "Loaded https://fix4car.ru/pomoshh-na-doroge/evakuator/\n",
            "3 79 Load result code 200 https://fix4car.ru/pomoshh-na-doroge/evakuator/\n"
          ]
        },
        {
          "output_type": "stream",
          "name": "stderr",
          "text": [
            "/usr/local/lib/python3.10/dist-packages/urllib3/connectionpool.py:1056: InsecureRequestWarning: Unverified HTTPS request is being made to host 'jupiter-k.com'. Adding certificate verification is strongly advised. See: https://urllib3.readthedocs.io/en/1.26.x/advanced-usage.html#ssl-warnings\n",
            "  warnings.warn(\n"
          ]
        },
        {
          "output_type": "stream",
          "name": "stdout",
          "text": [
            "Loaded https://jupiter-k.com/\n",
            "3 80 Load result code 200 https://jupiter-k.com/\n"
          ]
        },
        {
          "output_type": "stream",
          "name": "stderr",
          "text": [
            "/usr/local/lib/python3.10/dist-packages/urllib3/connectionpool.py:1056: InsecureRequestWarning: Unverified HTTPS request is being made to host 'panrent.ru'. Adding certificate verification is strongly advised. See: https://urllib3.readthedocs.io/en/1.26.x/advanced-usage.html#ssl-warnings\n",
            "  warnings.warn(\n"
          ]
        },
        {
          "output_type": "stream",
          "name": "stdout",
          "text": [
            "Loaded https://panrent.ru/catalog/evakyatori/\n",
            "3 81 Load result code 200 https://panrent.ru/catalog/evakyatori/\n"
          ]
        },
        {
          "output_type": "stream",
          "name": "stderr",
          "text": [
            "/usr/local/lib/python3.10/dist-packages/urllib3/connectionpool.py:1056: InsecureRequestWarning: Unverified HTTPS request is being made to host 'www.mmcclub.ru'. Adding certificate verification is strongly advised. See: https://urllib3.readthedocs.io/en/1.26.x/advanced-usage.html#ssl-warnings\n",
            "  warnings.warn(\n"
          ]
        },
        {
          "output_type": "stream",
          "name": "stdout",
          "text": [
            "Loaded https://www.mmcclub.ru/service/jevakuat-or/\n",
            "3 82 Load result code 200 https://www.mmcclub.ru/service/jevakuat-or/\n"
          ]
        },
        {
          "output_type": "stream",
          "name": "stderr",
          "text": [
            "/usr/local/lib/python3.10/dist-packages/urllib3/connectionpool.py:1056: InsecureRequestWarning: Unverified HTTPS request is being made to host 'evakuator-sz.ru'. Adding certificate verification is strongly advised. See: https://urllib3.readthedocs.io/en/1.26.x/advanced-usage.html#ssl-warnings\n",
            "  warnings.warn(\n"
          ]
        },
        {
          "output_type": "stream",
          "name": "stdout",
          "text": [
            "Loaded https://evakuator-sz.ru/\n",
            "3 83 Load result code 200 https://evakuator-sz.ru/\n"
          ]
        },
        {
          "output_type": "stream",
          "name": "stderr",
          "text": [
            "/usr/local/lib/python3.10/dist-packages/urllib3/connectionpool.py:1056: InsecureRequestWarning: Unverified HTTPS request is being made to host 'antey-evakuator.ru'. Adding certificate verification is strongly advised. See: https://urllib3.readthedocs.io/en/1.26.x/advanced-usage.html#ssl-warnings\n",
            "  warnings.warn(\n"
          ]
        },
        {
          "output_type": "stream",
          "name": "stdout",
          "text": [
            "Loaded https://antey-evakuator.ru/price/\n",
            "3 84 Load result code 200 https://antey-evakuator.ru/price/\n"
          ]
        },
        {
          "output_type": "stream",
          "name": "stderr",
          "text": [
            "/usr/local/lib/python3.10/dist-packages/urllib3/connectionpool.py:1056: InsecureRequestWarning: Unverified HTTPS request is being made to host 'www.evakuator-ek.ru'. Adding certificate verification is strongly advised. See: https://urllib3.readthedocs.io/en/1.26.x/advanced-usage.html#ssl-warnings\n",
            "  warnings.warn(\n"
          ]
        },
        {
          "output_type": "stream",
          "name": "stdout",
          "text": [
            "Loaded https://www.evakuator-ek.ru/\n",
            "3 85 Load result code 200 https://www.evakuator-ek.ru/\n",
            "Loaded http://evakuator-63.ru/\n",
            "3 86 Load result code 200 http://evakuator-63.ru/\n"
          ]
        },
        {
          "output_type": "stream",
          "name": "stderr",
          "text": [
            "/usr/local/lib/python3.10/dist-packages/urllib3/connectionpool.py:1056: InsecureRequestWarning: Unverified HTTPS request is being made to host 'neoavto.ru'. Adding certificate verification is strongly advised. See: https://urllib3.readthedocs.io/en/1.26.x/advanced-usage.html#ssl-warnings\n",
            "  warnings.warn(\n"
          ]
        },
        {
          "output_type": "stream",
          "name": "stdout",
          "text": [
            "Loaded https://neoavto.ru/evakuator/vyborg/\n",
            "3 87 Load result code 200 https://neoavto.ru/evakuator/vyborg/\n"
          ]
        },
        {
          "output_type": "stream",
          "name": "stderr",
          "text": [
            "/usr/local/lib/python3.10/dist-packages/urllib3/connectionpool.py:1056: InsecureRequestWarning: Unverified HTTPS request is being made to host 'vizvat-evakuator.ru'. Adding certificate verification is strongly advised. See: https://urllib3.readthedocs.io/en/1.26.x/advanced-usage.html#ssl-warnings\n",
            "  warnings.warn(\n"
          ]
        },
        {
          "output_type": "stream",
          "name": "stdout",
          "text": [
            "Loaded https://vizvat-evakuator.ru/\n",
            "3 88 Load result code 200 https://vizvat-evakuator.ru/\n"
          ]
        },
        {
          "output_type": "stream",
          "name": "stderr",
          "text": [
            "/usr/local/lib/python3.10/dist-packages/urllib3/connectionpool.py:1056: InsecureRequestWarning: Unverified HTTPS request is being made to host 'evakuator-m4.ru'. Adding certificate verification is strongly advised. See: https://urllib3.readthedocs.io/en/1.26.x/advanced-usage.html#ssl-warnings\n",
            "  warnings.warn(\n"
          ]
        },
        {
          "output_type": "stream",
          "name": "stdout",
          "text": [
            "Loaded https://evakuator-m4.ru/\n",
            "3 89 Load result code 200 https://evakuator-m4.ru/\n"
          ]
        },
        {
          "output_type": "stream",
          "name": "stderr",
          "text": [
            "/usr/local/lib/python3.10/dist-packages/urllib3/connectionpool.py:1056: InsecureRequestWarning: Unverified HTTPS request is being made to host 'auto-help39.ru'. Adding certificate verification is strongly advised. See: https://urllib3.readthedocs.io/en/1.26.x/advanced-usage.html#ssl-warnings\n",
            "  warnings.warn(\n"
          ]
        },
        {
          "output_type": "stream",
          "name": "stdout",
          "text": [
            "Loaded https://auto-help39.ru/\n",
            "3 90 Load result code 200 https://auto-help39.ru/\n"
          ]
        },
        {
          "output_type": "stream",
          "name": "stderr",
          "text": [
            "/usr/local/lib/python3.10/dist-packages/urllib3/connectionpool.py:1056: InsecureRequestWarning: Unverified HTTPS request is being made to host 'evarus.ru'. Adding certificate verification is strongly advised. See: https://urllib3.readthedocs.io/en/1.26.x/advanced-usage.html#ssl-warnings\n",
            "  warnings.warn(\n"
          ]
        },
        {
          "output_type": "stream",
          "name": "stdout",
          "text": [
            "Loaded https://evarus.ru/tomsk/\n",
            "3 91 Load result code 200 https://evarus.ru/tomsk/\n"
          ]
        },
        {
          "output_type": "stream",
          "name": "stderr",
          "text": [
            "/usr/local/lib/python3.10/dist-packages/urllib3/connectionpool.py:1056: InsecureRequestWarning: Unverified HTTPS request is being made to host '39evakuatorov.ru'. Adding certificate verification is strongly advised. See: https://urllib3.readthedocs.io/en/1.26.x/advanced-usage.html#ssl-warnings\n",
            "  warnings.warn(\n"
          ]
        },
        {
          "output_type": "stream",
          "name": "stdout",
          "text": [
            "Loaded https://39evakuatorov.ru/\n",
            "3 92 Load result code 200 https://39evakuatorov.ru/\n"
          ]
        },
        {
          "output_type": "stream",
          "name": "stderr",
          "text": [
            "/usr/local/lib/python3.10/dist-packages/urllib3/connectionpool.py:1056: InsecureRequestWarning: Unverified HTTPS request is being made to host 'mosevo.ru'. Adding certificate verification is strongly advised. See: https://urllib3.readthedocs.io/en/1.26.x/advanced-usage.html#ssl-warnings\n",
            "  warnings.warn(\n"
          ]
        },
        {
          "output_type": "stream",
          "name": "stdout",
          "text": [
            "Loaded https://mosevo.ru/\n",
            "3 93 Load result code 200 https://mosevo.ru/\n",
            "Loaded http://evakuator-ryazan.ru/uslugi-evakuatora\n",
            "3 94 Load result code 200 http://evakuator-ryazan.ru/uslugi-evakuatora\n",
            "Loaded http://xn--32-6kcai3c3aqqi0i.xn--p1ai/\n",
            "3 95 Load result code 200 http://xn--32-6kcai3c3aqqi0i.xn--p1ai/\n",
            "Loaded http://www.spetsbuksir.ru/\n",
            "3 96 Load result code 200 http://www.spetsbuksir.ru/\n"
          ]
        },
        {
          "output_type": "stream",
          "name": "stderr",
          "text": [
            "/usr/local/lib/python3.10/dist-packages/urllib3/connectionpool.py:1056: InsecureRequestWarning: Unverified HTTPS request is being made to host 'evakuator-ru.ru'. Adding certificate verification is strongly advised. See: https://urllib3.readthedocs.io/en/1.26.x/advanced-usage.html#ssl-warnings\n",
            "  warnings.warn(\n"
          ]
        },
        {
          "output_type": "stream",
          "name": "stdout",
          "text": [
            "Loaded https://evakuator-ru.ru/\n",
            "3 97 Load result code 200 https://evakuator-ru.ru/\n"
          ]
        },
        {
          "output_type": "stream",
          "name": "stderr",
          "text": [
            "/usr/local/lib/python3.10/dist-packages/urllib3/connectionpool.py:1056: InsecureRequestWarning: Unverified HTTPS request is being made to host 'xn--80aae7avmmg0g.xn--80adxhks'. Adding certificate verification is strongly advised. See: https://urllib3.readthedocs.io/en/1.26.x/advanced-usage.html#ssl-warnings\n",
            "  warnings.warn(\n"
          ]
        },
        {
          "output_type": "stream",
          "name": "stdout",
          "text": [
            "Loaded https://xn--80aae7avmmg0g.xn--80adxhks/\n",
            "3 98 Load result code 200 https://xn--80aae7avmmg0g.xn--80adxhks/\n"
          ]
        },
        {
          "output_type": "stream",
          "name": "stderr",
          "text": [
            "/usr/local/lib/python3.10/dist-packages/urllib3/connectionpool.py:1056: InsecureRequestWarning: Unverified HTTPS request is being made to host 'mmcbu.ru'. Adding certificate verification is strongly advised. See: https://urllib3.readthedocs.io/en/1.26.x/advanced-usage.html#ssl-warnings\n",
            "  warnings.warn(\n"
          ]
        },
        {
          "output_type": "stream",
          "name": "stdout",
          "text": [
            "Loaded https://mmcbu.ru/ceny/\n",
            "3 99 Load result code 200 https://mmcbu.ru/ceny/\n"
          ]
        },
        {
          "output_type": "stream",
          "name": "stderr",
          "text": [
            "/usr/local/lib/python3.10/dist-packages/urllib3/connectionpool.py:1056: InsecureRequestWarning: Unverified HTTPS request is being made to host 'kompiu-pomosch.com'. Adding certificate verification is strongly advised. See: https://urllib3.readthedocs.io/en/1.26.x/advanced-usage.html#ssl-warnings\n",
            "  warnings.warn(\n"
          ]
        },
        {
          "output_type": "stream",
          "name": "stdout",
          "text": [
            "Loaded https://kompiu-pomosch.com/\n",
            "4 0 Load result code 200 https://kompiu-pomosch.com/\n"
          ]
        },
        {
          "output_type": "stream",
          "name": "stderr",
          "text": [
            "/usr/local/lib/python3.10/dist-packages/urllib3/connectionpool.py:1056: InsecureRequestWarning: Unverified HTTPS request is being made to host 'xn--80aatkd3aop.xn--p1ai'. Adding certificate verification is strongly advised. See: https://urllib3.readthedocs.io/en/1.26.x/advanced-usage.html#ssl-warnings\n",
            "  warnings.warn(\n"
          ]
        },
        {
          "output_type": "stream",
          "name": "stdout",
          "text": [
            "Loaded https://запускай.рф/%D0%BA%D0%BE%D0%BC%D0%BF%D1%8C%D1%8E%D1%82%D0%B5%D1%80%D0%BD%D0%B0%D1%8F-%D0%BF%D0%BE%D0%BC%D0%BE%D1%89%D1%8C/\n",
            "4 1 Load result code 200 https://запускай.рф/%D0%BA%D0%BE%D0%BC%D0%BF%D1%8C%D1%8E%D1%82%D0%B5%D1%80%D0%BD%D0%B0%D1%8F-%D0%BF%D0%BE%D0%BC%D0%BE%D1%89%D1%8C/\n"
          ]
        },
        {
          "output_type": "stream",
          "name": "stderr",
          "text": [
            "/usr/local/lib/python3.10/dist-packages/urllib3/connectionpool.py:1056: InsecureRequestWarning: Unverified HTTPS request is being made to host 'computerhelpcentr.ru'. Adding certificate verification is strongly advised. See: https://urllib3.readthedocs.io/en/1.26.x/advanced-usage.html#ssl-warnings\n",
            "  warnings.warn(\n"
          ]
        },
        {
          "output_type": "stream",
          "name": "stdout",
          "text": [
            "Loaded https://computerhelpcentr.ru/\n",
            "4 2 Load result code 200 https://computerhelpcentr.ru/\n"
          ]
        },
        {
          "output_type": "stream",
          "name": "stderr",
          "text": [
            "/usr/local/lib/python3.10/dist-packages/urllib3/connectionpool.py:1056: InsecureRequestWarning: Unverified HTTPS request is being made to host 'newstyle21computers.ru'. Adding certificate verification is strongly advised. See: https://urllib3.readthedocs.io/en/1.26.x/advanced-usage.html#ssl-warnings\n",
            "  warnings.warn(\n"
          ]
        },
        {
          "output_type": "stream",
          "name": "stdout",
          "text": [
            "Loaded https://newstyle21computers.ru/kompyuternaya-pomoshh/\n",
            "4 3 Load result code 200 https://newstyle21computers.ru/kompyuternaya-pomoshh/\n"
          ]
        },
        {
          "output_type": "stream",
          "name": "stderr",
          "text": [
            "/usr/local/lib/python3.10/dist-packages/urllib3/connectionpool.py:1056: InsecureRequestWarning: Unverified HTTPS request is being made to host 'computer-master.org'. Adding certificate verification is strongly advised. See: https://urllib3.readthedocs.io/en/1.26.x/advanced-usage.html#ssl-warnings\n",
            "  warnings.warn(\n"
          ]
        },
        {
          "output_type": "stream",
          "name": "stdout",
          "text": [
            "Loaded https://computer-master.org/kompyuternaya-pomoshch\n",
            "4 4 Load result code 200 https://computer-master.org/kompyuternaya-pomoshch\n"
          ]
        },
        {
          "output_type": "stream",
          "name": "stderr",
          "text": [
            "/usr/local/lib/python3.10/dist-packages/urllib3/connectionpool.py:1056: InsecureRequestWarning: Unverified HTTPS request is being made to host 'help96.ru'. Adding certificate verification is strongly advised. See: https://urllib3.readthedocs.io/en/1.26.x/advanced-usage.html#ssl-warnings\n",
            "  warnings.warn(\n"
          ]
        },
        {
          "output_type": "stream",
          "name": "stdout",
          "text": [
            "Loaded https://help96.ru/\n",
            "4 5 Load result code 200 https://help96.ru/\n"
          ]
        },
        {
          "output_type": "stream",
          "name": "stderr",
          "text": [
            "/usr/local/lib/python3.10/dist-packages/urllib3/connectionpool.py:1056: InsecureRequestWarning: Unverified HTTPS request is being made to host 'www.compulog.ru'. Adding certificate verification is strongly advised. See: https://urllib3.readthedocs.io/en/1.26.x/advanced-usage.html#ssl-warnings\n",
            "  warnings.warn(\n"
          ]
        },
        {
          "output_type": "stream",
          "name": "stdout",
          "text": [
            "Loaded https://www.compulog.ru/\n",
            "4 6 Load result code 200 https://www.compulog.ru/\n",
            "Loaded http://krskcomphelp24.ru/\n",
            "4 7 Load result code 200 http://krskcomphelp24.ru/\n"
          ]
        },
        {
          "output_type": "stream",
          "name": "stderr",
          "text": [
            "/usr/local/lib/python3.10/dist-packages/urllib3/connectionpool.py:1056: InsecureRequestWarning: Unverified HTTPS request is being made to host 'xn--g1af1a.xn--p1ai'. Adding certificate verification is strongly advised. See: https://urllib3.readthedocs.io/en/1.26.x/advanced-usage.html#ssl-warnings\n",
            "  warnings.warn(\n"
          ]
        },
        {
          "output_type": "stream",
          "name": "stdout",
          "text": [
            "Loaded https://куз.рф/\n",
            "4 8 Load result code 200 https://куз.рф/\n",
            "Loaded http://www.otvertka.com/\n",
            "4 9 Load result code 200 http://www.otvertka.com/\n",
            "Loaded http://notebook186.ru/remont-computer\n",
            "4 10 Load result code 200 http://notebook186.ru/remont-computer\n"
          ]
        },
        {
          "output_type": "stream",
          "name": "stderr",
          "text": [
            "/usr/local/lib/python3.10/dist-packages/urllib3/connectionpool.py:1056: InsecureRequestWarning: Unverified HTTPS request is being made to host 'fobosworld.ru'. Adding certificate verification is strongly advised. See: https://urllib3.readthedocs.io/en/1.26.x/advanced-usage.html#ssl-warnings\n",
            "  warnings.warn(\n"
          ]
        },
        {
          "output_type": "stream",
          "name": "stdout",
          "text": [
            "Loaded https://fobosworld.ru/remont-kompyuterov-v-novokuznetske/\n",
            "4 11 Load result code 200 https://fobosworld.ru/remont-kompyuterov-v-novokuznetske/\n",
            "Loaded http://rem-c.ru/\n",
            "4 12 Load result code 200 http://rem-c.ru/\n"
          ]
        },
        {
          "output_type": "stream",
          "name": "stderr",
          "text": [
            "/usr/local/lib/python3.10/dist-packages/urllib3/connectionpool.py:1056: InsecureRequestWarning: Unverified HTTPS request is being made to host 'novokuznetsk.proffys.ru'. Adding certificate verification is strongly advised. See: https://urllib3.readthedocs.io/en/1.26.x/advanced-usage.html#ssl-warnings\n",
            "  warnings.warn(\n"
          ]
        },
        {
          "output_type": "stream",
          "name": "stdout",
          "text": [
            "Loaded https://novokuznetsk.proffys.ru/remont-kompjuterov/deepcool/\n",
            "4 13 Load result code 200 https://novokuznetsk.proffys.ru/remont-kompjuterov/deepcool/\n"
          ]
        },
        {
          "output_type": "stream",
          "name": "stderr",
          "text": [
            "/usr/local/lib/python3.10/dist-packages/urllib3/connectionpool.py:1056: InsecureRequestWarning: Unverified HTTPS request is being made to host 'novokuznetsk.komputernyymaster.ru'. Adding certificate verification is strongly advised. See: https://urllib3.readthedocs.io/en/1.26.x/advanced-usage.html#ssl-warnings\n",
            "  warnings.warn(\n"
          ]
        },
        {
          "output_type": "stream",
          "name": "stdout",
          "text": [
            "Loaded https://novokuznetsk.komputernyymaster.ru/\n",
            "4 14 Load result code 200 https://novokuznetsk.komputernyymaster.ru/\n"
          ]
        },
        {
          "output_type": "stream",
          "name": "stderr",
          "text": [
            "/usr/local/lib/python3.10/dist-packages/urllib3/connectionpool.py:1056: InsecureRequestWarning: Unverified HTTPS request is being made to host 'rubrikator.org'. Adding certificate verification is strongly advised. See: https://urllib3.readthedocs.io/en/1.26.x/advanced-usage.html#ssl-warnings\n",
            "  warnings.warn(\n"
          ]
        },
        {
          "output_type": "stream",
          "name": "stdout",
          "text": [
            "Loaded https://rubrikator.org/russia/novokuznetsk/remont-kompyuterov-na-domu\n",
            "4 15 Load result code 200 https://rubrikator.org/russia/novokuznetsk/remont-kompyuterov-na-domu\n"
          ]
        },
        {
          "output_type": "stream",
          "name": "stderr",
          "text": [
            "/usr/local/lib/python3.10/dist-packages/urllib3/connectionpool.py:1056: InsecureRequestWarning: Unverified HTTPS request is being made to host 'novokuznetsk.zikon.ru'. Adding certificate verification is strongly advised. See: https://urllib3.readthedocs.io/en/1.26.x/advanced-usage.html#ssl-warnings\n",
            "  warnings.warn(\n"
          ]
        },
        {
          "output_type": "stream",
          "name": "stdout",
          "text": [
            "Loaded https://novokuznetsk.zikon.ru/\n",
            "4 16 Load result code 200 https://novokuznetsk.zikon.ru/\n"
          ]
        },
        {
          "output_type": "stream",
          "name": "stderr",
          "text": [
            "/usr/local/lib/python3.10/dist-packages/urllib3/connectionpool.py:1056: InsecureRequestWarning: Unverified HTTPS request is being made to host 'www.remont-pk-vnovokuznetske.ru'. Adding certificate verification is strongly advised. See: https://urllib3.readthedocs.io/en/1.26.x/advanced-usage.html#ssl-warnings\n",
            "  warnings.warn(\n"
          ]
        },
        {
          "output_type": "stream",
          "name": "stdout",
          "text": [
            "Load error http://www.remont-pk-vnovokuznetske.ru/ 404\n",
            "4 17 Load result code 404 http://www.remont-pk-vnovokuznetske.ru/\n"
          ]
        },
        {
          "output_type": "stream",
          "name": "stderr",
          "text": [
            "/usr/local/lib/python3.10/dist-packages/urllib3/connectionpool.py:1056: InsecureRequestWarning: Unverified HTTPS request is being made to host 'novokuznetsk.pcservicehome.ru'. Adding certificate verification is strongly advised. See: https://urllib3.readthedocs.io/en/1.26.x/advanced-usage.html#ssl-warnings\n",
            "  warnings.warn(\n"
          ]
        },
        {
          "output_type": "stream",
          "name": "stdout",
          "text": [
            "Loaded https://novokuznetsk.pcservicehome.ru/\n",
            "4 18 Load result code 200 https://novokuznetsk.pcservicehome.ru/\n"
          ]
        },
        {
          "output_type": "stream",
          "name": "stderr",
          "text": [
            "/usr/local/lib/python3.10/dist-packages/urllib3/connectionpool.py:1056: InsecureRequestWarning: Unverified HTTPS request is being made to host 'novokuznetsk.gorodrabot.ru'. Adding certificate verification is strongly advised. See: https://urllib3.readthedocs.io/en/1.26.x/advanced-usage.html#ssl-warnings\n",
            "  warnings.warn(\n"
          ]
        },
        {
          "output_type": "stream",
          "name": "stdout",
          "text": [
            "Loaded https://novokuznetsk.gorodrabot.ru/%D0%BC%D0%B0%D1%81%D1%82%D0%B5%D1%80_%D0%BF%D0%BE_%D1%80%D0%B5%D0%BC%D0%BE%D0%BD%D1%82%D1%83_%D0%BA%D0%BE%D0%BC%D0%BF%D1%8C%D1%8E%D1%82%D0%B5%D1%80%D0%BE%D0%B2\n",
            "4 19 Load result code 200 https://novokuznetsk.gorodrabot.ru/%D0%BC%D0%B0%D1%81%D1%82%D0%B5%D1%80_%D0%BF%D0%BE_%D1%80%D0%B5%D0%BC%D0%BE%D0%BD%D1%82%D1%83_%D0%BA%D0%BE%D0%BC%D0%BF%D1%8C%D1%8E%D1%82%D0%B5%D1%80%D0%BE%D0%B2\n"
          ]
        },
        {
          "output_type": "stream",
          "name": "stderr",
          "text": [
            "/usr/local/lib/python3.10/dist-packages/urllib3/connectionpool.py:1056: InsecureRequestWarning: Unverified HTTPS request is being made to host 'novokuznetsk.computer-service.su'. Adding certificate verification is strongly advised. See: https://urllib3.readthedocs.io/en/1.26.x/advanced-usage.html#ssl-warnings\n",
            "  warnings.warn(\n"
          ]
        },
        {
          "output_type": "stream",
          "name": "stdout",
          "text": [
            "Loaded https://novokuznetsk.computer-service.su/uslugi/\n",
            "4 20 Load result code 200 https://novokuznetsk.computer-service.su/uslugi/\n"
          ]
        },
        {
          "output_type": "stream",
          "name": "stderr",
          "text": [
            "/usr/local/lib/python3.10/dist-packages/urllib3/connectionpool.py:1056: InsecureRequestWarning: Unverified HTTPS request is being made to host 'novokuzneck.servicernb.ru'. Adding certificate verification is strongly advised. See: https://urllib3.readthedocs.io/en/1.26.x/advanced-usage.html#ssl-warnings\n",
            "  warnings.warn(\n"
          ]
        },
        {
          "output_type": "stream",
          "name": "stdout",
          "text": [
            "Loaded https://novokuzneck.servicernb.ru/\n",
            "4 21 Load result code 200 https://novokuzneck.servicernb.ru/\n"
          ]
        },
        {
          "output_type": "stream",
          "name": "stderr",
          "text": [
            "/usr/local/lib/python3.10/dist-packages/urllib3/connectionpool.py:1056: InsecureRequestWarning: Unverified HTTPS request is being made to host 'novokuznetsk.zoon.ru'. Adding certificate verification is strongly advised. See: https://urllib3.readthedocs.io/en/1.26.x/advanced-usage.html#ssl-warnings\n",
            "  warnings.warn(\n"
          ]
        },
        {
          "output_type": "stream",
          "name": "stdout",
          "text": [
            "Loaded https://novokuznetsk.zoon.ru/repair/type/elektroniki/\n",
            "4 22 Load result code 200 https://novokuznetsk.zoon.ru/repair/type/elektroniki/\n",
            "Load error http://www.techno-doctor.ru/catalog/remont_noutbukov_i_kompyuterov/ 403\n",
            "4 23 Load result code 403 http://www.techno-doctor.ru/catalog/remont_noutbukov_i_kompyuterov/\n"
          ]
        },
        {
          "output_type": "stream",
          "name": "stderr",
          "text": [
            "/usr/local/lib/python3.10/dist-packages/urllib3/connectionpool.py:1056: InsecureRequestWarning: Unverified HTTPS request is being made to host 'smipon.ru'. Adding certificate verification is strongly advised. See: https://urllib3.readthedocs.io/en/1.26.x/advanced-usage.html#ssl-warnings\n",
            "  warnings.warn(\n"
          ]
        },
        {
          "output_type": "stream",
          "name": "stdout",
          "text": [
            "Loaded https://smipon.ru/novokuzneck/\n",
            "4 24 Load result code 200 https://smipon.ru/novokuzneck/\n"
          ]
        },
        {
          "output_type": "stream",
          "name": "stderr",
          "text": [
            "/usr/local/lib/python3.10/dist-packages/urllib3/connectionpool.py:1056: InsecureRequestWarning: Unverified HTTPS request is being made to host 'novokuznetsk.iservis.ru'. Adding certificate verification is strongly advised. See: https://urllib3.readthedocs.io/en/1.26.x/advanced-usage.html#ssl-warnings\n",
            "  warnings.warn(\n"
          ]
        },
        {
          "output_type": "stream",
          "name": "stdout",
          "text": [
            "Loaded https://novokuznetsk.iservis.ru/\n",
            "4 25 Load result code 200 https://novokuznetsk.iservis.ru/\n"
          ]
        },
        {
          "output_type": "stream",
          "name": "stderr",
          "text": [
            "/usr/local/lib/python3.10/dist-packages/urllib3/connectionpool.py:1056: InsecureRequestWarning: Unverified HTTPS request is being made to host 'parnas-nk.ru'. Adding certificate verification is strongly advised. See: https://urllib3.readthedocs.io/en/1.26.x/advanced-usage.html#ssl-warnings\n",
            "  warnings.warn(\n"
          ]
        },
        {
          "output_type": "stream",
          "name": "stdout",
          "text": [
            "Loaded https://parnas-nk.ru/remont-komputerov-i-orgtehniki.html\n",
            "4 26 Load result code 200 https://parnas-nk.ru/remont-komputerov-i-orgtehniki.html\n"
          ]
        },
        {
          "output_type": "stream",
          "name": "stderr",
          "text": [
            "/usr/local/lib/python3.10/dist-packages/urllib3/connectionpool.py:1056: InsecureRequestWarning: Unverified HTTPS request is being made to host 'xn----dtbikdngjhzje9o.xn--p1ai'. Adding certificate verification is strongly advised. See: https://urllib3.readthedocs.io/en/1.26.x/advanced-usage.html#ssl-warnings\n",
            "  warnings.warn(\n"
          ]
        },
        {
          "output_type": "stream",
          "name": "stdout",
          "text": [
            "Loaded https://молния-сервис.рф/remont-notebook\n",
            "4 27 Load result code 200 https://молния-сервис.рф/remont-notebook\n"
          ]
        },
        {
          "output_type": "stream",
          "name": "stderr",
          "text": [
            "/usr/local/lib/python3.10/dist-packages/urllib3/connectionpool.py:1056: InsecureRequestWarning: Unverified HTTPS request is being made to host 'compyouter.ru'. Adding certificate verification is strongly advised. See: https://urllib3.readthedocs.io/en/1.26.x/advanced-usage.html#ssl-warnings\n",
            "  warnings.warn(\n"
          ]
        },
        {
          "output_type": "stream",
          "name": "stdout",
          "text": [
            "Loaded https://compyouter.ru/\n",
            "4 28 Load result code 200 https://compyouter.ru/\n"
          ]
        },
        {
          "output_type": "stream",
          "name": "stderr",
          "text": [
            "/usr/local/lib/python3.10/dist-packages/urllib3/connectionpool.py:1056: InsecureRequestWarning: Unverified HTTPS request is being made to host 'kompiu-pomosch.ru'. Adding certificate verification is strongly advised. See: https://urllib3.readthedocs.io/en/1.26.x/advanced-usage.html#ssl-warnings\n",
            "  warnings.warn(\n"
          ]
        },
        {
          "output_type": "stream",
          "name": "stdout",
          "text": [
            "Loaded https://kompiu-pomosch.ru/\n",
            "4 29 Load result code 200 https://kompiu-pomosch.ru/\n"
          ]
        },
        {
          "output_type": "stream",
          "name": "stderr",
          "text": [
            "/usr/local/lib/python3.10/dist-packages/urllib3/connectionpool.py:1056: InsecureRequestWarning: Unverified HTTPS request is being made to host 'moskva.mts.ru'. Adding certificate verification is strongly advised. See: https://urllib3.readthedocs.io/en/1.26.x/advanced-usage.html#ssl-warnings\n",
            "  warnings.warn(\n"
          ]
        },
        {
          "output_type": "stream",
          "name": "stdout",
          "text": [
            "Loaded https://moskva.mts.ru/personal/dlya-doma/uslugi/katalog-uslug-fiksirovannoy-svyazi/kompyuternaya-pomoshh\n",
            "4 30 Load result code 200 https://moskva.mts.ru/personal/dlya-doma/uslugi/katalog-uslug-fiksirovannoy-svyazi/kompyuternaya-pomoshh\n"
          ]
        },
        {
          "output_type": "stream",
          "name": "stderr",
          "text": [
            "/usr/local/lib/python3.10/dist-packages/urllib3/connectionpool.py:1056: InsecureRequestWarning: Unverified HTTPS request is being made to host 'zbscomp.ru'. Adding certificate verification is strongly advised. See: https://urllib3.readthedocs.io/en/1.26.x/advanced-usage.html#ssl-warnings\n",
            "  warnings.warn(\n"
          ]
        },
        {
          "output_type": "stream",
          "name": "stdout",
          "text": [
            "Loaded https://zbscomp.ru/\n",
            "4 31 Load result code 200 https://zbscomp.ru/\n"
          ]
        },
        {
          "output_type": "stream",
          "name": "stderr",
          "text": [
            "/usr/local/lib/python3.10/dist-packages/urllib3/connectionpool.py:1056: InsecureRequestWarning: Unverified HTTPS request is being made to host 'www.dmosk.ru'. Adding certificate verification is strongly advised. See: https://urllib3.readthedocs.io/en/1.26.x/advanced-usage.html#ssl-warnings\n",
            "  warnings.warn(\n"
          ]
        },
        {
          "output_type": "stream",
          "name": "stdout",
          "text": [
            "Loaded https://www.dmosk.ru/uslugi.php\n",
            "4 32 Load result code 200 https://www.dmosk.ru/uslugi.php\n"
          ]
        },
        {
          "output_type": "stream",
          "name": "stderr",
          "text": [
            "/usr/local/lib/python3.10/dist-packages/urllib3/connectionpool.py:1056: InsecureRequestWarning: Unverified HTTPS request is being made to host 'magset.net'. Adding certificate verification is strongly advised. See: https://urllib3.readthedocs.io/en/1.26.x/advanced-usage.html#ssl-warnings\n",
            "  warnings.warn(\n"
          ]
        },
        {
          "output_type": "stream",
          "name": "stdout",
          "text": [
            "Loaded https://magset.net/service\n",
            "4 33 Load result code 200 https://magset.net/service\n"
          ]
        },
        {
          "output_type": "stream",
          "name": "stderr",
          "text": [
            "/usr/local/lib/python3.10/dist-packages/urllib3/connectionpool.py:1056: InsecureRequestWarning: Unverified HTTPS request is being made to host 'computer-master.org'. Adding certificate verification is strongly advised. See: https://urllib3.readthedocs.io/en/1.26.x/advanced-usage.html#ssl-warnings\n",
            "  warnings.warn(\n"
          ]
        },
        {
          "output_type": "stream",
          "name": "stdout",
          "text": [
            "Loaded https://computer-master.org/kompyuternaya-pomoshch?utm_referrer=https%3A%2F%2Fwww.google.com%2F\n",
            "4 34 Load result code 200 https://computer-master.org/kompyuternaya-pomoshch?utm_referrer=https%3A%2F%2Fwww.google.com%2F\n"
          ]
        },
        {
          "output_type": "stream",
          "name": "stderr",
          "text": [
            "/usr/local/lib/python3.10/dist-packages/urllib3/connectionpool.py:1056: InsecureRequestWarning: Unverified HTTPS request is being made to host 'remont-kompyuterov-v-spb.ru'. Adding certificate verification is strongly advised. See: https://urllib3.readthedocs.io/en/1.26.x/advanced-usage.html#ssl-warnings\n",
            "  warnings.warn(\n"
          ]
        },
        {
          "output_type": "stream",
          "name": "stdout",
          "text": [
            "Loaded https://remont-kompyuterov-v-spb.ru/\n",
            "4 35 Load result code 200 https://remont-kompyuterov-v-spb.ru/\n"
          ]
        },
        {
          "output_type": "stream",
          "name": "stderr",
          "text": [
            "/usr/local/lib/python3.10/dist-packages/urllib3/connectionpool.py:1056: InsecureRequestWarning: Unverified HTTPS request is being made to host 'comp-neo.ru'. Adding certificate verification is strongly advised. See: https://urllib3.readthedocs.io/en/1.26.x/advanced-usage.html#ssl-warnings\n",
            "  warnings.warn(\n"
          ]
        },
        {
          "output_type": "stream",
          "name": "stdout",
          "text": [
            "Loaded https://comp-neo.ru/\n",
            "4 36 Load result code 200 https://comp-neo.ru/\n"
          ]
        },
        {
          "output_type": "stream",
          "name": "stderr",
          "text": [
            "/usr/local/lib/python3.10/dist-packages/urllib3/connectionpool.py:1056: InsecureRequestWarning: Unverified HTTPS request is being made to host 'sn1.by'. Adding certificate verification is strongly advised. See: https://urllib3.readthedocs.io/en/1.26.x/advanced-usage.html#ssl-warnings\n",
            "  warnings.warn(\n"
          ]
        },
        {
          "output_type": "stream",
          "name": "stdout",
          "text": [
            "Loaded https://sn1.by/udalennaya-kompyuternaya-pomosch/\n",
            "4 37 Load result code 200 https://sn1.by/udalennaya-kompyuternaya-pomosch/\n"
          ]
        },
        {
          "output_type": "stream",
          "name": "stderr",
          "text": [
            "/usr/local/lib/python3.10/dist-packages/urllib3/connectionpool.py:1056: InsecureRequestWarning: Unverified HTTPS request is being made to host 'xn-----6kccjbnc7amjhhdmnfbhafet3bhs3pxcl2cxb.xn--p1ai'. Adding certificate verification is strongly advised. See: https://urllib3.readthedocs.io/en/1.26.x/advanced-usage.html#ssl-warnings\n",
            "  warnings.warn(\n"
          ]
        },
        {
          "output_type": "stream",
          "name": "stdout",
          "text": [
            "Loaded https://xn-----6kccjbnc7amjhhdmnfbhafet3bhs3pxcl2cxb.xn--p1ai/\n",
            "4 38 Load result code 200 https://xn-----6kccjbnc7amjhhdmnfbhafet3bhs3pxcl2cxb.xn--p1ai/\n",
            "Loaded http://help-iv.ru/\n",
            "4 39 Load result code 200 http://help-iv.ru/\n"
          ]
        },
        {
          "output_type": "stream",
          "name": "stderr",
          "text": [
            "/usr/local/lib/python3.10/dist-packages/urllib3/connectionpool.py:1056: InsecureRequestWarning: Unverified HTTPS request is being made to host 'minskhelp.com'. Adding certificate verification is strongly advised. See: https://urllib3.readthedocs.io/en/1.26.x/advanced-usage.html#ssl-warnings\n",
            "  warnings.warn(\n"
          ]
        },
        {
          "output_type": "stream",
          "name": "stdout",
          "text": [
            "Loaded https://minskhelp.com/\n",
            "4 40 Load result code 200 https://minskhelp.com/\n"
          ]
        },
        {
          "output_type": "stream",
          "name": "stderr",
          "text": [
            "/usr/local/lib/python3.10/dist-packages/urllib3/connectionpool.py:1056: InsecureRequestWarning: Unverified HTTPS request is being made to host 'remcom.su'. Adding certificate verification is strongly advised. See: https://urllib3.readthedocs.io/en/1.26.x/advanced-usage.html#ssl-warnings\n",
            "  warnings.warn(\n"
          ]
        },
        {
          "output_type": "stream",
          "name": "stdout",
          "text": [
            "Loaded https://remcom.su/komputernaya_pomosch\n",
            "4 41 Load result code 200 https://remcom.su/komputernaya_pomosch\n"
          ]
        },
        {
          "output_type": "stream",
          "name": "stderr",
          "text": [
            "/usr/local/lib/python3.10/dist-packages/urllib3/connectionpool.py:1056: InsecureRequestWarning: Unverified HTTPS request is being made to host 'www.lenremont.ru'. Adding certificate verification is strongly advised. See: https://urllib3.readthedocs.io/en/1.26.x/advanced-usage.html#ssl-warnings\n",
            "  warnings.warn(\n"
          ]
        },
        {
          "output_type": "stream",
          "name": "stdout",
          "text": [
            "Loaded https://www.lenremont.ru/kruglosutochnaya-kompyuternaya-pomoshh-v-spb.htm\n",
            "4 42 Load result code 200 https://www.lenremont.ru/kruglosutochnaya-kompyuternaya-pomoshh-v-spb.htm\n"
          ]
        },
        {
          "output_type": "stream",
          "name": "stderr",
          "text": [
            "/usr/local/lib/python3.10/dist-packages/urllib3/connectionpool.py:1056: InsecureRequestWarning: Unverified HTTPS request is being made to host 'kubmaster24.ru'. Adding certificate verification is strongly advised. See: https://urllib3.readthedocs.io/en/1.26.x/advanced-usage.html#ssl-warnings\n",
            "  warnings.warn(\n"
          ]
        },
        {
          "output_type": "stream",
          "name": "stdout",
          "text": [
            "Loaded https://kubmaster24.ru/%D0%BA%D0%BE%D0%BC%D0%BF%D1%8C%D1%8E%D1%82%D0%B5%D1%80%D0%BD%D0%B0%D1%8F_%D0%BF%D0%BE%D0%BC%D0%BE%D1%89%D1%8C/\n",
            "4 43 Load result code 200 https://kubmaster24.ru/%D0%BA%D0%BE%D0%BC%D0%BF%D1%8C%D1%8E%D1%82%D0%B5%D1%80%D0%BD%D0%B0%D1%8F_%D0%BF%D0%BE%D0%BC%D0%BE%D1%89%D1%8C/\n"
          ]
        },
        {
          "output_type": "stream",
          "name": "stderr",
          "text": [
            "/usr/local/lib/python3.10/dist-packages/urllib3/connectionpool.py:1056: InsecureRequestWarning: Unverified HTTPS request is being made to host 'delo360.ru'. Adding certificate verification is strongly advised. See: https://urllib3.readthedocs.io/en/1.26.x/advanced-usage.html#ssl-warnings\n",
            "  warnings.warn(\n"
          ]
        },
        {
          "output_type": "stream",
          "name": "stdout",
          "text": [
            "Load error https://delo360.ru/kompyuternaya-pomoshch-na-domu-_-svoe-delo-bez-vlozheniy/?utm_referrer=https%3A%2F%2Fwww.google.com%2F 404\n",
            "4 44 Load result code 404 https://delo360.ru/kompyuternaya-pomoshch-na-domu-_-svoe-delo-bez-vlozheniy/?utm_referrer=https%3A%2F%2Fwww.google.com%2F\n"
          ]
        },
        {
          "output_type": "stream",
          "name": "stderr",
          "text": [
            "/usr/local/lib/python3.10/dist-packages/urllib3/connectionpool.py:1056: InsecureRequestWarning: Unverified HTTPS request is being made to host 'profi.ru'. Adding certificate verification is strongly advised. See: https://urllib3.readthedocs.io/en/1.26.x/advanced-usage.html#ssl-warnings\n",
            "  warnings.warn(\n"
          ]
        },
        {
          "output_type": "stream",
          "name": "stdout",
          "text": [
            "Loaded https://profi.ru/remont/professionalnaya-kompyuternaya-pomoshch/\n",
            "4 45 Load result code 200 https://profi.ru/remont/professionalnaya-kompyuternaya-pomoshch/\n"
          ]
        },
        {
          "output_type": "stream",
          "name": "stderr",
          "text": [
            "/usr/local/lib/python3.10/dist-packages/urllib3/connectionpool.py:1056: InsecureRequestWarning: Unverified HTTPS request is being made to host 'fastrestore.ru'. Adding certificate verification is strongly advised. See: https://urllib3.readthedocs.io/en/1.26.x/advanced-usage.html#ssl-warnings\n",
            "  warnings.warn(\n"
          ]
        },
        {
          "output_type": "stream",
          "name": "stdout",
          "text": [
            "Loaded https://fastrestore.ru/geo/mytischi/\n",
            "4 46 Load result code 200 https://fastrestore.ru/geo/mytischi/\n"
          ]
        },
        {
          "output_type": "stream",
          "name": "stderr",
          "text": [
            "/usr/local/lib/python3.10/dist-packages/urllib3/connectionpool.py:1056: InsecureRequestWarning: Unverified HTTPS request is being made to host 'www.zelcomphelp.ru'. Adding certificate verification is strongly advised. See: https://urllib3.readthedocs.io/en/1.26.x/advanced-usage.html#ssl-warnings\n",
            "  warnings.warn(\n"
          ]
        },
        {
          "output_type": "stream",
          "name": "stdout",
          "text": [
            "Loaded https://www.zelcomphelp.ru/\n",
            "4 47 Load result code 200 https://www.zelcomphelp.ru/\n"
          ]
        },
        {
          "output_type": "stream",
          "name": "stderr",
          "text": [
            "/usr/local/lib/python3.10/dist-packages/urllib3/connectionpool.py:1056: InsecureRequestWarning: Unverified HTTPS request is being made to host 'xn-----6kcbw3admgeigcbeijfqo6nzbr4a4ag.xn--p1ai'. Adding certificate verification is strongly advised. See: https://urllib3.readthedocs.io/en/1.26.x/advanced-usage.html#ssl-warnings\n",
            "  warnings.warn(\n"
          ]
        },
        {
          "output_type": "stream",
          "name": "stdout",
          "text": [
            "Loaded https://xn-----6kcbw3admgeigcbeijfqo6nzbr4a4ag.xn--p1ai/\n",
            "4 48 Load result code 200 https://xn-----6kcbw3admgeigcbeijfqo6nzbr4a4ag.xn--p1ai/\n"
          ]
        },
        {
          "output_type": "stream",
          "name": "stderr",
          "text": [
            "/usr/local/lib/python3.10/dist-packages/urllib3/connectionpool.py:1056: InsecureRequestWarning: Unverified HTTPS request is being made to host 'km.center'. Adding certificate verification is strongly advised. See: https://urllib3.readthedocs.io/en/1.26.x/advanced-usage.html#ssl-warnings\n",
            "  warnings.warn(\n"
          ]
        },
        {
          "output_type": "stream",
          "name": "stdout",
          "text": [
            "Loaded https://km.center/kompyuternaya-pomoshh/\n",
            "4 49 Load result code 200 https://km.center/kompyuternaya-pomoshh/\n"
          ]
        },
        {
          "output_type": "stream",
          "name": "stderr",
          "text": [
            "/usr/local/lib/python3.10/dist-packages/urllib3/connectionpool.py:1056: InsecureRequestWarning: Unverified HTTPS request is being made to host 'pozitive.org'. Adding certificate verification is strongly advised. See: https://urllib3.readthedocs.io/en/1.26.x/advanced-usage.html#ssl-warnings\n",
            "  warnings.warn(\n"
          ]
        },
        {
          "output_type": "stream",
          "name": "stdout",
          "text": [
            "Loaded https://pozitive.org/#simferopol\n",
            "4 50 Load result code 200 https://pozitive.org/#simferopol\n"
          ]
        },
        {
          "output_type": "stream",
          "name": "stderr",
          "text": [
            "/usr/local/lib/python3.10/dist-packages/urllib3/connectionpool.py:1056: InsecureRequestWarning: Unverified HTTPS request is being made to host 'master-it.spb.ru'. Adding certificate verification is strongly advised. See: https://urllib3.readthedocs.io/en/1.26.x/advanced-usage.html#ssl-warnings\n",
            "  warnings.warn(\n"
          ]
        },
        {
          "output_type": "stream",
          "name": "stdout",
          "text": [
            "Loaded https://master-it.spb.ru/it-autsorsing/kompyuternaya-pomoshch/\n",
            "4 51 Load result code 200 https://master-it.spb.ru/it-autsorsing/kompyuternaya-pomoshch/\n"
          ]
        },
        {
          "output_type": "stream",
          "name": "stderr",
          "text": [
            "/usr/local/lib/python3.10/dist-packages/urllib3/connectionpool.py:1056: InsecureRequestWarning: Unverified HTTPS request is being made to host 'ufacomputer.ru'. Adding certificate verification is strongly advised. See: https://urllib3.readthedocs.io/en/1.26.x/advanced-usage.html#ssl-warnings\n",
            "  warnings.warn(\n"
          ]
        },
        {
          "output_type": "stream",
          "name": "stdout",
          "text": [
            "Loaded https://ufacomputer.ru/\n",
            "4 52 Load result code 200 https://ufacomputer.ru/\n",
            "Load error exception\n",
            "4 53 Load result code -1 https://sevstar.net/2018/06/22/komputernaya-pomosh/\n"
          ]
        },
        {
          "output_type": "stream",
          "name": "stderr",
          "text": [
            "/usr/local/lib/python3.10/dist-packages/urllib3/connectionpool.py:1056: InsecureRequestWarning: Unverified HTTPS request is being made to host 'citykomp.ru'. Adding certificate verification is strongly advised. See: https://urllib3.readthedocs.io/en/1.26.x/advanced-usage.html#ssl-warnings\n",
            "  warnings.warn(\n"
          ]
        },
        {
          "output_type": "stream",
          "name": "stdout",
          "text": [
            "Loaded https://citykomp.ru/\n",
            "4 54 Load result code 200 https://citykomp.ru/\n"
          ]
        },
        {
          "output_type": "stream",
          "name": "stderr",
          "text": [
            "/usr/local/lib/python3.10/dist-packages/urllib3/connectionpool.py:1056: InsecureRequestWarning: Unverified HTTPS request is being made to host 'compdv.ru'. Adding certificate verification is strongly advised. See: https://urllib3.readthedocs.io/en/1.26.x/advanced-usage.html#ssl-warnings\n",
            "  warnings.warn(\n"
          ]
        },
        {
          "output_type": "stream",
          "name": "stdout",
          "text": [
            "Loaded https://compdv.ru/\n",
            "4 55 Load result code 200 https://compdv.ru/\n"
          ]
        },
        {
          "output_type": "stream",
          "name": "stderr",
          "text": [
            "/usr/local/lib/python3.10/dist-packages/urllib3/connectionpool.py:1056: InsecureRequestWarning: Unverified HTTPS request is being made to host 'comkazan.ru'. Adding certificate verification is strongly advised. See: https://urllib3.readthedocs.io/en/1.26.x/advanced-usage.html#ssl-warnings\n",
            "  warnings.warn(\n"
          ]
        },
        {
          "output_type": "stream",
          "name": "stdout",
          "text": [
            "Loaded https://comkazan.ru/\n",
            "4 56 Load result code 200 https://comkazan.ru/\n"
          ]
        },
        {
          "output_type": "stream",
          "name": "stderr",
          "text": [
            "/usr/local/lib/python3.10/dist-packages/urllib3/connectionpool.py:1056: InsecureRequestWarning: Unverified HTTPS request is being made to host 'www.asteis.net'. Adding certificate verification is strongly advised. See: https://urllib3.readthedocs.io/en/1.26.x/advanced-usage.html#ssl-warnings\n",
            "  warnings.warn(\n"
          ]
        },
        {
          "output_type": "stream",
          "name": "stdout",
          "text": [
            "Loaded https://www.asteis.net/pc-repair/\n",
            "4 57 Load result code 200 https://www.asteis.net/pc-repair/\n"
          ]
        },
        {
          "output_type": "stream",
          "name": "stderr",
          "text": [
            "/usr/local/lib/python3.10/dist-packages/urllib3/connectionpool.py:1056: InsecureRequestWarning: Unverified HTTPS request is being made to host 'itprof70.ru'. Adding certificate verification is strongly advised. See: https://urllib3.readthedocs.io/en/1.26.x/advanced-usage.html#ssl-warnings\n",
            "  warnings.warn(\n"
          ]
        },
        {
          "output_type": "stream",
          "name": "stdout",
          "text": [
            "Loaded https://itprof70.ru/%D0%BA%D0%BE%D0%BC%D0%BF%D1%8C%D1%8E%D1%82%D0%B5%D1%80%D0%BD%D0%B0%D1%8F-%D0%BF%D0%BE%D0%BC%D0%BE%D1%89%D1%8C/\n",
            "4 58 Load result code 200 https://itprof70.ru/%D0%BA%D0%BE%D0%BC%D0%BF%D1%8C%D1%8E%D1%82%D0%B5%D1%80%D0%BD%D0%B0%D1%8F-%D0%BF%D0%BE%D0%BC%D0%BE%D1%89%D1%8C/\n"
          ]
        },
        {
          "output_type": "stream",
          "name": "stderr",
          "text": [
            "/usr/local/lib/python3.10/dist-packages/urllib3/connectionpool.py:1056: InsecureRequestWarning: Unverified HTTPS request is being made to host 'compsch.com'. Adding certificate verification is strongly advised. See: https://urllib3.readthedocs.io/en/1.26.x/advanced-usage.html#ssl-warnings\n",
            "  warnings.warn(\n"
          ]
        },
        {
          "output_type": "stream",
          "name": "stdout",
          "text": [
            "Loaded https://compsch.com/srochnaya-kompyuternaya-pomoshh-specialista\n",
            "4 59 Load result code 200 https://compsch.com/srochnaya-kompyuternaya-pomoshh-specialista\n",
            "Loaded http://electronik-master.ru/kompyuternaya-pomosch\n",
            "4 60 Load result code 200 http://electronik-master.ru/kompyuternaya-pomosch\n"
          ]
        },
        {
          "output_type": "stream",
          "name": "stderr",
          "text": [
            "/usr/local/lib/python3.10/dist-packages/urllib3/connectionpool.py:1056: InsecureRequestWarning: Unverified HTTPS request is being made to host 'www.compshelp.ru'. Adding certificate verification is strongly advised. See: https://urllib3.readthedocs.io/en/1.26.x/advanced-usage.html#ssl-warnings\n",
            "  warnings.warn(\n"
          ]
        },
        {
          "output_type": "stream",
          "name": "stdout",
          "text": [
            "Loaded https://www.compshelp.ru/\n",
            "4 61 Load result code 200 https://www.compshelp.ru/\n"
          ]
        },
        {
          "output_type": "stream",
          "name": "stderr",
          "text": [
            "/usr/local/lib/python3.10/dist-packages/urllib3/connectionpool.py:1056: InsecureRequestWarning: Unverified HTTPS request is being made to host 'krasnodar.myguru.ru'. Adding certificate verification is strongly advised. See: https://urllib3.readthedocs.io/en/1.26.x/advanced-usage.html#ssl-warnings\n",
            "  warnings.warn(\n"
          ]
        },
        {
          "output_type": "stream",
          "name": "stdout",
          "text": [
            "Loaded https://krasnodar.myguru.ru/services/kompyuternaya-pomoshch/\n",
            "4 62 Load result code 200 https://krasnodar.myguru.ru/services/kompyuternaya-pomoshch/\n",
            "Loaded http://simplexlab.ru/services/\n",
            "4 63 Load result code 200 http://simplexlab.ru/services/\n"
          ]
        },
        {
          "output_type": "stream",
          "name": "stderr",
          "text": [
            "/usr/local/lib/python3.10/dist-packages/urllib3/connectionpool.py:1056: InsecureRequestWarning: Unverified HTTPS request is being made to host 'comprayexpress.ru'. Adding certificate verification is strongly advised. See: https://urllib3.readthedocs.io/en/1.26.x/advanced-usage.html#ssl-warnings\n",
            "  warnings.warn(\n"
          ]
        },
        {
          "output_type": "stream",
          "name": "stdout",
          "text": [
            "Loaded https://comprayexpress.ru/computer-help/\n",
            "4 64 Load result code 200 https://comprayexpress.ru/computer-help/\n"
          ]
        },
        {
          "output_type": "stream",
          "name": "stderr",
          "text": [
            "/usr/local/lib/python3.10/dist-packages/urllib3/connectionpool.py:1056: InsecureRequestWarning: Unverified HTTPS request is being made to host 'getapro.lv'. Adding certificate verification is strongly advised. See: https://urllib3.readthedocs.io/en/1.26.x/advanced-usage.html#ssl-warnings\n",
            "  warnings.warn(\n"
          ]
        },
        {
          "output_type": "stream",
          "name": "stdout",
          "text": [
            "Loaded https://getapro.lv/ru/category/kompjuternaja-pomoshh\n",
            "4 65 Load result code 200 https://getapro.lv/ru/category/kompjuternaja-pomoshh\n"
          ]
        },
        {
          "output_type": "stream",
          "name": "stderr",
          "text": [
            "/usr/local/lib/python3.10/dist-packages/urllib3/connectionpool.py:1056: InsecureRequestWarning: Unverified HTTPS request is being made to host 'komp-uslugi.ru'. Adding certificate verification is strongly advised. See: https://urllib3.readthedocs.io/en/1.26.x/advanced-usage.html#ssl-warnings\n",
            "  warnings.warn(\n"
          ]
        },
        {
          "output_type": "stream",
          "name": "stdout",
          "text": [
            "Loaded https://komp-uslugi.ru/\n",
            "4 66 Load result code 200 https://komp-uslugi.ru/\n",
            "Loaded http://www.allpchelp.ru/\n",
            "4 67 Load result code 200 http://www.allpchelp.ru/\n"
          ]
        },
        {
          "output_type": "stream",
          "name": "stderr",
          "text": [
            "/usr/local/lib/python3.10/dist-packages/urllib3/connectionpool.py:1056: InsecureRequestWarning: Unverified HTTPS request is being made to host 'itolimp.com'. Adding certificate verification is strongly advised. See: https://urllib3.readthedocs.io/en/1.26.x/advanced-usage.html#ssl-warnings\n",
            "  warnings.warn(\n"
          ]
        },
        {
          "output_type": "stream",
          "name": "stdout",
          "text": [
            "Loaded https://itolimp.com/onlinehelp/\n",
            "4 68 Load result code 200 https://itolimp.com/onlinehelp/\n"
          ]
        },
        {
          "output_type": "stream",
          "name": "stderr",
          "text": [
            "/usr/local/lib/python3.10/dist-packages/urllib3/connectionpool.py:1056: InsecureRequestWarning: Unverified HTTPS request is being made to host 'kompsr.ru'. Adding certificate verification is strongly advised. See: https://urllib3.readthedocs.io/en/1.26.x/advanced-usage.html#ssl-warnings\n",
            "  warnings.warn(\n"
          ]
        },
        {
          "output_type": "stream",
          "name": "stdout",
          "text": [
            "Loaded https://kompsr.ru/\n",
            "4 69 Load result code 200 https://kompsr.ru/\n"
          ]
        },
        {
          "output_type": "stream",
          "name": "stderr",
          "text": [
            "/usr/local/lib/python3.10/dist-packages/urllib3/connectionpool.py:1056: InsecureRequestWarning: Unverified HTTPS request is being made to host 'canmos.ru'. Adding certificate verification is strongly advised. See: https://urllib3.readthedocs.io/en/1.26.x/advanced-usage.html#ssl-warnings\n",
            "  warnings.warn(\n"
          ]
        },
        {
          "output_type": "stream",
          "name": "stdout",
          "text": [
            "Loaded https://canmos.ru/kompyuternaya-pomosch/\n",
            "4 70 Load result code 200 https://canmos.ru/kompyuternaya-pomosch/\n"
          ]
        },
        {
          "output_type": "stream",
          "name": "stderr",
          "text": [
            "/usr/local/lib/python3.10/dist-packages/urllib3/connectionpool.py:1056: InsecureRequestWarning: Unverified HTTPS request is being made to host 'sddhelp.ru'. Adding certificate verification is strongly advised. See: https://urllib3.readthedocs.io/en/1.26.x/advanced-usage.html#ssl-warnings\n",
            "  warnings.warn(\n"
          ]
        },
        {
          "output_type": "stream",
          "name": "stdout",
          "text": [
            "Loaded https://sddhelp.ru/business-help-online/\n",
            "4 71 Load result code 200 https://sddhelp.ru/business-help-online/\n"
          ]
        },
        {
          "output_type": "stream",
          "name": "stderr",
          "text": [
            "/usr/local/lib/python3.10/dist-packages/urllib3/connectionpool.py:1056: InsecureRequestWarning: Unverified HTTPS request is being made to host 'xn--b1adilkldafn.xn--p1ai'. Adding certificate verification is strongly advised. See: https://urllib3.readthedocs.io/en/1.26.x/advanced-usage.html#ssl-warnings\n",
            "  warnings.warn(\n"
          ]
        },
        {
          "output_type": "stream",
          "name": "stdout",
          "text": [
            "Loaded https://xn--b1adilkldafn.xn--p1ai/\n",
            "4 72 Load result code 200 https://xn--b1adilkldafn.xn--p1ai/\n"
          ]
        },
        {
          "output_type": "stream",
          "name": "stderr",
          "text": [
            "/usr/local/lib/python3.10/dist-packages/urllib3/connectionpool.py:1056: InsecureRequestWarning: Unverified HTTPS request is being made to host 'sbgiq.ru'. Adding certificate verification is strongly advised. See: https://urllib3.readthedocs.io/en/1.26.x/advanced-usage.html#ssl-warnings\n",
            "  warnings.warn(\n"
          ]
        },
        {
          "output_type": "stream",
          "name": "stdout",
          "text": [
            "Loaded https://sbgiq.ru/kompyuternaya-pomoshch/\n",
            "4 73 Load result code 200 https://sbgiq.ru/kompyuternaya-pomoshch/\n"
          ]
        },
        {
          "output_type": "stream",
          "name": "stderr",
          "text": [
            "/usr/local/lib/python3.10/dist-packages/urllib3/connectionpool.py:1056: InsecureRequestWarning: Unverified HTTPS request is being made to host 'itvolga.com'. Adding certificate verification is strongly advised. See: https://urllib3.readthedocs.io/en/1.26.x/advanced-usage.html#ssl-warnings\n",
            "  warnings.warn(\n"
          ]
        },
        {
          "output_type": "stream",
          "name": "stdout",
          "text": [
            "Loaded https://itvolga.com/blog/comp-help\n",
            "4 74 Load result code 200 https://itvolga.com/blog/comp-help\n"
          ]
        },
        {
          "output_type": "stream",
          "name": "stderr",
          "text": [
            "/usr/local/lib/python3.10/dist-packages/urllib3/connectionpool.py:1056: InsecureRequestWarning: Unverified HTTPS request is being made to host 'itcompanion.ru'. Adding certificate verification is strongly advised. See: https://urllib3.readthedocs.io/en/1.26.x/advanced-usage.html#ssl-warnings\n",
            "  warnings.warn(\n"
          ]
        },
        {
          "output_type": "stream",
          "name": "stdout",
          "text": [
            "Loaded https://itcompanion.ru/kp/kruglosutochnaya-pomosh-24/\n",
            "4 75 Load result code 200 https://itcompanion.ru/kp/kruglosutochnaya-pomosh-24/\n"
          ]
        },
        {
          "output_type": "stream",
          "name": "stderr",
          "text": [
            "/usr/local/lib/python3.10/dist-packages/urllib3/connectionpool.py:1056: InsecureRequestWarning: Unverified HTTPS request is being made to host 'adm96.ru'. Adding certificate verification is strongly advised. See: https://urllib3.readthedocs.io/en/1.26.x/advanced-usage.html#ssl-warnings\n",
            "  warnings.warn(\n"
          ]
        },
        {
          "output_type": "stream",
          "name": "stdout",
          "text": [
            "Loaded https://adm96.ru/services/Skoraya_kompyuternaya_pomosch/\n",
            "4 76 Load result code 200 https://adm96.ru/services/Skoraya_kompyuternaya_pomosch/\n"
          ]
        },
        {
          "output_type": "stream",
          "name": "stderr",
          "text": [
            "/usr/local/lib/python3.10/dist-packages/urllib3/connectionpool.py:1056: InsecureRequestWarning: Unverified HTTPS request is being made to host 'rostov-cs.ru'. Adding certificate verification is strongly advised. See: https://urllib3.readthedocs.io/en/1.26.x/advanced-usage.html#ssl-warnings\n",
            "  warnings.warn(\n"
          ]
        },
        {
          "output_type": "stream",
          "name": "stdout",
          "text": [
            "Loaded https://rostov-cs.ru/%D1%81%D0%BA%D0%BE%D1%80%D0%B0%D1%8F-%D0%BA%D0%BE%D0%BC%D0%BF%D1%8C%D1%8E%D1%82%D0%B5%D1%80%D0%BD%D0%B0%D1%8F-%D0%BF%D0%BE%D0%BC%D0%BE%D1%89%D1%8C/\n",
            "4 77 Load result code 200 https://rostov-cs.ru/%D1%81%D0%BA%D0%BE%D1%80%D0%B0%D1%8F-%D0%BA%D0%BE%D0%BC%D0%BF%D1%8C%D1%8E%D1%82%D0%B5%D1%80%D0%BD%D0%B0%D1%8F-%D0%BF%D0%BE%D0%BC%D0%BE%D1%89%D1%8C/\n"
          ]
        },
        {
          "output_type": "stream",
          "name": "stderr",
          "text": [
            "/usr/local/lib/python3.10/dist-packages/urllib3/connectionpool.py:1056: InsecureRequestWarning: Unverified HTTPS request is being made to host 'itkaluga.com'. Adding certificate verification is strongly advised. See: https://urllib3.readthedocs.io/en/1.26.x/advanced-usage.html#ssl-warnings\n",
            "  warnings.warn(\n"
          ]
        },
        {
          "output_type": "stream",
          "name": "stdout",
          "text": [
            "Loaded https://itkaluga.com/\n",
            "4 78 Load result code 200 https://itkaluga.com/\n"
          ]
        },
        {
          "output_type": "stream",
          "name": "stderr",
          "text": [
            "/usr/local/lib/python3.10/dist-packages/urllib3/connectionpool.py:1056: InsecureRequestWarning: Unverified HTTPS request is being made to host 'computer44.ru'. Adding certificate verification is strongly advised. See: https://urllib3.readthedocs.io/en/1.26.x/advanced-usage.html#ssl-warnings\n",
            "  warnings.warn(\n"
          ]
        },
        {
          "output_type": "stream",
          "name": "stdout",
          "text": [
            "Loaded https://computer44.ru/\n",
            "4 79 Load result code 200 https://computer44.ru/\n",
            "Load error exception\n",
            "4 80 Load result code -1 https://moskva.beeline.ru/customers/pomosh/home/domashnij-internet/upravlenie-uslugami/komputernaya-pomosh/\n"
          ]
        },
        {
          "output_type": "stream",
          "name": "stderr",
          "text": [
            "/usr/local/lib/python3.10/dist-packages/urllib3/connectionpool.py:1056: InsecureRequestWarning: Unverified HTTPS request is being made to host 'remontkomputerovnovosibirsk.ru'. Adding certificate verification is strongly advised. See: https://urllib3.readthedocs.io/en/1.26.x/advanced-usage.html#ssl-warnings\n",
            "  warnings.warn(\n"
          ]
        },
        {
          "output_type": "stream",
          "name": "stdout",
          "text": [
            "Loaded https://remontkomputerovnovosibirsk.ru/\n",
            "4 81 Load result code 200 https://remontkomputerovnovosibirsk.ru/\n",
            "Loaded http://we-it.net/index.php/soft/401-kompyuternaya-pomoshch-chto-eto-i-kakie-preimushchestva\n",
            "4 82 Load result code 200 http://we-it.net/index.php/soft/401-kompyuternaya-pomoshch-chto-eto-i-kakie-preimushchestva\n"
          ]
        },
        {
          "output_type": "stream",
          "name": "stderr",
          "text": [
            "/usr/local/lib/python3.10/dist-packages/urllib3/connectionpool.py:1056: InsecureRequestWarning: Unverified HTTPS request is being made to host 'laptop-repair.ru'. Adding certificate verification is strongly advised. See: https://urllib3.readthedocs.io/en/1.26.x/advanced-usage.html#ssl-warnings\n",
            "  warnings.warn(\n"
          ]
        },
        {
          "output_type": "stream",
          "name": "stdout",
          "text": [
            "Loaded https://laptop-repair.ru/skoraya-kompyuternaya-pomoshch/\n",
            "4 83 Load result code 200 https://laptop-repair.ru/skoraya-kompyuternaya-pomoshch/\n"
          ]
        },
        {
          "output_type": "stream",
          "name": "stderr",
          "text": [
            "/usr/local/lib/python3.10/dist-packages/urllib3/connectionpool.py:1056: InsecureRequestWarning: Unverified HTTPS request is being made to host 'nika-sc.ru'. Adding certificate verification is strongly advised. See: https://urllib3.readthedocs.io/en/1.26.x/advanced-usage.html#ssl-warnings\n",
            "  warnings.warn(\n"
          ]
        },
        {
          "output_type": "stream",
          "name": "stdout",
          "text": [
            "Loaded https://nika-sc.ru/%D1%81%D1%82%D0%B0%D1%82%D1%8C%D0%B8/78-%D0%BA%D0%BE%D0%BC%D0%BF%D1%8C%D1%8E%D1%82%D0%B5%D1%80%D0%BD%D0%B0%D1%8F-%D0%BF%D0%BE%D0%BC%D0%BE%D1%89%D1%8C-%D0%B2-%D0%B0%D0%B4%D0%BB%D0%B5%D1%80%D0%B5.html\n",
            "4 84 Load result code 200 https://nika-sc.ru/%D1%81%D1%82%D0%B0%D1%82%D1%8C%D0%B8/78-%D0%BA%D0%BE%D0%BC%D0%BF%D1%8C%D1%8E%D1%82%D0%B5%D1%80%D0%BD%D0%B0%D1%8F-%D0%BF%D0%BE%D0%BC%D0%BE%D1%89%D1%8C-%D0%B2-%D0%B0%D0%B4%D0%BB%D0%B5%D1%80%D0%B5.html\n",
            "Loaded http://www.tehno-link.ru/remont-komputerov/komputernaya-pomoshch\n",
            "4 85 Load result code 200 http://www.tehno-link.ru/remont-komputerov/komputernaya-pomoshch\n"
          ]
        },
        {
          "output_type": "stream",
          "name": "stderr",
          "text": [
            "/usr/local/lib/python3.10/dist-packages/urllib3/connectionpool.py:1056: InsecureRequestWarning: Unverified HTTPS request is being made to host 'orangecomp.ru'. Adding certificate verification is strongly advised. See: https://urllib3.readthedocs.io/en/1.26.x/advanced-usage.html#ssl-warnings\n",
            "  warnings.warn(\n"
          ]
        },
        {
          "output_type": "stream",
          "name": "stdout",
          "text": [
            "Loaded https://orangecomp.ru/remont-kompyuterov\n",
            "4 86 Load result code 200 https://orangecomp.ru/remont-kompyuterov\n"
          ]
        },
        {
          "output_type": "stream",
          "name": "stderr",
          "text": [
            "/usr/local/lib/python3.10/dist-packages/urllib3/connectionpool.py:1056: InsecureRequestWarning: Unverified HTTPS request is being made to host 'xn--80accbot8cddecd0j.xn--p1ai'. Adding certificate verification is strongly advised. See: https://urllib3.readthedocs.io/en/1.26.x/advanced-usage.html#ssl-warnings\n",
            "  warnings.warn(\n"
          ]
        },
        {
          "output_type": "stream",
          "name": "stdout",
          "text": [
            "Loaded https://xn--80accbot8cddecd0j.xn--p1ai/JM-Sample-Data/kompyuternaya-pomoshch-v-stavropole-tel-60-08-90.html\n",
            "4 87 Load result code 200 https://xn--80accbot8cddecd0j.xn--p1ai/JM-Sample-Data/kompyuternaya-pomoshch-v-stavropole-tel-60-08-90.html\n",
            "Loaded http://profixit-service.ru/komputernaya_pomosh_dmitrov/\n",
            "4 88 Load result code 200 http://profixit-service.ru/komputernaya_pomosh_dmitrov/\n"
          ]
        },
        {
          "output_type": "stream",
          "name": "stderr",
          "text": [
            "/usr/local/lib/python3.10/dist-packages/urllib3/connectionpool.py:1056: InsecureRequestWarning: Unverified HTTPS request is being made to host 'pchlp.ru'. Adding certificate verification is strongly advised. See: https://urllib3.readthedocs.io/en/1.26.x/advanced-usage.html#ssl-warnings\n",
            "  warnings.warn(\n"
          ]
        },
        {
          "output_type": "stream",
          "name": "stdout",
          "text": [
            "Loaded https://pchlp.ru/\n",
            "4 89 Load result code 200 https://pchlp.ru/\n"
          ]
        },
        {
          "output_type": "stream",
          "name": "stderr",
          "text": [
            "/usr/local/lib/python3.10/dist-packages/urllib3/connectionpool.py:1056: InsecureRequestWarning: Unverified HTTPS request is being made to host 'devicomp.ru'. Adding certificate verification is strongly advised. See: https://urllib3.readthedocs.io/en/1.26.x/advanced-usage.html#ssl-warnings\n",
            "  warnings.warn(\n"
          ]
        },
        {
          "output_type": "stream",
          "name": "stdout",
          "text": [
            "Loaded https://devicomp.ru/kompyuternyj-master-chastnyj/kompyuternaya-pomoshch/\n",
            "4 90 Load result code 200 https://devicomp.ru/kompyuternyj-master-chastnyj/kompyuternaya-pomoshch/\n"
          ]
        },
        {
          "output_type": "stream",
          "name": "stderr",
          "text": [
            "/usr/local/lib/python3.10/dist-packages/urllib3/connectionpool.py:1056: InsecureRequestWarning: Unverified HTTPS request is being made to host 'xn--80aealqjopkldgec.xn--p1ai'. Adding certificate verification is strongly advised. See: https://urllib3.readthedocs.io/en/1.26.x/advanced-usage.html#ssl-warnings\n",
            "  warnings.warn(\n"
          ]
        },
        {
          "output_type": "stream",
          "name": "stdout",
          "text": [
            "Loaded https://xn--80aealqjopkldgec.xn--p1ai/\n",
            "4 91 Load result code 200 https://xn--80aealqjopkldgec.xn--p1ai/\n",
            "Loaded http://pro-pcservice.ru/site/\n",
            "4 92 Load result code 200 http://pro-pcservice.ru/site/\n"
          ]
        },
        {
          "output_type": "stream",
          "name": "stderr",
          "text": [
            "/usr/local/lib/python3.10/dist-packages/urllib3/connectionpool.py:1056: InsecureRequestWarning: Unverified HTTPS request is being made to host 'yonet.net'. Adding certificate verification is strongly advised. See: https://urllib3.readthedocs.io/en/1.26.x/advanced-usage.html#ssl-warnings\n",
            "  warnings.warn(\n"
          ]
        },
        {
          "output_type": "stream",
          "name": "stdout",
          "text": [
            "Loaded https://yonet.net/services/computer_help/\n",
            "4 93 Load result code 200 https://yonet.net/services/computer_help/\n"
          ]
        },
        {
          "output_type": "stream",
          "name": "stderr",
          "text": [
            "/usr/local/lib/python3.10/dist-packages/urllib3/connectionpool.py:1056: InsecureRequestWarning: Unverified HTTPS request is being made to host 'komputerovo.ru'. Adding certificate verification is strongly advised. See: https://urllib3.readthedocs.io/en/1.26.x/advanced-usage.html#ssl-warnings\n",
            "  warnings.warn(\n"
          ]
        },
        {
          "output_type": "stream",
          "name": "stdout",
          "text": [
            "Loaded https://komputerovo.ru/\n",
            "4 94 Load result code 200 https://komputerovo.ru/\n"
          ]
        },
        {
          "output_type": "stream",
          "name": "stderr",
          "text": [
            "/usr/local/lib/python3.10/dist-packages/urllib3/connectionpool.py:1056: InsecureRequestWarning: Unverified HTTPS request is being made to host 'xn----7sbcecqbdscyevjilcquf8aj3twb.xn--80adxhks'. Adding certificate verification is strongly advised. See: https://urllib3.readthedocs.io/en/1.26.x/advanced-usage.html#ssl-warnings\n",
            "  warnings.warn(\n"
          ]
        },
        {
          "output_type": "stream",
          "name": "stdout",
          "text": [
            "Loaded https://xn----7sbcecqbdscyevjilcquf8aj3twb.xn--80adxhks/kompyuternaya-pomosch-online/\n",
            "4 95 Load result code 200 https://xn----7sbcecqbdscyevjilcquf8aj3twb.xn--80adxhks/kompyuternaya-pomosch-online/\n"
          ]
        },
        {
          "output_type": "stream",
          "name": "stderr",
          "text": [
            "/usr/local/lib/python3.10/dist-packages/urllib3/connectionpool.py:1056: InsecureRequestWarning: Unverified HTTPS request is being made to host 'abyte54.ru'. Adding certificate verification is strongly advised. See: https://urllib3.readthedocs.io/en/1.26.x/advanced-usage.html#ssl-warnings\n",
            "  warnings.warn(\n"
          ]
        },
        {
          "output_type": "stream",
          "name": "stdout",
          "text": [
            "Loaded https://abyte54.ru/kompyuternaya-pomoshch/\n",
            "4 96 Load result code 200 https://abyte54.ru/kompyuternaya-pomoshch/\n"
          ]
        },
        {
          "output_type": "stream",
          "name": "stderr",
          "text": [
            "/usr/local/lib/python3.10/dist-packages/urllib3/connectionpool.py:1056: InsecureRequestWarning: Unverified HTTPS request is being made to host 'neosvc.ru'. Adding certificate verification is strongly advised. See: https://urllib3.readthedocs.io/en/1.26.x/advanced-usage.html#ssl-warnings\n",
            "  warnings.warn(\n"
          ]
        },
        {
          "output_type": "stream",
          "name": "stdout",
          "text": [
            "Loaded https://neosvc.ru/kompyuternaya-pomoshch.html\n",
            "4 97 Load result code 200 https://neosvc.ru/kompyuternaya-pomoshch.html\n"
          ]
        },
        {
          "output_type": "stream",
          "name": "stderr",
          "text": [
            "/usr/local/lib/python3.10/dist-packages/urllib3/connectionpool.py:1056: InsecureRequestWarning: Unverified HTTPS request is being made to host 'remontptz.ru'. Adding certificate verification is strongly advised. See: https://urllib3.readthedocs.io/en/1.26.x/advanced-usage.html#ssl-warnings\n",
            "  warnings.warn(\n"
          ]
        },
        {
          "output_type": "stream",
          "name": "stdout",
          "text": [
            "Loaded https://remontptz.ru/komputernaya-pomosch/\n",
            "4 98 Load result code 200 https://remontptz.ru/komputernaya-pomosch/\n"
          ]
        },
        {
          "output_type": "stream",
          "name": "stderr",
          "text": [
            "/usr/local/lib/python3.10/dist-packages/urllib3/connectionpool.py:1056: InsecureRequestWarning: Unverified HTTPS request is being made to host 'www.bars-x.ru'. Adding certificate verification is strongly advised. See: https://urllib3.readthedocs.io/en/1.26.x/advanced-usage.html#ssl-warnings\n",
            "  warnings.warn(\n"
          ]
        },
        {
          "output_type": "stream",
          "name": "stdout",
          "text": [
            "Loaded https://www.bars-x.ru/Sluzhba_service.htm\n",
            "5 0 Load result code 200 https://www.bars-x.ru/Sluzhba_service.htm\n"
          ]
        },
        {
          "output_type": "stream",
          "name": "stderr",
          "text": [
            "/usr/local/lib/python3.10/dist-packages/urllib3/connectionpool.py:1056: InsecureRequestWarning: Unverified HTTPS request is being made to host 'xn----ctbbfgbwe9akufle.xn--p1ai'. Adding certificate verification is strongly advised. See: https://urllib3.readthedocs.io/en/1.26.x/advanced-usage.html#ssl-warnings\n",
            "  warnings.warn(\n"
          ]
        },
        {
          "output_type": "stream",
          "name": "stdout",
          "text": [
            "Loaded https://дверной-сервис.рф/\n",
            "5 1 Load result code 200 https://дверной-сервис.рф/\n"
          ]
        },
        {
          "output_type": "stream",
          "name": "stderr",
          "text": [
            "/usr/local/lib/python3.10/dist-packages/urllib3/connectionpool.py:1056: InsecureRequestWarning: Unverified HTTPS request is being made to host 'zamok.pro'. Adding certificate verification is strongly advised. See: https://urllib3.readthedocs.io/en/1.26.x/advanced-usage.html#ssl-warnings\n",
            "  warnings.warn(\n"
          ]
        },
        {
          "output_type": "stream",
          "name": "stdout",
          "text": [
            "Loaded https://zamok.pro/zamochnyj-servis\n",
            "5 2 Load result code 200 https://zamok.pro/zamochnyj-servis\n"
          ]
        },
        {
          "output_type": "stream",
          "name": "stderr",
          "text": [
            "/usr/local/lib/python3.10/dist-packages/urllib3/connectionpool.py:1056: InsecureRequestWarning: Unverified HTTPS request is being made to host 'zamki-garant.ru'. Adding certificate verification is strongly advised. See: https://urllib3.readthedocs.io/en/1.26.x/advanced-usage.html#ssl-warnings\n",
            "  warnings.warn(\n"
          ]
        },
        {
          "output_type": "stream",
          "name": "stdout",
          "text": [
            "Loaded https://zamki-garant.ru/remont-zamkov\n",
            "5 3 Load result code 200 https://zamki-garant.ru/remont-zamkov\n"
          ]
        },
        {
          "output_type": "stream",
          "name": "stderr",
          "text": [
            "/usr/local/lib/python3.10/dist-packages/urllib3/connectionpool.py:1056: InsecureRequestWarning: Unverified HTTPS request is being made to host 'zamkovservice.ru'. Adding certificate verification is strongly advised. See: https://urllib3.readthedocs.io/en/1.26.x/advanced-usage.html#ssl-warnings\n",
            "  warnings.warn(\n"
          ]
        },
        {
          "output_type": "stream",
          "name": "stdout",
          "text": [
            "Loaded https://zamkovservice.ru/\n",
            "5 4 Load result code 200 https://zamkovservice.ru/\n"
          ]
        },
        {
          "output_type": "stream",
          "name": "stderr",
          "text": [
            "/usr/local/lib/python3.10/dist-packages/urllib3/connectionpool.py:1056: InsecureRequestWarning: Unverified HTTPS request is being made to host 'turbomasters.ru'. Adding certificate verification is strongly advised. See: https://urllib3.readthedocs.io/en/1.26.x/advanced-usage.html#ssl-warnings\n",
            "  warnings.warn(\n"
          ]
        },
        {
          "output_type": "stream",
          "name": "stdout",
          "text": [
            "Loaded https://turbomasters.ru/\n",
            "5 5 Load result code 200 https://turbomasters.ru/\n"
          ]
        },
        {
          "output_type": "stream",
          "name": "stderr",
          "text": [
            "/usr/local/lib/python3.10/dist-packages/urllib3/connectionpool.py:1056: InsecureRequestWarning: Unverified HTTPS request is being made to host 'service-zamkov.ru'. Adding certificate verification is strongly advised. See: https://urllib3.readthedocs.io/en/1.26.x/advanced-usage.html#ssl-warnings\n",
            "  warnings.warn(\n"
          ]
        },
        {
          "output_type": "stream",
          "name": "stdout",
          "text": [
            "Loaded https://service-zamkov.ru/vskrytie-i-zamena-zamkov\n",
            "5 6 Load result code 200 https://service-zamkov.ru/vskrytie-i-zamena-zamkov\n"
          ]
        },
        {
          "output_type": "stream",
          "name": "stderr",
          "text": [
            "/usr/local/lib/python3.10/dist-packages/urllib3/connectionpool.py:1056: InsecureRequestWarning: Unverified HTTPS request is being made to host 'profi.ru'. Adding certificate verification is strongly advised. See: https://urllib3.readthedocs.io/en/1.26.x/advanced-usage.html#ssl-warnings\n",
            "  warnings.warn(\n"
          ]
        },
        {
          "output_type": "stream",
          "name": "stdout",
          "text": [
            "Loaded https://profi.ru/remont/zamki/\n",
            "5 7 Load result code 200 https://profi.ru/remont/zamki/\n"
          ]
        },
        {
          "output_type": "stream",
          "name": "stderr",
          "text": [
            "/usr/local/lib/python3.10/dist-packages/urllib3/connectionpool.py:1056: InsecureRequestWarning: Unverified HTTPS request is being made to host 'www.lockservice.pro'. Adding certificate verification is strongly advised. See: https://urllib3.readthedocs.io/en/1.26.x/advanced-usage.html#ssl-warnings\n",
            "  warnings.warn(\n"
          ]
        },
        {
          "output_type": "stream",
          "name": "stdout",
          "text": [
            "Loaded https://www.lockservice.pro/zamena-zamkov-oktyabrskoe-pole\n",
            "5 8 Load result code 200 https://www.lockservice.pro/zamena-zamkov-oktyabrskoe-pole\n"
          ]
        },
        {
          "output_type": "stream",
          "name": "stderr",
          "text": [
            "/usr/local/lib/python3.10/dist-packages/urllib3/connectionpool.py:1056: InsecureRequestWarning: Unverified HTTPS request is being made to host 'vskrytie-dverej.ru'. Adding certificate verification is strongly advised. See: https://urllib3.readthedocs.io/en/1.26.x/advanced-usage.html#ssl-warnings\n",
            "  warnings.warn(\n"
          ]
        },
        {
          "output_type": "stream",
          "name": "stdout",
          "text": [
            "Loaded https://vskrytie-dverej.ru/zamena-zamkov/\n",
            "5 9 Load result code 200 https://vskrytie-dverej.ru/zamena-zamkov/\n"
          ]
        },
        {
          "output_type": "stream",
          "name": "stderr",
          "text": [
            "/usr/local/lib/python3.10/dist-packages/urllib3/connectionpool.py:1056: InsecureRequestWarning: Unverified HTTPS request is being made to host 'masters-key.ru'. Adding certificate verification is strongly advised. See: https://urllib3.readthedocs.io/en/1.26.x/advanced-usage.html#ssl-warnings\n",
            "  warnings.warn(\n"
          ]
        },
        {
          "output_type": "stream",
          "name": "stdout",
          "text": [
            "Loaded https://masters-key.ru/services/remont-zamkov/\n",
            "5 10 Load result code 200 https://masters-key.ru/services/remont-zamkov/\n"
          ]
        },
        {
          "output_type": "stream",
          "name": "stderr",
          "text": [
            "/usr/local/lib/python3.10/dist-packages/urllib3/connectionpool.py:1056: InsecureRequestWarning: Unverified HTTPS request is being made to host 'vzlomzamkoff.ru'. Adding certificate verification is strongly advised. See: https://urllib3.readthedocs.io/en/1.26.x/advanced-usage.html#ssl-warnings\n",
            "  warnings.warn(\n"
          ]
        },
        {
          "output_type": "stream",
          "name": "stdout",
          "text": [
            "Loaded https://vzlomzamkoff.ru/zamena-remont-i-vskryitie-zamkov-vo-vsevolozhske-i-vsevolozhskom-rajone/\n",
            "5 11 Load result code 200 https://vzlomzamkoff.ru/zamena-remont-i-vskryitie-zamkov-vo-vsevolozhske-i-vsevolozhskom-rajone/\n"
          ]
        },
        {
          "output_type": "stream",
          "name": "stderr",
          "text": [
            "/usr/local/lib/python3.10/dist-packages/urllib3/connectionpool.py:1056: InsecureRequestWarning: Unverified HTTPS request is being made to host 'zamki-moskva.ru'. Adding certificate verification is strongly advised. See: https://urllib3.readthedocs.io/en/1.26.x/advanced-usage.html#ssl-warnings\n",
            "  warnings.warn(\n"
          ]
        },
        {
          "output_type": "stream",
          "name": "stdout",
          "text": [
            "Loaded https://zamki-moskva.ru/remont_zamkov\n",
            "5 12 Load result code 200 https://zamki-moskva.ru/remont_zamkov\n"
          ]
        },
        {
          "output_type": "stream",
          "name": "stderr",
          "text": [
            "/usr/local/lib/python3.10/dist-packages/urllib3/connectionpool.py:1056: InsecureRequestWarning: Unverified HTTPS request is being made to host 'garant-spb.ru'. Adding certificate verification is strongly advised. See: https://urllib3.readthedocs.io/en/1.26.x/advanced-usage.html#ssl-warnings\n",
            "  warnings.warn(\n"
          ]
        },
        {
          "output_type": "stream",
          "name": "stdout",
          "text": [
            "Loaded https://garant-spb.ru/remont-zamkov\n",
            "5 13 Load result code 200 https://garant-spb.ru/remont-zamkov\n"
          ]
        },
        {
          "output_type": "stream",
          "name": "stderr",
          "text": [
            "/usr/local/lib/python3.10/dist-packages/urllib3/connectionpool.py:1056: InsecureRequestWarning: Unverified HTTPS request is being made to host '84993905707.ru'. Adding certificate verification is strongly advised. See: https://urllib3.readthedocs.io/en/1.26.x/advanced-usage.html#ssl-warnings\n",
            "  warnings.warn(\n"
          ]
        },
        {
          "output_type": "stream",
          "name": "stdout",
          "text": [
            "Loaded https://84993905707.ru/\n",
            "5 14 Load result code 200 https://84993905707.ru/\n"
          ]
        },
        {
          "output_type": "stream",
          "name": "stderr",
          "text": [
            "/usr/local/lib/python3.10/dist-packages/urllib3/connectionpool.py:1056: InsecureRequestWarning: Unverified HTTPS request is being made to host 'openlocks.ru'. Adding certificate verification is strongly advised. See: https://urllib3.readthedocs.io/en/1.26.x/advanced-usage.html#ssl-warnings\n",
            "  warnings.warn(\n"
          ]
        },
        {
          "output_type": "stream",
          "name": "stdout",
          "text": [
            "Loaded https://openlocks.ru/remont-zamkov/\n",
            "5 15 Load result code 200 https://openlocks.ru/remont-zamkov/\n"
          ]
        },
        {
          "output_type": "stream",
          "name": "stderr",
          "text": [
            "/usr/local/lib/python3.10/dist-packages/urllib3/connectionpool.py:1056: InsecureRequestWarning: Unverified HTTPS request is being made to host 'perm.zamokprof.ru'. Adding certificate verification is strongly advised. See: https://urllib3.readthedocs.io/en/1.26.x/advanced-usage.html#ssl-warnings\n",
            "  warnings.warn(\n"
          ]
        },
        {
          "output_type": "stream",
          "name": "stdout",
          "text": [
            "Loaded https://perm.zamokprof.ru/\n",
            "5 16 Load result code 200 https://perm.zamokprof.ru/\n"
          ]
        },
        {
          "output_type": "stream",
          "name": "stderr",
          "text": [
            "/usr/local/lib/python3.10/dist-packages/urllib3/connectionpool.py:1056: InsecureRequestWarning: Unverified HTTPS request is being made to host 'xn----8sbecmnepftxqlq8k.xn--80adxhks'. Adding certificate verification is strongly advised. See: https://urllib3.readthedocs.io/en/1.26.x/advanced-usage.html#ssl-warnings\n",
            "  warnings.warn(\n"
          ]
        },
        {
          "output_type": "stream",
          "name": "stdout",
          "text": [
            "Loaded https://вскрытие-замков.москва/basmannyj\n",
            "5 17 Load result code 200 https://вскрытие-замков.москва/basmannyj\n"
          ]
        },
        {
          "output_type": "stream",
          "name": "stderr",
          "text": [
            "/usr/local/lib/python3.10/dist-packages/urllib3/connectionpool.py:1056: InsecureRequestWarning: Unverified HTTPS request is being made to host 'help-novokuznetsk.ru'. Adding certificate verification is strongly advised. See: https://urllib3.readthedocs.io/en/1.26.x/advanced-usage.html#ssl-warnings\n",
            "  warnings.warn(\n"
          ]
        },
        {
          "output_type": "stream",
          "name": "stdout",
          "text": [
            "Loaded https://help-novokuznetsk.ru/\n",
            "5 18 Load result code 200 https://help-novokuznetsk.ru/\n"
          ]
        },
        {
          "output_type": "stream",
          "name": "stderr",
          "text": [
            "/usr/local/lib/python3.10/dist-packages/urllib3/connectionpool.py:1056: InsecureRequestWarning: Unverified HTTPS request is being made to host 'kazan.zamok-center.ru'. Adding certificate verification is strongly advised. See: https://urllib3.readthedocs.io/en/1.26.x/advanced-usage.html#ssl-warnings\n",
            "  warnings.warn(\n"
          ]
        },
        {
          "output_type": "stream",
          "name": "stdout",
          "text": [
            "Loaded https://kazan.zamok-center.ru/\n",
            "5 19 Load result code 200 https://kazan.zamok-center.ru/\n"
          ]
        },
        {
          "output_type": "stream",
          "name": "stderr",
          "text": [
            "/usr/local/lib/python3.10/dist-packages/urllib3/connectionpool.py:1056: InsecureRequestWarning: Unverified HTTPS request is being made to host 'saferlock.ru'. Adding certificate verification is strongly advised. See: https://urllib3.readthedocs.io/en/1.26.x/advanced-usage.html#ssl-warnings\n",
            "  warnings.warn(\n"
          ]
        },
        {
          "output_type": "stream",
          "name": "stdout",
          "text": [
            "Loaded https://saferlock.ru/prochie-uslugi/remont-zamkov\n",
            "5 20 Load result code 200 https://saferlock.ru/prochie-uslugi/remont-zamkov\n"
          ]
        },
        {
          "output_type": "stream",
          "name": "stderr",
          "text": [
            "/usr/local/lib/python3.10/dist-packages/urllib3/connectionpool.py:1056: InsecureRequestWarning: Unverified HTTPS request is being made to host 'm-zamok.ru'. Adding certificate verification is strongly advised. See: https://urllib3.readthedocs.io/en/1.26.x/advanced-usage.html#ssl-warnings\n",
            "  warnings.warn(\n"
          ]
        },
        {
          "output_type": "stream",
          "name": "stdout",
          "text": [
            "Loaded https://m-zamok.ru/\n",
            "5 21 Load result code 200 https://m-zamok.ru/\n"
          ]
        },
        {
          "output_type": "stream",
          "name": "stderr",
          "text": [
            "/usr/local/lib/python3.10/dist-packages/urllib3/connectionpool.py:1056: InsecureRequestWarning: Unverified HTTPS request is being made to host 'topzamkov.ru'. Adding certificate verification is strongly advised. See: https://urllib3.readthedocs.io/en/1.26.x/advanced-usage.html#ssl-warnings\n",
            "  warnings.warn(\n"
          ]
        },
        {
          "output_type": "stream",
          "name": "stdout",
          "text": [
            "Loaded https://topzamkov.ru/\n",
            "5 22 Load result code 200 https://topzamkov.ru/\n"
          ]
        },
        {
          "output_type": "stream",
          "name": "stderr",
          "text": [
            "/usr/local/lib/python3.10/dist-packages/urllib3/connectionpool.py:1056: InsecureRequestWarning: Unverified HTTPS request is being made to host 'ekaterinburg.trade-services.ru'. Adding certificate verification is strongly advised. See: https://urllib3.readthedocs.io/en/1.26.x/advanced-usage.html#ssl-warnings\n",
            "  warnings.warn(\n"
          ]
        },
        {
          "output_type": "stream",
          "name": "stdout",
          "text": [
            "Loaded https://ekaterinburg.trade-services.ru/services/remont-zamkov/\n",
            "5 23 Load result code 200 https://ekaterinburg.trade-services.ru/services/remont-zamkov/\n"
          ]
        },
        {
          "output_type": "stream",
          "name": "stderr",
          "text": [
            "/usr/local/lib/python3.10/dist-packages/urllib3/connectionpool.py:1056: InsecureRequestWarning: Unverified HTTPS request is being made to host 'zamkov-vskrytie.ru'. Adding certificate verification is strongly advised. See: https://urllib3.readthedocs.io/en/1.26.x/advanced-usage.html#ssl-warnings\n",
            "  warnings.warn(\n"
          ]
        },
        {
          "output_type": "stream",
          "name": "stdout",
          "text": [
            "Loaded https://zamkov-vskrytie.ru/remont-zamkov/\n",
            "5 24 Load result code 200 https://zamkov-vskrytie.ru/remont-zamkov/\n"
          ]
        },
        {
          "output_type": "stream",
          "name": "stderr",
          "text": [
            "/usr/local/lib/python3.10/dist-packages/urllib3/connectionpool.py:1056: InsecureRequestWarning: Unverified HTTPS request is being made to host 'help-nnov.ru'. Adding certificate verification is strongly advised. See: https://urllib3.readthedocs.io/en/1.26.x/advanced-usage.html#ssl-warnings\n",
            "  warnings.warn(\n"
          ]
        },
        {
          "output_type": "stream",
          "name": "stdout",
          "text": [
            "Loaded https://help-nnov.ru/\n",
            "5 25 Load result code 200 https://help-nnov.ru/\n"
          ]
        },
        {
          "output_type": "stream",
          "name": "stderr",
          "text": [
            "/usr/local/lib/python3.10/dist-packages/urllib3/connectionpool.py:1056: InsecureRequestWarning: Unverified HTTPS request is being made to host 'zamservice.ru'. Adding certificate verification is strongly advised. See: https://urllib3.readthedocs.io/en/1.26.x/advanced-usage.html#ssl-warnings\n",
            "  warnings.warn(\n"
          ]
        },
        {
          "output_type": "stream",
          "name": "stdout",
          "text": [
            "Loaded https://zamservice.ru/tseny-na-uslugi/vskrytie\n",
            "5 26 Load result code 200 https://zamservice.ru/tseny-na-uslugi/vskrytie\n"
          ]
        },
        {
          "output_type": "stream",
          "name": "stderr",
          "text": [
            "/usr/local/lib/python3.10/dist-packages/urllib3/connectionpool.py:1056: InsecureRequestWarning: Unverified HTTPS request is being made to host 'ruzamok.ru'. Adding certificate verification is strongly advised. See: https://urllib3.readthedocs.io/en/1.26.x/advanced-usage.html#ssl-warnings\n",
            "  warnings.warn(\n"
          ]
        },
        {
          "output_type": "stream",
          "name": "stdout",
          "text": [
            "Loaded https://ruzamok.ru/zamena-zamkov\n",
            "5 27 Load result code 200 https://ruzamok.ru/zamena-zamkov\n"
          ]
        },
        {
          "output_type": "stream",
          "name": "stderr",
          "text": [
            "/usr/local/lib/python3.10/dist-packages/urllib3/connectionpool.py:1056: InsecureRequestWarning: Unverified HTTPS request is being made to host 'xn----7sbhlhkdxjj0ake9ezc.xn--p1ai'. Adding certificate verification is strongly advised. See: https://urllib3.readthedocs.io/en/1.26.x/advanced-usage.html#ssl-warnings\n",
            "  warnings.warn(\n"
          ]
        },
        {
          "output_type": "stream",
          "name": "stdout",
          "text": [
            "Loaded https://замочный-сервис.рф/\n",
            "5 28 Load result code 200 https://замочный-сервис.рф/\n"
          ]
        },
        {
          "output_type": "stream",
          "name": "stderr",
          "text": [
            "/usr/local/lib/python3.10/dist-packages/urllib3/connectionpool.py:1056: InsecureRequestWarning: Unverified HTTPS request is being made to host 'help-yar.ru'. Adding certificate verification is strongly advised. See: https://urllib3.readthedocs.io/en/1.26.x/advanced-usage.html#ssl-warnings\n",
            "  warnings.warn(\n"
          ]
        },
        {
          "output_type": "stream",
          "name": "stdout",
          "text": [
            "Loaded https://help-yar.ru/\n",
            "5 29 Load result code 200 https://help-yar.ru/\n"
          ]
        },
        {
          "output_type": "stream",
          "name": "stderr",
          "text": [
            "/usr/local/lib/python3.10/dist-packages/urllib3/connectionpool.py:1056: InsecureRequestWarning: Unverified HTTPS request is being made to host 'tmn-zamok.ru'. Adding certificate verification is strongly advised. See: https://urllib3.readthedocs.io/en/1.26.x/advanced-usage.html#ssl-warnings\n",
            "  warnings.warn(\n"
          ]
        },
        {
          "output_type": "stream",
          "name": "stdout",
          "text": [
            "Loaded https://tmn-zamok.ru/\n",
            "5 30 Load result code 200 https://tmn-zamok.ru/\n"
          ]
        },
        {
          "output_type": "stream",
          "name": "stderr",
          "text": [
            "/usr/local/lib/python3.10/dist-packages/urllib3/connectionpool.py:1056: InsecureRequestWarning: Unverified HTTPS request is being made to host 'zamenaspb.ru'. Adding certificate verification is strongly advised. See: https://urllib3.readthedocs.io/en/1.26.x/advanced-usage.html#ssl-warnings\n",
            "  warnings.warn(\n"
          ]
        },
        {
          "output_type": "stream",
          "name": "stdout",
          "text": [
            "Loaded https://zamenaspb.ru/vskrytie-i-remont-zamkov-centralnyj-rajon.html\n",
            "5 31 Load result code 200 https://zamenaspb.ru/vskrytie-i-remont-zamkov-centralnyj-rajon.html\n"
          ]
        },
        {
          "output_type": "stream",
          "name": "stderr",
          "text": [
            "/usr/local/lib/python3.10/dist-packages/urllib3/connectionpool.py:1056: InsecureRequestWarning: Unverified HTTPS request is being made to host 'help-ryazan.ru'. Adding certificate verification is strongly advised. See: https://urllib3.readthedocs.io/en/1.26.x/advanced-usage.html#ssl-warnings\n",
            "  warnings.warn(\n"
          ]
        },
        {
          "output_type": "stream",
          "name": "stdout",
          "text": [
            "Loaded https://help-ryazan.ru/\n",
            "5 32 Load result code 200 https://help-ryazan.ru/\n"
          ]
        },
        {
          "output_type": "stream",
          "name": "stderr",
          "text": [
            "/usr/local/lib/python3.10/dist-packages/urllib3/connectionpool.py:1056: InsecureRequestWarning: Unverified HTTPS request is being made to host 'medved-expert.ru'. Adding certificate verification is strongly advised. See: https://urllib3.readthedocs.io/en/1.26.x/advanced-usage.html#ssl-warnings\n",
            "  warnings.warn(\n"
          ]
        },
        {
          "output_type": "stream",
          "name": "stdout",
          "text": [
            "Load error https://medved-expert.ru/services/zamena-zamkov/\t 404\n",
            "5 33 Load result code 404 https://medved-expert.ru/services/zamena-zamkov/\t\n"
          ]
        },
        {
          "output_type": "stream",
          "name": "stderr",
          "text": [
            "/usr/local/lib/python3.10/dist-packages/urllib3/connectionpool.py:1056: InsecureRequestWarning: Unverified HTTPS request is being made to host 'xn----8sbecmnepftxqlq8k.com'. Adding certificate verification is strongly advised. See: https://urllib3.readthedocs.io/en/1.26.x/advanced-usage.html#ssl-warnings\n",
            "  warnings.warn(\n",
            "/usr/local/lib/python3.10/dist-packages/urllib3/connectionpool.py:1056: InsecureRequestWarning: Unverified HTTPS request is being made to host 'xn----8sbecmnepftxqlq8k.com'. Adding certificate verification is strongly advised. See: https://urllib3.readthedocs.io/en/1.26.x/advanced-usage.html#ssl-warnings\n",
            "  warnings.warn(\n"
          ]
        },
        {
          "output_type": "stream",
          "name": "stdout",
          "text": [
            "Loaded https://xn----8sbecmnepftxqlq8k.com/\t\n",
            "5 34 Load result code 200 https://xn----8sbecmnepftxqlq8k.com/\t\n"
          ]
        },
        {
          "output_type": "stream",
          "name": "stderr",
          "text": [
            "/usr/local/lib/python3.10/dist-packages/urllib3/connectionpool.py:1056: InsecureRequestWarning: Unverified HTTPS request is being made to host 'master-zamok.pro'. Adding certificate verification is strongly advised. See: https://urllib3.readthedocs.io/en/1.26.x/advanced-usage.html#ssl-warnings\n",
            "  warnings.warn(\n",
            "/usr/local/lib/python3.10/dist-packages/urllib3/connectionpool.py:1056: InsecureRequestWarning: Unverified HTTPS request is being made to host 'master-zamok.pro'. Adding certificate verification is strongly advised. See: https://urllib3.readthedocs.io/en/1.26.x/advanced-usage.html#ssl-warnings\n",
            "  warnings.warn(\n"
          ]
        },
        {
          "output_type": "stream",
          "name": "stdout",
          "text": [
            "Load error https://master-zamok.pro/services/okruga-moskvy/remont-i-zamena-zamkov-v-severnoe-tushino/\t 404\n",
            "5 35 Load result code 404 https://master-zamok.pro/services/okruga-moskvy/remont-i-zamena-zamkov-v-severnoe-tushino/\t\n"
          ]
        },
        {
          "output_type": "stream",
          "name": "stderr",
          "text": [
            "/usr/local/lib/python3.10/dist-packages/urllib3/connectionpool.py:1056: InsecureRequestWarning: Unverified HTTPS request is being made to host 'zamenazamka.ru'. Adding certificate verification is strongly advised. See: https://urllib3.readthedocs.io/en/1.26.x/advanced-usage.html#ssl-warnings\n",
            "  warnings.warn(\n"
          ]
        },
        {
          "output_type": "stream",
          "name": "stdout",
          "text": [
            "Load error https://zamenazamka.ru/\t 404\n",
            "5 36 Load result code 404 https://zamenazamka.ru/\t\n"
          ]
        },
        {
          "output_type": "stream",
          "name": "stderr",
          "text": [
            "/usr/local/lib/python3.10/dist-packages/urllib3/connectionpool.py:1056: InsecureRequestWarning: Unverified HTTPS request is being made to host 'xn--27-6kc1aqlo.xn--p1ai'. Adding certificate verification is strongly advised. See: https://urllib3.readthedocs.io/en/1.26.x/advanced-usage.html#ssl-warnings\n",
            "  warnings.warn(\n"
          ]
        },
        {
          "output_type": "stream",
          "name": "stdout",
          "text": [
            "Load error https://xn--27-6kc1aqlo.xn--p1ai/\t 404\n",
            "5 37 Load result code 404 https://xn--27-6kc1aqlo.xn--p1ai/\t\n"
          ]
        },
        {
          "output_type": "stream",
          "name": "stderr",
          "text": [
            "/usr/local/lib/python3.10/dist-packages/urllib3/connectionpool.py:1056: InsecureRequestWarning: Unverified HTTPS request is being made to host 'planetazamkov.ru'. Adding certificate verification is strongly advised. See: https://urllib3.readthedocs.io/en/1.26.x/advanced-usage.html#ssl-warnings\n",
            "  warnings.warn(\n",
            "/usr/local/lib/python3.10/dist-packages/urllib3/connectionpool.py:1056: InsecureRequestWarning: Unverified HTTPS request is being made to host 'planetazamkov.ru'. Adding certificate verification is strongly advised. See: https://urllib3.readthedocs.io/en/1.26.x/advanced-usage.html#ssl-warnings\n",
            "  warnings.warn(\n"
          ]
        },
        {
          "output_type": "stream",
          "name": "stdout",
          "text": [
            "Load error https://planetazamkov.ru/goroda-mo/ustanovka-zamkov-v-dolgoprudnom/\t 404\n",
            "5 38 Load result code 404 https://planetazamkov.ru/goroda-mo/ustanovka-zamkov-v-dolgoprudnom/\t\n"
          ]
        },
        {
          "output_type": "stream",
          "name": "stderr",
          "text": [
            "/usr/local/lib/python3.10/dist-packages/urllib3/connectionpool.py:1056: InsecureRequestWarning: Unverified HTTPS request is being made to host 'zamaster24.ru'. Adding certificate verification is strongly advised. See: https://urllib3.readthedocs.io/en/1.26.x/advanced-usage.html#ssl-warnings\n",
            "  warnings.warn(\n"
          ]
        },
        {
          "output_type": "stream",
          "name": "stdout",
          "text": [
            "Load error https://zamaster24.ru/ustanovka-zamkov/\t 404\n",
            "5 39 Load result code 404 https://zamaster24.ru/ustanovka-zamkov/\t\n"
          ]
        },
        {
          "output_type": "stream",
          "name": "stderr",
          "text": [
            "/usr/local/lib/python3.10/dist-packages/urllib3/connectionpool.py:1056: InsecureRequestWarning: Unverified HTTPS request is being made to host 'www.007spb.ru'. Adding certificate verification is strongly advised. See: https://urllib3.readthedocs.io/en/1.26.x/advanced-usage.html#ssl-warnings\n",
            "  warnings.warn(\n"
          ]
        },
        {
          "output_type": "stream",
          "name": "stdout",
          "text": [
            "Load error https://www.007spb.ru/zamok/\t 404\n",
            "5 40 Load result code 404 https://www.007spb.ru/zamok/\t\n"
          ]
        },
        {
          "output_type": "stream",
          "name": "stderr",
          "text": [
            "/usr/local/lib/python3.10/dist-packages/urllib3/connectionpool.py:1056: InsecureRequestWarning: Unverified HTTPS request is being made to host 'netpregrad.com'. Adding certificate verification is strongly advised. See: https://urllib3.readthedocs.io/en/1.26.x/advanced-usage.html#ssl-warnings\n",
            "  warnings.warn(\n"
          ]
        },
        {
          "output_type": "stream",
          "name": "stdout",
          "text": [
            "Load error https://netpregrad.com/services/ustanovka-zamkov/\t 404\n",
            "5 41 Load result code 404 https://netpregrad.com/services/ustanovka-zamkov/\t\n"
          ]
        },
        {
          "output_type": "stream",
          "name": "stderr",
          "text": [
            "/usr/local/lib/python3.10/dist-packages/urllib3/connectionpool.py:1056: InsecureRequestWarning: Unverified HTTPS request is being made to host 'krasnodar.myguru.ru'. Adding certificate verification is strongly advised. See: https://urllib3.readthedocs.io/en/1.26.x/advanced-usage.html#ssl-warnings\n",
            "  warnings.warn(\n",
            "/usr/local/lib/python3.10/dist-packages/urllib3/connectionpool.py:1056: InsecureRequestWarning: Unverified HTTPS request is being made to host 'krasnodar.myguru.ru'. Adding certificate verification is strongly advised. See: https://urllib3.readthedocs.io/en/1.26.x/advanced-usage.html#ssl-warnings\n",
            "  warnings.warn(\n"
          ]
        },
        {
          "output_type": "stream",
          "name": "stdout",
          "text": [
            "Load error https://krasnodar.myguru.ru/services/zamki-vskrytie-ustanovka/\t 404\n",
            "5 42 Load result code 404 https://krasnodar.myguru.ru/services/zamki-vskrytie-ustanovka/\t\n"
          ]
        },
        {
          "output_type": "stream",
          "name": "stderr",
          "text": [
            "/usr/local/lib/python3.10/dist-packages/urllib3/connectionpool.py:1056: InsecureRequestWarning: Unverified HTTPS request is being made to host 'xn----7sbbaemlbnlesdxx0cd4ay.xn--p1ai'. Adding certificate verification is strongly advised. See: https://urllib3.readthedocs.io/en/1.26.x/advanced-usage.html#ssl-warnings\n",
            "  warnings.warn(\n"
          ]
        },
        {
          "output_type": "stream",
          "name": "stdout",
          "text": [
            "Load error https://xn----7sbbaemlbnlesdxx0cd4ay.xn--p1ai/vskrytie-zamkov\t 404\n",
            "5 43 Load result code 404 https://xn----7sbbaemlbnlesdxx0cd4ay.xn--p1ai/vskrytie-zamkov\t\n"
          ]
        },
        {
          "output_type": "stream",
          "name": "stderr",
          "text": [
            "/usr/local/lib/python3.10/dist-packages/urllib3/connectionpool.py:1056: InsecureRequestWarning: Unverified HTTPS request is being made to host 'masterzamok.ru'. Adding certificate verification is strongly advised. See: https://urllib3.readthedocs.io/en/1.26.x/advanced-usage.html#ssl-warnings\n",
            "  warnings.warn(\n"
          ]
        },
        {
          "output_type": "stream",
          "name": "stdout",
          "text": [
            "Load error https://masterzamok.ru/\t 404\n",
            "5 44 Load result code 404 https://masterzamok.ru/\t\n"
          ]
        },
        {
          "output_type": "stream",
          "name": "stderr",
          "text": [
            "/usr/local/lib/python3.10/dist-packages/urllib3/connectionpool.py:1056: InsecureRequestWarning: Unverified HTTPS request is being made to host 'vskrytiespb.ru'. Adding certificate verification is strongly advised. See: https://urllib3.readthedocs.io/en/1.26.x/advanced-usage.html#ssl-warnings\n",
            "  warnings.warn(\n"
          ]
        },
        {
          "output_type": "stream",
          "name": "stdout",
          "text": [
            "Load error https://vskrytiespb.ru/service/zamena-ustanovka-zamkov\t 404\n",
            "5 45 Load result code 404 https://vskrytiespb.ru/service/zamena-ustanovka-zamkov\t\n"
          ]
        },
        {
          "output_type": "stream",
          "name": "stderr",
          "text": [
            "/usr/local/lib/python3.10/dist-packages/urllib3/connectionpool.py:1056: InsecureRequestWarning: Unverified HTTPS request is being made to host 'www.svd51.ru'. Adding certificate verification is strongly advised. See: https://urllib3.readthedocs.io/en/1.26.x/advanced-usage.html#ssl-warnings\n",
            "  warnings.warn(\n"
          ]
        },
        {
          "output_type": "stream",
          "name": "stdout",
          "text": [
            "Loaded https://www.svd51.ru/zamena-i-ustanovka-zamkov/\t\n",
            "5 46 Load result code 200 https://www.svd51.ru/zamena-i-ustanovka-zamkov/\t\n"
          ]
        },
        {
          "output_type": "stream",
          "name": "stderr",
          "text": [
            "/usr/local/lib/python3.10/dist-packages/urllib3/connectionpool.py:1056: InsecureRequestWarning: Unverified HTTPS request is being made to host 'pro-zamok.ru'. Adding certificate verification is strongly advised. See: https://urllib3.readthedocs.io/en/1.26.x/advanced-usage.html#ssl-warnings\n",
            "  warnings.warn(\n"
          ]
        },
        {
          "output_type": "stream",
          "name": "stdout",
          "text": [
            "Load error https://pro-zamok.ru/\t 404\n",
            "5 47 Load result code 404 https://pro-zamok.ru/\t\n"
          ]
        },
        {
          "output_type": "stream",
          "name": "stderr",
          "text": [
            "/usr/local/lib/python3.10/dist-packages/urllib3/connectionpool.py:1056: InsecureRequestWarning: Unverified HTTPS request is being made to host 'master-plus23.ru'. Adding certificate verification is strongly advised. See: https://urllib3.readthedocs.io/en/1.26.x/advanced-usage.html#ssl-warnings\n",
            "  warnings.warn(\n",
            "/usr/local/lib/python3.10/dist-packages/urllib3/connectionpool.py:1056: InsecureRequestWarning: Unverified HTTPS request is being made to host 'master-plus23.ru'. Adding certificate verification is strongly advised. See: https://urllib3.readthedocs.io/en/1.26.x/advanced-usage.html#ssl-warnings\n",
            "  warnings.warn(\n"
          ]
        },
        {
          "output_type": "stream",
          "name": "stdout",
          "text": [
            "Loaded https://master-plus23.ru/zamena-zamkov/\t\n",
            "5 48 Load result code 200 https://master-plus23.ru/zamena-zamkov/\t\n"
          ]
        },
        {
          "output_type": "stream",
          "name": "stderr",
          "text": [
            "/usr/local/lib/python3.10/dist-packages/urllib3/connectionpool.py:1056: InsecureRequestWarning: Unverified HTTPS request is being made to host 'yazamok24.ru'. Adding certificate verification is strongly advised. See: https://urllib3.readthedocs.io/en/1.26.x/advanced-usage.html#ssl-warnings\n",
            "  warnings.warn(\n",
            "/usr/local/lib/python3.10/dist-packages/urllib3/connectionpool.py:1056: InsecureRequestWarning: Unverified HTTPS request is being made to host 'yazamok24.ru'. Adding certificate verification is strongly advised. See: https://urllib3.readthedocs.io/en/1.26.x/advanced-usage.html#ssl-warnings\n",
            "  warnings.warn(\n"
          ]
        },
        {
          "output_type": "stream",
          "name": "stdout",
          "text": [
            "Load error https://yazamok24.ru/uslugi/z/zamena-zamkov/\t 404\n",
            "5 49 Load result code 404 https://yazamok24.ru/uslugi/z/zamena-zamkov/\t\n"
          ]
        },
        {
          "output_type": "stream",
          "name": "stderr",
          "text": [
            "/usr/local/lib/python3.10/dist-packages/urllib3/connectionpool.py:1056: InsecureRequestWarning: Unverified HTTPS request is being made to host 'zamkiservis.spb.ru'. Adding certificate verification is strongly advised. See: https://urllib3.readthedocs.io/en/1.26.x/advanced-usage.html#ssl-warnings\n",
            "  warnings.warn(\n"
          ]
        },
        {
          "output_type": "stream",
          "name": "stdout",
          "text": [
            "Load error https://zamkiservis.spb.ru/\t 404\n",
            "5 50 Load result code 404 https://zamkiservis.spb.ru/\t\n"
          ]
        },
        {
          "output_type": "stream",
          "name": "stderr",
          "text": [
            "/usr/local/lib/python3.10/dist-packages/urllib3/connectionpool.py:1056: InsecureRequestWarning: Unverified HTTPS request is being made to host 'xn--80a6abc.xn--p1ai'. Adding certificate verification is strongly advised. See: https://urllib3.readthedocs.io/en/1.26.x/advanced-usage.html#ssl-warnings\n",
            "  warnings.warn(\n"
          ]
        },
        {
          "output_type": "stream",
          "name": "stdout",
          "text": [
            "Load error https://xn--80a6abc.xn--p1ai/\t 404\n",
            "5 51 Load result code 404 https://xn--80a6abc.xn--p1ai/\t\n"
          ]
        },
        {
          "output_type": "stream",
          "name": "stderr",
          "text": [
            "/usr/local/lib/python3.10/dist-packages/urllib3/connectionpool.py:1056: InsecureRequestWarning: Unverified HTTPS request is being made to host 'xn----btbblq0cfel3g.xn--p1ai'. Adding certificate verification is strongly advised. See: https://urllib3.readthedocs.io/en/1.26.x/advanced-usage.html#ssl-warnings\n",
            "  warnings.warn(\n",
            "/usr/local/lib/python3.10/dist-packages/urllib3/connectionpool.py:1056: InsecureRequestWarning: Unverified HTTPS request is being made to host 'xn----btbblq0cfel3g.xn--p1ai'. Adding certificate verification is strongly advised. See: https://urllib3.readthedocs.io/en/1.26.x/advanced-usage.html#ssl-warnings\n",
            "  warnings.warn(\n"
          ]
        },
        {
          "output_type": "stream",
          "name": "stdout",
          "text": [
            "Load error https://xn----btbblq0cfel3g.xn--p1ai/ustanovka-i-vskritie-zamkov/zamena-zamkov/\t 404\n",
            "5 52 Load result code 404 https://xn----btbblq0cfel3g.xn--p1ai/ustanovka-i-vskritie-zamkov/zamena-zamkov/\t\n"
          ]
        },
        {
          "output_type": "stream",
          "name": "stderr",
          "text": [
            "/usr/local/lib/python3.10/dist-packages/urllib3/connectionpool.py:1056: InsecureRequestWarning: Unverified HTTPS request is being made to host 'zamki-sao.com'. Adding certificate verification is strongly advised. See: https://urllib3.readthedocs.io/en/1.26.x/advanced-usage.html#ssl-warnings\n",
            "  warnings.warn(\n",
            "/usr/local/lib/python3.10/dist-packages/urllib3/connectionpool.py:1056: InsecureRequestWarning: Unverified HTTPS request is being made to host 'zamki-sao.com'. Adding certificate verification is strongly advised. See: https://urllib3.readthedocs.io/en/1.26.x/advanced-usage.html#ssl-warnings\n",
            "  warnings.warn(\n"
          ]
        },
        {
          "output_type": "stream",
          "name": "stdout",
          "text": [
            "Load error https://zamki-sao.com/\t 404\n",
            "5 53 Load result code 404 https://zamki-sao.com/\t\n"
          ]
        },
        {
          "output_type": "stream",
          "name": "stderr",
          "text": [
            "/usr/local/lib/python3.10/dist-packages/urllib3/connectionpool.py:1056: InsecureRequestWarning: Unverified HTTPS request is being made to host 'xn--h1alaefj.xn--p1ai'. Adding certificate verification is strongly advised. See: https://urllib3.readthedocs.io/en/1.26.x/advanced-usage.html#ssl-warnings\n",
            "  warnings.warn(\n"
          ]
        },
        {
          "output_type": "stream",
          "name": "stdout",
          "text": [
            "Load error https://xn--h1alaefj.xn--p1ai/\t 404\n",
            "5 54 Load result code 404 https://xn--h1alaefj.xn--p1ai/\t\n"
          ]
        },
        {
          "output_type": "stream",
          "name": "stderr",
          "text": [
            "/usr/local/lib/python3.10/dist-packages/urllib3/connectionpool.py:1056: InsecureRequestWarning: Unverified HTTPS request is being made to host 'novotroitsk.slesarek.ru'. Adding certificate verification is strongly advised. See: https://urllib3.readthedocs.io/en/1.26.x/advanced-usage.html#ssl-warnings\n",
            "  warnings.warn(\n"
          ]
        },
        {
          "output_type": "stream",
          "name": "stdout",
          "text": [
            "Load error https://novotroitsk.slesarek.ru/\t 404\n",
            "5 55 Load result code 404 https://novotroitsk.slesarek.ru/\t\n"
          ]
        },
        {
          "output_type": "stream",
          "name": "stderr",
          "text": [
            "/usr/local/lib/python3.10/dist-packages/urllib3/connectionpool.py:1056: InsecureRequestWarning: Unverified HTTPS request is being made to host 'remontnn.ru'. Adding certificate verification is strongly advised. See: https://urllib3.readthedocs.io/en/1.26.x/advanced-usage.html#ssl-warnings\n",
            "  warnings.warn(\n"
          ]
        },
        {
          "output_type": "stream",
          "name": "stdout",
          "text": [
            "Load error https://remontnn.ru/uslugi/plotnickie-raboty/remont-dvernyh-zamkov\t 404\n",
            "5 56 Load result code 404 https://remontnn.ru/uslugi/plotnickie-raboty/remont-dvernyh-zamkov\t\n"
          ]
        },
        {
          "output_type": "stream",
          "name": "stderr",
          "text": [
            "/usr/local/lib/python3.10/dist-packages/urllib3/connectionpool.py:1056: InsecureRequestWarning: Unverified HTTPS request is being made to host 'www.slomanet.ru'. Adding certificate verification is strongly advised. See: https://urllib3.readthedocs.io/en/1.26.x/advanced-usage.html#ssl-warnings\n",
            "  warnings.warn(\n"
          ]
        },
        {
          "output_type": "stream",
          "name": "stdout",
          "text": [
            "Load error https://www.slomanet.ru/\t 404\n",
            "5 57 Load result code 404 https://www.slomanet.ru/\t\n"
          ]
        },
        {
          "output_type": "stream",
          "name": "stderr",
          "text": [
            "/usr/local/lib/python3.10/dist-packages/urllib3/connectionpool.py:1056: InsecureRequestWarning: Unverified HTTPS request is being made to host 'zamkov.net'. Adding certificate verification is strongly advised. See: https://urllib3.readthedocs.io/en/1.26.x/advanced-usage.html#ssl-warnings\n",
            "  warnings.warn(\n"
          ]
        },
        {
          "output_type": "stream",
          "name": "stdout",
          "text": [
            "Load error https://zamkov.net/\t 404\n",
            "5 58 Load result code 404 https://zamkov.net/\t\n"
          ]
        },
        {
          "output_type": "stream",
          "name": "stderr",
          "text": [
            "/usr/local/lib/python3.10/dist-packages/urllib3/connectionpool.py:1056: InsecureRequestWarning: Unverified HTTPS request is being made to host 'open-dver.ru'. Adding certificate verification is strongly advised. See: https://urllib3.readthedocs.io/en/1.26.x/advanced-usage.html#ssl-warnings\n",
            "  warnings.warn(\n"
          ]
        },
        {
          "output_type": "stream",
          "name": "stdout",
          "text": [
            "Load error https://open-dver.ru/\t 404\n",
            "5 59 Load result code 404 https://open-dver.ru/\t\n"
          ]
        },
        {
          "output_type": "stream",
          "name": "stderr",
          "text": [
            "/usr/local/lib/python3.10/dist-packages/urllib3/connectionpool.py:1056: InsecureRequestWarning: Unverified HTTPS request is being made to host 'lock-master.ru'. Adding certificate verification is strongly advised. See: https://urllib3.readthedocs.io/en/1.26.x/advanced-usage.html#ssl-warnings\n",
            "  warnings.warn(\n"
          ]
        },
        {
          "output_type": "stream",
          "name": "stdout",
          "text": [
            "Load error https://lock-master.ru/\t 404\n",
            "5 60 Load result code 404 https://lock-master.ru/\t\n"
          ]
        },
        {
          "output_type": "stream",
          "name": "stderr",
          "text": [
            "/usr/local/lib/python3.10/dist-packages/urllib3/connectionpool.py:1056: InsecureRequestWarning: Unverified HTTPS request is being made to host 'zamkow.ru'. Adding certificate verification is strongly advised. See: https://urllib3.readthedocs.io/en/1.26.x/advanced-usage.html#ssl-warnings\n",
            "  warnings.warn(\n",
            "/usr/local/lib/python3.10/dist-packages/urllib3/connectionpool.py:1056: InsecureRequestWarning: Unverified HTTPS request is being made to host 'spec.zamkow.ru'. Adding certificate verification is strongly advised. See: https://urllib3.readthedocs.io/en/1.26.x/advanced-usage.html#ssl-warnings\n",
            "  warnings.warn(\n",
            "/usr/local/lib/python3.10/dist-packages/urllib3/connectionpool.py:1056: InsecureRequestWarning: Unverified HTTPS request is being made to host 'spec.zamkow.ru'. Adding certificate verification is strongly advised. See: https://urllib3.readthedocs.io/en/1.26.x/advanced-usage.html#ssl-warnings\n",
            "  warnings.warn(\n"
          ]
        },
        {
          "output_type": "stream",
          "name": "stdout",
          "text": [
            "Loaded https://zamkow.ru/\t\n",
            "5 61 Load result code 200 https://zamkow.ru/\t\n"
          ]
        },
        {
          "output_type": "stream",
          "name": "stderr",
          "text": [
            "/usr/local/lib/python3.10/dist-packages/urllib3/connectionpool.py:1056: InsecureRequestWarning: Unverified HTTPS request is being made to host 'master-zamki.ru'. Adding certificate verification is strongly advised. See: https://urllib3.readthedocs.io/en/1.26.x/advanced-usage.html#ssl-warnings\n",
            "  warnings.warn(\n"
          ]
        },
        {
          "output_type": "stream",
          "name": "stdout",
          "text": [
            "Load error https://master-zamki.ru/\t 403\n",
            "5 62 Load result code 403 https://master-zamki.ru/\t\n"
          ]
        },
        {
          "output_type": "stream",
          "name": "stderr",
          "text": [
            "/usr/local/lib/python3.10/dist-packages/urllib3/connectionpool.py:1056: InsecureRequestWarning: Unverified HTTPS request is being made to host 'safebreaker.ru'. Adding certificate verification is strongly advised. See: https://urllib3.readthedocs.io/en/1.26.x/advanced-usage.html#ssl-warnings\n",
            "  warnings.warn(\n"
          ]
        },
        {
          "output_type": "stream",
          "name": "stdout",
          "text": [
            "Load error https://safebreaker.ru/\t 404\n",
            "5 63 Load result code 404 https://safebreaker.ru/\t\n",
            "Load error http://www.goo-d-lock.ru/\t 404\n",
            "5 64 Load result code 404 http://www.goo-d-lock.ru/\t\n"
          ]
        },
        {
          "output_type": "stream",
          "name": "stderr",
          "text": [
            "/usr/local/lib/python3.10/dist-packages/urllib3/connectionpool.py:1056: InsecureRequestWarning: Unverified HTTPS request is being made to host 'piter-unlock.ru'. Adding certificate verification is strongly advised. See: https://urllib3.readthedocs.io/en/1.26.x/advanced-usage.html#ssl-warnings\n",
            "  warnings.warn(\n"
          ]
        },
        {
          "output_type": "stream",
          "name": "stdout",
          "text": [
            "Load error https://piter-unlock.ru/\t 404\n",
            "5 65 Load result code 404 https://piter-unlock.ru/\t\n"
          ]
        },
        {
          "output_type": "stream",
          "name": "stderr",
          "text": [
            "/usr/local/lib/python3.10/dist-packages/urllib3/connectionpool.py:1056: InsecureRequestWarning: Unverified HTTPS request is being made to host 'rostov-zamok.ru'. Adding certificate verification is strongly advised. See: https://urllib3.readthedocs.io/en/1.26.x/advanced-usage.html#ssl-warnings\n",
            "  warnings.warn(\n"
          ]
        },
        {
          "output_type": "stream",
          "name": "stdout",
          "text": [
            "Load error https://rostov-zamok.ru/\t 404\n",
            "5 66 Load result code 404 https://rostov-zamok.ru/\t\n"
          ]
        },
        {
          "output_type": "stream",
          "name": "stderr",
          "text": [
            "/usr/local/lib/python3.10/dist-packages/urllib3/connectionpool.py:1056: InsecureRequestWarning: Unverified HTTPS request is being made to host 'keytomsk.ru'. Adding certificate verification is strongly advised. See: https://urllib3.readthedocs.io/en/1.26.x/advanced-usage.html#ssl-warnings\n",
            "  warnings.warn(\n"
          ]
        },
        {
          "output_type": "stream",
          "name": "stdout",
          "text": [
            "Load error https://keytomsk.ru/\t 404\n",
            "5 67 Load result code 404 https://keytomsk.ru/\t\n"
          ]
        },
        {
          "output_type": "stream",
          "name": "stderr",
          "text": [
            "/usr/local/lib/python3.10/dist-packages/urllib3/connectionpool.py:1056: InsecureRequestWarning: Unverified HTTPS request is being made to host 'all-lock.ru'. Adding certificate verification is strongly advised. See: https://urllib3.readthedocs.io/en/1.26.x/advanced-usage.html#ssl-warnings\n",
            "  warnings.warn(\n"
          ]
        },
        {
          "output_type": "stream",
          "name": "stdout",
          "text": [
            "Load error https://all-lock.ru/\t 404\n",
            "5 68 Load result code 404 https://all-lock.ru/\t\n"
          ]
        },
        {
          "output_type": "stream",
          "name": "stderr",
          "text": [
            "/usr/local/lib/python3.10/dist-packages/urllib3/connectionpool.py:1056: InsecureRequestWarning: Unverified HTTPS request is being made to host 'zamokmaster66.ru'. Adding certificate verification is strongly advised. See: https://urllib3.readthedocs.io/en/1.26.x/advanced-usage.html#ssl-warnings\n",
            "  warnings.warn(\n"
          ]
        },
        {
          "output_type": "stream",
          "name": "stdout",
          "text": [
            "Load error https://zamokmaster66.ru/\t 404\n",
            "5 69 Load result code 404 https://zamokmaster66.ru/\t\n"
          ]
        },
        {
          "output_type": "stream",
          "name": "stderr",
          "text": [
            "/usr/local/lib/python3.10/dist-packages/urllib3/connectionpool.py:1056: InsecureRequestWarning: Unverified HTTPS request is being made to host 'tyumen.trade-services.ru'. Adding certificate verification is strongly advised. See: https://urllib3.readthedocs.io/en/1.26.x/advanced-usage.html#ssl-warnings\n",
            "  warnings.warn(\n",
            "/usr/local/lib/python3.10/dist-packages/urllib3/connectionpool.py:1056: InsecureRequestWarning: Unverified HTTPS request is being made to host 'tyumen.trade-services.ru'. Adding certificate verification is strongly advised. See: https://urllib3.readthedocs.io/en/1.26.x/advanced-usage.html#ssl-warnings\n",
            "  warnings.warn(\n"
          ]
        },
        {
          "output_type": "stream",
          "name": "stdout",
          "text": [
            "Load error https://tyumen.trade-services.ru/\t 404\n",
            "5 70 Load result code 404 https://tyumen.trade-services.ru/\t\n",
            "Load error exception\n",
            "5 71 Load result code -1 https://www.doorlockservice.ru/\t\n"
          ]
        },
        {
          "output_type": "stream",
          "name": "stderr",
          "text": [
            "/usr/local/lib/python3.10/dist-packages/urllib3/connectionpool.py:1056: InsecureRequestWarning: Unverified HTTPS request is being made to host 'electrostal.newzamok.ru'. Adding certificate verification is strongly advised. See: https://urllib3.readthedocs.io/en/1.26.x/advanced-usage.html#ssl-warnings\n",
            "  warnings.warn(\n"
          ]
        },
        {
          "output_type": "stream",
          "name": "stdout",
          "text": [
            "Load error http://electrostal.newzamok.ru/\t 404\n",
            "5 72 Load result code 404 http://electrostal.newzamok.ru/\t\n"
          ]
        },
        {
          "output_type": "stream",
          "name": "stderr",
          "text": [
            "/usr/local/lib/python3.10/dist-packages/urllib3/connectionpool.py:1056: InsecureRequestWarning: Unverified HTTPS request is being made to host 'krasnoyarsk.lockeddoor.ru'. Adding certificate verification is strongly advised. See: https://urllib3.readthedocs.io/en/1.26.x/advanced-usage.html#ssl-warnings\n",
            "  warnings.warn(\n"
          ]
        },
        {
          "output_type": "stream",
          "name": "stdout",
          "text": [
            "Load error https://krasnoyarsk.lockeddoor.ru/\t 404\n",
            "5 73 Load result code 404 https://krasnoyarsk.lockeddoor.ru/\t\n"
          ]
        },
        {
          "output_type": "stream",
          "name": "stderr",
          "text": [
            "/usr/local/lib/python3.10/dist-packages/urllib3/connectionpool.py:1056: InsecureRequestWarning: Unverified HTTPS request is being made to host 'www.elocks.ru'. Adding certificate verification is strongly advised. See: https://urllib3.readthedocs.io/en/1.26.x/advanced-usage.html#ssl-warnings\n",
            "  warnings.warn(\n"
          ]
        },
        {
          "output_type": "stream",
          "name": "stdout",
          "text": [
            "Load error https://www.elocks.ru/services/vskryitie_zamkov/\t 404\n",
            "5 74 Load result code 404 https://www.elocks.ru/services/vskryitie_zamkov/\t\n"
          ]
        },
        {
          "output_type": "stream",
          "name": "stderr",
          "text": [
            "/usr/local/lib/python3.10/dist-packages/urllib3/connectionpool.py:1056: InsecureRequestWarning: Unverified HTTPS request is being made to host 'www.bars-x.ru'. Adding certificate verification is strongly advised. See: https://urllib3.readthedocs.io/en/1.26.x/advanced-usage.html#ssl-warnings\n",
            "  warnings.warn(\n"
          ]
        },
        {
          "output_type": "stream",
          "name": "stdout",
          "text": [
            "Load error https://www.bars-x.ru/vskrit.htm\t 404\n",
            "5 75 Load result code 404 https://www.bars-x.ru/vskrit.htm\t\n"
          ]
        },
        {
          "output_type": "stream",
          "name": "stderr",
          "text": [
            "/usr/local/lib/python3.10/dist-packages/urllib3/connectionpool.py:1056: InsecureRequestWarning: Unverified HTTPS request is being made to host 'www.lockservice.pro'. Adding certificate verification is strongly advised. See: https://urllib3.readthedocs.io/en/1.26.x/advanced-usage.html#ssl-warnings\n",
            "  warnings.warn(\n"
          ]
        },
        {
          "output_type": "stream",
          "name": "stdout",
          "text": [
            "Load error https://www.lockservice.pro/zamena-zamkov-oktyabrskoe-polee\t 404\n",
            "5 76 Load result code 404 https://www.lockservice.pro/zamena-zamkov-oktyabrskoe-polee\t\n"
          ]
        },
        {
          "output_type": "stream",
          "name": "stderr",
          "text": [
            "/usr/local/lib/python3.10/dist-packages/urllib3/connectionpool.py:1056: InsecureRequestWarning: Unverified HTTPS request is being made to host 'xn----8sbecmnepftxqlq8k.xn--80adxhks'. Adding certificate verification is strongly advised. See: https://urllib3.readthedocs.io/en/1.26.x/advanced-usage.html#ssl-warnings\n",
            "  warnings.warn(\n"
          ]
        },
        {
          "output_type": "stream",
          "name": "stdout",
          "text": [
            "Load error https://xn----8sbecmnepftxqlq8k.xn--80adxhks/\t 404\n",
            "5 77 Load result code 404 https://xn----8sbecmnepftxqlq8k.xn--80adxhks/\t\n"
          ]
        },
        {
          "output_type": "stream",
          "name": "stderr",
          "text": [
            "/usr/local/lib/python3.10/dist-packages/urllib3/connectionpool.py:1056: InsecureRequestWarning: Unverified HTTPS request is being made to host 'xn----ctbbfgbwe9akufle.xn--p1ai'. Adding certificate verification is strongly advised. See: https://urllib3.readthedocs.io/en/1.26.x/advanced-usage.html#ssl-warnings\n",
            "  warnings.warn(\n",
            "/usr/local/lib/python3.10/dist-packages/urllib3/connectionpool.py:1056: InsecureRequestWarning: Unverified HTTPS request is being made to host 'xn----ctbbfgbwe9akufle.xn--p1ai'. Adding certificate verification is strongly advised. See: https://urllib3.readthedocs.io/en/1.26.x/advanced-usage.html#ssl-warnings\n",
            "  warnings.warn(\n"
          ]
        },
        {
          "output_type": "stream",
          "name": "stdout",
          "text": [
            "Load error https://xn----ctbbfgbwe9akufle.xn--p1ai/\t 404\n",
            "5 78 Load result code 404 https://xn----ctbbfgbwe9akufle.xn--p1ai/\t\n"
          ]
        },
        {
          "output_type": "stream",
          "name": "stderr",
          "text": [
            "/usr/local/lib/python3.10/dist-packages/urllib3/connectionpool.py:1056: InsecureRequestWarning: Unverified HTTPS request is being made to host 'help-novoross.ru'. Adding certificate verification is strongly advised. See: https://urllib3.readthedocs.io/en/1.26.x/advanced-usage.html#ssl-warnings\n",
            "  warnings.warn(\n"
          ]
        },
        {
          "output_type": "stream",
          "name": "stdout",
          "text": [
            "Load error https://help-novoross.ru/\t 404\n",
            "5 79 Load result code 404 https://help-novoross.ru/\t\n"
          ]
        },
        {
          "output_type": "stream",
          "name": "stderr",
          "text": [
            "/usr/local/lib/python3.10/dist-packages/urllib3/connectionpool.py:1056: InsecureRequestWarning: Unverified HTTPS request is being made to host 'nsk-spas.ru'. Adding certificate verification is strongly advised. See: https://urllib3.readthedocs.io/en/1.26.x/advanced-usage.html#ssl-warnings\n",
            "  warnings.warn(\n"
          ]
        },
        {
          "output_type": "stream",
          "name": "stdout",
          "text": [
            "Load error https://nsk-spas.ru/\t 404\n",
            "5 80 Load result code 404 https://nsk-spas.ru/\t\n"
          ]
        },
        {
          "output_type": "stream",
          "name": "stderr",
          "text": [
            "/usr/local/lib/python3.10/dist-packages/urllib3/connectionpool.py:1056: InsecureRequestWarning: Unverified HTTPS request is being made to host 'shchelkovo.newzamok.ru'. Adding certificate verification is strongly advised. See: https://urllib3.readthedocs.io/en/1.26.x/advanced-usage.html#ssl-warnings\n",
            "  warnings.warn(\n"
          ]
        },
        {
          "output_type": "stream",
          "name": "stdout",
          "text": [
            "Load error http://shchelkovo.newzamok.ru/\t 404\n",
            "5 81 Load result code 404 http://shchelkovo.newzamok.ru/\t\n",
            "Load error http://xn--56-9kcejbeac0bvn7qva.xn--p1ai/\t 404\n",
            "5 82 Load result code 404 http://xn--56-9kcejbeac0bvn7qva.xn--p1ai/\t\n"
          ]
        },
        {
          "output_type": "stream",
          "name": "stderr",
          "text": [
            "/usr/local/lib/python3.10/dist-packages/urllib3/connectionpool.py:1056: InsecureRequestWarning: Unverified HTTPS request is being made to host 'xn--96-6kc3djc.xn--p1ai'. Adding certificate verification is strongly advised. See: https://urllib3.readthedocs.io/en/1.26.x/advanced-usage.html#ssl-warnings\n",
            "  warnings.warn(\n"
          ]
        },
        {
          "output_type": "stream",
          "name": "stdout",
          "text": [
            "Load error https://xn--96-6kc3djc.xn--p1ai/\t 404\n",
            "5 83 Load result code 404 https://xn--96-6kc3djc.xn--p1ai/\t\n"
          ]
        },
        {
          "output_type": "stream",
          "name": "stderr",
          "text": [
            "/usr/local/lib/python3.10/dist-packages/urllib3/connectionpool.py:1056: InsecureRequestWarning: Unverified HTTPS request is being made to host 'help-izh.ru'. Adding certificate verification is strongly advised. See: https://urllib3.readthedocs.io/en/1.26.x/advanced-usage.html#ssl-warnings\n",
            "  warnings.warn(\n"
          ]
        },
        {
          "output_type": "stream",
          "name": "stdout",
          "text": [
            "Load error https://help-izh.ru/\t 404\n",
            "5 84 Load result code 404 https://help-izh.ru/\t\n"
          ]
        },
        {
          "output_type": "stream",
          "name": "stderr",
          "text": [
            "/usr/local/lib/python3.10/dist-packages/urllib3/connectionpool.py:1056: InsecureRequestWarning: Unverified HTTPS request is being made to host 'zamki-garant.ru'. Adding certificate verification is strongly advised. See: https://urllib3.readthedocs.io/en/1.26.x/advanced-usage.html#ssl-warnings\n",
            "  warnings.warn(\n"
          ]
        },
        {
          "output_type": "stream",
          "name": "stdout",
          "text": [
            "Load error https://zamki-garant.ru/vskrytie-zamkov\t 404\n",
            "5 85 Load result code 404 https://zamki-garant.ru/vskrytie-zamkov\t\n"
          ]
        },
        {
          "output_type": "stream",
          "name": "stderr",
          "text": [
            "/usr/local/lib/python3.10/dist-packages/urllib3/connectionpool.py:1056: InsecureRequestWarning: Unverified HTTPS request is being made to host 'zamenaspb.ru'. Adding certificate verification is strongly advised. See: https://urllib3.readthedocs.io/en/1.26.x/advanced-usage.html#ssl-warnings\n",
            "  warnings.warn(\n"
          ]
        },
        {
          "output_type": "stream",
          "name": "stdout",
          "text": [
            "Load error https://zamenaspb.ru/vskrytie-zamkov/krasnoe-selo.html\t 404\n",
            "5 86 Load result code 404 https://zamenaspb.ru/vskrytie-zamkov/krasnoe-selo.html\t\n",
            "Load error exception\n",
            "5 87 Load result code -1 https://www.zamkikomi.ru/\t\n"
          ]
        },
        {
          "output_type": "stream",
          "name": "stderr",
          "text": [
            "/usr/local/lib/python3.10/dist-packages/urllib3/connectionpool.py:1056: InsecureRequestWarning: Unverified HTTPS request is being made to host 'spas-ektb.ru'. Adding certificate verification is strongly advised. See: https://urllib3.readthedocs.io/en/1.26.x/advanced-usage.html#ssl-warnings\n",
            "  warnings.warn(\n"
          ]
        },
        {
          "output_type": "stream",
          "name": "stdout",
          "text": [
            "Load error https://spas-ektb.ru/\t 404\n",
            "5 88 Load result code 404 https://spas-ektb.ru/\t\n"
          ]
        },
        {
          "output_type": "stream",
          "name": "stderr",
          "text": [
            "/usr/local/lib/python3.10/dist-packages/urllib3/connectionpool.py:1056: InsecureRequestWarning: Unverified HTTPS request is being made to host 'keyservice23.ru'. Adding certificate verification is strongly advised. See: https://urllib3.readthedocs.io/en/1.26.x/advanced-usage.html#ssl-warnings\n",
            "  warnings.warn(\n"
          ]
        },
        {
          "output_type": "stream",
          "name": "stdout",
          "text": [
            "Load error https://keyservice23.ru/\t 404\n",
            "5 89 Load result code 404 https://keyservice23.ru/\t\n"
          ]
        },
        {
          "output_type": "stream",
          "name": "stderr",
          "text": [
            "/usr/local/lib/python3.10/dist-packages/urllib3/connectionpool.py:1056: InsecureRequestWarning: Unverified HTTPS request is being made to host 'vskrytie-zamkov-tmb.ru'. Adding certificate verification is strongly advised. See: https://urllib3.readthedocs.io/en/1.26.x/advanced-usage.html#ssl-warnings\n",
            "  warnings.warn(\n"
          ]
        },
        {
          "output_type": "stream",
          "name": "stdout",
          "text": [
            "Load error https://vskrytie-zamkov-tmb.ru/\t 404\n",
            "5 90 Load result code 404 https://vskrytie-zamkov-tmb.ru/\t\n"
          ]
        },
        {
          "output_type": "stream",
          "name": "stderr",
          "text": [
            "/usr/local/lib/python3.10/dist-packages/urllib3/connectionpool.py:1056: InsecureRequestWarning: Unverified HTTPS request is being made to host 'xn-----6kccab8am2acsctny7a.xn--p1ai'. Adding certificate verification is strongly advised. See: https://urllib3.readthedocs.io/en/1.26.x/advanced-usage.html#ssl-warnings\n",
            "  warnings.warn(\n",
            "/usr/local/lib/python3.10/dist-packages/urllib3/connectionpool.py:1056: InsecureRequestWarning: Unverified HTTPS request is being made to host 'xn-----6kccab8am2acsctny7a.xn--p1ai'. Adding certificate verification is strongly advised. See: https://urllib3.readthedocs.io/en/1.26.x/advanced-usage.html#ssl-warnings\n",
            "  warnings.warn(\n"
          ]
        },
        {
          "output_type": "stream",
          "name": "stdout",
          "text": [
            "Load error https://xn-----6kccab8am2acsctny7a.xn--p1ai/vskrytie-kvartiry/\t 404\n",
            "5 91 Load result code 404 https://xn-----6kccab8am2acsctny7a.xn--p1ai/vskrytie-kvartiry/\t\n"
          ]
        },
        {
          "output_type": "stream",
          "name": "stderr",
          "text": [
            "/usr/local/lib/python3.10/dist-packages/urllib3/connectionpool.py:1056: InsecureRequestWarning: Unverified HTTPS request is being made to host 'lockservice-pro.ru'. Adding certificate verification is strongly advised. See: https://urllib3.readthedocs.io/en/1.26.x/advanced-usage.html#ssl-warnings\n",
            "  warnings.warn(\n"
          ]
        },
        {
          "output_type": "stream",
          "name": "stdout",
          "text": [
            "Load error https://lockservice-pro.ru/\t 404\n",
            "5 92 Load result code 404 https://lockservice-pro.ru/\t\n"
          ]
        },
        {
          "output_type": "stream",
          "name": "stderr",
          "text": [
            "/usr/local/lib/python3.10/dist-packages/urllib3/connectionpool.py:1056: InsecureRequestWarning: Unverified HTTPS request is being made to host 'www.zamok-nn.ru'. Adding certificate verification is strongly advised. See: https://urllib3.readthedocs.io/en/1.26.x/advanced-usage.html#ssl-warnings\n",
            "  warnings.warn(\n"
          ]
        },
        {
          "output_type": "stream",
          "name": "stdout",
          "text": [
            "Load error https://www.zamok-nn.ru/\t 404\n",
            "5 93 Load result code 404 https://www.zamok-nn.ru/\t\n"
          ]
        },
        {
          "output_type": "stream",
          "name": "stderr",
          "text": [
            "/usr/local/lib/python3.10/dist-packages/urllib3/connectionpool.py:1056: InsecureRequestWarning: Unverified HTTPS request is being made to host 'xn--80aueagpkl.xn--80aaehech7b8c.xn--p1ai'. Adding certificate verification is strongly advised. See: https://urllib3.readthedocs.io/en/1.26.x/advanced-usage.html#ssl-warnings\n",
            "  warnings.warn(\n",
            "/usr/local/lib/python3.10/dist-packages/urllib3/connectionpool.py:1056: InsecureRequestWarning: Unverified HTTPS request is being made to host 'xn--80aueagpkl.xn--80aaehech7b8c.xn--p1ai'. Adding certificate verification is strongly advised. See: https://urllib3.readthedocs.io/en/1.26.x/advanced-usage.html#ssl-warnings\n",
            "  warnings.warn(\n"
          ]
        },
        {
          "output_type": "stream",
          "name": "stdout",
          "text": [
            "Load error https://xn--80aueagpkl.xn--80aaehech7b8c.xn--p1ai/\t 404\n",
            "5 94 Load result code 404 https://xn--80aueagpkl.xn--80aaehech7b8c.xn--p1ai/\t\n"
          ]
        },
        {
          "output_type": "stream",
          "name": "stderr",
          "text": [
            "/usr/local/lib/python3.10/dist-packages/urllib3/connectionpool.py:1056: InsecureRequestWarning: Unverified HTTPS request is being made to host 'netpregrad.com'. Adding certificate verification is strongly advised. See: https://urllib3.readthedocs.io/en/1.26.x/advanced-usage.html#ssl-warnings\n",
            "  warnings.warn(\n"
          ]
        },
        {
          "output_type": "stream",
          "name": "stdout",
          "text": [
            "Load error https://netpregrad.com/services/vskrytie-zamkov/\t 404\n",
            "5 95 Load result code 404 https://netpregrad.com/services/vskrytie-zamkov/\t\n"
          ]
        },
        {
          "output_type": "stream",
          "name": "stderr",
          "text": [
            "/usr/local/lib/python3.10/dist-packages/urllib3/connectionpool.py:1056: InsecureRequestWarning: Unverified HTTPS request is being made to host 'zamokzamkov.ru'. Adding certificate verification is strongly advised. See: https://urllib3.readthedocs.io/en/1.26.x/advanced-usage.html#ssl-warnings\n",
            "  warnings.warn(\n"
          ]
        },
        {
          "output_type": "stream",
          "name": "stdout",
          "text": [
            "Load error https://zamokzamkov.ru/\t 404\n",
            "5 96 Load result code 404 https://zamokzamkov.ru/\t\n"
          ]
        },
        {
          "output_type": "stream",
          "name": "stderr",
          "text": [
            "/usr/local/lib/python3.10/dist-packages/urllib3/connectionpool.py:1056: InsecureRequestWarning: Unverified HTTPS request is being made to host 'vzlom-zamkov27.ru'. Adding certificate verification is strongly advised. See: https://urllib3.readthedocs.io/en/1.26.x/advanced-usage.html#ssl-warnings\n",
            "  warnings.warn(\n"
          ]
        },
        {
          "output_type": "stream",
          "name": "stdout",
          "text": [
            "Load error https://vzlom-zamkov27.ru/\t 404\n",
            "5 97 Load result code 404 https://vzlom-zamkov27.ru/\t\n"
          ]
        },
        {
          "output_type": "stream",
          "name": "stderr",
          "text": [
            "/usr/local/lib/python3.10/dist-packages/urllib3/connectionpool.py:1056: InsecureRequestWarning: Unverified HTTPS request is being made to host 'www.keylock.by'. Adding certificate verification is strongly advised. See: https://urllib3.readthedocs.io/en/1.26.x/advanced-usage.html#ssl-warnings\n",
            "  warnings.warn(\n"
          ]
        },
        {
          "output_type": "stream",
          "name": "stdout",
          "text": [
            "Load error https://www.keylock.by/vskrytie-zamkov-lida\t 404\n",
            "5 98 Load result code 404 https://www.keylock.by/vskrytie-zamkov-lida\t\n"
          ]
        },
        {
          "output_type": "stream",
          "name": "stderr",
          "text": [
            "/usr/local/lib/python3.10/dist-packages/urllib3/connectionpool.py:1056: InsecureRequestWarning: Unverified HTTPS request is being made to host 'okna-dveri-zamki.ru'. Adding certificate verification is strongly advised. See: https://urllib3.readthedocs.io/en/1.26.x/advanced-usage.html#ssl-warnings\n",
            "  warnings.warn(\n"
          ]
        },
        {
          "output_type": "stream",
          "name": "stdout",
          "text": [
            "Loaded https://okna-dveri-zamki.ru/vskrytie-zamkov\t\n",
            "5 99 Load result code 200 https://okna-dveri-zamki.ru/vskrytie-zamkov\t\n"
          ]
        },
        {
          "output_type": "stream",
          "name": "stderr",
          "text": [
            "/usr/local/lib/python3.10/dist-packages/urllib3/connectionpool.py:1056: InsecureRequestWarning: Unverified HTTPS request is being made to host 'perm.lockeddoor.ru'. Adding certificate verification is strongly advised. See: https://urllib3.readthedocs.io/en/1.26.x/advanced-usage.html#ssl-warnings\n",
            "  warnings.warn(\n"
          ]
        },
        {
          "output_type": "stream",
          "name": "stdout",
          "text": [
            "Loaded https://perm.lockeddoor.ru/\n",
            "5 100 Load result code 200 https://perm.lockeddoor.ru/\n"
          ]
        },
        {
          "output_type": "stream",
          "name": "stderr",
          "text": [
            "/usr/local/lib/python3.10/dist-packages/urllib3/connectionpool.py:1056: InsecureRequestWarning: Unverified HTTPS request is being made to host 'help-perm24.ru'. Adding certificate verification is strongly advised. See: https://urllib3.readthedocs.io/en/1.26.x/advanced-usage.html#ssl-warnings\n",
            "  warnings.warn(\n"
          ]
        },
        {
          "output_type": "stream",
          "name": "stdout",
          "text": [
            "Loaded https://help-perm24.ru/\n",
            "5 101 Load result code 200 https://help-perm24.ru/\n"
          ]
        },
        {
          "output_type": "stream",
          "name": "stderr",
          "text": [
            "/usr/local/lib/python3.10/dist-packages/urllib3/connectionpool.py:1056: InsecureRequestWarning: Unverified HTTPS request is being made to host 'novokuzneck.domofenok.ru'. Adding certificate verification is strongly advised. See: https://urllib3.readthedocs.io/en/1.26.x/advanced-usage.html#ssl-warnings\n",
            "  warnings.warn(\n"
          ]
        },
        {
          "output_type": "stream",
          "name": "stdout",
          "text": [
            "Loaded https://novokuzneck.domofenok.ru/\n",
            "5 102 Load result code 200 https://novokuzneck.domofenok.ru/\n"
          ]
        },
        {
          "output_type": "stream",
          "name": "stderr",
          "text": [
            "/usr/local/lib/python3.10/dist-packages/urllib3/connectionpool.py:1056: InsecureRequestWarning: Unverified HTTPS request is being made to host 'novokuzneck.yazamok24.ru'. Adding certificate verification is strongly advised. See: https://urllib3.readthedocs.io/en/1.26.x/advanced-usage.html#ssl-warnings\n",
            "  warnings.warn(\n"
          ]
        },
        {
          "output_type": "stream",
          "name": "stdout",
          "text": [
            "Loaded https://novokuzneck.yazamok24.ru/\n",
            "5 103 Load result code 200 https://novokuzneck.yazamok24.ru/\n"
          ]
        },
        {
          "output_type": "stream",
          "name": "stderr",
          "text": [
            "/usr/local/lib/python3.10/dist-packages/urllib3/connectionpool.py:1056: InsecureRequestWarning: Unverified HTTPS request is being made to host 'service-zamkov.ru'. Adding certificate verification is strongly advised. See: https://urllib3.readthedocs.io/en/1.26.x/advanced-usage.html#ssl-warnings\n",
            "  warnings.warn(\n"
          ]
        },
        {
          "output_type": "stream",
          "name": "stdout",
          "text": [
            "Loaded https://service-zamkov.ru/\n",
            "5 104 Load result code 200 https://service-zamkov.ru/\n"
          ]
        },
        {
          "output_type": "stream",
          "name": "stderr",
          "text": [
            "/usr/local/lib/python3.10/dist-packages/urllib3/connectionpool.py:1056: InsecureRequestWarning: Unverified HTTPS request is being made to host 'lockeddoor.ru'. Adding certificate verification is strongly advised. See: https://urllib3.readthedocs.io/en/1.26.x/advanced-usage.html#ssl-warnings\n",
            "  warnings.warn(\n"
          ]
        },
        {
          "output_type": "stream",
          "name": "stdout",
          "text": [
            "Loaded https://lockeddoor.ru/\n",
            "5 105 Load result code 200 https://lockeddoor.ru/\n"
          ]
        },
        {
          "output_type": "stream",
          "name": "stderr",
          "text": [
            "/usr/local/lib/python3.10/dist-packages/urllib3/connectionpool.py:1056: InsecureRequestWarning: Unverified HTTPS request is being made to host 'm-zamok.ru'. Adding certificate verification is strongly advised. See: https://urllib3.readthedocs.io/en/1.26.x/advanced-usage.html#ssl-warnings\n",
            "  warnings.warn(\n"
          ]
        },
        {
          "output_type": "stream",
          "name": "stdout",
          "text": [
            "Loaded https://m-zamok.ru/\n",
            "5 106 Load result code 200 https://m-zamok.ru/\n"
          ]
        },
        {
          "output_type": "stream",
          "name": "stderr",
          "text": [
            "/usr/local/lib/python3.10/dist-packages/urllib3/connectionpool.py:1056: InsecureRequestWarning: Unverified HTTPS request is being made to host 'zamok.pro'. Adding certificate verification is strongly advised. See: https://urllib3.readthedocs.io/en/1.26.x/advanced-usage.html#ssl-warnings\n",
            "  warnings.warn(\n"
          ]
        },
        {
          "output_type": "stream",
          "name": "stdout",
          "text": [
            "Loaded https://zamok.pro/\n",
            "5 107 Load result code 200 https://zamok.pro/\n"
          ]
        },
        {
          "output_type": "stream",
          "name": "stderr",
          "text": [
            "/usr/local/lib/python3.10/dist-packages/urllib3/connectionpool.py:1056: InsecureRequestWarning: Unverified HTTPS request is being made to host 'yazamok24.ru'. Adding certificate verification is strongly advised. See: https://urllib3.readthedocs.io/en/1.26.x/advanced-usage.html#ssl-warnings\n",
            "  warnings.warn(\n"
          ]
        },
        {
          "output_type": "stream",
          "name": "stdout",
          "text": [
            "Loaded https://yazamok24.ru/\n",
            "5 108 Load result code 200 https://yazamok24.ru/\n"
          ]
        },
        {
          "output_type": "stream",
          "name": "stderr",
          "text": [
            "/usr/local/lib/python3.10/dist-packages/urllib3/connectionpool.py:1056: InsecureRequestWarning: Unverified HTTPS request is being made to host 'zamki-moskva.ru'. Adding certificate verification is strongly advised. See: https://urllib3.readthedocs.io/en/1.26.x/advanced-usage.html#ssl-warnings\n",
            "  warnings.warn(\n"
          ]
        },
        {
          "output_type": "stream",
          "name": "stdout",
          "text": [
            "Loaded https://zamki-moskva.ru/vskritie_zamkov_dverei\n",
            "5 109 Load result code 200 https://zamki-moskva.ru/vskritie_zamkov_dverei\n"
          ]
        },
        {
          "output_type": "stream",
          "name": "stderr",
          "text": [
            "/usr/local/lib/python3.10/dist-packages/urllib3/connectionpool.py:1056: InsecureRequestWarning: Unverified HTTPS request is being made to host 'xn----8sbecmnepftxqlq8k.com'. Adding certificate verification is strongly advised. See: https://urllib3.readthedocs.io/en/1.26.x/advanced-usage.html#ssl-warnings\n",
            "  warnings.warn(\n"
          ]
        },
        {
          "output_type": "stream",
          "name": "stdout",
          "text": [
            "Loaded https://xn----8sbecmnepftxqlq8k.com/\n",
            "5 110 Load result code 200 https://xn----8sbecmnepftxqlq8k.com/\n"
          ]
        },
        {
          "output_type": "stream",
          "name": "stderr",
          "text": [
            "/usr/local/lib/python3.10/dist-packages/urllib3/connectionpool.py:1056: InsecureRequestWarning: Unverified HTTPS request is being made to host 'newzamok.ru'. Adding certificate verification is strongly advised. See: https://urllib3.readthedocs.io/en/1.26.x/advanced-usage.html#ssl-warnings\n",
            "  warnings.warn(\n"
          ]
        },
        {
          "output_type": "stream",
          "name": "stdout",
          "text": [
            "Loaded http://newzamok.ru/\n",
            "5 111 Load result code 200 http://newzamok.ru/\n"
          ]
        },
        {
          "output_type": "stream",
          "name": "stderr",
          "text": [
            "/usr/local/lib/python3.10/dist-packages/urllib3/connectionpool.py:1056: InsecureRequestWarning: Unverified HTTPS request is being made to host 'zamservice.ru'. Adding certificate verification is strongly advised. See: https://urllib3.readthedocs.io/en/1.26.x/advanced-usage.html#ssl-warnings\n",
            "  warnings.warn(\n"
          ]
        },
        {
          "output_type": "stream",
          "name": "stdout",
          "text": [
            "Loaded https://zamservice.ru/tseny-na-uslugi/vskrytie\n",
            "5 112 Load result code 200 https://zamservice.ru/tseny-na-uslugi/vskrytie\n"
          ]
        },
        {
          "output_type": "stream",
          "name": "stderr",
          "text": [
            "/usr/local/lib/python3.10/dist-packages/urllib3/connectionpool.py:1056: InsecureRequestWarning: Unverified HTTPS request is being made to host 'spas-ektb.ru'. Adding certificate verification is strongly advised. See: https://urllib3.readthedocs.io/en/1.26.x/advanced-usage.html#ssl-warnings\n",
            "  warnings.warn(\n"
          ]
        },
        {
          "output_type": "stream",
          "name": "stdout",
          "text": [
            "Loaded https://spas-ektb.ru/\n",
            "5 113 Load result code 200 https://spas-ektb.ru/\n"
          ]
        },
        {
          "output_type": "stream",
          "name": "stderr",
          "text": [
            "/usr/local/lib/python3.10/dist-packages/urllib3/connectionpool.py:1056: InsecureRequestWarning: Unverified HTTPS request is being made to host 'ekaterinburg.lockeddoor.ru'. Adding certificate verification is strongly advised. See: https://urllib3.readthedocs.io/en/1.26.x/advanced-usage.html#ssl-warnings\n",
            "  warnings.warn(\n"
          ]
        },
        {
          "output_type": "stream",
          "name": "stdout",
          "text": [
            "Loaded https://ekaterinburg.lockeddoor.ru/\n",
            "5 114 Load result code 200 https://ekaterinburg.lockeddoor.ru/\n"
          ]
        },
        {
          "output_type": "stream",
          "name": "stderr",
          "text": [
            "/usr/local/lib/python3.10/dist-packages/urllib3/connectionpool.py:1056: InsecureRequestWarning: Unverified HTTPS request is being made to host 'xn--96-6kc3djc.xn--p1ai'. Adding certificate verification is strongly advised. See: https://urllib3.readthedocs.io/en/1.26.x/advanced-usage.html#ssl-warnings\n",
            "  warnings.warn(\n"
          ]
        },
        {
          "output_type": "stream",
          "name": "stdout",
          "text": [
            "Loaded https://xn--96-6kc3djc.xn--p1ai/%D0%B2%D1%81%D0%BA%D1%80%D1%8B%D1%82%D0%B8%D0%B5-%D0%B7%D0%B0%D0%BC%D0%BA%D0%BE%D0%B2/\n",
            "5 115 Load result code 200 https://xn--96-6kc3djc.xn--p1ai/%D0%B2%D1%81%D0%BA%D1%80%D1%8B%D1%82%D0%B8%D0%B5-%D0%B7%D0%B0%D0%BC%D0%BA%D0%BE%D0%B2/\n",
            "Load error https://ekaterinburg.flamp.ru/firm/gorodskaya_sluzhba_vskrytiya_zamkov_i_dverejj-1267165676795531 403\n",
            "5 116 Load result code 403 https://ekaterinburg.flamp.ru/firm/gorodskaya_sluzhba_vskrytiya_zamkov_i_dverejj-1267165676795531\n"
          ]
        },
        {
          "output_type": "stream",
          "name": "stderr",
          "text": [
            "/usr/local/lib/python3.10/dist-packages/urllib3/connectionpool.py:1056: InsecureRequestWarning: Unverified HTTPS request is being made to host 'ekaterinburg.flamp.ru'. Adding certificate verification is strongly advised. See: https://urllib3.readthedocs.io/en/1.26.x/advanced-usage.html#ssl-warnings\n",
            "  warnings.warn(\n",
            "/usr/local/lib/python3.10/dist-packages/urllib3/connectionpool.py:1056: InsecureRequestWarning: Unverified HTTPS request is being made to host 'vskrytie-zamkov196.ru'. Adding certificate verification is strongly advised. See: https://urllib3.readthedocs.io/en/1.26.x/advanced-usage.html#ssl-warnings\n",
            "  warnings.warn(\n"
          ]
        },
        {
          "output_type": "stream",
          "name": "stdout",
          "text": [
            "Loaded https://vskrytie-zamkov196.ru/\n",
            "5 117 Load result code 200 https://vskrytie-zamkov196.ru/\n"
          ]
        },
        {
          "output_type": "stream",
          "name": "stderr",
          "text": [
            "/usr/local/lib/python3.10/dist-packages/urllib3/connectionpool.py:1056: InsecureRequestWarning: Unverified HTTPS request is being made to host 'lock-ektb.ru'. Adding certificate verification is strongly advised. See: https://urllib3.readthedocs.io/en/1.26.x/advanced-usage.html#ssl-warnings\n",
            "  warnings.warn(\n"
          ]
        },
        {
          "output_type": "stream",
          "name": "stdout",
          "text": [
            "Loaded https://lock-ektb.ru/\n",
            "5 118 Load result code 200 https://lock-ektb.ru/\n"
          ]
        },
        {
          "output_type": "stream",
          "name": "stderr",
          "text": [
            "/usr/local/lib/python3.10/dist-packages/urllib3/connectionpool.py:1056: InsecureRequestWarning: Unverified HTTPS request is being made to host 'help-ekb24.ru'. Adding certificate verification is strongly advised. See: https://urllib3.readthedocs.io/en/1.26.x/advanced-usage.html#ssl-warnings\n",
            "  warnings.warn(\n"
          ]
        },
        {
          "output_type": "stream",
          "name": "stdout",
          "text": [
            "Loaded https://help-ekb24.ru/\n",
            "5 119 Load result code 200 https://help-ekb24.ru/\n"
          ]
        },
        {
          "output_type": "stream",
          "name": "stderr",
          "text": [
            "/usr/local/lib/python3.10/dist-packages/urllib3/connectionpool.py:1056: InsecureRequestWarning: Unverified HTTPS request is being made to host 'ekaterinburg.vskrytie-zamok.ru'. Adding certificate verification is strongly advised. See: https://urllib3.readthedocs.io/en/1.26.x/advanced-usage.html#ssl-warnings\n",
            "  warnings.warn(\n"
          ]
        },
        {
          "output_type": "stream",
          "name": "stdout",
          "text": [
            "Loaded https://ekaterinburg.vskrytie-zamok.ru/\n",
            "5 120 Load result code 200 https://ekaterinburg.vskrytie-zamok.ru/\n"
          ]
        },
        {
          "output_type": "stream",
          "name": "stderr",
          "text": [
            "/usr/local/lib/python3.10/dist-packages/urllib3/connectionpool.py:1056: InsecureRequestWarning: Unverified HTTPS request is being made to host 'dveri-vek.ru'. Adding certificate verification is strongly advised. See: https://urllib3.readthedocs.io/en/1.26.x/advanced-usage.html#ssl-warnings\n",
            "  warnings.warn(\n"
          ]
        },
        {
          "output_type": "stream",
          "name": "stdout",
          "text": [
            "Loaded https://dveri-vek.ru/catalog/vskrytie-dverej\n",
            "5 121 Load result code 200 https://dveri-vek.ru/catalog/vskrytie-dverej\n"
          ]
        },
        {
          "output_type": "stream",
          "name": "stderr",
          "text": [
            "/usr/local/lib/python3.10/dist-packages/urllib3/connectionpool.py:1056: InsecureRequestWarning: Unverified HTTPS request is being made to host 'xn----7sbbaemlbnlesdxx0cd4ay.xn--p1ai'. Adding certificate verification is strongly advised. See: https://urllib3.readthedocs.io/en/1.26.x/advanced-usage.html#ssl-warnings\n",
            "  warnings.warn(\n"
          ]
        },
        {
          "output_type": "stream",
          "name": "stdout",
          "text": [
            "Loaded https://xn----7sbbaemlbnlesdxx0cd4ay.xn--p1ai/vskrytie-zamkov\n",
            "5 122 Load result code 200 https://xn----7sbbaemlbnlesdxx0cd4ay.xn--p1ai/vskrytie-zamkov\n"
          ]
        },
        {
          "output_type": "stream",
          "name": "stderr",
          "text": [
            "/usr/local/lib/python3.10/dist-packages/urllib3/connectionpool.py:1056: InsecureRequestWarning: Unverified HTTPS request is being made to host 'chelyabinsk.lockeddoor.ru'. Adding certificate verification is strongly advised. See: https://urllib3.readthedocs.io/en/1.26.x/advanced-usage.html#ssl-warnings\n",
            "  warnings.warn(\n"
          ]
        },
        {
          "output_type": "stream",
          "name": "stdout",
          "text": [
            "Loaded https://chelyabinsk.lockeddoor.ru/\n",
            "5 123 Load result code 200 https://chelyabinsk.lockeddoor.ru/\n"
          ]
        },
        {
          "output_type": "stream",
          "name": "stderr",
          "text": [
            "/usr/local/lib/python3.10/dist-packages/urllib3/connectionpool.py:1056: InsecureRequestWarning: Unverified HTTPS request is being made to host 'help-74chel.ru'. Adding certificate verification is strongly advised. See: https://urllib3.readthedocs.io/en/1.26.x/advanced-usage.html#ssl-warnings\n",
            "  warnings.warn(\n"
          ]
        },
        {
          "output_type": "stream",
          "name": "stdout",
          "text": [
            "Loaded https://help-74chel.ru/\n",
            "5 124 Load result code 200 https://help-74chel.ru/\n"
          ]
        },
        {
          "output_type": "stream",
          "name": "stderr",
          "text": [
            "/usr/local/lib/python3.10/dist-packages/urllib3/connectionpool.py:1056: InsecureRequestWarning: Unverified HTTPS request is being made to host 'zamkichel.ru'. Adding certificate verification is strongly advised. See: https://urllib3.readthedocs.io/en/1.26.x/advanced-usage.html#ssl-warnings\n",
            "  warnings.warn(\n"
          ]
        },
        {
          "output_type": "stream",
          "name": "stdout",
          "text": [
            "Loaded https://zamkichel.ru/\n",
            "5 125 Load result code 200 https://zamkichel.ru/\n"
          ]
        },
        {
          "output_type": "stream",
          "name": "stderr",
          "text": [
            "/usr/local/lib/python3.10/dist-packages/urllib3/connectionpool.py:1056: InsecureRequestWarning: Unverified HTTPS request is being made to host 'chelyabinsk.mchs-zamkov24.ru'. Adding certificate verification is strongly advised. See: https://urllib3.readthedocs.io/en/1.26.x/advanced-usage.html#ssl-warnings\n",
            "  warnings.warn(\n"
          ]
        },
        {
          "output_type": "stream",
          "name": "stdout",
          "text": [
            "Loaded https://chelyabinsk.mchs-zamkov24.ru/\n",
            "5 126 Load result code 200 https://chelyabinsk.mchs-zamkov24.ru/\n"
          ]
        },
        {
          "output_type": "stream",
          "name": "stderr",
          "text": [
            "/usr/local/lib/python3.10/dist-packages/urllib3/connectionpool.py:1056: InsecureRequestWarning: Unverified HTTPS request is being made to host 'chel.profi.ru'. Adding certificate verification is strongly advised. See: https://urllib3.readthedocs.io/en/1.26.x/advanced-usage.html#ssl-warnings\n",
            "  warnings.warn(\n"
          ]
        },
        {
          "output_type": "stream",
          "name": "stdout",
          "text": [
            "Loaded https://chel.profi.ru/remont/zamki/vskrytie-zamkov/\n",
            "5 127 Load result code 200 https://chel.profi.ru/remont/zamki/vskrytie-zamkov/\n",
            "Loaded http://forman-chel.ru/\n",
            "5 128 Load result code 200 http://forman-chel.ru/\n"
          ]
        },
        {
          "output_type": "stream",
          "name": "stderr",
          "text": [
            "/usr/local/lib/python3.10/dist-packages/urllib3/connectionpool.py:1056: InsecureRequestWarning: Unverified HTTPS request is being made to host 'nsk-spas.ru'. Adding certificate verification is strongly advised. See: https://urllib3.readthedocs.io/en/1.26.x/advanced-usage.html#ssl-warnings\n",
            "  warnings.warn(\n"
          ]
        },
        {
          "output_type": "stream",
          "name": "stdout",
          "text": [
            "Loaded https://nsk-spas.ru/\n",
            "5 129 Load result code 200 https://nsk-spas.ru/\n"
          ]
        },
        {
          "output_type": "stream",
          "name": "stderr",
          "text": [
            "/usr/local/lib/python3.10/dist-packages/urllib3/connectionpool.py:1056: InsecureRequestWarning: Unverified HTTPS request is being made to host 'novosibirsk.lockeddoor.ru'. Adding certificate verification is strongly advised. See: https://urllib3.readthedocs.io/en/1.26.x/advanced-usage.html#ssl-warnings\n",
            "  warnings.warn(\n"
          ]
        },
        {
          "output_type": "stream",
          "name": "stdout",
          "text": [
            "Loaded https://novosibirsk.lockeddoor.ru/\n",
            "5 130 Load result code 200 https://novosibirsk.lockeddoor.ru/\n"
          ]
        },
        {
          "output_type": "stream",
          "name": "stderr",
          "text": [
            "/usr/local/lib/python3.10/dist-packages/urllib3/connectionpool.py:1056: InsecureRequestWarning: Unverified HTTPS request is being made to host 'novosibirsk.slesarek.ru'. Adding certificate verification is strongly advised. See: https://urllib3.readthedocs.io/en/1.26.x/advanced-usage.html#ssl-warnings\n",
            "  warnings.warn(\n"
          ]
        },
        {
          "output_type": "stream",
          "name": "stdout",
          "text": [
            "Loaded https://novosibirsk.slesarek.ru/\n",
            "5 131 Load result code 200 https://novosibirsk.slesarek.ru/\n"
          ]
        },
        {
          "output_type": "stream",
          "name": "stderr",
          "text": [
            "/usr/local/lib/python3.10/dist-packages/urllib3/connectionpool.py:1056: InsecureRequestWarning: Unverified HTTPS request is being made to host 'novosibirsk.mchs-zamkov24.ru'. Adding certificate verification is strongly advised. See: https://urllib3.readthedocs.io/en/1.26.x/advanced-usage.html#ssl-warnings\n",
            "  warnings.warn(\n"
          ]
        },
        {
          "output_type": "stream",
          "name": "stdout",
          "text": [
            "Loaded https://novosibirsk.mchs-zamkov24.ru/\n",
            "5 132 Load result code 200 https://novosibirsk.mchs-zamkov24.ru/\n",
            "Load error exception\n",
            "5 133 Load result code -1 https://novosibirsk.otkroemdveri.ru/\n"
          ]
        },
        {
          "output_type": "stream",
          "name": "stderr",
          "text": [
            "/usr/local/lib/python3.10/dist-packages/urllib3/connectionpool.py:1056: InsecureRequestWarning: Unverified HTTPS request is being made to host 'resdveri.ru'. Adding certificate verification is strongly advised. See: https://urllib3.readthedocs.io/en/1.26.x/advanced-usage.html#ssl-warnings\n",
            "  warnings.warn(\n"
          ]
        },
        {
          "output_type": "stream",
          "name": "stdout",
          "text": [
            "Load error https://resdveri.ru/master-po-remontu-mezhkomnatnyh-dverej.html 404\n",
            "6 0 Load result code 404 https://resdveri.ru/master-po-remontu-mezhkomnatnyh-dverej.html\n"
          ]
        },
        {
          "output_type": "stream",
          "name": "stderr",
          "text": [
            "/usr/local/lib/python3.10/dist-packages/urllib3/connectionpool.py:1056: InsecureRequestWarning: Unverified HTTPS request is being made to host 'orelremont.ru'. Adding certificate verification is strongly advised. See: https://urllib3.readthedocs.io/en/1.26.x/advanced-usage.html#ssl-warnings\n",
            "  warnings.warn(\n"
          ]
        },
        {
          "output_type": "stream",
          "name": "stdout",
          "text": [
            "Loaded https://orelremont.ru/remont-ustanovka-dverej\n",
            "6 1 Load result code 200 https://orelremont.ru/remont-ustanovka-dverej\n"
          ]
        },
        {
          "output_type": "stream",
          "name": "stderr",
          "text": [
            "/usr/local/lib/python3.10/dist-packages/urllib3/connectionpool.py:1056: InsecureRequestWarning: Unverified HTTPS request is being made to host 'kemerovo.profi.ru'. Adding certificate verification is strongly advised. See: https://urllib3.readthedocs.io/en/1.26.x/advanced-usage.html#ssl-warnings\n",
            "  warnings.warn(\n"
          ]
        },
        {
          "output_type": "stream",
          "name": "stdout",
          "text": [
            "Loaded https://kemerovo.profi.ru/remont/dveri/\n",
            "6 2 Load result code 200 https://kemerovo.profi.ru/remont/dveri/\n"
          ]
        },
        {
          "output_type": "stream",
          "name": "stderr",
          "text": [
            "/usr/local/lib/python3.10/dist-packages/urllib3/connectionpool.py:1056: InsecureRequestWarning: Unverified HTTPS request is being made to host 'hands.ru'. Adding certificate verification is strongly advised. See: https://urllib3.readthedocs.io/en/1.26.x/advanced-usage.html#ssl-warnings\n",
            "  warnings.warn(\n"
          ]
        },
        {
          "output_type": "stream",
          "name": "stdout",
          "text": [
            "Loaded https://hands.ru/category/dveri/\n",
            "6 3 Load result code 200 https://hands.ru/category/dveri/\n"
          ]
        },
        {
          "output_type": "stream",
          "name": "stderr",
          "text": [
            "/usr/local/lib/python3.10/dist-packages/urllib3/connectionpool.py:1056: InsecureRequestWarning: Unverified HTTPS request is being made to host 'youdo.com'. Adding certificate verification is strongly advised. See: https://urllib3.readthedocs.io/en/1.26.x/advanced-usage.html#ssl-warnings\n",
            "  warnings.warn(\n"
          ]
        },
        {
          "output_type": "stream",
          "name": "stdout",
          "text": [
            "Loaded https://youdo.com/bytovoj-remont/doors\n",
            "6 4 Load result code 200 https://youdo.com/bytovoj-remont/doors\n"
          ]
        },
        {
          "output_type": "stream",
          "name": "stderr",
          "text": [
            "/usr/local/lib/python3.10/dist-packages/urllib3/connectionpool.py:1056: InsecureRequestWarning: Unverified HTTPS request is being made to host 'baucenter.ru'. Adding certificate verification is strongly advised. See: https://urllib3.readthedocs.io/en/1.26.x/advanced-usage.html#ssl-warnings\n",
            "  warnings.warn(\n"
          ]
        },
        {
          "output_type": "stream",
          "name": "stdout",
          "text": [
            "Loaded https://baucenter.ru/services/570387/\n",
            "6 5 Load result code 200 https://baucenter.ru/services/570387/\n"
          ]
        },
        {
          "output_type": "stream",
          "name": "stderr",
          "text": [
            "/usr/local/lib/python3.10/dist-packages/urllib3/connectionpool.py:1056: InsecureRequestWarning: Unverified HTTPS request is being made to host 'domovoi63.ru'. Adding certificate verification is strongly advised. See: https://urllib3.readthedocs.io/en/1.26.x/advanced-usage.html#ssl-warnings\n",
            "  warnings.warn(\n"
          ]
        },
        {
          "output_type": "stream",
          "name": "stdout",
          "text": [
            "Loaded https://domovoi63.ru/service/remont-vhodnih-i-mezhkomnatnih-dverei\n",
            "6 6 Load result code 200 https://domovoi63.ru/service/remont-vhodnih-i-mezhkomnatnih-dverei\n"
          ]
        },
        {
          "output_type": "stream",
          "name": "stderr",
          "text": [
            "/usr/local/lib/python3.10/dist-packages/urllib3/connectionpool.py:1056: InsecureRequestWarning: Unverified HTTPS request is being made to host 'moscow.petrovich.ru'. Adding certificate verification is strongly advised. See: https://urllib3.readthedocs.io/en/1.26.x/advanced-usage.html#ssl-warnings\n",
            "  warnings.warn(\n"
          ]
        },
        {
          "output_type": "stream",
          "name": "stdout",
          "text": [
            "Loaded https://moscow.petrovich.ru/services/door-installation/\n",
            "6 7 Load result code 200 https://moscow.petrovich.ru/services/door-installation/\n",
            "Loaded http://remontnik-dverej.ru/\n",
            "6 8 Load result code 200 http://remontnik-dverej.ru/\n"
          ]
        },
        {
          "output_type": "stream",
          "name": "stderr",
          "text": [
            "/usr/local/lib/python3.10/dist-packages/urllib3/connectionpool.py:1056: InsecureRequestWarning: Unverified HTTPS request is being made to host 'www.alt-servis.ru'. Adding certificate verification is strongly advised. See: https://urllib3.readthedocs.io/en/1.26.x/advanced-usage.html#ssl-warnings\n",
            "  warnings.warn(\n"
          ]
        },
        {
          "output_type": "stream",
          "name": "stdout",
          "text": [
            "Loaded https://www.alt-servis.ru/\n",
            "6 9 Load result code 200 https://www.alt-servis.ru/\n"
          ]
        },
        {
          "output_type": "stream",
          "name": "stderr",
          "text": [
            "/usr/local/lib/python3.10/dist-packages/urllib3/connectionpool.py:1056: InsecureRequestWarning: Unverified HTTPS request is being made to host 'doczamok.ru'. Adding certificate verification is strongly advised. See: https://urllib3.readthedocs.io/en/1.26.x/advanced-usage.html#ssl-warnings\n",
            "  warnings.warn(\n"
          ]
        },
        {
          "output_type": "stream",
          "name": "stdout",
          "text": [
            "Loaded https://doczamok.ru/uslugi/ustanovka-remont-dverej\n",
            "6 10 Load result code 200 https://doczamok.ru/uslugi/ustanovka-remont-dverej\n"
          ]
        },
        {
          "output_type": "stream",
          "name": "stderr",
          "text": [
            "/usr/local/lib/python3.10/dist-packages/urllib3/connectionpool.py:1056: InsecureRequestWarning: Unverified HTTPS request is being made to host 'xn--80aacfjhatoe8dg6b.xn--p1ai'. Adding certificate verification is strongly advised. See: https://urllib3.readthedocs.io/en/1.26.x/advanced-usage.html#ssl-warnings\n",
            "  warnings.warn(\n"
          ]
        },
        {
          "output_type": "stream",
          "name": "stdout",
          "text": [
            "Loaded https://фабрикадверей.рф/krasnoyarsk/ustanovka-vhodnyh-dverej/\n",
            "6 11 Load result code 200 https://фабрикадверей.рф/krasnoyarsk/ustanovka-vhodnyh-dverej/\n"
          ]
        },
        {
          "output_type": "stream",
          "name": "stderr",
          "text": [
            "/usr/local/lib/python3.10/dist-packages/urllib3/connectionpool.py:1056: InsecureRequestWarning: Unverified HTTPS request is being made to host 'rostov-zamok.ru'. Adding certificate verification is strongly advised. See: https://urllib3.readthedocs.io/en/1.26.x/advanced-usage.html#ssl-warnings\n",
            "  warnings.warn(\n"
          ]
        },
        {
          "output_type": "stream",
          "name": "stdout",
          "text": [
            "Loaded https://rostov-zamok.ru/remont-dverei-v-rostove-na-donu\n",
            "6 12 Load result code 200 https://rostov-zamok.ru/remont-dverei-v-rostove-na-donu\n",
            "Load error exception\n",
            "6 13 Load result code -1 https://www.doorlockservice.ru/remont-dveri/\n"
          ]
        },
        {
          "output_type": "stream",
          "name": "stderr",
          "text": [
            "/usr/local/lib/python3.10/dist-packages/urllib3/connectionpool.py:1056: InsecureRequestWarning: Unverified HTTPS request is being made to host 'garant-spb.ru'. Adding certificate verification is strongly advised. See: https://urllib3.readthedocs.io/en/1.26.x/advanced-usage.html#ssl-warnings\n",
            "  warnings.warn(\n"
          ]
        },
        {
          "output_type": "stream",
          "name": "stdout",
          "text": [
            "Loaded https://garant-spb.ru/\n",
            "6 14 Load result code 200 https://garant-spb.ru/\n"
          ]
        },
        {
          "output_type": "stream",
          "name": "stderr",
          "text": [
            "/usr/local/lib/python3.10/dist-packages/urllib3/connectionpool.py:1056: InsecureRequestWarning: Unverified HTTPS request is being made to host 'www.dveriwell.com'. Adding certificate verification is strongly advised. See: https://urllib3.readthedocs.io/en/1.26.x/advanced-usage.html#ssl-warnings\n",
            "  warnings.warn(\n"
          ]
        },
        {
          "output_type": "stream",
          "name": "stdout",
          "text": [
            "Loaded https://www.dveriwell.com/services/\n",
            "6 15 Load result code 200 https://www.dveriwell.com/services/\n"
          ]
        },
        {
          "output_type": "stream",
          "name": "stderr",
          "text": [
            "/usr/local/lib/python3.10/dist-packages/urllib3/connectionpool.py:1056: InsecureRequestWarning: Unverified HTTPS request is being made to host 'xn----ctbebg0ebhlhc6h.xn--p1ai'. Adding certificate verification is strongly advised. See: https://urllib3.readthedocs.io/en/1.26.x/advanced-usage.html#ssl-warnings\n",
            "  warnings.warn(\n"
          ]
        },
        {
          "output_type": "stream",
          "name": "stdout",
          "text": [
            "Loaded https://дверь-сургут.рф/\n",
            "6 16 Load result code 200 https://дверь-сургут.рф/\n"
          ]
        },
        {
          "output_type": "stream",
          "name": "stderr",
          "text": [
            "/usr/local/lib/python3.10/dist-packages/urllib3/connectionpool.py:1056: InsecureRequestWarning: Unverified HTTPS request is being made to host 'doors96.ru'. Adding certificate verification is strongly advised. See: https://urllib3.readthedocs.io/en/1.26.x/advanced-usage.html#ssl-warnings\n",
            "  warnings.warn(\n"
          ]
        },
        {
          "output_type": "stream",
          "name": "stdout",
          "text": [
            "Loaded https://doors96.ru/ustanovka-dverey\n",
            "6 17 Load result code 200 https://doors96.ru/ustanovka-dverey\n"
          ]
        },
        {
          "output_type": "stream",
          "name": "stderr",
          "text": [
            "/usr/local/lib/python3.10/dist-packages/urllib3/connectionpool.py:1056: InsecureRequestWarning: Unverified HTTPS request is being made to host 'dvernoy-doctor.ru'. Adding certificate verification is strongly advised. See: https://urllib3.readthedocs.io/en/1.26.x/advanced-usage.html#ssl-warnings\n",
            "  warnings.warn(\n"
          ]
        },
        {
          "output_type": "stream",
          "name": "stdout",
          "text": [
            "Loaded https://dvernoy-doctor.ru/remont-dverey/\n",
            "6 18 Load result code 200 https://dvernoy-doctor.ru/remont-dverey/\n"
          ]
        },
        {
          "output_type": "stream",
          "name": "stderr",
          "text": [
            "/usr/local/lib/python3.10/dist-packages/urllib3/connectionpool.py:1056: InsecureRequestWarning: Unverified HTTPS request is being made to host 'un-lock.ru'. Adding certificate verification is strongly advised. See: https://urllib3.readthedocs.io/en/1.26.x/advanced-usage.html#ssl-warnings\n",
            "  warnings.warn(\n"
          ]
        },
        {
          "output_type": "stream",
          "name": "stdout",
          "text": [
            "Loaded https://un-lock.ru/remont-dverej\n",
            "6 19 Load result code 200 https://un-lock.ru/remont-dverej\n"
          ]
        },
        {
          "output_type": "stream",
          "name": "stderr",
          "text": [
            "/usr/local/lib/python3.10/dist-packages/urllib3/connectionpool.py:1056: InsecureRequestWarning: Unverified HTTPS request is being made to host 'xn----dtbffphu3ad.xn--p1ai'. Adding certificate verification is strongly advised. See: https://urllib3.readthedocs.io/en/1.26.x/advanced-usage.html#ssl-warnings\n",
            "  warnings.warn(\n",
            "/usr/local/lib/python3.10/dist-packages/urllib3/connectionpool.py:1056: InsecureRequestWarning: Unverified HTTPS request is being made to host 'www.xn----dtbffphu3ad.xn--p1ai'. Adding certificate verification is strongly advised. See: https://urllib3.readthedocs.io/en/1.26.x/advanced-usage.html#ssl-warnings\n",
            "  warnings.warn(\n"
          ]
        },
        {
          "output_type": "stream",
          "name": "stdout",
          "text": [
            "Loaded https://нск-двери.рф/ustanovka_dverej/\n",
            "6 20 Load result code 200 https://нск-двери.рф/ustanovka_dverej/\n"
          ]
        },
        {
          "output_type": "stream",
          "name": "stderr",
          "text": [
            "/usr/local/lib/python3.10/dist-packages/urllib3/connectionpool.py:1056: InsecureRequestWarning: Unverified HTTPS request is being made to host 'cheldveri.ru'. Adding certificate verification is strongly advised. See: https://urllib3.readthedocs.io/en/1.26.x/advanced-usage.html#ssl-warnings\n",
            "  warnings.warn(\n"
          ]
        },
        {
          "output_type": "stream",
          "name": "stdout",
          "text": [
            "Loaded https://cheldveri.ru/ustanovka-mezhkomnatnykh-dverei-v-chelyabinske\n",
            "6 21 Load result code 200 https://cheldveri.ru/ustanovka-mezhkomnatnykh-dverei-v-chelyabinske\n"
          ]
        },
        {
          "output_type": "stream",
          "name": "stderr",
          "text": [
            "/usr/local/lib/python3.10/dist-packages/urllib3/connectionpool.py:1056: InsecureRequestWarning: Unverified HTTPS request is being made to host 'xn----ctbffab0a0ajjqd4a.xn--p1ai'. Adding certificate verification is strongly advised. See: https://urllib3.readthedocs.io/en/1.26.x/advanced-usage.html#ssl-warnings\n",
            "  warnings.warn(\n"
          ]
        },
        {
          "output_type": "stream",
          "name": "stdout",
          "text": [
            "Loaded https://дверей-ремонт.рф/restavraciya-dverej.html\n",
            "6 22 Load result code 200 https://дверей-ремонт.рф/restavraciya-dverej.html\n"
          ]
        },
        {
          "output_type": "stream",
          "name": "stderr",
          "text": [
            "/usr/local/lib/python3.10/dist-packages/urllib3/connectionpool.py:1056: InsecureRequestWarning: Unverified HTTPS request is being made to host 'www.dso55.ru'. Adding certificate verification is strongly advised. See: https://urllib3.readthedocs.io/en/1.26.x/advanced-usage.html#ssl-warnings\n",
            "  warnings.warn(\n"
          ]
        },
        {
          "output_type": "stream",
          "name": "stdout",
          "text": [
            "Loaded https://www.dso55.ru/goods/1531295/\n",
            "6 23 Load result code 200 https://www.dso55.ru/goods/1531295/\n"
          ]
        },
        {
          "output_type": "stream",
          "name": "stderr",
          "text": [
            "/usr/local/lib/python3.10/dist-packages/urllib3/connectionpool.py:1056: InsecureRequestWarning: Unverified HTTPS request is being made to host 'kr56.ru'. Adding certificate verification is strongly advised. See: https://urllib3.readthedocs.io/en/1.26.x/advanced-usage.html#ssl-warnings\n",
            "  warnings.warn(\n"
          ]
        },
        {
          "output_type": "stream",
          "name": "stdout",
          "text": [
            "Loaded https://kr56.ru/ustanovka-dverej.html\n",
            "6 24 Load result code 200 https://kr56.ru/ustanovka-dverej.html\n"
          ]
        },
        {
          "output_type": "stream",
          "name": "stderr",
          "text": [
            "/usr/local/lib/python3.10/dist-packages/urllib3/connectionpool.py:1056: InsecureRequestWarning: Unverified HTTPS request is being made to host 'raidverei.ru'. Adding certificate verification is strongly advised. See: https://urllib3.readthedocs.io/en/1.26.x/advanced-usage.html#ssl-warnings\n",
            "  warnings.warn(\n"
          ]
        },
        {
          "output_type": "stream",
          "name": "stdout",
          "text": [
            "Loaded https://raidverei.ru/ustanovka-dverei.html\n",
            "6 25 Load result code 200 https://raidverei.ru/ustanovka-dverei.html\n"
          ]
        },
        {
          "output_type": "stream",
          "name": "stderr",
          "text": [
            "/usr/local/lib/python3.10/dist-packages/urllib3/connectionpool.py:1056: InsecureRequestWarning: Unverified HTTPS request is being made to host '169.ru'. Adding certificate verification is strongly advised. See: https://urllib3.readthedocs.io/en/1.26.x/advanced-usage.html#ssl-warnings\n",
            "  warnings.warn(\n"
          ]
        },
        {
          "output_type": "stream",
          "name": "stdout",
          "text": [
            "Loaded https://169.ru/ustanovka/\n",
            "6 26 Load result code 200 https://169.ru/ustanovka/\n"
          ]
        },
        {
          "output_type": "stream",
          "name": "stderr",
          "text": [
            "/usr/local/lib/python3.10/dist-packages/urllib3/connectionpool.py:1056: InsecureRequestWarning: Unverified HTTPS request is being made to host 'profildoors-loft.ru'. Adding certificate verification is strongly advised. See: https://urllib3.readthedocs.io/en/1.26.x/advanced-usage.html#ssl-warnings\n",
            "  warnings.warn(\n"
          ]
        },
        {
          "output_type": "stream",
          "name": "stdout",
          "text": [
            "Loaded https://profildoors-loft.ru/poleznye-stati-o-profil-dors/kak-prinyat-montazh-dverej-sovety-specialistov/\n",
            "6 27 Load result code 200 https://profildoors-loft.ru/poleznye-stati-o-profil-dors/kak-prinyat-montazh-dverej-sovety-specialistov/\n"
          ]
        },
        {
          "output_type": "stream",
          "name": "stderr",
          "text": [
            "/usr/local/lib/python3.10/dist-packages/urllib3/connectionpool.py:1056: InsecureRequestWarning: Unverified HTTPS request is being made to host 'leroymerlin.ru'. Adding certificate verification is strongly advised. See: https://urllib3.readthedocs.io/en/1.26.x/advanced-usage.html#ssl-warnings\n",
            "  warnings.warn(\n"
          ]
        },
        {
          "output_type": "stream",
          "name": "stdout",
          "text": [
            "Load error https://leroymerlin.ru/uslugi/ustanovka-mezhkomnatnoy-odnostvorchatoy-dveri/ 403\n",
            "6 28 Load result code 403 https://leroymerlin.ru/uslugi/ustanovka-mezhkomnatnoy-odnostvorchatoy-dveri/\n",
            "Load error https://dveri.ru/ustanovka-mezhkomnatnyh-dverei 403\n",
            "6 29 Load result code 403 https://dveri.ru/ustanovka-mezhkomnatnyh-dverei\n"
          ]
        },
        {
          "output_type": "stream",
          "name": "stderr",
          "text": [
            "/usr/local/lib/python3.10/dist-packages/urllib3/connectionpool.py:1056: InsecureRequestWarning: Unverified HTTPS request is being made to host 'dveri.ru'. Adding certificate verification is strongly advised. See: https://urllib3.readthedocs.io/en/1.26.x/advanced-usage.html#ssl-warnings\n",
            "  warnings.warn(\n",
            "/usr/local/lib/python3.10/dist-packages/urllib3/connectionpool.py:1056: InsecureRequestWarning: Unverified HTTPS request is being made to host 'profi.ru'. Adding certificate verification is strongly advised. See: https://urllib3.readthedocs.io/en/1.26.x/advanced-usage.html#ssl-warnings\n",
            "  warnings.warn(\n"
          ]
        },
        {
          "output_type": "stream",
          "name": "stdout",
          "text": [
            "Loaded https://profi.ru/remont/dveri/ustanovka-mezhkomnatnyh-dverei/\n",
            "6 30 Load result code 200 https://profi.ru/remont/dveri/ustanovka-mezhkomnatnyh-dverei/\n"
          ]
        },
        {
          "output_type": "stream",
          "name": "stderr",
          "text": [
            "/usr/local/lib/python3.10/dist-packages/urllib3/connectionpool.py:1056: InsecureRequestWarning: Unverified HTTPS request is being made to host 'housemaster.od.ua'. Adding certificate verification is strongly advised. See: https://urllib3.readthedocs.io/en/1.26.x/advanced-usage.html#ssl-warnings\n",
            "  warnings.warn(\n"
          ]
        },
        {
          "output_type": "stream",
          "name": "stdout",
          "text": [
            "Loaded https://housemaster.od.ua/ru/ustanovka-dverej/\n",
            "6 31 Load result code 200 https://housemaster.od.ua/ru/ustanovka-dverej/\n"
          ]
        },
        {
          "output_type": "stream",
          "name": "stderr",
          "text": [
            "/usr/local/lib/python3.10/dist-packages/urllib3/connectionpool.py:1056: InsecureRequestWarning: Unverified HTTPS request is being made to host 'ploskostspb.ru'. Adding certificate verification is strongly advised. See: https://urllib3.readthedocs.io/en/1.26.x/advanced-usage.html#ssl-warnings\n",
            "  warnings.warn(\n"
          ]
        },
        {
          "output_type": "stream",
          "name": "stdout",
          "text": [
            "Loaded https://ploskostspb.ru/\n",
            "6 32 Load result code 200 https://ploskostspb.ru/\n"
          ]
        },
        {
          "output_type": "stream",
          "name": "stderr",
          "text": [
            "/usr/local/lib/python3.10/dist-packages/urllib3/connectionpool.py:1056: InsecureRequestWarning: Unverified HTTPS request is being made to host 'www.megapolys.com'. Adding certificate verification is strongly advised. See: https://urllib3.readthedocs.io/en/1.26.x/advanced-usage.html#ssl-warnings\n",
            "  warnings.warn(\n"
          ]
        },
        {
          "output_type": "stream",
          "name": "stdout",
          "text": [
            "Loaded https://www.megapolys.com/services/ustanovka-dverey/\n",
            "6 33 Load result code 200 https://www.megapolys.com/services/ustanovka-dverey/\n"
          ]
        },
        {
          "output_type": "stream",
          "name": "stderr",
          "text": [
            "/usr/local/lib/python3.10/dist-packages/urllib3/connectionpool.py:1056: InsecureRequestWarning: Unverified HTTPS request is being made to host 'mskcentrum.ru'. Adding certificate verification is strongly advised. See: https://urllib3.readthedocs.io/en/1.26.x/advanced-usage.html#ssl-warnings\n",
            "  warnings.warn(\n"
          ]
        },
        {
          "output_type": "stream",
          "name": "stdout",
          "text": [
            "Loaded https://mskcentrum.ru/servis\n",
            "6 34 Load result code 200 https://mskcentrum.ru/servis\n"
          ]
        },
        {
          "output_type": "stream",
          "name": "stderr",
          "text": [
            "/usr/local/lib/python3.10/dist-packages/urllib3/connectionpool.py:1056: InsecureRequestWarning: Unverified HTTPS request is being made to host 'xn----7sbgbjhre5ahl5acon.xn--p1ai'. Adding certificate verification is strongly advised. See: https://urllib3.readthedocs.io/en/1.26.x/advanced-usage.html#ssl-warnings\n",
            "  warnings.warn(\n"
          ]
        },
        {
          "output_type": "stream",
          "name": "stdout",
          "text": [
            "Loaded https://xn----7sbgbjhre5ahl5acon.xn--p1ai/\n",
            "6 35 Load result code 200 https://xn----7sbgbjhre5ahl5acon.xn--p1ai/\n"
          ]
        },
        {
          "output_type": "stream",
          "name": "stderr",
          "text": [
            "/usr/local/lib/python3.10/dist-packages/urllib3/connectionpool.py:1056: InsecureRequestWarning: Unverified HTTPS request is being made to host 'www.dveri-tmk.ru'. Adding certificate verification is strongly advised. See: https://urllib3.readthedocs.io/en/1.26.x/advanced-usage.html#ssl-warnings\n",
            "  warnings.warn(\n"
          ]
        },
        {
          "output_type": "stream",
          "name": "stdout",
          "text": [
            "Loaded https://www.dveri-tmk.ru/uslugi/ustanovka-dverey.html\n",
            "6 36 Load result code 200 https://www.dveri-tmk.ru/uslugi/ustanovka-dverey.html\n"
          ]
        },
        {
          "output_type": "stream",
          "name": "stderr",
          "text": [
            "/usr/local/lib/python3.10/dist-packages/urllib3/connectionpool.py:1056: InsecureRequestWarning: Unverified HTTPS request is being made to host 'verda-m.ru'. Adding certificate verification is strongly advised. See: https://urllib3.readthedocs.io/en/1.26.x/advanced-usage.html#ssl-warnings\n",
            "  warnings.warn(\n"
          ]
        },
        {
          "output_type": "stream",
          "name": "stdout",
          "text": [
            "Loaded https://verda-m.ru/delivery/full-construction/\n",
            "6 37 Load result code 200 https://verda-m.ru/delivery/full-construction/\n"
          ]
        },
        {
          "output_type": "stream",
          "name": "stderr",
          "text": [
            "/usr/local/lib/python3.10/dist-packages/urllib3/connectionpool.py:1056: InsecureRequestWarning: Unverified HTTPS request is being made to host 'sfdoors.ru'. Adding certificate verification is strongly advised. See: https://urllib3.readthedocs.io/en/1.26.x/advanced-usage.html#ssl-warnings\n",
            "  warnings.warn(\n"
          ]
        },
        {
          "output_type": "stream",
          "name": "stdout",
          "text": [
            "Loaded https://sfdoors.ru/service/\n",
            "6 38 Load result code 200 https://sfdoors.ru/service/\n"
          ]
        },
        {
          "output_type": "stream",
          "name": "stderr",
          "text": [
            "/usr/local/lib/python3.10/dist-packages/urllib3/connectionpool.py:1056: InsecureRequestWarning: Unverified HTTPS request is being made to host 'www.rf-dveri.ru'. Adding certificate verification is strongly advised. See: https://urllib3.readthedocs.io/en/1.26.x/advanced-usage.html#ssl-warnings\n",
            "  warnings.warn(\n"
          ]
        },
        {
          "output_type": "stream",
          "name": "stdout",
          "text": [
            "Loaded https://www.rf-dveri.ru/ustanovka_dverej/\n",
            "6 39 Load result code 200 https://www.rf-dveri.ru/ustanovka_dverej/\n"
          ]
        },
        {
          "output_type": "stream",
          "name": "stderr",
          "text": [
            "/usr/local/lib/python3.10/dist-packages/urllib3/connectionpool.py:1056: InsecureRequestWarning: Unverified HTTPS request is being made to host 'domdverey.com'. Adding certificate verification is strongly advised. See: https://urllib3.readthedocs.io/en/1.26.x/advanced-usage.html#ssl-warnings\n",
            "  warnings.warn(\n"
          ]
        },
        {
          "output_type": "stream",
          "name": "stdout",
          "text": [
            "Loaded https://domdverey.com/catalog/uslugi-i-servis/rasczenki-na-ustanovku-mezhkomnatnyix-dverej.html\n",
            "6 40 Load result code 200 https://domdverey.com/catalog/uslugi-i-servis/rasczenki-na-ustanovku-mezhkomnatnyix-dverej.html\n"
          ]
        },
        {
          "output_type": "stream",
          "name": "stderr",
          "text": [
            "/usr/local/lib/python3.10/dist-packages/urllib3/connectionpool.py:1056: InsecureRequestWarning: Unverified HTTPS request is being made to host 'dvertsov.ru'. Adding certificate verification is strongly advised. See: https://urllib3.readthedocs.io/en/1.26.x/advanced-usage.html#ssl-warnings\n",
            "  warnings.warn(\n"
          ]
        },
        {
          "output_type": "stream",
          "name": "stdout",
          "text": [
            "Loaded https://dvertsov.ru/page/ustanovka-mezhkomnatnye-dveri\n",
            "6 41 Load result code 200 https://dvertsov.ru/page/ustanovka-mezhkomnatnye-dveri\n"
          ]
        },
        {
          "output_type": "stream",
          "name": "stderr",
          "text": [
            "/usr/local/lib/python3.10/dist-packages/urllib3/connectionpool.py:1056: InsecureRequestWarning: Unverified HTTPS request is being made to host 'dveriunas.ru'. Adding certificate verification is strongly advised. See: https://urllib3.readthedocs.io/en/1.26.x/advanced-usage.html#ssl-warnings\n",
            "  warnings.warn(\n"
          ]
        },
        {
          "output_type": "stream",
          "name": "stdout",
          "text": [
            "Loaded https://dveriunas.ru/installation/\n",
            "6 42 Load result code 200 https://dveriunas.ru/installation/\n"
          ]
        },
        {
          "output_type": "stream",
          "name": "stderr",
          "text": [
            "/usr/local/lib/python3.10/dist-packages/urllib3/connectionpool.py:1056: InsecureRequestWarning: Unverified HTTPS request is being made to host 'dveri-spb.ru'. Adding certificate verification is strongly advised. See: https://urllib3.readthedocs.io/en/1.26.x/advanced-usage.html#ssl-warnings\n",
            "  warnings.warn(\n"
          ]
        },
        {
          "output_type": "stream",
          "name": "stdout",
          "text": [
            "Loaded https://dveri-spb.ru/uslugi/ustanovka.html\n",
            "6 43 Load result code 200 https://dveri-spb.ru/uslugi/ustanovka.html\n"
          ]
        },
        {
          "output_type": "stream",
          "name": "stderr",
          "text": [
            "/usr/local/lib/python3.10/dist-packages/urllib3/connectionpool.py:1056: InsecureRequestWarning: Unverified HTTPS request is being made to host 'volga-doors.ru'. Adding certificate verification is strongly advised. See: https://urllib3.readthedocs.io/en/1.26.x/advanced-usage.html#ssl-warnings\n",
            "  warnings.warn(\n"
          ]
        },
        {
          "output_type": "stream",
          "name": "stdout",
          "text": [
            "Loaded https://volga-doors.ru/ustanovka-dverey/\n",
            "6 44 Load result code 200 https://volga-doors.ru/ustanovka-dverey/\n"
          ]
        },
        {
          "output_type": "stream",
          "name": "stderr",
          "text": [
            "/usr/local/lib/python3.10/dist-packages/urllib3/connectionpool.py:1056: InsecureRequestWarning: Unverified HTTPS request is being made to host 'www.dverprom.ru'. Adding certificate verification is strongly advised. See: https://urllib3.readthedocs.io/en/1.26.x/advanced-usage.html#ssl-warnings\n",
            "  warnings.warn(\n"
          ]
        },
        {
          "output_type": "stream",
          "name": "stdout",
          "text": [
            "Loaded https://www.dverprom.ru/ustanovka/\n",
            "6 45 Load result code 200 https://www.dverprom.ru/ustanovka/\n"
          ]
        },
        {
          "output_type": "stream",
          "name": "stderr",
          "text": [
            "/usr/local/lib/python3.10/dist-packages/urllib3/connectionpool.py:1056: InsecureRequestWarning: Unverified HTTPS request is being made to host 'dverishop.ru'. Adding certificate verification is strongly advised. See: https://urllib3.readthedocs.io/en/1.26.x/advanced-usage.html#ssl-warnings\n",
            "  warnings.warn(\n"
          ]
        },
        {
          "output_type": "stream",
          "name": "stdout",
          "text": [
            "Loaded https://dverishop.ru/uslugi/\n",
            "6 46 Load result code 200 https://dverishop.ru/uslugi/\n"
          ]
        },
        {
          "output_type": "stream",
          "name": "stderr",
          "text": [
            "/usr/local/lib/python3.10/dist-packages/urllib3/connectionpool.py:1056: InsecureRequestWarning: Unverified HTTPS request is being made to host 'volhovec.ru'. Adding certificate verification is strongly advised. See: https://urllib3.readthedocs.io/en/1.26.x/advanced-usage.html#ssl-warnings\n",
            "  warnings.warn(\n",
            "/usr/local/lib/python3.10/dist-packages/urllib3/connectionpool.py:1056: InsecureRequestWarning: Unverified HTTPS request is being made to host 'www.volhovec.ru'. Adding certificate verification is strongly advised. See: https://urllib3.readthedocs.io/en/1.26.x/advanced-usage.html#ssl-warnings\n",
            "  warnings.warn(\n"
          ]
        },
        {
          "output_type": "stream",
          "name": "stdout",
          "text": [
            "Loaded https://volhovec.ru/service/\n",
            "6 47 Load result code 200 https://volhovec.ru/service/\n"
          ]
        },
        {
          "output_type": "stream",
          "name": "stderr",
          "text": [
            "/usr/local/lib/python3.10/dist-packages/urllib3/connectionpool.py:1056: InsecureRequestWarning: Unverified HTTPS request is being made to host 'www.tgsmit.ru'. Adding certificate verification is strongly advised. See: https://urllib3.readthedocs.io/en/1.26.x/advanced-usage.html#ssl-warnings\n",
            "  warnings.warn(\n"
          ]
        },
        {
          "output_type": "stream",
          "name": "stdout",
          "text": [
            "Loaded https://www.tgsmit.ru/services/servisnye-sluzhby/ustanovka-dverey/\n",
            "6 48 Load result code 200 https://www.tgsmit.ru/services/servisnye-sluzhby/ustanovka-dverey/\n"
          ]
        },
        {
          "output_type": "stream",
          "name": "stderr",
          "text": [
            "/usr/local/lib/python3.10/dist-packages/urllib3/connectionpool.py:1056: InsecureRequestWarning: Unverified HTTPS request is being made to host 'akson.ru'. Adding certificate verification is strongly advised. See: https://urllib3.readthedocs.io/en/1.26.x/advanced-usage.html#ssl-warnings\n",
            "  warnings.warn(\n"
          ]
        },
        {
          "output_type": "stream",
          "name": "stdout",
          "text": [
            "Loaded https://akson.ru/help/door-installation/\n",
            "6 49 Load result code 200 https://akson.ru/help/door-installation/\n"
          ]
        },
        {
          "output_type": "stream",
          "name": "stderr",
          "text": [
            "/usr/local/lib/python3.10/dist-packages/urllib3/connectionpool.py:1056: InsecureRequestWarning: Unverified HTTPS request is being made to host 'portaprima.ru'. Adding certificate verification is strongly advised. See: https://urllib3.readthedocs.io/en/1.26.x/advanced-usage.html#ssl-warnings\n",
            "  warnings.warn(\n"
          ]
        },
        {
          "output_type": "stream",
          "name": "stdout",
          "text": [
            "Loaded https://portaprima.ru/uslugi/ustanovka-mezhkomnatnyh-dverej/\n",
            "6 50 Load result code 200 https://portaprima.ru/uslugi/ustanovka-mezhkomnatnyh-dverej/\n"
          ]
        },
        {
          "output_type": "stream",
          "name": "stderr",
          "text": [
            "/usr/local/lib/python3.10/dist-packages/urllib3/connectionpool.py:1056: InsecureRequestWarning: Unverified HTTPS request is being made to host 'www.prostodveri.com.ua'. Adding certificate verification is strongly advised. See: https://urllib3.readthedocs.io/en/1.26.x/advanced-usage.html#ssl-warnings\n",
            "  warnings.warn(\n"
          ]
        },
        {
          "output_type": "stream",
          "name": "stdout",
          "text": [
            "Loaded https://www.prostodveri.com.ua/montazh-dverej-ustanovka-dverej-v-kieve\n",
            "6 51 Load result code 200 https://www.prostodveri.com.ua/montazh-dverej-ustanovka-dverej-v-kieve\n"
          ]
        },
        {
          "output_type": "stream",
          "name": "stderr",
          "text": [
            "/usr/local/lib/python3.10/dist-packages/urllib3/connectionpool.py:1056: InsecureRequestWarning: Unverified HTTPS request is being made to host 'master-plus23.ru'. Adding certificate verification is strongly advised. See: https://urllib3.readthedocs.io/en/1.26.x/advanced-usage.html#ssl-warnings\n",
            "  warnings.warn(\n"
          ]
        },
        {
          "output_type": "stream",
          "name": "stdout",
          "text": [
            "Loaded https://master-plus23.ru/montazh-mezhkomnatnyh-dverej/\n",
            "6 52 Load result code 200 https://master-plus23.ru/montazh-mezhkomnatnyh-dverej/\n"
          ]
        },
        {
          "output_type": "stream",
          "name": "stderr",
          "text": [
            "/usr/local/lib/python3.10/dist-packages/urllib3/connectionpool.py:1056: InsecureRequestWarning: Unverified HTTPS request is being made to host 'dveri-sibiri.ru'. Adding certificate verification is strongly advised. See: https://urllib3.readthedocs.io/en/1.26.x/advanced-usage.html#ssl-warnings\n",
            "  warnings.warn(\n"
          ]
        },
        {
          "output_type": "stream",
          "name": "stdout",
          "text": [
            "Loaded https://dveri-sibiri.ru/installation/\n",
            "6 53 Load result code 200 https://dveri-sibiri.ru/installation/\n"
          ]
        },
        {
          "output_type": "stream",
          "name": "stderr",
          "text": [
            "/usr/local/lib/python3.10/dist-packages/urllib3/connectionpool.py:1056: InsecureRequestWarning: Unverified HTTPS request is being made to host 'dveriraduga.ru'. Adding certificate verification is strongly advised. See: https://urllib3.readthedocs.io/en/1.26.x/advanced-usage.html#ssl-warnings\n",
            "  warnings.warn(\n"
          ]
        },
        {
          "output_type": "stream",
          "name": "stdout",
          "text": [
            "Loaded https://dveriraduga.ru/services\n",
            "6 54 Load result code 200 https://dveriraduga.ru/services\n"
          ]
        },
        {
          "output_type": "stream",
          "name": "stderr",
          "text": [
            "/usr/local/lib/python3.10/dist-packages/urllib3/connectionpool.py:1056: InsecureRequestWarning: Unverified HTTPS request is being made to host 'stroykin23.ru'. Adding certificate verification is strongly advised. See: https://urllib3.readthedocs.io/en/1.26.x/advanced-usage.html#ssl-warnings\n",
            "  warnings.warn(\n"
          ]
        },
        {
          "output_type": "stream",
          "name": "stdout",
          "text": [
            "Loaded https://stroykin23.ru/cena-na-ustanovku-dverej/\n",
            "6 55 Load result code 200 https://stroykin23.ru/cena-na-ustanovku-dverej/\n"
          ]
        },
        {
          "output_type": "stream",
          "name": "stderr",
          "text": [
            "/usr/local/lib/python3.10/dist-packages/urllib3/connectionpool.py:1056: InsecureRequestWarning: Unverified HTTPS request is being made to host 'hands.ru'. Adding certificate verification is strongly advised. See: https://urllib3.readthedocs.io/en/1.26.x/advanced-usage.html#ssl-warnings\n",
            "  warnings.warn(\n"
          ]
        },
        {
          "output_type": "stream",
          "name": "stdout",
          "text": [
            "Loaded https://hands.ru/service/ustanovit-mezhkomnatnuiu-dver-s-odnoi-stvorkoi/\n",
            "6 56 Load result code 200 https://hands.ru/service/ustanovit-mezhkomnatnuiu-dver-s-odnoi-stvorkoi/\n"
          ]
        },
        {
          "output_type": "stream",
          "name": "stderr",
          "text": [
            "/usr/local/lib/python3.10/dist-packages/urllib3/connectionpool.py:1056: InsecureRequestWarning: Unverified HTTPS request is being made to host 'www.dveri-tuk-tuk.ru'. Adding certificate verification is strongly advised. See: https://urllib3.readthedocs.io/en/1.26.x/advanced-usage.html#ssl-warnings\n",
            "  warnings.warn(\n"
          ]
        },
        {
          "output_type": "stream",
          "name": "stdout",
          "text": [
            "Loaded https://www.dveri-tuk-tuk.ru/ustanovka.html\n",
            "6 57 Load result code 200 https://www.dveri-tuk-tuk.ru/ustanovka.html\n"
          ]
        },
        {
          "output_type": "stream",
          "name": "stderr",
          "text": [
            "/usr/local/lib/python3.10/dist-packages/urllib3/connectionpool.py:1056: InsecureRequestWarning: Unverified HTTPS request is being made to host 'www.remontprofi.ru'. Adding certificate verification is strongly advised. See: https://urllib3.readthedocs.io/en/1.26.x/advanced-usage.html#ssl-warnings\n",
            "  warnings.warn(\n"
          ]
        },
        {
          "output_type": "stream",
          "name": "stdout",
          "text": [
            "Loaded https://www.remontprofi.ru/otdelochnye-raboty/ustanovka-dverej/\n",
            "6 58 Load result code 200 https://www.remontprofi.ru/otdelochnye-raboty/ustanovka-dverej/\n"
          ]
        },
        {
          "output_type": "stream",
          "name": "stderr",
          "text": [
            "/usr/local/lib/python3.10/dist-packages/urllib3/connectionpool.py:1056: InsecureRequestWarning: Unverified HTTPS request is being made to host 'dom-servis39.ru'. Adding certificate verification is strongly advised. See: https://urllib3.readthedocs.io/en/1.26.x/advanced-usage.html#ssl-warnings\n",
            "  warnings.warn(\n"
          ]
        },
        {
          "output_type": "stream",
          "name": "stdout",
          "text": [
            "Loaded https://dom-servis39.ru/domashniy-master/ustanovka-dverej.html\n",
            "6 59 Load result code 200 https://dom-servis39.ru/domashniy-master/ustanovka-dverej.html\n"
          ]
        },
        {
          "output_type": "stream",
          "name": "stderr",
          "text": [
            "/usr/local/lib/python3.10/dist-packages/urllib3/connectionpool.py:1056: InsecureRequestWarning: Unverified HTTPS request is being made to host 'megastroy.com'. Adding certificate verification is strongly advised. See: https://urllib3.readthedocs.io/en/1.26.x/advanced-usage.html#ssl-warnings\n",
            "  warnings.warn(\n"
          ]
        },
        {
          "output_type": "stream",
          "name": "stdout",
          "text": [
            "Loaded https://megastroy.com/services/ustanovka-dverej\n",
            "6 60 Load result code 200 https://megastroy.com/services/ustanovka-dverej\n"
          ]
        },
        {
          "output_type": "stream",
          "name": "stderr",
          "text": [
            "/usr/local/lib/python3.10/dist-packages/urllib3/connectionpool.py:1056: InsecureRequestWarning: Unverified HTTPS request is being made to host 'doorsib.ru'. Adding certificate verification is strongly advised. See: https://urllib3.readthedocs.io/en/1.26.x/advanced-usage.html#ssl-warnings\n",
            "  warnings.warn(\n"
          ]
        },
        {
          "output_type": "stream",
          "name": "stdout",
          "text": [
            "Loaded https://doorsib.ru/montazh-dverej/\n",
            "6 61 Load result code 200 https://doorsib.ru/montazh-dverej/\n"
          ]
        },
        {
          "output_type": "stream",
          "name": "stderr",
          "text": [
            "/usr/local/lib/python3.10/dist-packages/urllib3/connectionpool.py:1056: InsecureRequestWarning: Unverified HTTPS request is being made to host 'planetadoors.ru'. Adding certificate verification is strongly advised. See: https://urllib3.readthedocs.io/en/1.26.x/advanced-usage.html#ssl-warnings\n",
            "  warnings.warn(\n"
          ]
        },
        {
          "output_type": "stream",
          "name": "stdout",
          "text": [
            "Loaded https://planetadoors.ru/ustanovka\n",
            "6 62 Load result code 200 https://planetadoors.ru/ustanovka\n"
          ]
        },
        {
          "output_type": "stream",
          "name": "stderr",
          "text": [
            "/usr/local/lib/python3.10/dist-packages/urllib3/connectionpool.py:1056: InsecureRequestWarning: Unverified HTTPS request is being made to host 'apelsin.ru'. Adding certificate verification is strongly advised. See: https://urllib3.readthedocs.io/en/1.26.x/advanced-usage.html#ssl-warnings\n",
            "  warnings.warn(\n"
          ]
        },
        {
          "output_type": "stream",
          "name": "stdout",
          "text": [
            "Loaded https://apelsin.ru/help/services/ustanovka-dverey/\n",
            "6 63 Load result code 200 https://apelsin.ru/help/services/ustanovka-dverey/\n"
          ]
        },
        {
          "output_type": "stream",
          "name": "stderr",
          "text": [
            "/usr/local/lib/python3.10/dist-packages/urllib3/connectionpool.py:1056: InsecureRequestWarning: Unverified HTTPS request is being made to host 'www.shop-nsk.ru'. Adding certificate verification is strongly advised. See: https://urllib3.readthedocs.io/en/1.26.x/advanced-usage.html#ssl-warnings\n",
            "  warnings.warn(\n",
            "/usr/local/lib/python3.10/dist-packages/urllib3/connectionpool.py:1056: InsecureRequestWarning: Unverified HTTPS request is being made to host 'shop-nsk.ru'. Adding certificate verification is strongly advised. See: https://urllib3.readthedocs.io/en/1.26.x/advanced-usage.html#ssl-warnings\n",
            "  warnings.warn(\n"
          ]
        },
        {
          "output_type": "stream",
          "name": "stdout",
          "text": [
            "Load error https://www.shop-nsk.ru/info/kak-proiskhodit-ustanovka-mezhkomnatnykh-dverey/ 404\n",
            "6 64 Load result code 404 https://www.shop-nsk.ru/info/kak-proiskhodit-ustanovka-mezhkomnatnykh-dverey/\n"
          ]
        },
        {
          "output_type": "stream",
          "name": "stderr",
          "text": [
            "/usr/local/lib/python3.10/dist-packages/urllib3/connectionpool.py:1056: InsecureRequestWarning: Unverified HTTPS request is being made to host 'amega-shop.ru'. Adding certificate verification is strongly advised. See: https://urllib3.readthedocs.io/en/1.26.x/advanced-usage.html#ssl-warnings\n",
            "  warnings.warn(\n"
          ]
        },
        {
          "output_type": "stream",
          "name": "stdout",
          "text": [
            "Loaded https://amega-shop.ru/services/ustanovka-dverey/\n",
            "6 65 Load result code 200 https://amega-shop.ru/services/ustanovka-dverey/\n"
          ]
        },
        {
          "output_type": "stream",
          "name": "stderr",
          "text": [
            "/usr/local/lib/python3.10/dist-packages/urllib3/connectionpool.py:1056: InsecureRequestWarning: Unverified HTTPS request is being made to host 'yurkas.by'. Adding certificate verification is strongly advised. See: https://urllib3.readthedocs.io/en/1.26.x/advanced-usage.html#ssl-warnings\n",
            "  warnings.warn(\n"
          ]
        },
        {
          "output_type": "stream",
          "name": "stdout",
          "text": [
            "Loaded https://yurkas.by/services/montazh-dverey/\n",
            "6 66 Load result code 200 https://yurkas.by/services/montazh-dverey/\n"
          ]
        },
        {
          "output_type": "stream",
          "name": "stderr",
          "text": [
            "/usr/local/lib/python3.10/dist-packages/urllib3/connectionpool.py:1056: InsecureRequestWarning: Unverified HTTPS request is being made to host 'www.gigant-dveri.ru'. Adding certificate verification is strongly advised. See: https://urllib3.readthedocs.io/en/1.26.x/advanced-usage.html#ssl-warnings\n",
            "  warnings.warn(\n"
          ]
        },
        {
          "output_type": "stream",
          "name": "stdout",
          "text": [
            "Loaded https://www.gigant-dveri.ru/page/ustanovka-dverey\n",
            "6 67 Load result code 200 https://www.gigant-dveri.ru/page/ustanovka-dverey\n"
          ]
        },
        {
          "output_type": "stream",
          "name": "stderr",
          "text": [
            "/usr/local/lib/python3.10/dist-packages/urllib3/connectionpool.py:1056: InsecureRequestWarning: Unverified HTTPS request is being made to host 'fabrika-bravo.ru'. Adding certificate verification is strongly advised. See: https://urllib3.readthedocs.io/en/1.26.x/advanced-usage.html#ssl-warnings\n",
            "  warnings.warn(\n"
          ]
        },
        {
          "output_type": "stream",
          "name": "stdout",
          "text": [
            "Loaded https://fabrika-bravo.ru/ustanovka\n",
            "6 68 Load result code 200 https://fabrika-bravo.ru/ustanovka\n"
          ]
        },
        {
          "output_type": "stream",
          "name": "stderr",
          "text": [
            "/usr/local/lib/python3.10/dist-packages/urllib3/connectionpool.py:1056: InsecureRequestWarning: Unverified HTTPS request is being made to host 'dvery-kazani.ru'. Adding certificate verification is strongly advised. See: https://urllib3.readthedocs.io/en/1.26.x/advanced-usage.html#ssl-warnings\n",
            "  warnings.warn(\n"
          ]
        },
        {
          "output_type": "stream",
          "name": "stdout",
          "text": [
            "Loaded https://dvery-kazani.ru/ustanovka\n",
            "6 69 Load result code 200 https://dvery-kazani.ru/ustanovka\n"
          ]
        },
        {
          "output_type": "stream",
          "name": "stderr",
          "text": [
            "/usr/local/lib/python3.10/dist-packages/urllib3/connectionpool.py:1056: InsecureRequestWarning: Unverified HTTPS request is being made to host 'dvernoirai.by'. Adding certificate verification is strongly advised. See: https://urllib3.readthedocs.io/en/1.26.x/advanced-usage.html#ssl-warnings\n",
            "  warnings.warn(\n"
          ]
        },
        {
          "output_type": "stream",
          "name": "stdout",
          "text": [
            "Loaded https://dvernoirai.by/blogs/poleznie-stati/pravila-podgotovki-kvartiri-k-ustanovke-dverei\n",
            "6 70 Load result code 200 https://dvernoirai.by/blogs/poleznie-stati/pravila-podgotovki-kvartiri-k-ustanovke-dverei\n"
          ]
        },
        {
          "output_type": "stream",
          "name": "stderr",
          "text": [
            "/usr/local/lib/python3.10/dist-packages/urllib3/connectionpool.py:1056: InsecureRequestWarning: Unverified HTTPS request is being made to host 'belkist.ru'. Adding certificate verification is strongly advised. See: https://urllib3.readthedocs.io/en/1.26.x/advanced-usage.html#ssl-warnings\n",
            "  warnings.warn(\n"
          ]
        },
        {
          "output_type": "stream",
          "name": "stdout",
          "text": [
            "Loaded https://belkist.ru/article/dveri/ustanovka_mezhkomnatnih_dverey_pod_klyuch\n",
            "6 71 Load result code 200 https://belkist.ru/article/dveri/ustanovka_mezhkomnatnih_dverey_pod_klyuch\n"
          ]
        },
        {
          "output_type": "stream",
          "name": "stderr",
          "text": [
            "/usr/local/lib/python3.10/dist-packages/urllib3/connectionpool.py:1056: InsecureRequestWarning: Unverified HTTPS request is being made to host 'td-harmony.ru'. Adding certificate verification is strongly advised. See: https://urllib3.readthedocs.io/en/1.26.x/advanced-usage.html#ssl-warnings\n",
            "  warnings.warn(\n"
          ]
        },
        {
          "output_type": "stream",
          "name": "stdout",
          "text": [
            "Loaded https://td-harmony.ru/ceny-na-ustanovku-dverej-article.html\n",
            "6 72 Load result code 200 https://td-harmony.ru/ceny-na-ustanovku-dverej-article.html\n"
          ]
        },
        {
          "output_type": "stream",
          "name": "stderr",
          "text": [
            "/usr/local/lib/python3.10/dist-packages/urllib3/connectionpool.py:1056: InsecureRequestWarning: Unverified HTTPS request is being made to host 'www.xn--d1aaygb.xn--p1ai'. Adding certificate verification is strongly advised. See: https://urllib3.readthedocs.io/en/1.26.x/advanced-usage.html#ssl-warnings\n",
            "  warnings.warn(\n"
          ]
        },
        {
          "output_type": "stream",
          "name": "stdout",
          "text": [
            "Loaded https://www.xn--d1aaygb.xn--p1ai/%D0%A3%D1%81%D1%82%D0%B0%D0%BD%D0%BE%D0%B2%D0%BA%D0%B0-%D0%B4%D0%BE%D0%B1%D0%BE%D1%80%D0%BE%D0%B2\n",
            "6 73 Load result code 200 https://www.xn--d1aaygb.xn--p1ai/%D0%A3%D1%81%D1%82%D0%B0%D0%BD%D0%BE%D0%B2%D0%BA%D0%B0-%D0%B4%D0%BE%D0%B1%D0%BE%D1%80%D0%BE%D0%B2\n"
          ]
        },
        {
          "output_type": "stream",
          "name": "stderr",
          "text": [
            "/usr/local/lib/python3.10/dist-packages/urllib3/connectionpool.py:1056: InsecureRequestWarning: Unverified HTTPS request is being made to host 'dvernoyolimp.com.ua'. Adding certificate verification is strongly advised. See: https://urllib3.readthedocs.io/en/1.26.x/advanced-usage.html#ssl-warnings\n",
            "  warnings.warn(\n"
          ]
        },
        {
          "output_type": "stream",
          "name": "stdout",
          "text": [
            "Loaded https://dvernoyolimp.com.ua/services/ustanovka/\n",
            "6 74 Load result code 200 https://dvernoyolimp.com.ua/services/ustanovka/\n"
          ]
        },
        {
          "output_type": "stream",
          "name": "stderr",
          "text": [
            "/usr/local/lib/python3.10/dist-packages/urllib3/connectionpool.py:1056: InsecureRequestWarning: Unverified HTTPS request is being made to host 'good-sv.ru'. Adding certificate verification is strongly advised. See: https://urllib3.readthedocs.io/en/1.26.x/advanced-usage.html#ssl-warnings\n",
            "  warnings.warn(\n"
          ]
        },
        {
          "output_type": "stream",
          "name": "stdout",
          "text": [
            "Loaded https://good-sv.ru/price/prays-list-na-ustanovku-mezhkomnatnykh-dverey/\n",
            "6 75 Load result code 200 https://good-sv.ru/price/prays-list-na-ustanovku-mezhkomnatnykh-dverey/\n"
          ]
        },
        {
          "output_type": "stream",
          "name": "stderr",
          "text": [
            "/usr/local/lib/python3.10/dist-packages/urllib3/connectionpool.py:1056: InsecureRequestWarning: Unverified HTTPS request is being made to host 'sokora-remont.ru'. Adding certificate verification is strongly advised. See: https://urllib3.readthedocs.io/en/1.26.x/advanced-usage.html#ssl-warnings\n",
            "  warnings.warn(\n"
          ]
        },
        {
          "output_type": "stream",
          "name": "stdout",
          "text": [
            "Loaded https://sokora-remont.ru/ustanovka-dverej\n",
            "6 76 Load result code 200 https://sokora-remont.ru/ustanovka-dverej\n"
          ]
        },
        {
          "output_type": "stream",
          "name": "stderr",
          "text": [
            "/usr/local/lib/python3.10/dist-packages/urllib3/connectionpool.py:1056: InsecureRequestWarning: Unverified HTTPS request is being made to host 'framyr.ru'. Adding certificate verification is strongly advised. See: https://urllib3.readthedocs.io/en/1.26.x/advanced-usage.html#ssl-warnings\n",
            "  warnings.warn(\n"
          ]
        },
        {
          "output_type": "stream",
          "name": "stdout",
          "text": [
            "Loaded https://framyr.ru/poleznoe/services/ustanovka-dverey/\n",
            "6 77 Load result code 200 https://framyr.ru/poleznoe/services/ustanovka-dverey/\n"
          ]
        },
        {
          "output_type": "stream",
          "name": "stderr",
          "text": [
            "/usr/local/lib/python3.10/dist-packages/urllib3/connectionpool.py:1056: InsecureRequestWarning: Unverified HTTPS request is being made to host 'zel-dveri.ru'. Adding certificate verification is strongly advised. See: https://urllib3.readthedocs.io/en/1.26.x/advanced-usage.html#ssl-warnings\n",
            "  warnings.warn(\n"
          ]
        },
        {
          "output_type": "stream",
          "name": "stdout",
          "text": [
            "Loaded https://zel-dveri.ru/pages/ustanovka-dverei\n",
            "6 78 Load result code 200 https://zel-dveri.ru/pages/ustanovka-dverei\n"
          ]
        },
        {
          "output_type": "stream",
          "name": "stderr",
          "text": [
            "/usr/local/lib/python3.10/dist-packages/urllib3/connectionpool.py:1056: InsecureRequestWarning: Unverified HTTPS request is being made to host 'www.xn----dtbffphu3ad.xn--p1ai'. Adding certificate verification is strongly advised. See: https://urllib3.readthedocs.io/en/1.26.x/advanced-usage.html#ssl-warnings\n",
            "  warnings.warn(\n"
          ]
        },
        {
          "output_type": "stream",
          "name": "stdout",
          "text": [
            "Loaded https://www.xn----dtbffphu3ad.xn--p1ai/ustanovka_dverej/\n",
            "6 79 Load result code 200 https://www.xn----dtbffphu3ad.xn--p1ai/ustanovka_dverej/\n"
          ]
        },
        {
          "output_type": "stream",
          "name": "stderr",
          "text": [
            "/usr/local/lib/python3.10/dist-packages/urllib3/connectionpool.py:1056: InsecureRequestWarning: Unverified HTTPS request is being made to host 'xn--24-dlchaha6awt0a.xn--p1ai'. Adding certificate verification is strongly advised. See: https://urllib3.readthedocs.io/en/1.26.x/advanced-usage.html#ssl-warnings\n",
            "  warnings.warn(\n"
          ]
        },
        {
          "output_type": "stream",
          "name": "stdout",
          "text": [
            "Loaded https://xn--24-dlchaha6awt0a.xn--p1ai/ustanovka-dverej.html\n",
            "6 80 Load result code 200 https://xn--24-dlchaha6awt0a.xn--p1ai/ustanovka-dverej.html\n"
          ]
        },
        {
          "output_type": "stream",
          "name": "stderr",
          "text": [
            "/usr/local/lib/python3.10/dist-packages/urllib3/connectionpool.py:1056: InsecureRequestWarning: Unverified HTTPS request is being made to host 'centrdver.com'. Adding certificate verification is strongly advised. See: https://urllib3.readthedocs.io/en/1.26.x/advanced-usage.html#ssl-warnings\n",
            "  warnings.warn(\n"
          ]
        },
        {
          "output_type": "stream",
          "name": "stdout",
          "text": [
            "Loaded https://centrdver.com/ustanovka-i-zamer/\n",
            "6 81 Load result code 200 https://centrdver.com/ustanovka-i-zamer/\n"
          ]
        },
        {
          "output_type": "stream",
          "name": "stderr",
          "text": [
            "/usr/local/lib/python3.10/dist-packages/urllib3/connectionpool.py:1056: InsecureRequestWarning: Unverified HTTPS request is being made to host 'xn--80adfbes4apod.xn--p1ai'. Adding certificate verification is strongly advised. See: https://urllib3.readthedocs.io/en/1.26.x/advanced-usage.html#ssl-warnings\n",
            "  warnings.warn(\n"
          ]
        },
        {
          "output_type": "stream",
          "name": "stdout",
          "text": [
            "Loaded https://xn--80adfbes4apod.xn--p1ai/collection/ustanovka-mezhkomnatnyh-dverey\n",
            "6 82 Load result code 200 https://xn--80adfbes4apod.xn--p1ai/collection/ustanovka-mezhkomnatnyh-dverey\n"
          ]
        },
        {
          "output_type": "stream",
          "name": "stderr",
          "text": [
            "/usr/local/lib/python3.10/dist-packages/urllib3/connectionpool.py:1056: InsecureRequestWarning: Unverified HTTPS request is being made to host 'gipermarketdom.ru'. Adding certificate verification is strongly advised. See: https://urllib3.readthedocs.io/en/1.26.x/advanced-usage.html#ssl-warnings\n",
            "  warnings.warn(\n"
          ]
        },
        {
          "output_type": "stream",
          "name": "stdout",
          "text": [
            "Loaded https://gipermarketdom.ru/services/dom-master/ustanovka-dverey/\n",
            "6 83 Load result code 200 https://gipermarketdom.ru/services/dom-master/ustanovka-dverey/\n"
          ]
        },
        {
          "output_type": "stream",
          "name": "stderr",
          "text": [
            "/usr/local/lib/python3.10/dist-packages/urllib3/connectionpool.py:1056: InsecureRequestWarning: Unverified HTTPS request is being made to host 'dverineva.ru'. Adding certificate verification is strongly advised. See: https://urllib3.readthedocs.io/en/1.26.x/advanced-usage.html#ssl-warnings\n",
            "  warnings.warn(\n"
          ]
        },
        {
          "output_type": "stream",
          "name": "stdout",
          "text": [
            "Loaded https://dverineva.ru/mounting/\n",
            "6 84 Load result code 200 https://dverineva.ru/mounting/\n"
          ]
        },
        {
          "output_type": "stream",
          "name": "stderr",
          "text": [
            "/usr/local/lib/python3.10/dist-packages/urllib3/connectionpool.py:1056: InsecureRequestWarning: Unverified HTTPS request is being made to host 'dveri-reg.ru'. Adding certificate verification is strongly advised. See: https://urllib3.readthedocs.io/en/1.26.x/advanced-usage.html#ssl-warnings\n",
            "  warnings.warn(\n"
          ]
        },
        {
          "output_type": "stream",
          "name": "stdout",
          "text": [
            "Loaded https://dveri-reg.ru/ustanovka-dverey\n",
            "6 85 Load result code 200 https://dveri-reg.ru/ustanovka-dverey\n"
          ]
        },
        {
          "output_type": "stream",
          "name": "stderr",
          "text": [
            "/usr/local/lib/python3.10/dist-packages/urllib3/connectionpool.py:1056: InsecureRequestWarning: Unverified HTTPS request is being made to host 'nasp.ru'. Adding certificate verification is strongly advised. See: https://urllib3.readthedocs.io/en/1.26.x/advanced-usage.html#ssl-warnings\n",
            "  warnings.warn(\n"
          ]
        },
        {
          "output_type": "stream",
          "name": "stdout",
          "text": [
            "Loaded https://nasp.ru/setting_doors.html\n",
            "6 86 Load result code 200 https://nasp.ru/setting_doors.html\n"
          ]
        },
        {
          "output_type": "stream",
          "name": "stderr",
          "text": [
            "/usr/local/lib/python3.10/dist-packages/urllib3/connectionpool.py:1056: InsecureRequestWarning: Unverified HTTPS request is being made to host 'garant-spb.ru'. Adding certificate verification is strongly advised. See: https://urllib3.readthedocs.io/en/1.26.x/advanced-usage.html#ssl-warnings\n",
            "  warnings.warn(\n"
          ]
        },
        {
          "output_type": "stream",
          "name": "stdout",
          "text": [
            "Loaded https://garant-spb.ru/ustanovka-mezhkomnatnyh-dverey\n",
            "6 87 Load result code 200 https://garant-spb.ru/ustanovka-mezhkomnatnyh-dverey\n"
          ]
        },
        {
          "output_type": "stream",
          "name": "stderr",
          "text": [
            "/usr/local/lib/python3.10/dist-packages/urllib3/connectionpool.py:1056: InsecureRequestWarning: Unverified HTTPS request is being made to host 'steklodom.com'. Adding certificate verification is strongly advised. See: https://urllib3.readthedocs.io/en/1.26.x/advanced-usage.html#ssl-warnings\n",
            "  warnings.warn(\n"
          ]
        },
        {
          "output_type": "stream",
          "name": "stdout",
          "text": [
            "Loaded https://steklodom.com/landing/ustanovka_mkd_door/\n",
            "6 88 Load result code 200 https://steklodom.com/landing/ustanovka_mkd_door/\n"
          ]
        },
        {
          "output_type": "stream",
          "name": "stderr",
          "text": [
            "/usr/local/lib/python3.10/dist-packages/urllib3/connectionpool.py:1056: InsecureRequestWarning: Unverified HTTPS request is being made to host 'domdverei.ru'. Adding certificate verification is strongly advised. See: https://urllib3.readthedocs.io/en/1.26.x/advanced-usage.html#ssl-warnings\n",
            "  warnings.warn(\n"
          ]
        },
        {
          "output_type": "stream",
          "name": "stdout",
          "text": [
            "Loaded https://domdverei.ru/\n",
            "6 89 Load result code 200 https://domdverei.ru/\n"
          ]
        },
        {
          "output_type": "stream",
          "name": "stderr",
          "text": [
            "/usr/local/lib/python3.10/dist-packages/urllib3/connectionpool.py:1056: InsecureRequestWarning: Unverified HTTPS request is being made to host 'dvernoydom.com.ua'. Adding certificate verification is strongly advised. See: https://urllib3.readthedocs.io/en/1.26.x/advanced-usage.html#ssl-warnings\n",
            "  warnings.warn(\n"
          ]
        },
        {
          "output_type": "stream",
          "name": "stdout",
          "text": [
            "Loaded https://dvernoydom.com.ua/ustanovka-dverej\n",
            "6 90 Load result code 200 https://dvernoydom.com.ua/ustanovka-dverej\n"
          ]
        },
        {
          "output_type": "stream",
          "name": "stderr",
          "text": [
            "/usr/local/lib/python3.10/dist-packages/urllib3/connectionpool.py:1056: InsecureRequestWarning: Unverified HTTPS request is being made to host 'otdelka36.com'. Adding certificate verification is strongly advised. See: https://urllib3.readthedocs.io/en/1.26.x/advanced-usage.html#ssl-warnings\n",
            "  warnings.warn(\n"
          ]
        },
        {
          "output_type": "stream",
          "name": "stdout",
          "text": [
            "Loaded https://otdelka36.com/ustanovka-mezhkomnatnykh-dverey-cena\n",
            "6 91 Load result code 200 https://otdelka36.com/ustanovka-mezhkomnatnykh-dverey-cena\n"
          ]
        },
        {
          "output_type": "stream",
          "name": "stderr",
          "text": [
            "/usr/local/lib/python3.10/dist-packages/urllib3/connectionpool.py:1056: InsecureRequestWarning: Unverified HTTPS request is being made to host 'ogodveri.by'. Adding certificate verification is strongly advised. See: https://urllib3.readthedocs.io/en/1.26.x/advanced-usage.html#ssl-warnings\n",
            "  warnings.warn(\n"
          ]
        },
        {
          "output_type": "stream",
          "name": "stdout",
          "text": [
            "Loaded https://ogodveri.by/ustanovka-dverey/\n",
            "6 92 Load result code 200 https://ogodveri.by/ustanovka-dverey/\n"
          ]
        },
        {
          "output_type": "stream",
          "name": "stderr",
          "text": [
            "/usr/local/lib/python3.10/dist-packages/urllib3/connectionpool.py:1056: InsecureRequestWarning: Unverified HTTPS request is being made to host 'center-remonta56.ru'. Adding certificate verification is strongly advised. See: https://urllib3.readthedocs.io/en/1.26.x/advanced-usage.html#ssl-warnings\n",
            "  warnings.warn(\n"
          ]
        },
        {
          "output_type": "stream",
          "name": "stdout",
          "text": [
            "Loaded https://center-remonta56.ru/ustanovka-dverei.html\n",
            "6 93 Load result code 200 https://center-remonta56.ru/ustanovka-dverei.html\n",
            "Loaded http://ekodveri.in.ua/montazh-dverey.html\n",
            "6 94 Load result code 200 http://ekodveri.in.ua/montazh-dverey.html\n"
          ]
        },
        {
          "output_type": "stream",
          "name": "stderr",
          "text": [
            "/usr/local/lib/python3.10/dist-packages/urllib3/connectionpool.py:1056: InsecureRequestWarning: Unverified HTTPS request is being made to host 'bravo-dveri.ru'. Adding certificate verification is strongly advised. See: https://urllib3.readthedocs.io/en/1.26.x/advanced-usage.html#ssl-warnings\n",
            "  warnings.warn(\n"
          ]
        },
        {
          "output_type": "stream",
          "name": "stdout",
          "text": [
            "Loaded https://bravo-dveri.ru/services/ustanovka-dverei-pod-kliuch\n",
            "6 95 Load result code 200 https://bravo-dveri.ru/services/ustanovka-dverei-pod-kliuch\n"
          ]
        },
        {
          "output_type": "stream",
          "name": "stderr",
          "text": [
            "/usr/local/lib/python3.10/dist-packages/urllib3/connectionpool.py:1056: InsecureRequestWarning: Unverified HTTPS request is being made to host 'dveri-plus.com'. Adding certificate verification is strongly advised. See: https://urllib3.readthedocs.io/en/1.26.x/advanced-usage.html#ssl-warnings\n",
            "  warnings.warn(\n"
          ]
        },
        {
          "output_type": "stream",
          "name": "stdout",
          "text": [
            "Loaded https://dveri-plus.com/ustanovka/\n",
            "6 96 Load result code 200 https://dveri-plus.com/ustanovka/\n"
          ]
        },
        {
          "output_type": "stream",
          "name": "stderr",
          "text": [
            "/usr/local/lib/python3.10/dist-packages/urllib3/connectionpool.py:1056: InsecureRequestWarning: Unverified HTTPS request is being made to host 'domodedovo-dveri.ru'. Adding certificate verification is strongly advised. See: https://urllib3.readthedocs.io/en/1.26.x/advanced-usage.html#ssl-warnings\n",
            "  warnings.warn(\n"
          ]
        },
        {
          "output_type": "stream",
          "name": "stdout",
          "text": [
            "Loaded https://domodedovo-dveri.ru/services/ustanovka-dverey/\n",
            "6 97 Load result code 200 https://domodedovo-dveri.ru/services/ustanovka-dverey/\n"
          ]
        },
        {
          "output_type": "stream",
          "name": "stderr",
          "text": [
            "/usr/local/lib/python3.10/dist-packages/urllib3/connectionpool.py:1056: InsecureRequestWarning: Unverified HTTPS request is being made to host 'yadveri.ru'. Adding certificate verification is strongly advised. See: https://urllib3.readthedocs.io/en/1.26.x/advanced-usage.html#ssl-warnings\n",
            "  warnings.warn(\n"
          ]
        },
        {
          "output_type": "stream",
          "name": "stdout",
          "text": [
            "Loaded https://yadveri.ru/ustanovka.html\n",
            "6 98 Load result code 200 https://yadveri.ru/ustanovka.html\n"
          ]
        },
        {
          "output_type": "stream",
          "name": "stderr",
          "text": [
            "/usr/local/lib/python3.10/dist-packages/urllib3/connectionpool.py:1056: InsecureRequestWarning: Unverified HTTPS request is being made to host 'dvernoy-mir.ru'. Adding certificate verification is strongly advised. See: https://urllib3.readthedocs.io/en/1.26.x/advanced-usage.html#ssl-warnings\n",
            "  warnings.warn(\n"
          ]
        },
        {
          "output_type": "stream",
          "name": "stdout",
          "text": [
            "Loaded https://dvernoy-mir.ru/servis/montazh-metallicheskikh-dverey/\n",
            "6 99 Load result code 200 https://dvernoy-mir.ru/servis/montazh-metallicheskikh-dverey/\n"
          ]
        },
        {
          "output_type": "stream",
          "name": "stderr",
          "text": [
            "/usr/local/lib/python3.10/dist-packages/urllib3/connectionpool.py:1056: InsecureRequestWarning: Unverified HTTPS request is being made to host 'www.optic-city.ru'. Adding certificate verification is strongly advised. See: https://urllib3.readthedocs.io/en/1.26.x/advanced-usage.html#ssl-warnings\n",
            "  warnings.warn(\n"
          ]
        },
        {
          "output_type": "stream",
          "name": "stdout",
          "text": [
            "Loaded https://www.optic-city.ru/ochki_s_dioptrijami/remont_ochkov/\n",
            "7 0 Load result code 200 https://www.optic-city.ru/ochki_s_dioptrijami/remont_ochkov/\n"
          ]
        },
        {
          "output_type": "stream",
          "name": "stderr",
          "text": [
            "/usr/local/lib/python3.10/dist-packages/urllib3/connectionpool.py:1056: InsecureRequestWarning: Unverified HTTPS request is being made to host 'xn--b1afphffbbly0d.xn--p1ai'. Adding certificate verification is strongly advised. See: https://urllib3.readthedocs.io/en/1.26.x/advanced-usage.html#ssl-warnings\n",
            "  warnings.warn(\n"
          ]
        },
        {
          "output_type": "stream",
          "name": "stdout",
          "text": [
            "Loaded https://ремонточков.рф\n",
            "7 1 Load result code 200 https://ремонточков.рф\n"
          ]
        },
        {
          "output_type": "stream",
          "name": "stderr",
          "text": [
            "/usr/local/lib/python3.10/dist-packages/urllib3/connectionpool.py:1056: InsecureRequestWarning: Unverified HTTPS request is being made to host 'remont-ochkov.com'. Adding certificate verification is strongly advised. See: https://urllib3.readthedocs.io/en/1.26.x/advanced-usage.html#ssl-warnings\n",
            "  warnings.warn(\n"
          ]
        },
        {
          "output_type": "stream",
          "name": "stdout",
          "text": [
            "Loaded https://remont-ochkov.com\n",
            "7 2 Load result code 200 https://remont-ochkov.com\n"
          ]
        },
        {
          "output_type": "stream",
          "name": "stderr",
          "text": [
            "/usr/local/lib/python3.10/dist-packages/urllib3/connectionpool.py:1056: InsecureRequestWarning: Unverified HTTPS request is being made to host 'multi-master.ru'. Adding certificate verification is strongly advised. See: https://urllib3.readthedocs.io/en/1.26.x/advanced-usage.html#ssl-warnings\n",
            "  warnings.warn(\n"
          ]
        },
        {
          "output_type": "stream",
          "name": "stdout",
          "text": [
            "Loaded https://multi-master.ru/service/repair_of_glasses/\n",
            "7 3 Load result code 200 https://multi-master.ru/service/repair_of_glasses/\n"
          ]
        },
        {
          "output_type": "stream",
          "name": "stderr",
          "text": [
            "/usr/local/lib/python3.10/dist-packages/urllib3/connectionpool.py:1056: InsecureRequestWarning: Unverified HTTPS request is being made to host 'www.focus.su'. Adding certificate verification is strongly advised. See: https://urllib3.readthedocs.io/en/1.26.x/advanced-usage.html#ssl-warnings\n",
            "  warnings.warn(\n"
          ]
        },
        {
          "output_type": "stream",
          "name": "stdout",
          "text": [
            "Loaded https://www.focus.su/services/remont-ochkov/\n",
            "7 4 Load result code 200 https://www.focus.su/services/remont-ochkov/\n"
          ]
        },
        {
          "output_type": "stream",
          "name": "stderr",
          "text": [
            "/usr/local/lib/python3.10/dist-packages/urllib3/connectionpool.py:1056: InsecureRequestWarning: Unverified HTTPS request is being made to host 'www.zrenie.spb.ru'. Adding certificate verification is strongly advised. See: https://urllib3.readthedocs.io/en/1.26.x/advanced-usage.html#ssl-warnings\n",
            "  warnings.warn(\n"
          ]
        },
        {
          "output_type": "stream",
          "name": "stdout",
          "text": [
            "Loaded https://www.zrenie.spb.ru/uslugi/remont-ochkov/\n",
            "7 5 Load result code 200 https://www.zrenie.spb.ru/uslugi/remont-ochkov/\n"
          ]
        },
        {
          "output_type": "stream",
          "name": "stderr",
          "text": [
            "/usr/local/lib/python3.10/dist-packages/urllib3/connectionpool.py:1056: InsecureRequestWarning: Unverified HTTPS request is being made to host 'optilens.ru'. Adding certificate verification is strongly advised. See: https://urllib3.readthedocs.io/en/1.26.x/advanced-usage.html#ssl-warnings\n",
            "  warnings.warn(\n"
          ]
        },
        {
          "output_type": "stream",
          "name": "stdout",
          "text": [
            "Loaded https://optilens.ru/optical_stores/uslugi_masterskoy/remont_ochkov/\n",
            "7 6 Load result code 200 https://optilens.ru/optical_stores/uslugi_masterskoy/remont_ochkov/\n"
          ]
        },
        {
          "output_type": "stream",
          "name": "stderr",
          "text": [
            "/usr/local/lib/python3.10/dist-packages/urllib3/connectionpool.py:1056: InsecureRequestWarning: Unverified HTTPS request is being made to host 'optik-express.ru'. Adding certificate verification is strongly advised. See: https://urllib3.readthedocs.io/en/1.26.x/advanced-usage.html#ssl-warnings\n",
            "  warnings.warn(\n"
          ]
        },
        {
          "output_type": "stream",
          "name": "stdout",
          "text": [
            "Loaded https://optik-express.ru/service/izgotovlenie-i-remont-ochkov/\n",
            "7 7 Load result code 200 https://optik-express.ru/service/izgotovlenie-i-remont-ochkov/\n"
          ]
        },
        {
          "output_type": "stream",
          "name": "stderr",
          "text": [
            "/usr/local/lib/python3.10/dist-packages/urllib3/connectionpool.py:1056: InsecureRequestWarning: Unverified HTTPS request is being made to host 'moyvzglyad.ru'. Adding certificate verification is strongly advised. See: https://urllib3.readthedocs.io/en/1.26.x/advanced-usage.html#ssl-warnings\n",
            "  warnings.warn(\n"
          ]
        },
        {
          "output_type": "stream",
          "name": "stdout",
          "text": [
            "Loaded https://moyvzglyad.ru/services/remont-ochkov/\n",
            "7 8 Load result code 200 https://moyvzglyad.ru/services/remont-ochkov/\n"
          ]
        },
        {
          "output_type": "stream",
          "name": "stderr",
          "text": [
            "/usr/local/lib/python3.10/dist-packages/urllib3/connectionpool.py:1056: InsecureRequestWarning: Unverified HTTPS request is being made to host 'optimistoptica.ru'. Adding certificate verification is strongly advised. See: https://urllib3.readthedocs.io/en/1.26.x/advanced-usage.html#ssl-warnings\n",
            "  warnings.warn(\n"
          ]
        },
        {
          "output_type": "stream",
          "name": "stdout",
          "text": [
            "Loaded https://optimistoptica.ru/tovary-i-uslugi/uslugi/remont-ochkov/\n",
            "7 9 Load result code 200 https://optimistoptica.ru/tovary-i-uslugi/uslugi/remont-ochkov/\n"
          ]
        },
        {
          "output_type": "stream",
          "name": "stderr",
          "text": [
            "/usr/local/lib/python3.10/dist-packages/urllib3/connectionpool.py:1056: InsecureRequestWarning: Unverified HTTPS request is being made to host 'prozrenie-optica.ru'. Adding certificate verification is strongly advised. See: https://urllib3.readthedocs.io/en/1.26.x/advanced-usage.html#ssl-warnings\n",
            "  warnings.warn(\n"
          ]
        },
        {
          "output_type": "stream",
          "name": "stdout",
          "text": [
            "Loaded https://prozrenie-optica.ru/remont-ochkov\n",
            "7 10 Load result code 200 https://prozrenie-optica.ru/remont-ochkov\n"
          ]
        },
        {
          "output_type": "stream",
          "name": "stderr",
          "text": [
            "/usr/local/lib/python3.10/dist-packages/urllib3/connectionpool.py:1056: InsecureRequestWarning: Unverified HTTPS request is being made to host 'tochka-zrenia.ru'. Adding certificate verification is strongly advised. See: https://urllib3.readthedocs.io/en/1.26.x/advanced-usage.html#ssl-warnings\n",
            "  warnings.warn(\n"
          ]
        },
        {
          "output_type": "stream",
          "name": "stdout",
          "text": [
            "Loaded https://tochka-zrenia.ru/medicinskie-uslugi/remont-ochkov/\n",
            "7 11 Load result code 200 https://tochka-zrenia.ru/medicinskie-uslugi/remont-ochkov/\n",
            "Load error exception\n",
            "7 12 Load result code -1 http://dombyta48.ru/remont-ochkov\n"
          ]
        },
        {
          "output_type": "stream",
          "name": "stderr",
          "text": [
            "/usr/local/lib/python3.10/dist-packages/urllib3/connectionpool.py:1056: InsecureRequestWarning: Unverified HTTPS request is being made to host 'optic-lab.ru'. Adding certificate verification is strongly advised. See: https://urllib3.readthedocs.io/en/1.26.x/advanced-usage.html#ssl-warnings\n",
            "  warnings.warn(\n"
          ]
        },
        {
          "output_type": "stream",
          "name": "stdout",
          "text": [
            "Loaded https://optic-lab.ru/polezno-znat/remont-opravy-dlya-ochkov\n",
            "7 13 Load result code 200 https://optic-lab.ru/polezno-znat/remont-opravy-dlya-ochkov\n"
          ]
        },
        {
          "output_type": "stream",
          "name": "stderr",
          "text": [
            "/usr/local/lib/python3.10/dist-packages/urllib3/connectionpool.py:1056: InsecureRequestWarning: Unverified HTTPS request is being made to host 'optika-yasno.ru'. Adding certificate verification is strongly advised. See: https://urllib3.readthedocs.io/en/1.26.x/advanced-usage.html#ssl-warnings\n",
            "  warnings.warn(\n"
          ]
        },
        {
          "output_type": "stream",
          "name": "stdout",
          "text": [
            "Loaded https://optika-yasno.ru/blog/remont-ochkov-v-optike-yasno.html\n",
            "7 14 Load result code 200 https://optika-yasno.ru/blog/remont-ochkov-v-optike-yasno.html\n"
          ]
        },
        {
          "output_type": "stream",
          "name": "stderr",
          "text": [
            "/usr/local/lib/python3.10/dist-packages/urllib3/connectionpool.py:1056: InsecureRequestWarning: Unverified HTTPS request is being made to host 'uraloptika.ru'. Adding certificate verification is strongly advised. See: https://urllib3.readthedocs.io/en/1.26.x/advanced-usage.html#ssl-warnings\n",
            "  warnings.warn(\n"
          ]
        },
        {
          "output_type": "stream",
          "name": "stdout",
          "text": [
            "Loaded https://uraloptika.ru/services/remont-ochkov-v-studii-uraloptika/\n",
            "7 15 Load result code 200 https://uraloptika.ru/services/remont-ochkov-v-studii-uraloptika/\n"
          ]
        },
        {
          "output_type": "stream",
          "name": "stderr",
          "text": [
            "/usr/local/lib/python3.10/dist-packages/urllib3/connectionpool.py:1056: InsecureRequestWarning: Unverified HTTPS request is being made to host 'luxoptika43.ru'. Adding certificate verification is strongly advised. See: https://urllib3.readthedocs.io/en/1.26.x/advanced-usage.html#ssl-warnings\n",
            "  warnings.warn(\n"
          ]
        },
        {
          "output_type": "stream",
          "name": "stdout",
          "text": [
            "Loaded https://luxoptika43.ru/product-category/ремонт-очков/\n",
            "7 16 Load result code 200 https://luxoptika43.ru/product-category/ремонт-очков/\n"
          ]
        },
        {
          "output_type": "stream",
          "name": "stderr",
          "text": [
            "/usr/local/lib/python3.10/dist-packages/urllib3/connectionpool.py:1056: InsecureRequestWarning: Unverified HTTPS request is being made to host 'www.xn----7sbbbjnxndzomhpuf5s.xn--p1ai'. Adding certificate verification is strongly advised. See: https://urllib3.readthedocs.io/en/1.26.x/advanced-usage.html#ssl-warnings\n",
            "  warnings.warn(\n",
            "/usr/local/lib/python3.10/dist-packages/urllib3/connectionpool.py:1056: InsecureRequestWarning: Unverified HTTPS request is being made to host 'www.xn----7sbbbjnxndzomhpuf5s.xn--p1ai'. Adding certificate verification is strongly advised. See: https://urllib3.readthedocs.io/en/1.26.x/advanced-usage.html#ssl-warnings\n",
            "  warnings.warn(\n",
            "/usr/local/lib/python3.10/dist-packages/urllib3/connectionpool.py:1056: InsecureRequestWarning: Unverified HTTPS request is being made to host 'www.xn----7sbbbjnxndzomhpuf5s.xn--p1ai'. Adding certificate verification is strongly advised. See: https://urllib3.readthedocs.io/en/1.26.x/advanced-usage.html#ssl-warnings\n",
            "  warnings.warn(\n"
          ]
        },
        {
          "output_type": "stream",
          "name": "stdout",
          "text": [
            "Loaded https://www.губернская-оптика.рф/tovary/k-10771339-remont_ochkov\n",
            "7 17 Load result code 200 https://www.губернская-оптика.рф/tovary/k-10771339-remont_ochkov\n"
          ]
        },
        {
          "output_type": "stream",
          "name": "stderr",
          "text": [
            "/usr/local/lib/python3.10/dist-packages/urllib3/connectionpool.py:1056: InsecureRequestWarning: Unverified HTTPS request is being made to host 'excimerstore.ru'. Adding certificate verification is strongly advised. See: https://urllib3.readthedocs.io/en/1.26.x/advanced-usage.html#ssl-warnings\n",
            "  warnings.warn(\n"
          ]
        },
        {
          "output_type": "stream",
          "name": "stdout",
          "text": [
            "Loaded https://excimerstore.ru/services/izgotovlenie-i-remont-ochkov/remont-ochkov/\n",
            "7 18 Load result code 200 https://excimerstore.ru/services/izgotovlenie-i-remont-ochkov/remont-ochkov/\n"
          ]
        },
        {
          "output_type": "stream",
          "name": "stderr",
          "text": [
            "/usr/local/lib/python3.10/dist-packages/urllib3/connectionpool.py:1056: InsecureRequestWarning: Unverified HTTPS request is being made to host 'staroptic.ru'. Adding certificate verification is strongly advised. See: https://urllib3.readthedocs.io/en/1.26.x/advanced-usage.html#ssl-warnings\n",
            "  warnings.warn(\n"
          ]
        },
        {
          "output_type": "stream",
          "name": "stdout",
          "text": [
            "Loaded https://staroptic.ru/remont-ochkov/\n",
            "7 19 Load result code 200 https://staroptic.ru/remont-ochkov/\n"
          ]
        },
        {
          "output_type": "stream",
          "name": "stderr",
          "text": [
            "/usr/local/lib/python3.10/dist-packages/urllib3/connectionpool.py:1056: InsecureRequestWarning: Unverified HTTPS request is being made to host 'o--o.su'. Adding certificate verification is strongly advised. See: https://urllib3.readthedocs.io/en/1.26.x/advanced-usage.html#ssl-warnings\n",
            "  warnings.warn(\n"
          ]
        },
        {
          "output_type": "stream",
          "name": "stdout",
          "text": [
            "Loaded https://o--o.su/service/srochnyy-remont-ochkov/\n",
            "7 20 Load result code 200 https://o--o.su/service/srochnyy-remont-ochkov/\n"
          ]
        },
        {
          "output_type": "stream",
          "name": "stderr",
          "text": [
            "/usr/local/lib/python3.10/dist-packages/urllib3/connectionpool.py:1056: InsecureRequestWarning: Unverified HTTPS request is being made to host 'xn----9sbelnd5a0ahem3d.xn--p1ai'. Adding certificate verification is strongly advised. See: https://urllib3.readthedocs.io/en/1.26.x/advanced-usage.html#ssl-warnings\n",
            "  warnings.warn(\n"
          ]
        },
        {
          "output_type": "stream",
          "name": "stdout",
          "text": [
            "Loaded https://шубин-сервис.рф/remont-ochkovykh-oprav\n",
            "7 21 Load result code 200 https://шубин-сервис.рф/remont-ochkovykh-oprav\n"
          ]
        },
        {
          "output_type": "stream",
          "name": "stderr",
          "text": [
            "/usr/local/lib/python3.10/dist-packages/urllib3/connectionpool.py:1056: InsecureRequestWarning: Unverified HTTPS request is being made to host 'gel-optika.ru'. Adding certificate verification is strongly advised. See: https://urllib3.readthedocs.io/en/1.26.x/advanced-usage.html#ssl-warnings\n",
            "  warnings.warn(\n"
          ]
        },
        {
          "output_type": "stream",
          "name": "stdout",
          "text": [
            "Loaded https://gel-optika.ru/remont-ochkov/\n",
            "7 22 Load result code 200 https://gel-optika.ru/remont-ochkov/\n"
          ]
        },
        {
          "output_type": "stream",
          "name": "stderr",
          "text": [
            "/usr/local/lib/python3.10/dist-packages/urllib3/connectionpool.py:1056: InsecureRequestWarning: Unverified HTTPS request is being made to host 'xn--e1aaazdgecprh.xn--p1ai'. Adding certificate verification is strongly advised. See: https://urllib3.readthedocs.io/en/1.26.x/advanced-usage.html#ssl-warnings\n",
            "  warnings.warn(\n"
          ]
        },
        {
          "output_type": "stream",
          "name": "stdout",
          "text": [
            "Loaded https://метеоремонт.рф\n",
            "7 23 Load result code 200 https://метеоремонт.рф\n"
          ]
        },
        {
          "output_type": "stream",
          "name": "stderr",
          "text": [
            "/usr/local/lib/python3.10/dist-packages/urllib3/connectionpool.py:1056: InsecureRequestWarning: Unverified HTTPS request is being made to host 'multi-service.pro'. Adding certificate verification is strongly advised. See: https://urllib3.readthedocs.io/en/1.26.x/advanced-usage.html#ssl-warnings\n",
            "  warnings.warn(\n"
          ]
        },
        {
          "output_type": "stream",
          "name": "stdout",
          "text": [
            "Loaded https://multi-service.pro/remont-ochkov/\n",
            "7 24 Load result code 200 https://multi-service.pro/remont-ochkov/\n"
          ]
        },
        {
          "output_type": "stream",
          "name": "stderr",
          "text": [
            "/usr/local/lib/python3.10/dist-packages/urllib3/connectionpool.py:1056: InsecureRequestWarning: Unverified HTTPS request is being made to host 'optika-tz.ru'. Adding certificate verification is strongly advised. See: https://urllib3.readthedocs.io/en/1.26.x/advanced-usage.html#ssl-warnings\n",
            "  warnings.warn(\n"
          ]
        },
        {
          "output_type": "stream",
          "name": "stdout",
          "text": [
            "Loaded https://optika-tz.ru/uslugi/the-production-of-glasses-copy-from-03062019-135445/\n",
            "7 25 Load result code 200 https://optika-tz.ru/uslugi/the-production-of-glasses-copy-from-03062019-135445/\n"
          ]
        },
        {
          "output_type": "stream",
          "name": "stderr",
          "text": [
            "/usr/local/lib/python3.10/dist-packages/urllib3/connectionpool.py:1056: InsecureRequestWarning: Unverified HTTPS request is being made to host 'vizhuvse.ru'. Adding certificate verification is strongly advised. See: https://urllib3.readthedocs.io/en/1.26.x/advanced-usage.html#ssl-warnings\n",
            "  warnings.warn(\n"
          ]
        },
        {
          "output_type": "stream",
          "name": "stdout",
          "text": [
            "Loaded https://vizhuvse.ru/masterskaya/\n",
            "7 26 Load result code 200 https://vizhuvse.ru/masterskaya/\n"
          ]
        },
        {
          "output_type": "stream",
          "name": "stderr",
          "text": [
            "/usr/local/lib/python3.10/dist-packages/urllib3/connectionpool.py:1056: InsecureRequestWarning: Unverified HTTPS request is being made to host 'lasergrand.ru'. Adding certificate verification is strongly advised. See: https://urllib3.readthedocs.io/en/1.26.x/advanced-usage.html#ssl-warnings\n",
            "  warnings.warn(\n"
          ]
        },
        {
          "output_type": "stream",
          "name": "stdout",
          "text": [
            "Loaded https://lasergrand.ru/remont-ochkov-silhouette/\n",
            "7 27 Load result code 200 https://lasergrand.ru/remont-ochkov-silhouette/\n"
          ]
        },
        {
          "output_type": "stream",
          "name": "stderr",
          "text": [
            "/usr/local/lib/python3.10/dist-packages/urllib3/connectionpool.py:1056: InsecureRequestWarning: Unverified HTTPS request is being made to host 'focusoptic.ru'. Adding certificate verification is strongly advised. See: https://urllib3.readthedocs.io/en/1.26.x/advanced-usage.html#ssl-warnings\n",
            "  warnings.warn(\n"
          ]
        },
        {
          "output_type": "stream",
          "name": "stdout",
          "text": [
            "Loaded https://focusoptic.ru/services/remont-ochkov/\n",
            "7 28 Load result code 200 https://focusoptic.ru/services/remont-ochkov/\n"
          ]
        },
        {
          "output_type": "stream",
          "name": "stderr",
          "text": [
            "/usr/local/lib/python3.10/dist-packages/urllib3/connectionpool.py:1056: InsecureRequestWarning: Unverified HTTPS request is being made to host 'xn--b1afphffbbly0d.xn--p1ai'. Adding certificate verification is strongly advised. See: https://urllib3.readthedocs.io/en/1.26.x/advanced-usage.html#ssl-warnings\n",
            "  warnings.warn(\n"
          ]
        },
        {
          "output_type": "stream",
          "name": "stdout",
          "text": [
            "Loaded https://xn--b1afphffbbly0d.xn--p1ai/\n",
            "7 29 Load result code 200 https://xn--b1afphffbbly0d.xn--p1ai/\n"
          ]
        },
        {
          "output_type": "stream",
          "name": "stderr",
          "text": [
            "/usr/local/lib/python3.10/dist-packages/urllib3/connectionpool.py:1056: InsecureRequestWarning: Unverified HTTPS request is being made to host 'www.linzshopnn.ru'. Adding certificate verification is strongly advised. See: https://urllib3.readthedocs.io/en/1.26.x/advanced-usage.html#ssl-warnings\n",
            "  warnings.warn(\n"
          ]
        },
        {
          "output_type": "stream",
          "name": "stdout",
          "text": [
            "Loaded https://www.linzshopnn.ru/\n",
            "7 30 Load result code 200 https://www.linzshopnn.ru/\n"
          ]
        },
        {
          "output_type": "stream",
          "name": "stderr",
          "text": [
            "/usr/local/lib/python3.10/dist-packages/urllib3/connectionpool.py:1056: InsecureRequestWarning: Unverified HTTPS request is being made to host 'happylook.ru'. Adding certificate verification is strongly advised. See: https://urllib3.readthedocs.io/en/1.26.x/advanced-usage.html#ssl-warnings\n",
            "  warnings.warn(\n"
          ]
        },
        {
          "output_type": "stream",
          "name": "stdout",
          "text": [
            "Loaded https://happylook.ru/uslugi/izgotovlenie-i-remont-ochkov/\n",
            "7 31 Load result code 200 https://happylook.ru/uslugi/izgotovlenie-i-remont-ochkov/\n"
          ]
        },
        {
          "output_type": "stream",
          "name": "stderr",
          "text": [
            "/usr/local/lib/python3.10/dist-packages/urllib3/connectionpool.py:1056: InsecureRequestWarning: Unverified HTTPS request is being made to host 'optic-center.ru'. Adding certificate verification is strongly advised. See: https://urllib3.readthedocs.io/en/1.26.x/advanced-usage.html#ssl-warnings\n",
            "  warnings.warn(\n"
          ]
        },
        {
          "output_type": "stream",
          "name": "stdout",
          "text": [
            "Loaded https://optic-center.ru/optic/services/izgotovlenie-i-remont-ochkov/\n",
            "7 32 Load result code 200 https://optic-center.ru/optic/services/izgotovlenie-i-remont-ochkov/\n"
          ]
        },
        {
          "output_type": "stream",
          "name": "stderr",
          "text": [
            "/usr/local/lib/python3.10/dist-packages/urllib3/connectionpool.py:1056: InsecureRequestWarning: Unverified HTTPS request is being made to host 'www.opticmall.ru'. Adding certificate verification is strongly advised. See: https://urllib3.readthedocs.io/en/1.26.x/advanced-usage.html#ssl-warnings\n",
            "  warnings.warn(\n"
          ]
        },
        {
          "output_type": "stream",
          "name": "stdout",
          "text": [
            "Loaded https://www.opticmall.ru/repair-glasses\n",
            "7 33 Load result code 200 https://www.opticmall.ru/repair-glasses\n"
          ]
        },
        {
          "output_type": "stream",
          "name": "stderr",
          "text": [
            "/usr/local/lib/python3.10/dist-packages/urllib3/connectionpool.py:1056: InsecureRequestWarning: Unverified HTTPS request is being made to host 'pereoptika.ee'. Adding certificate verification is strongly advised. See: https://urllib3.readthedocs.io/en/1.26.x/advanced-usage.html#ssl-warnings\n",
            "  warnings.warn(\n"
          ]
        },
        {
          "output_type": "stream",
          "name": "stdout",
          "text": [
            "Loaded https://pereoptika.ee/ru/uslugi/remont-ochkov/\n",
            "7 34 Load result code 200 https://pereoptika.ee/ru/uslugi/remont-ochkov/\n"
          ]
        },
        {
          "output_type": "stream",
          "name": "stderr",
          "text": [
            "/usr/local/lib/python3.10/dist-packages/urllib3/connectionpool.py:1056: InsecureRequestWarning: Unverified HTTPS request is being made to host 'ochkarik.ru'. Adding certificate verification is strongly advised. See: https://urllib3.readthedocs.io/en/1.26.x/advanced-usage.html#ssl-warnings\n",
            "  warnings.warn(\n"
          ]
        },
        {
          "output_type": "stream",
          "name": "stdout",
          "text": [
            "Load error https://ochkarik.ru/besplatnyj-remont-ochkov-po-garantii/ 403\n",
            "7 35 Load result code 403 https://ochkarik.ru/besplatnyj-remont-ochkov-po-garantii/\n"
          ]
        },
        {
          "output_type": "stream",
          "name": "stderr",
          "text": [
            "/usr/local/lib/python3.10/dist-packages/urllib3/connectionpool.py:1056: InsecureRequestWarning: Unverified HTTPS request is being made to host 't-zr.ru'. Adding certificate verification is strongly advised. See: https://urllib3.readthedocs.io/en/1.26.x/advanced-usage.html#ssl-warnings\n",
            "  warnings.warn(\n"
          ]
        },
        {
          "output_type": "stream",
          "name": "stdout",
          "text": [
            "Loaded https://t-zr.ru/saloons/offers/remont-ochkov/\n",
            "7 36 Load result code 200 https://t-zr.ru/saloons/offers/remont-ochkov/\n"
          ]
        },
        {
          "output_type": "stream",
          "name": "stderr",
          "text": [
            "/usr/local/lib/python3.10/dist-packages/urllib3/connectionpool.py:1056: InsecureRequestWarning: Unverified HTTPS request is being made to host 'stiloptika.ru'. Adding certificate verification is strongly advised. See: https://urllib3.readthedocs.io/en/1.26.x/advanced-usage.html#ssl-warnings\n",
            "  warnings.warn(\n"
          ]
        },
        {
          "output_type": "stream",
          "name": "stdout",
          "text": [
            "Loaded https://stiloptika.ru/repair-optics/\n",
            "7 37 Load result code 200 https://stiloptika.ru/repair-optics/\n"
          ]
        },
        {
          "output_type": "stream",
          "name": "stderr",
          "text": [
            "/usr/local/lib/python3.10/dist-packages/urllib3/connectionpool.py:1056: InsecureRequestWarning: Unverified HTTPS request is being made to host 'ochki1.ru'. Adding certificate verification is strongly advised. See: https://urllib3.readthedocs.io/en/1.26.x/advanced-usage.html#ssl-warnings\n",
            "  warnings.warn(\n"
          ]
        },
        {
          "output_type": "stream",
          "name": "stdout",
          "text": [
            "Loaded https://ochki1.ru/services/remont-ochkov/\n",
            "7 38 Load result code 200 https://ochki1.ru/services/remont-ochkov/\n"
          ]
        },
        {
          "output_type": "stream",
          "name": "stderr",
          "text": [
            "/usr/local/lib/python3.10/dist-packages/urllib3/connectionpool.py:1056: InsecureRequestWarning: Unverified HTTPS request is being made to host 'eyekraft.ru'. Adding certificate verification is strongly advised. See: https://urllib3.readthedocs.io/en/1.26.x/advanced-usage.html#ssl-warnings\n",
            "  warnings.warn(\n"
          ]
        },
        {
          "output_type": "stream",
          "name": "stdout",
          "text": [
            "Loaded https://eyekraft.ru/uslugi\n",
            "7 39 Load result code 200 https://eyekraft.ru/uslugi\n"
          ]
        },
        {
          "output_type": "stream",
          "name": "stderr",
          "text": [
            "/usr/local/lib/python3.10/dist-packages/urllib3/connectionpool.py:1056: InsecureRequestWarning: Unverified HTTPS request is being made to host 'kord-optika.ru'. Adding certificate verification is strongly advised. See: https://urllib3.readthedocs.io/en/1.26.x/advanced-usage.html#ssl-warnings\n",
            "  warnings.warn(\n"
          ]
        },
        {
          "output_type": "stream",
          "name": "stdout",
          "text": [
            "Loaded https://kord-optika.ru/services/remont\n",
            "7 40 Load result code 200 https://kord-optika.ru/services/remont\n"
          ]
        },
        {
          "output_type": "stream",
          "name": "stderr",
          "text": [
            "/usr/local/lib/python3.10/dist-packages/urllib3/connectionpool.py:1056: InsecureRequestWarning: Unverified HTTPS request is being made to host 'tochka-zrenia.ru'. Adding certificate verification is strongly advised. See: https://urllib3.readthedocs.io/en/1.26.x/advanced-usage.html#ssl-warnings\n",
            "  warnings.warn(\n"
          ]
        },
        {
          "output_type": "stream",
          "name": "stdout",
          "text": [
            "Loaded https://tochka-zrenia.ru/glavnaya/remont-ochkov-prajs/\n",
            "7 41 Load result code 200 https://tochka-zrenia.ru/glavnaya/remont-ochkov-prajs/\n"
          ]
        },
        {
          "output_type": "stream",
          "name": "stderr",
          "text": [
            "/usr/local/lib/python3.10/dist-packages/urllib3/connectionpool.py:1056: InsecureRequestWarning: Unverified HTTPS request is being made to host 'optikapodolsk.ru'. Adding certificate verification is strongly advised. See: https://urllib3.readthedocs.io/en/1.26.x/advanced-usage.html#ssl-warnings\n",
            "  warnings.warn(\n"
          ]
        },
        {
          "output_type": "stream",
          "name": "stdout",
          "text": [
            "Loaded https://optikapodolsk.ru/masterskaja/remont-ochkov/\n",
            "7 42 Load result code 200 https://optikapodolsk.ru/masterskaja/remont-ochkov/\n"
          ]
        },
        {
          "output_type": "stream",
          "name": "stderr",
          "text": [
            "/usr/local/lib/python3.10/dist-packages/urllib3/connectionpool.py:1056: InsecureRequestWarning: Unverified HTTPS request is being made to host 'sun-season.ru'. Adding certificate verification is strongly advised. See: https://urllib3.readthedocs.io/en/1.26.x/advanced-usage.html#ssl-warnings\n",
            "  warnings.warn(\n"
          ]
        },
        {
          "output_type": "stream",
          "name": "stdout",
          "text": [
            "Loaded https://sun-season.ru/servisnoe-obsluzhivanie/\n",
            "7 43 Load result code 200 https://sun-season.ru/servisnoe-obsluzhivanie/\n"
          ]
        },
        {
          "output_type": "stream",
          "name": "stderr",
          "text": [
            "/usr/local/lib/python3.10/dist-packages/urllib3/connectionpool.py:1056: InsecureRequestWarning: Unverified HTTPS request is being made to host 'polyoptica.ru'. Adding certificate verification is strongly advised. See: https://urllib3.readthedocs.io/en/1.26.x/advanced-usage.html#ssl-warnings\n",
            "  warnings.warn(\n"
          ]
        },
        {
          "output_type": "stream",
          "name": "stdout",
          "text": [
            "Loaded https://polyoptica.ru/services/repair-of-glasses/\n",
            "7 44 Load result code 200 https://polyoptica.ru/services/repair-of-glasses/\n"
          ]
        },
        {
          "output_type": "stream",
          "name": "stderr",
          "text": [
            "/usr/local/lib/python3.10/dist-packages/urllib3/connectionpool.py:1056: InsecureRequestWarning: Unverified HTTPS request is being made to host 'www.vidial.ru'. Adding certificate verification is strongly advised. See: https://urllib3.readthedocs.io/en/1.26.x/advanced-usage.html#ssl-warnings\n",
            "  warnings.warn(\n"
          ]
        },
        {
          "output_type": "stream",
          "name": "stdout",
          "text": [
            "Loaded https://www.vidial.ru/masterskaya/prays-list/\n",
            "7 45 Load result code 200 https://www.vidial.ru/masterskaya/prays-list/\n"
          ]
        },
        {
          "output_type": "stream",
          "name": "stderr",
          "text": [
            "/usr/local/lib/python3.10/dist-packages/urllib3/connectionpool.py:1056: InsecureRequestWarning: Unverified HTTPS request is being made to host 'goldlazer.ru'. Adding certificate verification is strongly advised. See: https://urllib3.readthedocs.io/en/1.26.x/advanced-usage.html#ssl-warnings\n",
            "  warnings.warn(\n"
          ]
        },
        {
          "output_type": "stream",
          "name": "stdout",
          "text": [
            "Loaded https://goldlazer.ru/remont-ochkov/\n",
            "7 46 Load result code 200 https://goldlazer.ru/remont-ochkov/\n"
          ]
        },
        {
          "output_type": "stream",
          "name": "stderr",
          "text": [
            "/usr/local/lib/python3.10/dist-packages/urllib3/connectionpool.py:1056: InsecureRequestWarning: Unverified HTTPS request is being made to host 'lensservice.ru'. Adding certificate verification is strongly advised. See: https://urllib3.readthedocs.io/en/1.26.x/advanced-usage.html#ssl-warnings\n",
            "  warnings.warn(\n"
          ]
        },
        {
          "output_type": "stream",
          "name": "stdout",
          "text": [
            "Loaded https://lensservice.ru/nashi-uslugi/remont-ochkov/\n",
            "7 47 Load result code 200 https://lensservice.ru/nashi-uslugi/remont-ochkov/\n"
          ]
        },
        {
          "output_type": "stream",
          "name": "stderr",
          "text": [
            "/usr/local/lib/python3.10/dist-packages/urllib3/connectionpool.py:1056: InsecureRequestWarning: Unverified HTTPS request is being made to host 'www.svlazer.ru'. Adding certificate verification is strongly advised. See: https://urllib3.readthedocs.io/en/1.26.x/advanced-usage.html#ssl-warnings\n",
            "  warnings.warn(\n"
          ]
        },
        {
          "output_type": "stream",
          "name": "stdout",
          "text": [
            "Loaded https://www.svlazer.ru/\n",
            "7 48 Load result code 200 https://www.svlazer.ru/\n"
          ]
        },
        {
          "output_type": "stream",
          "name": "stderr",
          "text": [
            "/usr/local/lib/python3.10/dist-packages/urllib3/connectionpool.py:1056: InsecureRequestWarning: Unverified HTTPS request is being made to host 'farmacia-rm.ru'. Adding certificate verification is strongly advised. See: https://urllib3.readthedocs.io/en/1.26.x/advanced-usage.html#ssl-warnings\n",
            "  warnings.warn(\n"
          ]
        },
        {
          "output_type": "stream",
          "name": "stdout",
          "text": [
            "Loaded https://farmacia-rm.ru/izgotavlivaem-i-proizvodim-remont-ochkov.html\n",
            "7 49 Load result code 200 https://farmacia-rm.ru/izgotavlivaem-i-proizvodim-remont-ochkov.html\n"
          ]
        },
        {
          "output_type": "stream",
          "name": "stderr",
          "text": [
            "/usr/local/lib/python3.10/dist-packages/urllib3/connectionpool.py:1056: InsecureRequestWarning: Unverified HTTPS request is being made to host 'optic58.ru'. Adding certificate verification is strongly advised. See: https://urllib3.readthedocs.io/en/1.26.x/advanced-usage.html#ssl-warnings\n",
            "  warnings.warn(\n"
          ]
        },
        {
          "output_type": "stream",
          "name": "stdout",
          "text": [
            "Loaded https://optic58.ru/novosti/stati/remont-ochkov-lyuboy-slozhnosti.php\n",
            "7 50 Load result code 200 https://optic58.ru/novosti/stati/remont-ochkov-lyuboy-slozhnosti.php\n"
          ]
        },
        {
          "output_type": "stream",
          "name": "stderr",
          "text": [
            "/usr/local/lib/python3.10/dist-packages/urllib3/connectionpool.py:1056: InsecureRequestWarning: Unverified HTTPS request is being made to host 'ko39.ru'. Adding certificate verification is strongly advised. See: https://urllib3.readthedocs.io/en/1.26.x/advanced-usage.html#ssl-warnings\n",
            "  warnings.warn(\n"
          ]
        },
        {
          "output_type": "stream",
          "name": "stdout",
          "text": [
            "Loaded https://ko39.ru/services/remont/\n",
            "7 51 Load result code 200 https://ko39.ru/services/remont/\n"
          ]
        },
        {
          "output_type": "stream",
          "name": "stderr",
          "text": [
            "/usr/local/lib/python3.10/dist-packages/urllib3/connectionpool.py:1056: InsecureRequestWarning: Unverified HTTPS request is being made to host 'www.optika-8.ru'. Adding certificate verification is strongly advised. See: https://urllib3.readthedocs.io/en/1.26.x/advanced-usage.html#ssl-warnings\n",
            "  warnings.warn(\n"
          ]
        },
        {
          "output_type": "stream",
          "name": "stdout",
          "text": [
            "Loaded https://www.optika-8.ru/services/lab/remont-ochkov/\n",
            "7 52 Load result code 200 https://www.optika-8.ru/services/lab/remont-ochkov/\n"
          ]
        },
        {
          "output_type": "stream",
          "name": "stderr",
          "text": [
            "/usr/local/lib/python3.10/dist-packages/urllib3/connectionpool.py:1056: InsecureRequestWarning: Unverified HTTPS request is being made to host 'optika34.ru'. Adding certificate verification is strongly advised. See: https://urllib3.readthedocs.io/en/1.26.x/advanced-usage.html#ssl-warnings\n",
            "  warnings.warn(\n"
          ]
        },
        {
          "output_type": "stream",
          "name": "stdout",
          "text": [
            "Loaded https://optika34.ru/products/category/remont-ochkov\n",
            "7 53 Load result code 200 https://optika34.ru/products/category/remont-ochkov\n"
          ]
        },
        {
          "output_type": "stream",
          "name": "stderr",
          "text": [
            "/usr/local/lib/python3.10/dist-packages/urllib3/connectionpool.py:1056: InsecureRequestWarning: Unverified HTTPS request is being made to host 'okoplus.ru'. Adding certificate verification is strongly advised. See: https://urllib3.readthedocs.io/en/1.26.x/advanced-usage.html#ssl-warnings\n",
            "  warnings.warn(\n"
          ]
        },
        {
          "output_type": "stream",
          "name": "stdout",
          "text": [
            "Loaded https://okoplus.ru/service/izgotovlenie-i-remont-ochkov/\n",
            "7 54 Load result code 200 https://okoplus.ru/service/izgotovlenie-i-remont-ochkov/\n"
          ]
        },
        {
          "output_type": "stream",
          "name": "stderr",
          "text": [
            "/usr/local/lib/python3.10/dist-packages/urllib3/connectionpool.py:1056: InsecureRequestWarning: Unverified HTTPS request is being made to host 'linza.ru'. Adding certificate verification is strongly advised. See: https://urllib3.readthedocs.io/en/1.26.x/advanced-usage.html#ssl-warnings\n",
            "  warnings.warn(\n"
          ]
        },
        {
          "output_type": "stream",
          "name": "stdout",
          "text": [
            "Loaded https://linza.ru/company/remont-ochkov\n",
            "7 55 Load result code 200 https://linza.ru/company/remont-ochkov\n"
          ]
        },
        {
          "output_type": "stream",
          "name": "stderr",
          "text": [
            "/usr/local/lib/python3.10/dist-packages/urllib3/connectionpool.py:1056: InsecureRequestWarning: Unverified HTTPS request is being made to host 'lasergrand.ru'. Adding certificate verification is strongly advised. See: https://urllib3.readthedocs.io/en/1.26.x/advanced-usage.html#ssl-warnings\n",
            "  warnings.warn(\n"
          ]
        },
        {
          "output_type": "stream",
          "name": "stdout",
          "text": [
            "Loaded https://lasergrand.ru/preyskurant-na-remont-ochkov/\n",
            "7 56 Load result code 200 https://lasergrand.ru/preyskurant-na-remont-ochkov/\n"
          ]
        },
        {
          "output_type": "stream",
          "name": "stderr",
          "text": [
            "/usr/local/lib/python3.10/dist-packages/urllib3/connectionpool.py:1056: InsecureRequestWarning: Unverified HTTPS request is being made to host 'spb.myglazko.ru'. Adding certificate verification is strongly advised. See: https://urllib3.readthedocs.io/en/1.26.x/advanced-usage.html#ssl-warnings\n",
            "  warnings.warn(\n"
          ]
        },
        {
          "output_type": "stream",
          "name": "stdout",
          "text": [
            "Loaded https://spb.myglazko.ru/\n",
            "7 57 Load result code 200 https://spb.myglazko.ru/\n"
          ]
        },
        {
          "output_type": "stream",
          "name": "stderr",
          "text": [
            "/usr/local/lib/python3.10/dist-packages/urllib3/connectionpool.py:1056: InsecureRequestWarning: Unverified HTTPS request is being made to host 'loopoglazik.ru'. Adding certificate verification is strongly advised. See: https://urllib3.readthedocs.io/en/1.26.x/advanced-usage.html#ssl-warnings\n",
            "  warnings.warn(\n"
          ]
        },
        {
          "output_type": "stream",
          "name": "stdout",
          "text": [
            "Loaded https://loopoglazik.ru/remont_ochkov_v_moskve\n",
            "7 58 Load result code 200 https://loopoglazik.ru/remont_ochkov_v_moskve\n"
          ]
        },
        {
          "output_type": "stream",
          "name": "stderr",
          "text": [
            "/usr/local/lib/python3.10/dist-packages/urllib3/connectionpool.py:1056: InsecureRequestWarning: Unverified HTTPS request is being made to host 'okooptica.ru'. Adding certificate verification is strongly advised. See: https://urllib3.readthedocs.io/en/1.26.x/advanced-usage.html#ssl-warnings\n",
            "  warnings.warn(\n"
          ]
        },
        {
          "output_type": "stream",
          "name": "stdout",
          "text": [
            "Loaded https://okooptica.ru/uslugi/remont-ochkov\n",
            "7 59 Load result code 200 https://okooptica.ru/uslugi/remont-ochkov\n"
          ]
        },
        {
          "output_type": "stream",
          "name": "stderr",
          "text": [
            "/usr/local/lib/python3.10/dist-packages/urllib3/connectionpool.py:1056: InsecureRequestWarning: Unverified HTTPS request is being made to host 'cronos-optika.ru'. Adding certificate verification is strongly advised. See: https://urllib3.readthedocs.io/en/1.26.x/advanced-usage.html#ssl-warnings\n",
            "  warnings.warn(\n"
          ]
        },
        {
          "output_type": "stream",
          "name": "stdout",
          "text": [
            "Loaded https://cronos-optika.ru/services/repairs/\n",
            "7 60 Load result code 200 https://cronos-optika.ru/services/repairs/\n"
          ]
        },
        {
          "output_type": "stream",
          "name": "stderr",
          "text": [
            "/usr/local/lib/python3.10/dist-packages/urllib3/connectionpool.py:1056: InsecureRequestWarning: Unverified HTTPS request is being made to host 'opticstudio.ru'. Adding certificate verification is strongly advised. See: https://urllib3.readthedocs.io/en/1.26.x/advanced-usage.html#ssl-warnings\n",
            "  warnings.warn(\n"
          ]
        },
        {
          "output_type": "stream",
          "name": "stdout",
          "text": [
            "Loaded https://opticstudio.ru/blogs/remont-ochkov\n",
            "7 61 Load result code 200 https://opticstudio.ru/blogs/remont-ochkov\n"
          ]
        },
        {
          "output_type": "stream",
          "name": "stderr",
          "text": [
            "/usr/local/lib/python3.10/dist-packages/urllib3/connectionpool.py:1056: InsecureRequestWarning: Unverified HTTPS request is being made to host 'hi-gold.ru'. Adding certificate verification is strongly advised. See: https://urllib3.readthedocs.io/en/1.26.x/advanced-usage.html#ssl-warnings\n",
            "  warnings.warn(\n"
          ]
        },
        {
          "output_type": "stream",
          "name": "stdout",
          "text": [
            "Loaded https://hi-gold.ru/remont-ochkov/\n",
            "7 62 Load result code 200 https://hi-gold.ru/remont-ochkov/\n"
          ]
        },
        {
          "output_type": "stream",
          "name": "stderr",
          "text": [
            "/usr/local/lib/python3.10/dist-packages/urllib3/connectionpool.py:1056: InsecureRequestWarning: Unverified HTTPS request is being made to host 'euro-optica.ru'. Adding certificate verification is strongly advised. See: https://urllib3.readthedocs.io/en/1.26.x/advanced-usage.html#ssl-warnings\n",
            "  warnings.warn(\n"
          ]
        },
        {
          "output_type": "stream",
          "name": "stdout",
          "text": [
            "Loaded https://euro-optica.ru/services/izgotovlenie-i-podbor-ochkov/\n",
            "7 63 Load result code 200 https://euro-optica.ru/services/izgotovlenie-i-podbor-ochkov/\n"
          ]
        },
        {
          "output_type": "stream",
          "name": "stderr",
          "text": [
            "/usr/local/lib/python3.10/dist-packages/urllib3/connectionpool.py:1056: InsecureRequestWarning: Unverified HTTPS request is being made to host 'xn--e1aaazdgecprh.xn--p1ai'. Adding certificate verification is strongly advised. See: https://urllib3.readthedocs.io/en/1.26.x/advanced-usage.html#ssl-warnings\n",
            "  warnings.warn(\n"
          ]
        },
        {
          "output_type": "stream",
          "name": "stdout",
          "text": [
            "Loaded https://xn--e1aaazdgecprh.xn--p1ai/\n",
            "7 64 Load result code 200 https://xn--e1aaazdgecprh.xn--p1ai/\n"
          ]
        },
        {
          "output_type": "stream",
          "name": "stderr",
          "text": [
            "/usr/local/lib/python3.10/dist-packages/urllib3/connectionpool.py:1056: InsecureRequestWarning: Unverified HTTPS request is being made to host 'luxoptika43.ru'. Adding certificate verification is strongly advised. See: https://urllib3.readthedocs.io/en/1.26.x/advanced-usage.html#ssl-warnings\n",
            "  warnings.warn(\n"
          ]
        },
        {
          "output_type": "stream",
          "name": "stdout",
          "text": [
            "Loaded https://luxoptika43.ru/product-category/%D1%80%D0%B5%D0%BC%D0%BE%D0%BD%D1%82-%D0%BE%D1%87%D0%BA%D0%BE%D0%B2/\n",
            "7 65 Load result code 200 https://luxoptika43.ru/product-category/%D1%80%D0%B5%D0%BC%D0%BE%D0%BD%D1%82-%D0%BE%D1%87%D0%BA%D0%BE%D0%B2/\n"
          ]
        },
        {
          "output_type": "stream",
          "name": "stderr",
          "text": [
            "/usr/local/lib/python3.10/dist-packages/urllib3/connectionpool.py:1056: InsecureRequestWarning: Unverified HTTPS request is being made to host 'optika.ee'. Adding certificate verification is strongly advised. See: https://urllib3.readthedocs.io/en/1.26.x/advanced-usage.html#ssl-warnings\n",
            "  warnings.warn(\n"
          ]
        },
        {
          "output_type": "stream",
          "name": "stdout",
          "text": [
            "Loaded https://optika.ee/ru/uslugi2/remont-ochkov/\n",
            "7 66 Load result code 200 https://optika.ee/ru/uslugi2/remont-ochkov/\n"
          ]
        },
        {
          "output_type": "stream",
          "name": "stderr",
          "text": [
            "/usr/local/lib/python3.10/dist-packages/urllib3/connectionpool.py:1056: InsecureRequestWarning: Unverified HTTPS request is being made to host '4eyeslab.ru'. Adding certificate verification is strongly advised. See: https://urllib3.readthedocs.io/en/1.26.x/advanced-usage.html#ssl-warnings\n",
            "  warnings.warn(\n"
          ]
        },
        {
          "output_type": "stream",
          "name": "stdout",
          "text": [
            "Loaded https://4eyeslab.ru/\n",
            "7 67 Load result code 200 https://4eyeslab.ru/\n"
          ]
        },
        {
          "output_type": "stream",
          "name": "stderr",
          "text": [
            "/usr/local/lib/python3.10/dist-packages/urllib3/connectionpool.py:1056: InsecureRequestWarning: Unverified HTTPS request is being made to host 'superochki.com'. Adding certificate verification is strongly advised. See: https://urllib3.readthedocs.io/en/1.26.x/advanced-usage.html#ssl-warnings\n",
            "  warnings.warn(\n"
          ]
        },
        {
          "output_type": "stream",
          "name": "stdout",
          "text": [
            "Loaded https://superochki.com/services/remont-ochkov/\n",
            "7 68 Load result code 200 https://superochki.com/services/remont-ochkov/\n"
          ]
        },
        {
          "output_type": "stream",
          "name": "stderr",
          "text": [
            "/usr/local/lib/python3.10/dist-packages/urllib3/connectionpool.py:1056: InsecureRequestWarning: Unverified HTTPS request is being made to host 'www.servicebox.ru'. Adding certificate verification is strongly advised. See: https://urllib3.readthedocs.io/en/1.26.x/advanced-usage.html#ssl-warnings\n",
            "  warnings.warn(\n"
          ]
        },
        {
          "output_type": "stream",
          "name": "stdout",
          "text": [
            "Loaded https://www.servicebox.ru/Moskva/ochki/\n",
            "7 69 Load result code 200 https://www.servicebox.ru/Moskva/ochki/\n"
          ]
        },
        {
          "output_type": "stream",
          "name": "stderr",
          "text": [
            "/usr/local/lib/python3.10/dist-packages/urllib3/connectionpool.py:1056: InsecureRequestWarning: Unverified HTTPS request is being made to host 'www.opticaseseg.ru'. Adding certificate verification is strongly advised. See: https://urllib3.readthedocs.io/en/1.26.x/advanced-usage.html#ssl-warnings\n",
            "  warnings.warn(\n"
          ]
        },
        {
          "output_type": "stream",
          "name": "stdout",
          "text": [
            "Loaded https://www.opticaseseg.ru/services/manufacture_and_repair/\n",
            "7 70 Load result code 200 https://www.opticaseseg.ru/services/manufacture_and_repair/\n"
          ]
        },
        {
          "output_type": "stream",
          "name": "stderr",
          "text": [
            "/usr/local/lib/python3.10/dist-packages/urllib3/connectionpool.py:1056: InsecureRequestWarning: Unverified HTTPS request is being made to host 'www.mroptikov.ru'. Adding certificate verification is strongly advised. See: https://urllib3.readthedocs.io/en/1.26.x/advanced-usage.html#ssl-warnings\n",
            "  warnings.warn(\n"
          ]
        },
        {
          "output_type": "stream",
          "name": "stdout",
          "text": [
            "Loaded https://www.mroptikov.ru/uslugi/remont-ochkov/\n",
            "7 71 Load result code 200 https://www.mroptikov.ru/uslugi/remont-ochkov/\n"
          ]
        },
        {
          "output_type": "stream",
          "name": "stderr",
          "text": [
            "/usr/local/lib/python3.10/dist-packages/urllib3/connectionpool.py:1056: InsecureRequestWarning: Unverified HTTPS request is being made to host 't-zrenie.ru'. Adding certificate verification is strongly advised. See: https://urllib3.readthedocs.io/en/1.26.x/advanced-usage.html#ssl-warnings\n",
            "  warnings.warn(\n"
          ]
        },
        {
          "output_type": "stream",
          "name": "stdout",
          "text": [
            "Loaded https://t-zrenie.ru/news/srochnoe-izgotovlenie-remont-ochkov-za-chas/\n",
            "7 72 Load result code 200 https://t-zrenie.ru/news/srochnoe-izgotovlenie-remont-ochkov-za-chas/\n"
          ]
        },
        {
          "output_type": "stream",
          "name": "stderr",
          "text": [
            "/usr/local/lib/python3.10/dist-packages/urllib3/connectionpool.py:1056: InsecureRequestWarning: Unverified HTTPS request is being made to host 'xn----ctbvjgg3b6a5a.xn--p1ai'. Adding certificate verification is strongly advised. See: https://urllib3.readthedocs.io/en/1.26.x/advanced-usage.html#ssl-warnings\n",
            "  warnings.warn(\n"
          ]
        },
        {
          "output_type": "stream",
          "name": "stdout",
          "text": [
            "Loaded http://xn----ctbvjgg3b6a5a.xn--p1ai/catalog/optika/izgotovlenie-i-remont-ochkov/\n",
            "7 73 Load result code 200 http://xn----ctbvjgg3b6a5a.xn--p1ai/catalog/optika/izgotovlenie-i-remont-ochkov/\n"
          ]
        },
        {
          "output_type": "stream",
          "name": "stderr",
          "text": [
            "/usr/local/lib/python3.10/dist-packages/urllib3/connectionpool.py:1056: InsecureRequestWarning: Unverified HTTPS request is being made to host 'optica-vizhu.ru'. Adding certificate verification is strongly advised. See: https://urllib3.readthedocs.io/en/1.26.x/advanced-usage.html#ssl-warnings\n",
            "  warnings.warn(\n"
          ]
        },
        {
          "output_type": "stream",
          "name": "stdout",
          "text": [
            "Loaded https://optica-vizhu.ru/remont\n",
            "7 74 Load result code 200 https://optica-vizhu.ru/remont\n"
          ]
        },
        {
          "output_type": "stream",
          "name": "stderr",
          "text": [
            "/usr/local/lib/python3.10/dist-packages/urllib3/connectionpool.py:1056: InsecureRequestWarning: Unverified HTTPS request is being made to host 'max-optik.ru'. Adding certificate verification is strongly advised. See: https://urllib3.readthedocs.io/en/1.26.x/advanced-usage.html#ssl-warnings\n",
            "  warnings.warn(\n"
          ]
        },
        {
          "output_type": "stream",
          "name": "stdout",
          "text": [
            "Loaded https://max-optik.ru/izgotovlenie-i-remont-ochkov\n",
            "7 75 Load result code 200 https://max-optik.ru/izgotovlenie-i-remont-ochkov\n"
          ]
        },
        {
          "output_type": "stream",
          "name": "stderr",
          "text": [
            "/usr/local/lib/python3.10/dist-packages/urllib3/connectionpool.py:1056: InsecureRequestWarning: Unverified HTTPS request is being made to host 'linzspb.ru'. Adding certificate verification is strongly advised. See: https://urllib3.readthedocs.io/en/1.26.x/advanced-usage.html#ssl-warnings\n",
            "  warnings.warn(\n"
          ]
        },
        {
          "output_type": "stream",
          "name": "stdout",
          "text": [
            "Loaded https://linzspb.ru/remont-ochkov/\n",
            "7 76 Load result code 200 https://linzspb.ru/remont-ochkov/\n"
          ]
        },
        {
          "output_type": "stream",
          "name": "stderr",
          "text": [
            "/usr/local/lib/python3.10/dist-packages/urllib3/connectionpool.py:1056: InsecureRequestWarning: Unverified HTTPS request is being made to host 'www.eyekraft18.ru'. Adding certificate verification is strongly advised. See: https://urllib3.readthedocs.io/en/1.26.x/advanced-usage.html#ssl-warnings\n",
            "  warnings.warn(\n"
          ]
        },
        {
          "output_type": "stream",
          "name": "stdout",
          "text": [
            "Loaded https://www.eyekraft18.ru/uslugi/remont-ochkov\n",
            "7 77 Load result code 200 https://www.eyekraft18.ru/uslugi/remont-ochkov\n"
          ]
        },
        {
          "output_type": "stream",
          "name": "stderr",
          "text": [
            "/usr/local/lib/python3.10/dist-packages/urllib3/connectionpool.py:1056: InsecureRequestWarning: Unverified HTTPS request is being made to host 'domovenok.spb.ru'. Adding certificate verification is strongly advised. See: https://urllib3.readthedocs.io/en/1.26.x/advanced-usage.html#ssl-warnings\n",
            "  warnings.warn(\n"
          ]
        },
        {
          "output_type": "stream",
          "name": "stdout",
          "text": [
            "Loaded https://domovenok.spb.ru/uslugi/remont-ochkov.html\n",
            "7 78 Load result code 200 https://domovenok.spb.ru/uslugi/remont-ochkov.html\n"
          ]
        },
        {
          "output_type": "stream",
          "name": "stderr",
          "text": [
            "/usr/local/lib/python3.10/dist-packages/urllib3/connectionpool.py:1056: InsecureRequestWarning: Unverified HTTPS request is being made to host '1ok.by'. Adding certificate verification is strongly advised. See: https://urllib3.readthedocs.io/en/1.26.x/advanced-usage.html#ssl-warnings\n",
            "  warnings.warn(\n"
          ]
        },
        {
          "output_type": "stream",
          "name": "stdout",
          "text": [
            "Loaded https://1ok.by/remont-oprav-ochkov\n",
            "7 79 Load result code 200 https://1ok.by/remont-oprav-ochkov\n"
          ]
        },
        {
          "output_type": "stream",
          "name": "stderr",
          "text": [
            "/usr/local/lib/python3.10/dist-packages/urllib3/connectionpool.py:1056: InsecureRequestWarning: Unverified HTTPS request is being made to host 'xn----9sbelnd5a0ahem3d.xn--p1ai'. Adding certificate verification is strongly advised. See: https://urllib3.readthedocs.io/en/1.26.x/advanced-usage.html#ssl-warnings\n",
            "  warnings.warn(\n"
          ]
        },
        {
          "output_type": "stream",
          "name": "stdout",
          "text": [
            "Loaded https://xn----9sbelnd5a0ahem3d.xn--p1ai/remont-ochkovykh-oprav\n",
            "7 80 Load result code 200 https://xn----9sbelnd5a0ahem3d.xn--p1ai/remont-ochkovykh-oprav\n"
          ]
        },
        {
          "output_type": "stream",
          "name": "stderr",
          "text": [
            "/usr/local/lib/python3.10/dist-packages/urllib3/connectionpool.py:1056: InsecureRequestWarning: Unverified HTTPS request is being made to host 'optika-optika.ru'. Adding certificate verification is strongly advised. See: https://urllib3.readthedocs.io/en/1.26.x/advanced-usage.html#ssl-warnings\n",
            "  warnings.warn(\n"
          ]
        },
        {
          "output_type": "stream",
          "name": "stdout",
          "text": [
            "Loaded https://optika-optika.ru/remont-ochkov/\n",
            "7 81 Load result code 200 https://optika-optika.ru/remont-ochkov/\n"
          ]
        },
        {
          "output_type": "stream",
          "name": "stderr",
          "text": [
            "/usr/local/lib/python3.10/dist-packages/urllib3/connectionpool.py:1056: InsecureRequestWarning: Unverified HTTPS request is being made to host 'zenoptica.ru'. Adding certificate verification is strongly advised. See: https://urllib3.readthedocs.io/en/1.26.x/advanced-usage.html#ssl-warnings\n",
            "  warnings.warn(\n"
          ]
        },
        {
          "output_type": "stream",
          "name": "stdout",
          "text": [
            "Loaded https://zenoptica.ru/for-customers/service/\n",
            "7 82 Load result code 200 https://zenoptica.ru/for-customers/service/\n"
          ]
        },
        {
          "output_type": "stream",
          "name": "stderr",
          "text": [
            "/usr/local/lib/python3.10/dist-packages/urllib3/connectionpool.py:1056: InsecureRequestWarning: Unverified HTTPS request is being made to host 'euro-optika.ru'. Adding certificate verification is strongly advised. See: https://urllib3.readthedocs.io/en/1.26.x/advanced-usage.html#ssl-warnings\n",
            "  warnings.warn(\n"
          ]
        },
        {
          "output_type": "stream",
          "name": "stdout",
          "text": [
            "Loaded https://euro-optika.ru/uslugi/remont-i-uhod-za-ochkami/\n",
            "7 83 Load result code 200 https://euro-optika.ru/uslugi/remont-i-uhod-za-ochkami/\n"
          ]
        },
        {
          "output_type": "stream",
          "name": "stderr",
          "text": [
            "/usr/local/lib/python3.10/dist-packages/urllib3/connectionpool.py:1056: InsecureRequestWarning: Unverified HTTPS request is being made to host 'www.lenoptika.ru'. Adding certificate verification is strongly advised. See: https://urllib3.readthedocs.io/en/1.26.x/advanced-usage.html#ssl-warnings\n",
            "  warnings.warn(\n",
            "/usr/local/lib/python3.10/dist-packages/urllib3/connectionpool.py:1056: InsecureRequestWarning: Unverified HTTPS request is being made to host 'www.lenoptika.ru'. Adding certificate verification is strongly advised. See: https://urllib3.readthedocs.io/en/1.26.x/advanced-usage.html#ssl-warnings\n",
            "  warnings.warn(\n",
            "/usr/local/lib/python3.10/dist-packages/urllib3/connectionpool.py:1056: InsecureRequestWarning: Unverified HTTPS request is being made to host 'www.lenoptika.ru'. Adding certificate verification is strongly advised. See: https://urllib3.readthedocs.io/en/1.26.x/advanced-usage.html#ssl-warnings\n",
            "  warnings.warn(\n"
          ]
        },
        {
          "output_type": "stream",
          "name": "stdout",
          "text": [
            "Loaded https://www.lenoptika.ru/products/251525648-remont_ochkov_zamena_sharnira_petli_na_metallicheskoy_oprave\n",
            "7 84 Load result code 200 https://www.lenoptika.ru/products/251525648-remont_ochkov_zamena_sharnira_petli_na_metallicheskoy_oprave\n"
          ]
        },
        {
          "output_type": "stream",
          "name": "stderr",
          "text": [
            "/usr/local/lib/python3.10/dist-packages/urllib3/connectionpool.py:1056: InsecureRequestWarning: Unverified HTTPS request is being made to host 'vipklyuch.ru'. Adding certificate verification is strongly advised. See: https://urllib3.readthedocs.io/en/1.26.x/advanced-usage.html#ssl-warnings\n",
            "  warnings.warn(\n"
          ]
        },
        {
          "output_type": "stream",
          "name": "stdout",
          "text": [
            "Loaded https://vipklyuch.ru/k2-portfolio/remont-ochkov\n",
            "7 85 Load result code 200 https://vipklyuch.ru/k2-portfolio/remont-ochkov\n"
          ]
        },
        {
          "output_type": "stream",
          "name": "stderr",
          "text": [
            "/usr/local/lib/python3.10/dist-packages/urllib3/connectionpool.py:1056: InsecureRequestWarning: Unverified HTTPS request is being made to host 'happylook.ru'. Adding certificate verification is strongly advised. See: https://urllib3.readthedocs.io/en/1.26.x/advanced-usage.html#ssl-warnings\n",
            "  warnings.warn(\n"
          ]
        },
        {
          "output_type": "stream",
          "name": "stdout",
          "text": [
            "Loaded https://happylook.ru/uslugi-v-krymu/izgotovlenie-i-remont-ochkov/\n",
            "7 86 Load result code 200 https://happylook.ru/uslugi-v-krymu/izgotovlenie-i-remont-ochkov/\n",
            "Loaded http://domoptiki.com/\n",
            "7 87 Load result code 200 http://domoptiki.com/\n"
          ]
        },
        {
          "output_type": "stream",
          "name": "stderr",
          "text": [
            "/usr/local/lib/python3.10/dist-packages/urllib3/connectionpool.py:1056: InsecureRequestWarning: Unverified HTTPS request is being made to host 'moraray-optic.ru'. Adding certificate verification is strongly advised. See: https://urllib3.readthedocs.io/en/1.26.x/advanced-usage.html#ssl-warnings\n",
            "  warnings.warn(\n"
          ]
        },
        {
          "output_type": "stream",
          "name": "stdout",
          "text": [
            "Loaded https://moraray-optic.ru/\n",
            "7 88 Load result code 200 https://moraray-optic.ru/\n",
            "Loaded http://optikadobro.ru/\n",
            "7 89 Load result code 200 http://optikadobro.ru/\n"
          ]
        },
        {
          "output_type": "stream",
          "name": "stderr",
          "text": [
            "/usr/local/lib/python3.10/dist-packages/urllib3/connectionpool.py:1056: InsecureRequestWarning: Unverified HTTPS request is being made to host 'xn--80adszeglu.xn--p1acf'. Adding certificate verification is strongly advised. See: https://urllib3.readthedocs.io/en/1.26.x/advanced-usage.html#ssl-warnings\n",
            "  warnings.warn(\n"
          ]
        },
        {
          "output_type": "stream",
          "name": "stdout",
          "text": [
            "Loaded https://xn--80adszeglu.xn--p1acf/\n",
            "7 90 Load result code 200 https://xn--80adszeglu.xn--p1acf/\n"
          ]
        },
        {
          "output_type": "stream",
          "name": "stderr",
          "text": [
            "/usr/local/lib/python3.10/dist-packages/urllib3/connectionpool.py:1056: InsecureRequestWarning: Unverified HTTPS request is being made to host 'crystaloptika.ru'. Adding certificate verification is strongly advised. See: https://urllib3.readthedocs.io/en/1.26.x/advanced-usage.html#ssl-warnings\n",
            "  warnings.warn(\n"
          ]
        },
        {
          "output_type": "stream",
          "name": "stdout",
          "text": [
            "Loaded https://crystaloptika.ru/\n",
            "7 91 Load result code 200 https://crystaloptika.ru/\n"
          ]
        },
        {
          "output_type": "stream",
          "name": "stderr",
          "text": [
            "/usr/local/lib/python3.10/dist-packages/urllib3/connectionpool.py:1056: InsecureRequestWarning: Unverified HTTPS request is being made to host 'xn----7sbmrahed4akpt.xn--p1ai'. Adding certificate verification is strongly advised. See: https://urllib3.readthedocs.io/en/1.26.x/advanced-usage.html#ssl-warnings\n",
            "  warnings.warn(\n"
          ]
        },
        {
          "output_type": "stream",
          "name": "stdout",
          "text": [
            "Loaded https://xn----7sbmrahed4akpt.xn--p1ai/uslygi\n",
            "7 92 Load result code 200 https://xn----7sbmrahed4akpt.xn--p1ai/uslygi\n"
          ]
        },
        {
          "output_type": "stream",
          "name": "stderr",
          "text": [
            "/usr/local/lib/python3.10/dist-packages/urllib3/connectionpool.py:1056: InsecureRequestWarning: Unverified HTTPS request is being made to host 'xn--b1afphffbbly0d.xn--p1ai'. Adding certificate verification is strongly advised. See: https://urllib3.readthedocs.io/en/1.26.x/advanced-usage.html#ssl-warnings\n",
            "  warnings.warn(\n"
          ]
        },
        {
          "output_type": "stream",
          "name": "stdout",
          "text": [
            "Loaded https://xn--b1afphffbbly0d.xn--p1ai/cena/\n",
            "7 93 Load result code 200 https://xn--b1afphffbbly0d.xn--p1ai/cena/\n",
            "Loaded http://moptika.ru/part_5.html\n",
            "7 94 Load result code 200 http://moptika.ru/part_5.html\n"
          ]
        },
        {
          "output_type": "stream",
          "name": "stderr",
          "text": [
            "/usr/local/lib/python3.10/dist-packages/urllib3/connectionpool.py:1056: InsecureRequestWarning: Unverified HTTPS request is being made to host 'kartelmaster.ru'. Adding certificate verification is strongly advised. See: https://urllib3.readthedocs.io/en/1.26.x/advanced-usage.html#ssl-warnings\n",
            "  warnings.warn(\n"
          ]
        },
        {
          "output_type": "stream",
          "name": "stdout",
          "text": [
            "Loaded https://kartelmaster.ru/remont-ochkov/\n",
            "7 95 Load result code 200 https://kartelmaster.ru/remont-ochkov/\n"
          ]
        },
        {
          "output_type": "stream",
          "name": "stderr",
          "text": [
            "/usr/local/lib/python3.10/dist-packages/urllib3/connectionpool.py:1056: InsecureRequestWarning: Unverified HTTPS request is being made to host 'optica-lux.ru'. Adding certificate verification is strongly advised. See: https://urllib3.readthedocs.io/en/1.26.x/advanced-usage.html#ssl-warnings\n",
            "  warnings.warn(\n"
          ]
        },
        {
          "output_type": "stream",
          "name": "stdout",
          "text": [
            "Loaded https://optica-lux.ru/uslugi/\n",
            "7 96 Load result code 200 https://optica-lux.ru/uslugi/\n"
          ]
        },
        {
          "output_type": "stream",
          "name": "stderr",
          "text": [
            "/usr/local/lib/python3.10/dist-packages/urllib3/connectionpool.py:1056: InsecureRequestWarning: Unverified HTTPS request is being made to host 'optik-u.ru'. Adding certificate verification is strongly advised. See: https://urllib3.readthedocs.io/en/1.26.x/advanced-usage.html#ssl-warnings\n",
            "  warnings.warn(\n"
          ]
        },
        {
          "output_type": "stream",
          "name": "stdout",
          "text": [
            "Loaded https://optik-u.ru/glasses-repair/\n",
            "7 97 Load result code 200 https://optik-u.ru/glasses-repair/\n"
          ]
        },
        {
          "output_type": "stream",
          "name": "stderr",
          "text": [
            "/usr/local/lib/python3.10/dist-packages/urllib3/connectionpool.py:1056: InsecureRequestWarning: Unverified HTTPS request is being made to host 'xn--161-5cdtgv3b9a4c.xn--p1ai'. Adding certificate verification is strongly advised. See: https://urllib3.readthedocs.io/en/1.26.x/advanced-usage.html#ssl-warnings\n",
            "  warnings.warn(\n"
          ]
        },
        {
          "output_type": "stream",
          "name": "stdout",
          "text": [
            "Loaded https://xn--161-5cdtgv3b9a4c.xn--p1ai/\n",
            "7 98 Load result code 200 https://xn--161-5cdtgv3b9a4c.xn--p1ai/\n"
          ]
        },
        {
          "output_type": "stream",
          "name": "stderr",
          "text": [
            "/usr/local/lib/python3.10/dist-packages/urllib3/connectionpool.py:1056: InsecureRequestWarning: Unverified HTTPS request is being made to host 'cleveroptic.ru'. Adding certificate verification is strongly advised. See: https://urllib3.readthedocs.io/en/1.26.x/advanced-usage.html#ssl-warnings\n",
            "  warnings.warn(\n"
          ]
        },
        {
          "output_type": "stream",
          "name": "stdout",
          "text": [
            "Loaded https://cleveroptic.ru/remont-ockov\n",
            "7 99 Load result code 200 https://cleveroptic.ru/remont-ockov\n"
          ]
        }
      ],
      "source": [
        "  StartCategory=0\n",
        "  EndCategory=1000\n",
        "  #reload all suites\n",
        "  SuitesLoaded=[]\n",
        "  HeadersLoaded=[]\n",
        "  LinksLoaded=[]\n",
        "  ErrorLinks=[]\n",
        "  i=StartCategory\n",
        "  j=0\n",
        "  for CategoryLinks1 in CategoryLinks[StartCategory:EndCategory+1]:\n",
        "      SuitesLoaded.append([])\n",
        "      HeadersLoaded.append([])\n",
        "      LinksLoaded.append([])\n",
        "      j=0\n",
        "      for Link in CategoryLinks1:\n",
        "          Text,Header,Status=LinkToBodyHead(Link)\n",
        "          if(Status==200):\n",
        "              HeadersLoaded[-1].append(Header)\n",
        "              SuitesLoaded[-1].append(Text)\n",
        "              LinksLoaded[-1].append(Link)\n",
        "          else:\n",
        "            ErrorLinks.append(Link)\n",
        "          print(i,j,\"Load result code\",Status,Link)\n",
        "          j+=1\n",
        "      if((i%10==0 and i>0) or (i==EndCategory) or (i==len(CategoryLinks))):\n",
        "        #write\n",
        "        DumpFileName=ProjectFolder+\"suites_dump_\"+str(i//10)+\".pkl\"\n",
        "        if(i==EndCategory and i%10>0):DumpFileName=ProjectFolder+\"suites_dump_\"+str((i+9)//10)+\".pkl\"\n",
        "        with open(DumpFileName, 'wb') as f: pickle.dump([HeadersLoaded,SuitesLoaded,LinksLoaded,ErrorLinks],f)\n",
        "        SuitesLoaded=[]\n",
        "        HeadersLoaded=[]\n",
        "        LinksLoaded=[]\n",
        "        ErrorLinks=[]\n",
        "        gc.collect()\n",
        "\n",
        "      i+=1\n"
      ]
    },
    {
      "cell_type": "markdown",
      "source": [
        "Перезапустим колаб, запустим заголовки и функции, и загрузим сайты из файлов."
      ],
      "metadata": {
        "id": "YgEjbB4zvj_p"
      }
    },
    {
      "cell_type": "code",
      "source": [
        "HeadersLoaded=[]\n",
        "SuitesLoaded=[]\n",
        "LinksLoaded=[]\n",
        "ErrorLinks=[]\n",
        "for i in range(1,2):\n",
        "  with open(ProjectFolder+\"suites_dump_\"+str(i)+\".pkl\", 'rb') as f: HeadersLoaded2,SuitesLoaded2,LinksLoaded2,ErrorLinks2=pickle.load(f)\n",
        "  HeadersLoaded=HeadersLoaded+HeadersLoaded2\n",
        "  SuitesLoaded=SuitesLoaded+SuitesLoaded2\n",
        "  LinksLoaded=LinksLoaded+LinksLoaded2\n",
        "  ErrorLinks=ErrorLinks+ErrorLinks2"
      ],
      "metadata": {
        "id": "zeM8do_frJBK"
      },
      "execution_count": 12,
      "outputs": []
    },
    {
      "cell_type": "markdown",
      "source": [
        "Сконвертируем тело сайтов в текст"
      ],
      "metadata": {
        "id": "moP06e8DwOw_"
      }
    },
    {
      "cell_type": "code",
      "source": [
        "SuitesLoaded2=SuitesLoaded\n",
        "SuitesLoaded=[[BodyToText(si) for si in Cat] for Cat in SuitesLoaded2]\n",
        "CategoryAmount=len(SuitesLoaded)"
      ],
      "metadata": {
        "id": "nYUiY2viZQp9"
      },
      "execution_count": 13,
      "outputs": []
    },
    {
      "cell_type": "markdown",
      "source": [
        "Очистим заголовки от спецсимволов"
      ],
      "metadata": {
        "id": "bsHV98ACwcKx"
      }
    },
    {
      "cell_type": "code",
      "source": [
        "list_of_chars = list('\\r\\n\\t\\\"\\',.-_+=:;*#{}$%|?')\n",
        "pattern = '[' +  ''.join(list_of_chars) +  ']'\n",
        "HeadersLoaded2=HeadersLoaded\n",
        "HeadersLoaded=[[re.sub(pattern, '', head).lower() for head in Cat] for Cat in HeadersLoaded2]"
      ],
      "metadata": {
        "id": "hdlYIR14ZQtN"
      },
      "execution_count": 14,
      "outputs": []
    },
    {
      "cell_type": "code",
      "source": [
        "#Body example\n",
        "Str1=\"\"\n",
        "for i in range(len(SuitesLoaded[0][0])):\n",
        "  Str1=Str1+SuitesLoaded[0][0][i]+\" \"\n",
        "Str1"
      ],
      "metadata": {
        "colab": {
          "base_uri": "https://localhost:8080/",
          "height": 87
        },
        "id": "hEc22NkHZQu6",
        "outputId": "6342b61e-9c0a-4516-a95d-9e916e4f185a"
      },
      "execution_count": 15,
      "outputs": [
        {
          "output_type": "execute_result",
          "data": {
            "text/plain": [
              "'аварийные комиссары новокузнецк бесплатный выезд аварийные комиссары новокузнецк лента аварийные комиссары новокузнецк лента комментариев логотип логотип логотип логотип просмотр страницы новокузнецк осинники калтан киселевск приедем за минут аварийные комиссары новокузнецк грамотное оформление дтп европротокол по каско осаго оформление без страховки все районы города все страховые компании служба аварийных комиссаров поможем быстро и правильно оформить дтп стоимость наших услуг возместит страховая компания быстрое прибытие на место дтп бесплатная консультация видео фотофиксация места дтп составление схемы дтп с замерами вызвать комиссара за лет работы клиента получили деньги со страховой компании с нашей помощью руб взыскали наши юристы со страховых компаний в судебном порядке дтп оформили наши комиссары наши принципы мы не берем денег за свои услуги до момента получения вами страховой выплаты в полном объеме оформление дтп забота прежде всего о ваших интересах гибдд не выезжает на дтп не знаете как правильно оформить дтп не можете определить виновника нет бланка извещения о дтп не можете определить сумму ущерба у виновника нет полиса осаго не знаете как составить схему дтп звоните поможем! юридические услуги экономим ваше время урегулирование споров со страховой компанией представление интересов клиента в суде гибдд возмещение вреда здоровью взыскание задолженности с физических и юридических лиц вызвать комиссара наш адрес карта карта аварийные комиссары выезжают на дтп с до офис в новокузнецке ул покрышкина время работы офиса пн пт аварийный комиссар рф все права защищены '"
            ],
            "application/vnd.google.colaboratory.intrinsic+json": {
              "type": "string"
            }
          },
          "metadata": {},
          "execution_count": 15
        }
      ]
    },
    {
      "cell_type": "markdown",
      "source": [
        "#Create independent datasets for header and body"
      ],
      "metadata": {
        "id": "44XN6uULxcgB"
      }
    },
    {
      "cell_type": "markdown",
      "source": [
        "Создадим датасет. Откинем сайты с длинной тела <15 слов и заголовки короче 2 слов"
      ],
      "metadata": {
        "id": "YWz5A7ZixcjK"
      }
    },
    {
      "cell_type": "code",
      "execution_count": 19,
      "metadata": {
        "colab": {
          "base_uri": "https://localhost:8080/"
        },
        "id": "6rK1w7R9Fz0d",
        "outputId": "613e8d57-5871-4484-eaec-2540faed4bfc"
      },
      "outputs": [
        {
          "output_type": "stream",
          "name": "stdout",
          "text": [
            "Body short 0 23\n",
            "Header short 0 23\n",
            "Body short 0 50\n",
            "Header short 0 66\n",
            "Body short 0 74\n",
            "Body short 1 33\n",
            "Body short 1 47\n",
            "Body short 1 82\n",
            "Body short 2 3\n",
            "Header short 2 19\n",
            "Body short 2 42\n",
            "Body short 2 58\n",
            "Header short 2 75\n",
            "Body short 2 88\n",
            "Body short 3 15\n",
            "Body short 3 76\n",
            "Body short 4 4\n",
            "Body short 4 11\n",
            "Body short 4 12\n",
            "Body short 4 23\n",
            "Body short 4 32\n",
            "Body short 4 53\n",
            "Body short 4 63\n",
            "Body short 4 84\n",
            "Body short 4 88\n",
            "Body short 5 4\n",
            "Body short 5 12\n",
            "Body short 5 47\n",
            "Body short 5 54\n",
            "Body short 6 8\n",
            "Header short 6 8\n",
            "Body short 6 14\n",
            "Header short 6 14\n",
            "Header short 6 54\n",
            "Header short 6 65\n",
            "Body short 6 78\n",
            "Header short 6 78\n",
            "Body short 7 1\n",
            "Body short 7 14\n",
            "Body short 7 28\n",
            "Body short 7 91\n",
            "Body short 7 92\n",
            "Длинны категорий для тел сайтов [ 93.  95. 112.  97.  85.  66.  92.  93.]\n",
            "Длинны категорий для тел заголовков [ 94.  98. 114.  99.  94.  70.  90.  98.]\n"
          ]
        }
      ],
      "source": [
        "#Create independent datasets\n",
        "TextsByCategory=[]\n",
        "HeadersByCategory=[]\n",
        "LabelsSuite=[]\n",
        "LabelsHeader=[]\n",
        "ClassesCountersS=np.zeros((100))\n",
        "ClassesCountersH=np.zeros((100))\n",
        "for i in range(len(SuitesLoaded)):\n",
        "      for j in range(len(SuitesLoaded[i])):\n",
        "          Texts1=[]\n",
        "          Header1=[]\n",
        "          #print(Text[0])\n",
        "          SuiteDontAdd=False\n",
        "          HeaderDontAdd=False\n",
        "          if len(SuitesLoaded[i][j])<15:\n",
        "            SuiteDontAdd=True\n",
        "            print(\"Body short\",i,j)#,LinksLoaded[i][j])\n",
        "          elif isinstance(SuitesLoaded[i][j], Iterable):\n",
        "              Texts1=' '.join(SuitesLoaded[i][j])\n",
        "          else:\n",
        "              Texts1.append(\"\")\n",
        "              SuiteDontAdd=True\n",
        "              print(\"Text error\",i,j)#,LinksLoaded[i][j])\n",
        "          if len(HeadersLoaded[i][j])<2:\n",
        "            HeaderDontAdd=True\n",
        "            print(\"Header short\",i,j)#,LinksLoaded[i][j])\n",
        "          elif isinstance(HeadersLoaded[i][j], Iterable):\n",
        "              Header1=HeadersLoaded[i][j].lower()#.append(' '.join(HeadersLoaded[i][j]))\n",
        "          else:\n",
        "              Header1=\"\"#.append(\"\")\n",
        "              HeaderDontAdd=True\n",
        "              print(\"Header error\",i,j)#,LinksLoaded[i][j])\n",
        "          if(not SuiteDontAdd):\n",
        "              TextsByCategory.append(' '.join(SuitesLoaded[i][j]).lower())\n",
        "              LabelsSuite.append(i)\n",
        "              ClassesCountersS[i]+=1\n",
        "          if(not HeaderDontAdd):\n",
        "              HeadersByCategory.append(HeadersLoaded[i][j])\n",
        "              LabelsHeader.append(i)\n",
        "              ClassesCountersH[i]+=1\n",
        "LabelsSuite=np.array(LabelsSuite)\n",
        "LabelsHeader=np.array(LabelsHeader)\n",
        "print(\"Длинны категорий для тел сайтов\",ClassesCountersS[:8])\n",
        "print(\"Длинны категорий для тел заголовков\",ClassesCountersH[:8])"
      ]
    },
    {
      "cell_type": "code",
      "source": [
        "#Tokenizer\n",
        "Tokenizer1=Tokenizer(num_words=5000,filters='!\"#$%&()*+,-./:;<=>?@[\\\\]^_`{|}~\\t\\n', lower=True,split=' ')\n",
        "Tokenizer1.fit_on_texts(TextsByCategory+HeadersByCategory)\n",
        "\n",
        "Texts_Tokenized= Tokenizer1.texts_to_sequences(TextsByCategory)\n",
        "Headers_Tokenized= Tokenizer1.texts_to_sequences(HeadersByCategory)\n",
        "\n",
        "Texts_encoded= Tokenizer1.sequences_to_matrix(Texts_Tokenized)#VectorizerS.transform(TextsByCategory)#\n",
        "Headers_encoded= Tokenizer1.sequences_to_matrix(Headers_Tokenized)#VectorizerH.transform(HeadersByCategory)#"
      ],
      "metadata": {
        "id": "KHkYDiuRyOev"
      },
      "execution_count": 20,
      "outputs": []
    },
    {
      "cell_type": "code",
      "source": [],
      "metadata": {
        "id": "u77CGuxLFYy2"
      },
      "execution_count": null,
      "outputs": []
    },
    {
      "cell_type": "code",
      "source": [
        "#Train Test set\n",
        "TrainTexts,TestTexts,TrainTexts_encoded,TestTexts_encoded,TrainLabels,TestLabels=train_test_split(TextsByCategory,Texts_encoded,LabelsSuite, test_size=0.15, random_state=42)\n",
        "#Матрица весов классов\n",
        "WMS=WeightsFromOneOut(np.sum(np.eye(max(TrainLabels)+1)[TrainLabels],axis=0))"
      ],
      "metadata": {
        "id": "dGNaWnYPyOiV"
      },
      "execution_count": 21,
      "outputs": []
    },
    {
      "cell_type": "markdown",
      "source": [],
      "metadata": {
        "id": "rg7WekUh2Noc"
      }
    },
    {
      "cell_type": "markdown",
      "source": [
        "#Обычный классификатор с bag of words"
      ],
      "metadata": {
        "id": "oac9QEXt2Nri"
      }
    },
    {
      "cell_type": "code",
      "source": [
        "  InputTrain=TrainTexts_encoded#.toarray()\n",
        "  InputTest=TestTexts_encoded#.toarray()\n",
        "  Model1=ModelTfIdfClass_1(InputTrain[0].shape,OutsClasses=CategoryAmount)#0.001),l2=#[0].shape\n",
        "  Model1.compile(optimizer=keras.optimizers.Adam(learning_rate=0.0005),metrics=[tf.keras.metrics.Precision(name='precision')], loss=\"categorical_crossentropy\")#categorical_crossentropy\n",
        "  Model1.summary()\n",
        "  WMS=WeightsFromOneOut(ClassesCountersS[:max(TrainLabels)+1])\n",
        "  history1=Model1.fit(InputTrain,np.eye(CategoryAmount)[TrainLabels],validation_data=[InputTest,np.eye(CategoryAmount)[TestLabels]],batch_size=64,class_weight=WMS, epochs=20,verbose=2)\n",
        "  plt.plot(history1.history[\"loss\"])\n",
        "  plt.plot(history1.history[\"val_loss\"])\n",
        "  plt.show()\n",
        "  prd1=Model1.predict(InputTest)\n",
        "  #prd1=(prd1-prd1.mean(axis=0))/prd1.std(axis=0)\n",
        "  PlotClassificationMatrix(prd1,np.eye(CategoryAmount)[TestLabels],Captions1=Captions)"
      ],
      "metadata": {
        "colab": {
          "base_uri": "https://localhost:8080/",
          "height": 1000
        },
        "id": "UmZAfytzwlO3",
        "outputId": "b2bd1eb1-1e7a-45f2-ae86-2e5c66c334f0"
      },
      "execution_count": 23,
      "outputs": [
        {
          "output_type": "stream",
          "name": "stdout",
          "text": [
            "Model: \"model_1\"\n",
            "_________________________________________________________________\n",
            " Layer (type)                Output Shape              Param #   \n",
            "=================================================================\n",
            " input_2 (InputLayer)        [(None, 5000)]            0         \n",
            "                                                                 \n",
            " dense_4 (Dense)             (None, 128)               640128    \n",
            "                                                                 \n",
            " dropout_2 (Dropout)         (None, 128)               0         \n",
            "                                                                 \n",
            " dense_5 (Dense)             (None, 64)                8256      \n",
            "                                                                 \n",
            " dropout_3 (Dropout)         (None, 64)                0         \n",
            "                                                                 \n",
            " dense_6 (Dense)             (None, 16)                1040      \n",
            "                                                                 \n",
            " dense_7 (Dense)             (None, 8)                 136       \n",
            "                                                                 \n",
            "=================================================================\n",
            "Total params: 649,560\n",
            "Trainable params: 649,560\n",
            "Non-trainable params: 0\n",
            "_________________________________________________________________\n",
            "Epoch 1/20\n",
            "10/10 - 2s - loss: 1.5723 - precision: 0.9545 - val_loss: 1.0168 - val_precision: 1.0000 - 2s/epoch - 186ms/step\n",
            "Epoch 2/20\n",
            "10/10 - 0s - loss: 0.7182 - precision: 1.0000 - val_loss: 0.5945 - val_precision: 1.0000 - 196ms/epoch - 20ms/step\n",
            "Epoch 3/20\n",
            "10/10 - 0s - loss: 0.4101 - precision: 0.9981 - val_loss: 0.4148 - val_precision: 1.0000 - 166ms/epoch - 17ms/step\n",
            "Epoch 4/20\n",
            "10/10 - 0s - loss: 0.2698 - precision: 0.9966 - val_loss: 0.3182 - val_precision: 1.0000 - 133ms/epoch - 13ms/step\n",
            "Epoch 5/20\n",
            "10/10 - 0s - loss: 0.1992 - precision: 0.9984 - val_loss: 0.2527 - val_precision: 1.0000 - 125ms/epoch - 13ms/step\n",
            "Epoch 6/20\n",
            "10/10 - 0s - loss: 0.1488 - precision: 0.9984 - val_loss: 0.2149 - val_precision: 1.0000 - 122ms/epoch - 12ms/step\n",
            "Epoch 7/20\n",
            "10/10 - 0s - loss: 0.1215 - precision: 1.0000 - val_loss: 0.1897 - val_precision: 1.0000 - 107ms/epoch - 11ms/step\n",
            "Epoch 8/20\n",
            "10/10 - 0s - loss: 0.1026 - precision: 1.0000 - val_loss: 0.1704 - val_precision: 1.0000 - 127ms/epoch - 13ms/step\n",
            "Epoch 9/20\n",
            "10/10 - 0s - loss: 0.0865 - precision: 1.0000 - val_loss: 0.1564 - val_precision: 0.9908 - 129ms/epoch - 13ms/step\n",
            "Epoch 10/20\n",
            "10/10 - 0s - loss: 0.0755 - precision: 1.0000 - val_loss: 0.1453 - val_precision: 0.9908 - 129ms/epoch - 13ms/step\n",
            "Epoch 11/20\n",
            "10/10 - 0s - loss: 0.0678 - precision: 1.0000 - val_loss: 0.1369 - val_precision: 0.9818 - 165ms/epoch - 16ms/step\n",
            "Epoch 12/20\n",
            "10/10 - 0s - loss: 0.0623 - precision: 1.0000 - val_loss: 0.1318 - val_precision: 0.9818 - 167ms/epoch - 17ms/step\n",
            "Epoch 13/20\n",
            "10/10 - 0s - loss: 0.0591 - precision: 1.0000 - val_loss: 0.1273 - val_precision: 0.9818 - 195ms/epoch - 20ms/step\n",
            "Epoch 14/20\n",
            "10/10 - 0s - loss: 0.0526 - precision: 1.0000 - val_loss: 0.1228 - val_precision: 0.9818 - 181ms/epoch - 18ms/step\n",
            "Epoch 15/20\n",
            "10/10 - 0s - loss: 0.0482 - precision: 1.0000 - val_loss: 0.1206 - val_precision: 0.9818 - 191ms/epoch - 19ms/step\n",
            "Epoch 16/20\n",
            "10/10 - 0s - loss: 0.0466 - precision: 1.0000 - val_loss: 0.1190 - val_precision: 0.9818 - 182ms/epoch - 18ms/step\n",
            "Epoch 17/20\n",
            "10/10 - 0s - loss: 0.0434 - precision: 1.0000 - val_loss: 0.1176 - val_precision: 0.9818 - 167ms/epoch - 17ms/step\n",
            "Epoch 18/20\n",
            "10/10 - 0s - loss: 0.0420 - precision: 1.0000 - val_loss: 0.1162 - val_precision: 0.9818 - 209ms/epoch - 21ms/step\n",
            "Epoch 19/20\n",
            "10/10 - 0s - loss: 0.0394 - precision: 1.0000 - val_loss: 0.1142 - val_precision: 0.9818 - 178ms/epoch - 18ms/step\n",
            "Epoch 20/20\n",
            "10/10 - 0s - loss: 0.0379 - precision: 1.0000 - val_loss: 0.1130 - val_precision: 0.9818 - 190ms/epoch - 19ms/step\n"
          ]
        },
        {
          "output_type": "display_data",
          "data": {
            "text/plain": [
              "<Figure size 640x480 with 1 Axes>"
            ],
            "image/png": "[encoded data removed]"
          },
          "metadata": {}
        },
        {
          "output_type": "stream",
          "name": "stdout",
          "text": [
            "4/4 [==============================] - 0s 4ms/step\n"
          ]
        },
        {
          "output_type": "display_data",
          "data": {
            "text/plain": [
              "<Figure size 800x800 with 2 Axes>"
            ],
            "image/png": "[encoded data removed]"
          },
          "metadata": {}
        },
        {
          "output_type": "stream",
          "name": "stdout",
          "text": [
            "0.9812500000000001\n"
          ]
        }
      ]
    },
    {
      "cell_type": "code",
      "source": [],
      "metadata": {
        "id": "fkhY-FbDwlSk"
      },
      "execution_count": null,
      "outputs": []
    },
    {
      "cell_type": "code",
      "source": [],
      "metadata": {
        "id": "UnBzxp5gZQxr"
      },
      "execution_count": null,
      "outputs": []
    },
    {
      "cell_type": "markdown",
      "source": [
        "#Классификатор поверх LSI model"
      ],
      "metadata": {
        "id": "ZPU9T4202YiY"
      }
    },
    {
      "cell_type": "code",
      "source": [
        "TrainTextsSplitted=[Text1.split(\" \") for Text1 in TrainTexts]\n",
        "TestTextsSplitted=[Text1.split(\" \") for Text1 in TestTexts]\n",
        "common_dictionary = gensim.corpora.dictionary.Dictionary(TrainTextsSplitted) #подаем список списков слов, формируем слова\n",
        "common_corpus = [common_dictionary.doc2bow(text) for text in TrainTextsSplitted] #превращаем предложение в вектор bow\n",
        "test_corpus = [common_dictionary.doc2bow(text) for text in TestTextsSplitted] #превращаем предложение в вектор bow"
      ],
      "metadata": {
        "id": "g0aOsZCOZQ0A"
      },
      "execution_count": 26,
      "outputs": []
    },
    {
      "cell_type": "code",
      "source": [],
      "metadata": {
        "id": "7uaYaK932i7x"
      },
      "execution_count": null,
      "outputs": []
    },
    {
      "cell_type": "code",
      "source": [
        "  LSI_Model=gensim.models.LsiModel(common_corpus, num_topics=40)\n",
        "  LSI_out_train=[]\n",
        "  LSI_out_test=[]\n",
        "  for Item in common_corpus:\n",
        "    arr1=np.array(LSI_Model[Item])\n",
        "    Record=np.zeros(LSI_Model.num_topics)\n",
        "    #print(Record.shape)\n",
        "    Record[np.array(arr1[:,0],dtype=np.int16)]=arr1[:,1]\n",
        "    LSI_out_train.append(Record)\n",
        "    #print(Record)\n",
        "  for Item in test_corpus:\n",
        "    arr1=np.array(LSI_Model[Item])\n",
        "    Record=np.zeros(LSI_Model.num_topics)\n",
        "    #print(Record.shape)\n",
        "    Record[np.array(arr1[:,0],dtype=np.int16)]=arr1[:,1]\n",
        "    LSI_out_test.append(Record)\n",
        "  LSI_out_train=np.array(LSI_out_train)\n",
        "  LSI_out_test=np.array(LSI_out_test)"
      ],
      "metadata": {
        "colab": {
          "base_uri": "https://localhost:8080/"
        },
        "id": "AZUeUWnX3lTX",
        "outputId": "f84ee5b0-da4c-4a21-f265-d74afaa7bd12"
      },
      "execution_count": 27,
      "outputs": [
        {
          "output_type": "stream",
          "name": "stderr",
          "text": [
            "WARNING:gensim.models.lsimodel:no word id mapping provided; initializing from corpus, assuming identity\n"
          ]
        }
      ]
    },
    {
      "cell_type": "code",
      "source": [],
      "metadata": {
        "id": "jGwj1Wx33lWM"
      },
      "execution_count": null,
      "outputs": []
    },
    {
      "cell_type": "code",
      "source": [
        "#lsi\n",
        "Model1=ModelTfIdfClass_0(LSI_out_train[0].shape,OutsClasses=CategoryAmount,l2=0.1)\n",
        "Model1.compile(optimizer=keras.optimizers.Adam(learning_rate=0.0005),metrics=[tf.keras.metrics.Precision(name='precision')], loss=\"categorical_crossentropy\")\n",
        "Model1.summary()\n",
        "history1=Model1.fit(LSI_out_train,np.eye(CategoryAmount)[TrainLabels],validation_data=[LSI_out_test,np.eye(CategoryAmount)[TestLabels]],batch_size=64,class_weight=WMS, epochs=200,verbose=2)\n",
        "plt.plot(history1.history[\"loss\"])\n",
        "plt.plot(history1.history[\"val_loss\"])\n",
        "plt.show()\n",
        "prd1=Model1.predict(LSI_out_test)\n",
        "PlotClassificationMatrix(prd1,np.eye(CategoryAmount)[TestLabels],figsize = (8,8),Captions1=Captions)\n",
        "prd1=Model1.predict(LSI_out_train)\n",
        "PlotClassificationMatrix(prd1,np.eye(CategoryAmount)[TrainLabels],figsize = (8,8),Captions1=Captions)"
      ],
      "metadata": {
        "colab": {
          "base_uri": "https://localhost:8080/",
          "height": 1000
        },
        "id": "8oOv0Tql2i_J",
        "outputId": "32183730-73a4-484a-c5e0-d02d19494713"
      },
      "execution_count": 30,
      "outputs": [
        {
          "output_type": "stream",
          "name": "stdout",
          "text": [
            "Model: \"model_4\"\n",
            "_________________________________________________________________\n",
            " Layer (type)                Output Shape              Param #   \n",
            "=================================================================\n",
            " input_5 (InputLayer)        [(None, 40)]              0         \n",
            "                                                                 \n",
            " dense_14 (Dense)            (None, 64)                2624      \n",
            "                                                                 \n",
            " dropout_6 (Dropout)         (None, 64)                0         \n",
            "                                                                 \n",
            " dense_15 (Dense)            (None, 32)                2080      \n",
            "                                                                 \n",
            " dense_16 (Dense)            (None, 8)                 264       \n",
            "                                                                 \n",
            "=================================================================\n",
            "Total params: 4,968\n",
            "Trainable params: 4,968\n",
            "Non-trainable params: 0\n",
            "_________________________________________________________________\n",
            "Epoch 1/200\n",
            "10/10 - 2s - loss: 11.4801 - precision: 0.2000 - val_loss: 10.9870 - val_precision: 0.8000 - 2s/epoch - 151ms/step\n",
            "Epoch 2/200\n",
            "10/10 - 0s - loss: 10.7998 - precision: 0.5455 - val_loss: 10.4458 - val_precision: 1.0000 - 117ms/epoch - 12ms/step\n",
            "Epoch 3/200\n",
            "10/10 - 0s - loss: 10.2833 - precision: 0.7188 - val_loss: 9.9421 - val_precision: 1.0000 - 78ms/epoch - 8ms/step\n",
            "Epoch 4/200\n",
            "10/10 - 0s - loss: 9.7764 - precision: 0.8636 - val_loss: 9.4606 - val_precision: 1.0000 - 96ms/epoch - 10ms/step\n",
            "Epoch 5/200\n",
            "10/10 - 0s - loss: 9.2530 - precision: 0.9054 - val_loss: 9.0032 - val_precision: 1.0000 - 83ms/epoch - 8ms/step\n",
            "Epoch 6/200\n",
            "10/10 - 0s - loss: 8.8231 - precision: 0.9383 - val_loss: 8.5671 - val_precision: 1.0000 - 81ms/epoch - 8ms/step\n",
            "Epoch 7/200\n",
            "10/10 - 0s - loss: 8.3897 - precision: 0.9720 - val_loss: 8.1506 - val_precision: 1.0000 - 92ms/epoch - 9ms/step\n",
            "Epoch 8/200\n",
            "10/10 - 0s - loss: 7.9738 - precision: 0.9795 - val_loss: 7.7604 - val_precision: 1.0000 - 112ms/epoch - 11ms/step\n",
            "Epoch 9/200\n",
            "10/10 - 0s - loss: 7.5642 - precision: 0.9841 - val_loss: 7.3862 - val_precision: 1.0000 - 142ms/epoch - 14ms/step\n",
            "Epoch 10/200\n",
            "10/10 - 0s - loss: 7.2398 - precision: 0.9815 - val_loss: 7.0322 - val_precision: 1.0000 - 100ms/epoch - 10ms/step\n",
            "Epoch 11/200\n",
            "10/10 - 0s - loss: 6.8529 - precision: 0.9889 - val_loss: 6.6948 - val_precision: 1.0000 - 82ms/epoch - 8ms/step\n",
            "Epoch 12/200\n",
            "10/10 - 0s - loss: 6.5418 - precision: 0.9865 - val_loss: 6.3688 - val_precision: 1.0000 - 87ms/epoch - 9ms/step\n",
            "Epoch 13/200\n",
            "10/10 - 0s - loss: 6.2261 - precision: 0.9912 - val_loss: 6.0560 - val_precision: 1.0000 - 78ms/epoch - 8ms/step\n",
            "Epoch 14/200\n",
            "10/10 - 0s - loss: 5.9287 - precision: 0.9863 - val_loss: 5.7598 - val_precision: 1.0000 - 106ms/epoch - 11ms/step\n",
            "Epoch 15/200\n",
            "10/10 - 0s - loss: 5.6199 - precision: 0.9975 - val_loss: 5.4776 - val_precision: 1.0000 - 113ms/epoch - 11ms/step\n",
            "Epoch 16/200\n",
            "10/10 - 0s - loss: 5.3668 - precision: 0.9882 - val_loss: 5.2088 - val_precision: 1.0000 - 99ms/epoch - 10ms/step\n",
            "Epoch 17/200\n",
            "10/10 - 0s - loss: 5.0804 - precision: 0.9977 - val_loss: 4.9553 - val_precision: 1.0000 - 127ms/epoch - 13ms/step\n",
            "Epoch 18/200\n",
            "10/10 - 0s - loss: 4.8545 - precision: 0.9892 - val_loss: 4.7105 - val_precision: 1.0000 - 62ms/epoch - 6ms/step\n",
            "Epoch 19/200\n",
            "10/10 - 0s - loss: 4.6025 - precision: 0.9958 - val_loss: 4.4772 - val_precision: 1.0000 - 49ms/epoch - 5ms/step\n",
            "Epoch 20/200\n",
            "10/10 - 0s - loss: 4.3948 - precision: 0.9959 - val_loss: 4.2561 - val_precision: 1.0000 - 48ms/epoch - 5ms/step\n",
            "Epoch 21/200\n",
            "10/10 - 0s - loss: 4.1807 - precision: 0.9940 - val_loss: 4.0434 - val_precision: 1.0000 - 48ms/epoch - 5ms/step\n",
            "Epoch 22/200\n",
            "10/10 - 0s - loss: 3.9825 - precision: 0.9980 - val_loss: 3.8416 - val_precision: 1.0000 - 53ms/epoch - 5ms/step\n",
            "Epoch 23/200\n",
            "10/10 - 0s - loss: 3.7824 - precision: 0.9904 - val_loss: 3.6530 - val_precision: 1.0000 - 67ms/epoch - 7ms/step\n",
            "Epoch 24/200\n",
            "10/10 - 0s - loss: 3.6004 - precision: 0.9981 - val_loss: 3.4756 - val_precision: 1.0000 - 67ms/epoch - 7ms/step\n",
            "Epoch 25/200\n",
            "10/10 - 0s - loss: 3.4127 - precision: 0.9963 - val_loss: 3.3083 - val_precision: 1.0000 - 50ms/epoch - 5ms/step\n",
            "Epoch 26/200\n",
            "10/10 - 0s - loss: 3.2457 - precision: 0.9964 - val_loss: 3.1461 - val_precision: 1.0000 - 62ms/epoch - 6ms/step\n",
            "Epoch 27/200\n",
            "10/10 - 0s - loss: 3.0937 - precision: 0.9963 - val_loss: 2.9919 - val_precision: 1.0000 - 75ms/epoch - 8ms/step\n",
            "Epoch 28/200\n",
            "10/10 - 0s - loss: 2.9410 - precision: 0.9946 - val_loss: 2.8478 - val_precision: 1.0000 - 49ms/epoch - 5ms/step\n",
            "Epoch 29/200\n",
            "10/10 - 0s - loss: 2.7969 - precision: 0.9929 - val_loss: 2.7121 - val_precision: 1.0000 - 65ms/epoch - 6ms/step\n",
            "Epoch 30/200\n",
            "10/10 - 0s - loss: 2.6683 - precision: 0.9964 - val_loss: 2.5842 - val_precision: 1.0000 - 66ms/epoch - 7ms/step\n",
            "Epoch 31/200\n",
            "10/10 - 0s - loss: 2.5198 - precision: 0.9948 - val_loss: 2.4612 - val_precision: 1.0000 - 69ms/epoch - 7ms/step\n",
            "Epoch 32/200\n",
            "10/10 - 0s - loss: 2.4081 - precision: 0.9965 - val_loss: 2.3466 - val_precision: 1.0000 - 52ms/epoch - 5ms/step\n",
            "Epoch 33/200\n",
            "10/10 - 0s - loss: 2.3016 - precision: 0.9965 - val_loss: 2.2374 - val_precision: 1.0000 - 68ms/epoch - 7ms/step\n",
            "Epoch 34/200\n",
            "10/10 - 0s - loss: 2.1933 - precision: 0.9965 - val_loss: 2.1331 - val_precision: 1.0000 - 46ms/epoch - 5ms/step\n",
            "Epoch 35/200\n",
            "10/10 - 0s - loss: 2.0817 - precision: 0.9949 - val_loss: 2.0360 - val_precision: 1.0000 - 49ms/epoch - 5ms/step\n",
            "Epoch 36/200\n",
            "10/10 - 0s - loss: 1.9878 - precision: 0.9965 - val_loss: 1.9424 - val_precision: 1.0000 - 65ms/epoch - 7ms/step\n",
            "Epoch 37/200\n",
            "10/10 - 0s - loss: 1.8986 - precision: 0.9965 - val_loss: 1.8545 - val_precision: 1.0000 - 55ms/epoch - 6ms/step\n",
            "Epoch 38/200\n",
            "10/10 - 0s - loss: 1.8090 - precision: 0.9983 - val_loss: 1.7713 - val_precision: 1.0000 - 48ms/epoch - 5ms/step\n",
            "Epoch 39/200\n",
            "10/10 - 0s - loss: 1.7266 - precision: 0.9932 - val_loss: 1.6923 - val_precision: 1.0000 - 64ms/epoch - 6ms/step\n",
            "Epoch 40/200\n",
            "10/10 - 0s - loss: 1.6385 - precision: 0.9983 - val_loss: 1.6180 - val_precision: 1.0000 - 66ms/epoch - 7ms/step\n",
            "Epoch 41/200\n",
            "10/10 - 0s - loss: 1.5683 - precision: 0.9983 - val_loss: 1.5487 - val_precision: 1.0000 - 53ms/epoch - 5ms/step\n",
            "Epoch 42/200\n",
            "10/10 - 0s - loss: 1.5031 - precision: 0.9950 - val_loss: 1.4822 - val_precision: 1.0000 - 46ms/epoch - 5ms/step\n",
            "Epoch 43/200\n",
            "10/10 - 0s - loss: 1.4374 - precision: 0.9983 - val_loss: 1.4181 - val_precision: 1.0000 - 49ms/epoch - 5ms/step\n",
            "Epoch 44/200\n",
            "10/10 - 0s - loss: 1.3723 - precision: 0.9983 - val_loss: 1.3585 - val_precision: 1.0000 - 69ms/epoch - 7ms/step\n",
            "Epoch 45/200\n",
            "10/10 - 0s - loss: 1.3076 - precision: 0.9966 - val_loss: 1.3022 - val_precision: 1.0000 - 65ms/epoch - 7ms/step\n",
            "Epoch 46/200\n",
            "10/10 - 0s - loss: 1.2485 - precision: 0.9950 - val_loss: 1.2500 - val_precision: 1.0000 - 46ms/epoch - 5ms/step\n",
            "Epoch 47/200\n",
            "10/10 - 0s - loss: 1.1980 - precision: 0.9967 - val_loss: 1.2000 - val_precision: 1.0000 - 62ms/epoch - 6ms/step\n",
            "Epoch 48/200\n",
            "10/10 - 0s - loss: 1.1525 - precision: 0.9983 - val_loss: 1.1526 - val_precision: 1.0000 - 51ms/epoch - 5ms/step\n",
            "Epoch 49/200\n",
            "10/10 - 0s - loss: 1.0974 - precision: 0.9983 - val_loss: 1.1075 - val_precision: 1.0000 - 66ms/epoch - 7ms/step\n",
            "Epoch 50/200\n",
            "10/10 - 0s - loss: 1.0618 - precision: 0.9967 - val_loss: 1.0659 - val_precision: 1.0000 - 49ms/epoch - 5ms/step\n",
            "Epoch 51/200\n",
            "10/10 - 0s - loss: 1.0168 - precision: 0.9967 - val_loss: 1.0258 - val_precision: 1.0000 - 60ms/epoch - 6ms/step\n",
            "Epoch 52/200\n",
            "10/10 - 0s - loss: 0.9777 - precision: 0.9967 - val_loss: 0.9889 - val_precision: 1.0000 - 56ms/epoch - 6ms/step\n",
            "Epoch 53/200\n",
            "10/10 - 0s - loss: 0.9422 - precision: 0.9983 - val_loss: 0.9540 - val_precision: 1.0000 - 47ms/epoch - 5ms/step\n",
            "Epoch 54/200\n",
            "10/10 - 0s - loss: 0.9045 - precision: 0.9967 - val_loss: 0.9201 - val_precision: 1.0000 - 46ms/epoch - 5ms/step\n",
            "Epoch 55/200\n",
            "10/10 - 0s - loss: 0.8735 - precision: 0.9967 - val_loss: 0.8893 - val_precision: 1.0000 - 52ms/epoch - 5ms/step\n",
            "Epoch 56/200\n",
            "10/10 - 0s - loss: 0.8414 - precision: 0.9983 - val_loss: 0.8593 - val_precision: 1.0000 - 52ms/epoch - 5ms/step\n",
            "Epoch 57/200\n",
            "10/10 - 0s - loss: 0.8103 - precision: 0.9983 - val_loss: 0.8315 - val_precision: 1.0000 - 46ms/epoch - 5ms/step\n",
            "Epoch 58/200\n",
            "10/10 - 0s - loss: 0.7818 - precision: 0.9983 - val_loss: 0.8034 - val_precision: 1.0000 - 66ms/epoch - 7ms/step\n",
            "Epoch 59/200\n",
            "10/10 - 0s - loss: 0.7569 - precision: 0.9983 - val_loss: 0.7780 - val_precision: 1.0000 - 65ms/epoch - 6ms/step\n",
            "Epoch 60/200\n",
            "10/10 - 0s - loss: 0.7315 - precision: 0.9983 - val_loss: 0.7540 - val_precision: 1.0000 - 66ms/epoch - 7ms/step\n",
            "Epoch 61/200\n",
            "10/10 - 0s - loss: 0.7046 - precision: 0.9983 - val_loss: 0.7306 - val_precision: 1.0000 - 56ms/epoch - 6ms/step\n",
            "Epoch 62/200\n",
            "10/10 - 0s - loss: 0.6873 - precision: 0.9967 - val_loss: 0.7095 - val_precision: 1.0000 - 47ms/epoch - 5ms/step\n",
            "Epoch 63/200\n",
            "10/10 - 0s - loss: 0.6663 - precision: 0.9983 - val_loss: 0.6901 - val_precision: 1.0000 - 51ms/epoch - 5ms/step\n",
            "Epoch 64/200\n",
            "10/10 - 0s - loss: 0.6459 - precision: 0.9967 - val_loss: 0.6733 - val_precision: 1.0000 - 57ms/epoch - 6ms/step\n",
            "Epoch 65/200\n",
            "10/10 - 0s - loss: 0.6275 - precision: 0.9967 - val_loss: 0.6560 - val_precision: 1.0000 - 51ms/epoch - 5ms/step\n",
            "Epoch 66/200\n",
            "10/10 - 0s - loss: 0.6114 - precision: 0.9983 - val_loss: 0.6390 - val_precision: 1.0000 - 65ms/epoch - 7ms/step\n",
            "Epoch 67/200\n",
            "10/10 - 0s - loss: 0.5981 - precision: 0.9967 - val_loss: 0.6242 - val_precision: 1.0000 - 49ms/epoch - 5ms/step\n",
            "Epoch 68/200\n",
            "10/10 - 0s - loss: 0.5778 - precision: 0.9983 - val_loss: 0.6103 - val_precision: 1.0000 - 51ms/epoch - 5ms/step\n",
            "Epoch 69/200\n",
            "10/10 - 0s - loss: 0.5648 - precision: 0.9983 - val_loss: 0.5961 - val_precision: 1.0000 - 49ms/epoch - 5ms/step\n",
            "Epoch 70/200\n",
            "10/10 - 0s - loss: 0.5508 - precision: 0.9984 - val_loss: 0.5808 - val_precision: 1.0000 - 65ms/epoch - 6ms/step\n",
            "Epoch 71/200\n",
            "10/10 - 0s - loss: 0.5399 - precision: 0.9983 - val_loss: 0.5668 - val_precision: 1.0000 - 49ms/epoch - 5ms/step\n",
            "Epoch 72/200\n",
            "10/10 - 0s - loss: 0.5277 - precision: 0.9967 - val_loss: 0.5559 - val_precision: 1.0000 - 70ms/epoch - 7ms/step\n",
            "Epoch 73/200\n",
            "10/10 - 0s - loss: 0.5137 - precision: 0.9983 - val_loss: 0.5457 - val_precision: 1.0000 - 49ms/epoch - 5ms/step\n",
            "Epoch 74/200\n",
            "10/10 - 0s - loss: 0.5047 - precision: 0.9983 - val_loss: 0.5325 - val_precision: 1.0000 - 49ms/epoch - 5ms/step\n",
            "Epoch 75/200\n",
            "10/10 - 0s - loss: 0.4946 - precision: 0.9983 - val_loss: 0.5227 - val_precision: 1.0000 - 78ms/epoch - 8ms/step\n",
            "Epoch 76/200\n",
            "10/10 - 0s - loss: 0.4863 - precision: 0.9984 - val_loss: 0.5161 - val_precision: 1.0000 - 53ms/epoch - 5ms/step\n",
            "Epoch 77/200\n",
            "10/10 - 0s - loss: 0.4760 - precision: 0.9984 - val_loss: 0.5079 - val_precision: 1.0000 - 65ms/epoch - 6ms/step\n",
            "Epoch 78/200\n",
            "10/10 - 0s - loss: 0.4677 - precision: 0.9983 - val_loss: 0.4979 - val_precision: 1.0000 - 50ms/epoch - 5ms/step\n",
            "Epoch 79/200\n",
            "10/10 - 0s - loss: 0.4602 - precision: 0.9983 - val_loss: 0.4922 - val_precision: 1.0000 - 49ms/epoch - 5ms/step\n",
            "Epoch 80/200\n",
            "10/10 - 0s - loss: 0.4538 - precision: 0.9984 - val_loss: 0.4849 - val_precision: 1.0000 - 56ms/epoch - 6ms/step\n",
            "Epoch 81/200\n",
            "10/10 - 0s - loss: 0.4455 - precision: 0.9983 - val_loss: 0.4760 - val_precision: 1.0000 - 66ms/epoch - 7ms/step\n",
            "Epoch 82/200\n",
            "10/10 - 0s - loss: 0.4406 - precision: 0.9967 - val_loss: 0.4698 - val_precision: 1.0000 - 49ms/epoch - 5ms/step\n",
            "Epoch 83/200\n",
            "10/10 - 0s - loss: 0.4362 - precision: 0.9984 - val_loss: 0.4647 - val_precision: 1.0000 - 65ms/epoch - 7ms/step\n",
            "Epoch 84/200\n",
            "10/10 - 0s - loss: 0.4289 - precision: 0.9984 - val_loss: 0.4559 - val_precision: 1.0000 - 65ms/epoch - 7ms/step\n",
            "Epoch 85/200\n",
            "10/10 - 0s - loss: 0.4212 - precision: 0.9984 - val_loss: 0.4504 - val_precision: 1.0000 - 48ms/epoch - 5ms/step\n",
            "Epoch 86/200\n",
            "10/10 - 0s - loss: 0.4126 - precision: 0.9984 - val_loss: 0.4443 - val_precision: 1.0000 - 59ms/epoch - 6ms/step\n",
            "Epoch 87/200\n",
            "10/10 - 0s - loss: 0.4127 - precision: 0.9984 - val_loss: 0.4385 - val_precision: 1.0000 - 52ms/epoch - 5ms/step\n",
            "Epoch 88/200\n",
            "10/10 - 0s - loss: 0.4056 - precision: 0.9984 - val_loss: 0.4330 - val_precision: 1.0000 - 65ms/epoch - 7ms/step\n",
            "Epoch 89/200\n",
            "10/10 - 0s - loss: 0.4010 - precision: 0.9984 - val_loss: 0.4294 - val_precision: 1.0000 - 52ms/epoch - 5ms/step\n",
            "Epoch 90/200\n",
            "10/10 - 0s - loss: 0.3980 - precision: 0.9983 - val_loss: 0.4231 - val_precision: 1.0000 - 49ms/epoch - 5ms/step\n",
            "Epoch 91/200\n",
            "10/10 - 0s - loss: 0.3899 - precision: 0.9984 - val_loss: 0.4190 - val_precision: 1.0000 - 66ms/epoch - 7ms/step\n",
            "Epoch 92/200\n",
            "10/10 - 0s - loss: 0.3859 - precision: 0.9984 - val_loss: 0.4143 - val_precision: 1.0000 - 69ms/epoch - 7ms/step\n",
            "Epoch 93/200\n",
            "10/10 - 0s - loss: 0.3844 - precision: 0.9984 - val_loss: 0.4094 - val_precision: 1.0000 - 74ms/epoch - 7ms/step\n",
            "Epoch 94/200\n",
            "10/10 - 0s - loss: 0.3794 - precision: 0.9984 - val_loss: 0.4069 - val_precision: 1.0000 - 48ms/epoch - 5ms/step\n",
            "Epoch 95/200\n",
            "10/10 - 0s - loss: 0.3758 - precision: 0.9984 - val_loss: 0.4069 - val_precision: 0.9903 - 63ms/epoch - 6ms/step\n",
            "Epoch 96/200\n",
            "10/10 - 0s - loss: 0.3708 - precision: 0.9984 - val_loss: 0.4010 - val_precision: 1.0000 - 48ms/epoch - 5ms/step\n",
            "Epoch 97/200\n",
            "10/10 - 0s - loss: 0.3691 - precision: 0.9984 - val_loss: 0.4005 - val_precision: 0.9904 - 64ms/epoch - 6ms/step\n",
            "Epoch 98/200\n",
            "10/10 - 0s - loss: 0.3655 - precision: 0.9984 - val_loss: 0.3942 - val_precision: 1.0000 - 69ms/epoch - 7ms/step\n",
            "Epoch 99/200\n",
            "10/10 - 0s - loss: 0.3651 - precision: 0.9984 - val_loss: 0.3918 - val_precision: 1.0000 - 49ms/epoch - 5ms/step\n",
            "Epoch 100/200\n",
            "10/10 - 0s - loss: 0.3601 - precision: 0.9984 - val_loss: 0.3894 - val_precision: 1.0000 - 51ms/epoch - 5ms/step\n",
            "Epoch 101/200\n",
            "10/10 - 0s - loss: 0.3563 - precision: 0.9984 - val_loss: 0.3873 - val_precision: 0.9906 - 51ms/epoch - 5ms/step\n",
            "Epoch 102/200\n",
            "10/10 - 0s - loss: 0.3551 - precision: 0.9984 - val_loss: 0.3840 - val_precision: 0.9904 - 47ms/epoch - 5ms/step\n",
            "Epoch 103/200\n",
            "10/10 - 0s - loss: 0.3526 - precision: 0.9984 - val_loss: 0.3840 - val_precision: 0.9810 - 50ms/epoch - 5ms/step\n",
            "Epoch 104/200\n",
            "10/10 - 0s - loss: 0.3480 - precision: 0.9983 - val_loss: 0.3801 - val_precision: 0.9905 - 51ms/epoch - 5ms/step\n",
            "Epoch 105/200\n",
            "10/10 - 0s - loss: 0.3484 - precision: 0.9984 - val_loss: 0.3796 - val_precision: 0.9810 - 67ms/epoch - 7ms/step\n",
            "Epoch 106/200\n",
            "10/10 - 0s - loss: 0.3428 - precision: 0.9984 - val_loss: 0.3762 - val_precision: 0.9811 - 51ms/epoch - 5ms/step\n",
            "Epoch 107/200\n",
            "10/10 - 0s - loss: 0.3436 - precision: 0.9984 - val_loss: 0.3758 - val_precision: 0.9810 - 48ms/epoch - 5ms/step\n",
            "Epoch 108/200\n",
            "10/10 - 0s - loss: 0.3396 - precision: 0.9984 - val_loss: 0.3748 - val_precision: 0.9811 - 51ms/epoch - 5ms/step\n",
            "Epoch 109/200\n",
            "10/10 - 0s - loss: 0.3354 - precision: 0.9984 - val_loss: 0.3715 - val_precision: 0.9905 - 61ms/epoch - 6ms/step\n",
            "Epoch 110/200\n",
            "10/10 - 0s - loss: 0.3363 - precision: 0.9984 - val_loss: 0.3690 - val_precision: 0.9904 - 50ms/epoch - 5ms/step\n",
            "Epoch 111/200\n",
            "10/10 - 0s - loss: 0.3347 - precision: 0.9984 - val_loss: 0.3645 - val_precision: 0.9905 - 57ms/epoch - 6ms/step\n",
            "Epoch 112/200\n",
            "10/10 - 0s - loss: 0.3316 - precision: 0.9984 - val_loss: 0.3655 - val_precision: 0.9811 - 64ms/epoch - 6ms/step\n",
            "Epoch 113/200\n",
            "10/10 - 0s - loss: 0.3285 - precision: 0.9984 - val_loss: 0.3632 - val_precision: 0.9810 - 67ms/epoch - 7ms/step\n",
            "Epoch 114/200\n",
            "10/10 - 0s - loss: 0.3275 - precision: 0.9984 - val_loss: 0.3604 - val_precision: 0.9905 - 71ms/epoch - 7ms/step\n",
            "Epoch 115/200\n",
            "10/10 - 0s - loss: 0.3265 - precision: 0.9984 - val_loss: 0.3576 - val_precision: 0.9904 - 51ms/epoch - 5ms/step\n",
            "Epoch 116/200\n",
            "10/10 - 0s - loss: 0.3254 - precision: 0.9984 - val_loss: 0.3555 - val_precision: 0.9907 - 49ms/epoch - 5ms/step\n",
            "Epoch 117/200\n",
            "10/10 - 0s - loss: 0.3239 - precision: 0.9984 - val_loss: 0.3545 - val_precision: 0.9905 - 49ms/epoch - 5ms/step\n",
            "Epoch 118/200\n",
            "10/10 - 0s - loss: 0.3235 - precision: 0.9984 - val_loss: 0.3550 - val_precision: 0.9811 - 65ms/epoch - 6ms/step\n",
            "Epoch 119/200\n",
            "10/10 - 0s - loss: 0.3206 - precision: 0.9984 - val_loss: 0.3503 - val_precision: 0.9906 - 68ms/epoch - 7ms/step\n",
            "Epoch 120/200\n",
            "10/10 - 0s - loss: 0.3192 - precision: 0.9984 - val_loss: 0.3476 - val_precision: 1.0000 - 48ms/epoch - 5ms/step\n",
            "Epoch 121/200\n",
            "10/10 - 0s - loss: 0.3159 - precision: 0.9984 - val_loss: 0.3469 - val_precision: 0.9810 - 50ms/epoch - 5ms/step\n",
            "Epoch 122/200\n",
            "10/10 - 0s - loss: 0.3157 - precision: 0.9984 - val_loss: 0.3433 - val_precision: 0.9905 - 51ms/epoch - 5ms/step\n",
            "Epoch 123/200\n",
            "10/10 - 0s - loss: 0.3147 - precision: 0.9984 - val_loss: 0.3385 - val_precision: 1.0000 - 48ms/epoch - 5ms/step\n",
            "Epoch 124/200\n",
            "10/10 - 0s - loss: 0.3122 - precision: 0.9984 - val_loss: 0.3348 - val_precision: 1.0000 - 50ms/epoch - 5ms/step\n",
            "Epoch 125/200\n",
            "10/10 - 0s - loss: 0.3109 - precision: 0.9984 - val_loss: 0.3348 - val_precision: 1.0000 - 59ms/epoch - 6ms/step\n",
            "Epoch 126/200\n",
            "10/10 - 0s - loss: 0.3085 - precision: 0.9984 - val_loss: 0.3372 - val_precision: 0.9903 - 48ms/epoch - 5ms/step\n",
            "Epoch 127/200\n",
            "10/10 - 0s - loss: 0.3066 - precision: 0.9984 - val_loss: 0.3342 - val_precision: 1.0000 - 67ms/epoch - 7ms/step\n",
            "Epoch 128/200\n",
            "10/10 - 0s - loss: 0.3092 - precision: 0.9984 - val_loss: 0.3353 - val_precision: 0.9905 - 51ms/epoch - 5ms/step\n",
            "Epoch 129/200\n",
            "10/10 - 0s - loss: 0.3091 - precision: 0.9984 - val_loss: 0.3336 - val_precision: 0.9811 - 48ms/epoch - 5ms/step\n",
            "Epoch 130/200\n",
            "10/10 - 0s - loss: 0.3044 - precision: 0.9984 - val_loss: 0.3313 - val_precision: 0.9905 - 50ms/epoch - 5ms/step\n",
            "Epoch 131/200\n",
            "10/10 - 0s - loss: 0.3027 - precision: 0.9984 - val_loss: 0.3291 - val_precision: 0.9905 - 52ms/epoch - 5ms/step\n",
            "Epoch 132/200\n",
            "10/10 - 0s - loss: 0.3022 - precision: 0.9984 - val_loss: 0.3266 - val_precision: 1.0000 - 53ms/epoch - 5ms/step\n",
            "Epoch 133/200\n",
            "10/10 - 0s - loss: 0.2991 - precision: 0.9984 - val_loss: 0.3271 - val_precision: 0.9905 - 48ms/epoch - 5ms/step\n",
            "Epoch 134/200\n",
            "10/10 - 0s - loss: 0.2975 - precision: 0.9967 - val_loss: 0.3251 - val_precision: 0.9906 - 52ms/epoch - 5ms/step\n",
            "Epoch 135/200\n",
            "10/10 - 0s - loss: 0.2939 - precision: 0.9984 - val_loss: 0.3241 - val_precision: 0.9906 - 53ms/epoch - 5ms/step\n",
            "Epoch 136/200\n",
            "10/10 - 0s - loss: 0.2952 - precision: 0.9984 - val_loss: 0.3208 - val_precision: 1.0000 - 95ms/epoch - 10ms/step\n",
            "Epoch 137/200\n",
            "10/10 - 0s - loss: 0.2950 - precision: 0.9984 - val_loss: 0.3208 - val_precision: 0.9813 - 86ms/epoch - 9ms/step\n",
            "Epoch 138/200\n",
            "10/10 - 0s - loss: 0.2934 - precision: 0.9984 - val_loss: 0.3194 - val_precision: 0.9906 - 71ms/epoch - 7ms/step\n",
            "Epoch 139/200\n",
            "10/10 - 0s - loss: 0.2911 - precision: 0.9984 - val_loss: 0.3191 - val_precision: 1.0000 - 78ms/epoch - 8ms/step\n",
            "Epoch 140/200\n",
            "10/10 - 0s - loss: 0.2890 - precision: 0.9984 - val_loss: 0.3226 - val_precision: 0.9811 - 70ms/epoch - 7ms/step\n",
            "Epoch 141/200\n",
            "10/10 - 0s - loss: 0.2890 - precision: 0.9967 - val_loss: 0.3200 - val_precision: 0.9720 - 72ms/epoch - 7ms/step\n",
            "Epoch 142/200\n",
            "10/10 - 0s - loss: 0.2895 - precision: 0.9984 - val_loss: 0.3190 - val_precision: 0.9906 - 70ms/epoch - 7ms/step\n",
            "Epoch 143/200\n",
            "10/10 - 0s - loss: 0.2865 - precision: 0.9984 - val_loss: 0.3162 - val_precision: 0.9906 - 87ms/epoch - 9ms/step\n",
            "Epoch 144/200\n",
            "10/10 - 0s - loss: 0.2867 - precision: 0.9984 - val_loss: 0.3166 - val_precision: 0.9906 - 74ms/epoch - 7ms/step\n",
            "Epoch 145/200\n",
            "10/10 - 0s - loss: 0.2867 - precision: 0.9984 - val_loss: 0.3155 - val_precision: 0.9906 - 92ms/epoch - 9ms/step\n",
            "Epoch 146/200\n",
            "10/10 - 0s - loss: 0.2837 - precision: 0.9984 - val_loss: 0.3135 - val_precision: 0.9905 - 74ms/epoch - 7ms/step\n",
            "Epoch 147/200\n",
            "10/10 - 0s - loss: 0.2807 - precision: 0.9984 - val_loss: 0.3100 - val_precision: 1.0000 - 73ms/epoch - 7ms/step\n",
            "Epoch 148/200\n",
            "10/10 - 0s - loss: 0.2846 - precision: 0.9984 - val_loss: 0.3128 - val_precision: 0.9813 - 85ms/epoch - 8ms/step\n",
            "Epoch 149/200\n",
            "10/10 - 0s - loss: 0.2794 - precision: 0.9984 - val_loss: 0.3077 - val_precision: 1.0000 - 70ms/epoch - 7ms/step\n",
            "Epoch 150/200\n",
            "10/10 - 0s - loss: 0.2807 - precision: 0.9984 - val_loss: 0.3102 - val_precision: 0.9906 - 72ms/epoch - 7ms/step\n",
            "Epoch 151/200\n",
            "10/10 - 0s - loss: 0.2821 - precision: 0.9967 - val_loss: 0.3093 - val_precision: 0.9813 - 71ms/epoch - 7ms/step\n",
            "Epoch 152/200\n",
            "10/10 - 0s - loss: 0.2794 - precision: 0.9984 - val_loss: 0.3045 - val_precision: 1.0000 - 70ms/epoch - 7ms/step\n",
            "Epoch 153/200\n",
            "10/10 - 0s - loss: 0.2789 - precision: 0.9984 - val_loss: 0.3054 - val_precision: 0.9813 - 92ms/epoch - 9ms/step\n",
            "Epoch 154/200\n",
            "10/10 - 0s - loss: 0.2764 - precision: 0.9984 - val_loss: 0.3029 - val_precision: 0.9907 - 79ms/epoch - 8ms/step\n",
            "Epoch 155/200\n",
            "10/10 - 0s - loss: 0.2746 - precision: 0.9984 - val_loss: 0.3003 - val_precision: 1.0000 - 84ms/epoch - 8ms/step\n",
            "Epoch 156/200\n",
            "10/10 - 0s - loss: 0.2737 - precision: 0.9984 - val_loss: 0.3021 - val_precision: 0.9906 - 71ms/epoch - 7ms/step\n",
            "Epoch 157/200\n",
            "10/10 - 0s - loss: 0.2720 - precision: 0.9984 - val_loss: 0.3033 - val_precision: 0.9905 - 77ms/epoch - 8ms/step\n",
            "Epoch 158/200\n",
            "10/10 - 0s - loss: 0.2744 - precision: 0.9967 - val_loss: 0.2996 - val_precision: 1.0000 - 75ms/epoch - 7ms/step\n",
            "Epoch 159/200\n",
            "10/10 - 0s - loss: 0.2696 - precision: 0.9984 - val_loss: 0.3004 - val_precision: 0.9815 - 88ms/epoch - 9ms/step\n",
            "Epoch 160/200\n",
            "10/10 - 0s - loss: 0.2711 - precision: 0.9984 - val_loss: 0.2987 - val_precision: 0.9906 - 89ms/epoch - 9ms/step\n",
            "Epoch 161/200\n",
            "10/10 - 0s - loss: 0.2685 - precision: 0.9984 - val_loss: 0.2961 - val_precision: 0.9906 - 77ms/epoch - 8ms/step\n",
            "Epoch 162/200\n",
            "10/10 - 0s - loss: 0.2682 - precision: 0.9984 - val_loss: 0.2971 - val_precision: 0.9905 - 91ms/epoch - 9ms/step\n",
            "Epoch 163/200\n",
            "10/10 - 0s - loss: 0.2692 - precision: 0.9984 - val_loss: 0.2939 - val_precision: 0.9815 - 74ms/epoch - 7ms/step\n",
            "Epoch 164/200\n",
            "10/10 - 0s - loss: 0.2675 - precision: 0.9967 - val_loss: 0.2905 - val_precision: 1.0000 - 73ms/epoch - 7ms/step\n",
            "Epoch 165/200\n",
            "10/10 - 0s - loss: 0.2670 - precision: 0.9984 - val_loss: 0.2981 - val_precision: 0.9813 - 90ms/epoch - 9ms/step\n",
            "Epoch 166/200\n",
            "10/10 - 0s - loss: 0.2669 - precision: 0.9984 - val_loss: 0.2926 - val_precision: 0.9907 - 74ms/epoch - 7ms/step\n",
            "Epoch 167/200\n",
            "10/10 - 0s - loss: 0.2656 - precision: 0.9984 - val_loss: 0.2923 - val_precision: 0.9813 - 100ms/epoch - 10ms/step\n",
            "Epoch 168/200\n",
            "10/10 - 0s - loss: 0.2641 - precision: 0.9984 - val_loss: 0.2924 - val_precision: 0.9907 - 94ms/epoch - 9ms/step\n",
            "Epoch 169/200\n",
            "10/10 - 0s - loss: 0.2612 - precision: 0.9984 - val_loss: 0.2911 - val_precision: 0.9907 - 77ms/epoch - 8ms/step\n",
            "Epoch 170/200\n",
            "10/10 - 0s - loss: 0.2639 - precision: 0.9984 - val_loss: 0.2912 - val_precision: 0.9907 - 71ms/epoch - 7ms/step\n",
            "Epoch 171/200\n",
            "10/10 - 0s - loss: 0.2614 - precision: 0.9984 - val_loss: 0.2872 - val_precision: 0.9907 - 79ms/epoch - 8ms/step\n",
            "Epoch 172/200\n",
            "10/10 - 0s - loss: 0.2574 - precision: 0.9984 - val_loss: 0.2876 - val_precision: 0.9907 - 79ms/epoch - 8ms/step\n",
            "Epoch 173/200\n",
            "10/10 - 0s - loss: 0.2586 - precision: 0.9984 - val_loss: 0.2844 - val_precision: 0.9907 - 91ms/epoch - 9ms/step\n",
            "Epoch 174/200\n",
            "10/10 - 0s - loss: 0.2597 - precision: 0.9967 - val_loss: 0.2858 - val_precision: 0.9813 - 89ms/epoch - 9ms/step\n",
            "Epoch 175/200\n",
            "10/10 - 0s - loss: 0.2569 - precision: 0.9967 - val_loss: 0.2855 - val_precision: 0.9907 - 92ms/epoch - 9ms/step\n",
            "Epoch 176/200\n",
            "10/10 - 0s - loss: 0.2560 - precision: 0.9984 - val_loss: 0.2812 - val_precision: 1.0000 - 89ms/epoch - 9ms/step\n",
            "Epoch 177/200\n",
            "10/10 - 0s - loss: 0.2570 - precision: 0.9967 - val_loss: 0.2854 - val_precision: 0.9905 - 86ms/epoch - 9ms/step\n",
            "Epoch 178/200\n",
            "10/10 - 0s - loss: 0.2572 - precision: 0.9984 - val_loss: 0.2814 - val_precision: 0.9907 - 94ms/epoch - 9ms/step\n",
            "Epoch 179/200\n",
            "10/10 - 0s - loss: 0.2533 - precision: 0.9984 - val_loss: 0.2804 - val_precision: 0.9815 - 79ms/epoch - 8ms/step\n",
            "Epoch 180/200\n",
            "10/10 - 0s - loss: 0.2537 - precision: 0.9968 - val_loss: 0.2823 - val_precision: 0.9815 - 80ms/epoch - 8ms/step\n",
            "Epoch 181/200\n",
            "10/10 - 0s - loss: 0.2528 - precision: 0.9967 - val_loss: 0.2825 - val_precision: 0.9906 - 73ms/epoch - 7ms/step\n",
            "Epoch 182/200\n",
            "10/10 - 0s - loss: 0.2529 - precision: 0.9984 - val_loss: 0.2848 - val_precision: 0.9906 - 75ms/epoch - 8ms/step\n",
            "Epoch 183/200\n",
            "10/10 - 0s - loss: 0.2519 - precision: 0.9984 - val_loss: 0.2800 - val_precision: 0.9906 - 72ms/epoch - 7ms/step\n",
            "Epoch 184/200\n",
            "10/10 - 0s - loss: 0.2518 - precision: 0.9967 - val_loss: 0.2776 - val_precision: 0.9907 - 85ms/epoch - 8ms/step\n",
            "Epoch 185/200\n",
            "10/10 - 0s - loss: 0.2525 - precision: 0.9984 - val_loss: 0.2786 - val_precision: 0.9906 - 67ms/epoch - 7ms/step\n",
            "Epoch 186/200\n",
            "10/10 - 0s - loss: 0.2504 - precision: 0.9984 - val_loss: 0.2754 - val_precision: 0.9815 - 49ms/epoch - 5ms/step\n",
            "Epoch 187/200\n",
            "10/10 - 0s - loss: 0.2480 - precision: 0.9984 - val_loss: 0.2762 - val_precision: 0.9813 - 57ms/epoch - 6ms/step\n",
            "Epoch 188/200\n",
            "10/10 - 0s - loss: 0.2474 - precision: 0.9967 - val_loss: 0.2767 - val_precision: 0.9811 - 48ms/epoch - 5ms/step\n",
            "Epoch 189/200\n",
            "10/10 - 0s - loss: 0.2474 - precision: 0.9967 - val_loss: 0.2754 - val_precision: 1.0000 - 52ms/epoch - 5ms/step\n",
            "Epoch 190/200\n",
            "10/10 - 0s - loss: 0.2499 - precision: 0.9967 - val_loss: 0.2757 - val_precision: 0.9907 - 50ms/epoch - 5ms/step\n",
            "Epoch 191/200\n",
            "10/10 - 0s - loss: 0.2467 - precision: 0.9984 - val_loss: 0.2728 - val_precision: 0.9815 - 66ms/epoch - 7ms/step\n",
            "Epoch 192/200\n",
            "10/10 - 0s - loss: 0.2425 - precision: 0.9984 - val_loss: 0.2706 - val_precision: 1.0000 - 49ms/epoch - 5ms/step\n",
            "Epoch 193/200\n",
            "10/10 - 0s - loss: 0.2460 - precision: 0.9967 - val_loss: 0.2761 - val_precision: 0.9811 - 66ms/epoch - 7ms/step\n",
            "Epoch 194/200\n",
            "10/10 - 0s - loss: 0.2422 - precision: 0.9968 - val_loss: 0.2718 - val_precision: 0.9811 - 60ms/epoch - 6ms/step\n",
            "Epoch 195/200\n",
            "10/10 - 0s - loss: 0.2423 - precision: 0.9967 - val_loss: 0.2726 - val_precision: 0.9906 - 68ms/epoch - 7ms/step\n",
            "Epoch 196/200\n",
            "10/10 - 0s - loss: 0.2416 - precision: 0.9984 - val_loss: 0.2717 - val_precision: 0.9906 - 49ms/epoch - 5ms/step\n",
            "Epoch 197/200\n",
            "10/10 - 0s - loss: 0.2421 - precision: 0.9967 - val_loss: 0.2691 - val_precision: 0.9907 - 67ms/epoch - 7ms/step\n",
            "Epoch 198/200\n",
            "10/10 - 0s - loss: 0.2455 - precision: 0.9967 - val_loss: 0.2678 - val_precision: 0.9815 - 62ms/epoch - 6ms/step\n",
            "Epoch 199/200\n",
            "10/10 - 0s - loss: 0.2428 - precision: 0.9984 - val_loss: 0.2688 - val_precision: 0.9815 - 66ms/epoch - 7ms/step\n",
            "Epoch 200/200\n",
            "10/10 - 0s - loss: 0.2416 - precision: 0.9967 - val_loss: 0.2633 - val_precision: 1.0000 - 66ms/epoch - 7ms/step\n"
          ]
        },
        {
          "output_type": "display_data",
          "data": {
            "text/plain": [
              "<Figure size 640x480 with 1 Axes>"
            ],
            "image/png": "[encoded data removed]"
          },
          "metadata": {}
        },
        {
          "output_type": "stream",
          "name": "stdout",
          "text": [
            "4/4 [==============================] - 0s 2ms/step\n"
          ]
        },
        {
          "output_type": "display_data",
          "data": {
            "text/plain": [
              "<Figure size 800x800 with 2 Axes>"
            ],
            "image/png": "[encoded data removed]"
          },
          "metadata": {}
        },
        {
          "output_type": "stream",
          "name": "stdout",
          "text": [
            "0.99\n",
            "20/20 [==============================] - 0s 2ms/step\n"
          ]
        },
        {
          "output_type": "display_data",
          "data": {
            "text/plain": [
              "<Figure size 800x800 with 2 Axes>"
            ],
            "image/png": "[encoded data removed]"
          },
          "metadata": {}
        },
        {
          "output_type": "stream",
          "name": "stdout",
          "text": [
            "0.9920653533458412\n"
          ]
        }
      ]
    },
    {
      "cell_type": "code",
      "source": [],
      "metadata": {
        "id": "j0JUJQ3N2jDP"
      },
      "execution_count": null,
      "outputs": []
    },
    {
      "cell_type": "code",
      "source": [],
      "metadata": {
        "id": "WrvUTnlB2jFk"
      },
      "execution_count": null,
      "outputs": []
    }
  ]
}